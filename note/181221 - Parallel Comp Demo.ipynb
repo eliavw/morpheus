{
 "cells": [
  {
   "cell_type": "markdown",
   "metadata": {},
   "source": [
    "# Parallel Composition Demo\n",
    "\n",
    "Basically, designing some tests."
   ]
  },
  {
   "cell_type": "markdown",
   "metadata": {},
   "source": [
    "## Prelims"
   ]
  },
  {
   "cell_type": "code",
   "execution_count": 1,
   "metadata": {},
   "outputs": [],
   "source": [
    "import os, sys\n",
    "import pandas as pd\n",
    "import numpy as np\n",
    "import sklearn\n",
    "from sklearn.tree import (DecisionTreeClassifier,\n",
    "                          DecisionTreeRegressor)\n",
    "from sklearn.ensemble import (RandomForestClassifier,\n",
    "                              RandomForestRegressor)\n",
    "\n",
    "from os.path import dirname"
   ]
  },
  {
   "cell_type": "code",
   "execution_count": 2,
   "metadata": {
    "collapsed": true
   },
   "outputs": [],
   "source": [
    "note_dir = os.getcwd()\n",
    "root_dir = dirname(note_dir)\n",
    "data_dir = os.path.join(root_dir, 'resc', 'data', 'tidy','nltcs')\n",
    "src_dir = os.path.join(root_dir, \"src\")\n",
    "\n",
    "sys.path.append(src_dir)"
   ]
  },
  {
   "cell_type": "code",
   "execution_count": 3,
   "metadata": {
    "collapsed": true
   },
   "outputs": [],
   "source": [
    "import morpheus"
   ]
  },
  {
   "cell_type": "code",
   "execution_count": null,
   "metadata": {
    "collapsed": true
   },
   "outputs": [],
   "source": []
  },
  {
   "cell_type": "code",
   "execution_count": 4,
   "metadata": {
    "collapsed": true
   },
   "outputs": [],
   "source": [
    "# Filter relevant stuff out\n",
    "rel_fnames = [os.path.join(data_dir, f) for f in os.listdir(data_dir)\n",
    "              if 'F00' in f\n",
    "              if 'bayesfusion' not in f]\n",
    "\n",
    "train_fn, test_fn = rel_fnames[0], rel_fnames[1]\n",
    "\n",
    "# Get dfs\n",
    "df_train, df_test = pd.read_csv(train_fn, header=None), pd.read_csv(test_fn, header=None)\n",
    "\n",
    "# Get np.arrays\n",
    "train, test = df_train.values, df_test.values"
   ]
  },
  {
   "cell_type": "markdown",
   "metadata": {},
   "source": [
    "## Creating Dataset"
   ]
  },
  {
   "cell_type": "code",
   "execution_count": 5,
   "metadata": {
    "collapsed": true
   },
   "outputs": [],
   "source": [
    "def add_extra_column(a, nominal=True):\n",
    "    assert isinstance(a, np.ndarray)\n",
    "    n_rows, n_atts = a.shape\n",
    "    \n",
    "    if nominal:\n",
    "        extra_col = np.random.randint(1,4, size=(n_rows, 1))\n",
    "        extra_col.sort(axis=0)\n",
    "    else:\n",
    "        extra_col = np.random.rand(n_rows,1)\n",
    "    \n",
    "    \n",
    "    return np.concatenate((a, extra_col), axis=1)"
   ]
  },
  {
   "cell_type": "code",
   "execution_count": 6,
   "metadata": {
    "collapsed": true
   },
   "outputs": [],
   "source": [
    "train, test = train[:,0:5], test[:, 0:5]"
   ]
  },
  {
   "cell_type": "code",
   "execution_count": 7,
   "metadata": {
    "collapsed": true
   },
   "outputs": [],
   "source": [
    "train, test = add_extra_column(train), add_extra_column(test)"
   ]
  },
  {
   "cell_type": "code",
   "execution_count": 8,
   "metadata": {},
   "outputs": [
    {
     "data": {
      "text/plain": [
       "array([[0, 0, 0, 0, 0, 1],\n",
       "       [1, 0, 1, 1, 1, 1],\n",
       "       [1, 1, 1, 1, 1, 1],\n",
       "       ...,\n",
       "       [0, 0, 0, 1, 1, 3],\n",
       "       [0, 0, 0, 0, 0, 3],\n",
       "       [0, 0, 1, 1, 1, 3]])"
      ]
     },
     "execution_count": 8,
     "metadata": {},
     "output_type": "execute_result"
    }
   ],
   "source": [
    "train"
   ]
  },
  {
   "cell_type": "markdown",
   "metadata": {},
   "source": [
    "## Merging identical models\n",
    "\n",
    "This really should not be an issue."
   ]
  },
  {
   "cell_type": "markdown",
   "metadata": {},
   "source": [
    "### Learning individual estimators"
   ]
  },
  {
   "cell_type": "code",
   "execution_count": 9,
   "metadata": {
    "collapsed": true
   },
   "outputs": [],
   "source": [
    "def learn_model(train, desc_ids, targ_ids, **kwargs):\n",
    "    X, Y = train[:, desc_ids], train[:, targ_ids]\n",
    "    \n",
    "    if X.shape[1]==1: X = X.ravel()\n",
    "    if Y.shape[1]==1: Y = Y.ravel()\n",
    "    \n",
    "    try:\n",
    "        clf = RandomForestClassifier(**kwargs)\n",
    "        clf.fit(X, Y)\n",
    "    except ValueError:\n",
    "        clf = RandomForestRegressor(**kwargs)\n",
    "        clf.fit(X, Y)\n",
    "    \n",
    "    clf.desc_ids = desc_ids\n",
    "    clf.targ_ids = targ_ids\n",
    "    return clf"
   ]
  },
  {
   "cell_type": "code",
   "execution_count": 10,
   "metadata": {},
   "outputs": [
    {
     "name": "stdout",
     "output_type": "stream",
     "text": [
      "19416 6\n"
     ]
    }
   ],
   "source": [
    "n_rows, n_atts = train.shape\n",
    "print(n_rows, n_atts)"
   ]
  },
  {
   "cell_type": "code",
   "execution_count": null,
   "metadata": {
    "collapsed": true
   },
   "outputs": [],
   "source": []
  },
  {
   "cell_type": "code",
   "execution_count": 11,
   "metadata": {},
   "outputs": [
    {
     "data": {
      "text/plain": [
       "[0, 1, 2, 3, 4, 5]"
      ]
     },
     "execution_count": 11,
     "metadata": {},
     "output_type": "execute_result"
    }
   ],
   "source": [
    "atts_ids = list(range(n_atts))\n",
    "atts_ids"
   ]
  },
  {
   "cell_type": "markdown",
   "metadata": {},
   "source": [
    "We assume the last n attributes to be the targets."
   ]
  },
  {
   "cell_type": "code",
   "execution_count": 12,
   "metadata": {
    "collapsed": true
   },
   "outputs": [],
   "source": [
    "n_targs = 1\n",
    "desc_ids = atts_ids[:-n_targs]\n",
    "targ_ids = atts_ids[-n_targs:]"
   ]
  },
  {
   "cell_type": "code",
   "execution_count": 13,
   "metadata": {},
   "outputs": [
    {
     "name": "stderr",
     "output_type": "stream",
     "text": [
      "/home/elia/Software/anaconda3/lib/python3.6/site-packages/sklearn/ensemble/forest.py:246: FutureWarning: The default value of n_estimators will change from 10 in version 0.20 to 100 in 0.22.\n",
      "  \"10 in version 0.20 to 100 in 0.22.\", FutureWarning)\n",
      "/home/elia/Software/anaconda3/lib/python3.6/site-packages/sklearn/ensemble/forest.py:246: FutureWarning: The default value of n_estimators will change from 10 in version 0.20 to 100 in 0.22.\n",
      "  \"10 in version 0.20 to 100 in 0.22.\", FutureWarning)\n"
     ]
    }
   ],
   "source": [
    "m_list = []\n",
    "for m_idx in range(2):\n",
    "    m = learn_model(train, desc_ids, targ_ids)\n",
    "    m.desc_ids = desc_ids\n",
    "    m.targ_ids = targ_ids\n",
    "    m_list.append(m)"
   ]
  },
  {
   "cell_type": "markdown",
   "metadata": {},
   "source": [
    "### Composing estimators"
   ]
  },
  {
   "cell_type": "code",
   "execution_count": 14,
   "metadata": {
    "collapsed": true
   },
   "outputs": [],
   "source": [
    "pc = morpheus.ParallelComposition()\n",
    "\n",
    "for m in m_list:\n",
    "    pc.add_estimator(m)"
   ]
  },
  {
   "cell_type": "code",
   "execution_count": null,
   "metadata": {
    "collapsed": true
   },
   "outputs": [],
   "source": []
  },
  {
   "cell_type": "code",
   "execution_count": 15,
   "metadata": {},
   "outputs": [
    {
     "data": {
      "text/plain": [
       "(array([0., 1., 2., 3., 4.]), array([5.]))"
      ]
     },
     "execution_count": 15,
     "metadata": {},
     "output_type": "execute_result"
    }
   ],
   "source": [
    "pc.desc_ids, pc.targ_ids"
   ]
  },
  {
   "cell_type": "code",
   "execution_count": 16,
   "metadata": {},
   "outputs": [
    {
     "data": {
      "text/plain": [
       "[array([1., 2., 3.])]"
      ]
     },
     "execution_count": 16,
     "metadata": {},
     "output_type": "execute_result"
    }
   ],
   "source": [
    "pc.classes_"
   ]
  },
  {
   "cell_type": "code",
   "execution_count": 17,
   "metadata": {},
   "outputs": [
    {
     "data": {
      "text/plain": [
       "(array([1, 2, 3]), array([1, 2, 3]))"
      ]
     },
     "execution_count": 17,
     "metadata": {},
     "output_type": "execute_result"
    }
   ],
   "source": [
    "m_list[0].classes_, m_list[1].classes_"
   ]
  },
  {
   "cell_type": "markdown",
   "metadata": {},
   "source": [
    "### Predictions"
   ]
  },
  {
   "cell_type": "code",
   "execution_count": 18,
   "metadata": {},
   "outputs": [
    {
     "data": {
      "text/plain": [
       "array([2.])"
      ]
     },
     "execution_count": 18,
     "metadata": {},
     "output_type": "execute_result"
    }
   ],
   "source": [
    "pc.targ_weights"
   ]
  },
  {
   "cell_type": "code",
   "execution_count": 19,
   "metadata": {},
   "outputs": [
    {
     "data": {
      "text/plain": [
       "['nominal']"
      ]
     },
     "execution_count": 19,
     "metadata": {},
     "output_type": "execute_result"
    }
   ],
   "source": [
    "pc.targ_types "
   ]
  },
  {
   "cell_type": "code",
   "execution_count": 20,
   "metadata": {},
   "outputs": [
    {
     "data": {
      "text/plain": [
       "array([[0.33692513, 0.33797203, 0.32510284],\n",
       "       [0.33024059, 0.32841345, 0.34134596],\n",
       "       [0.32533995, 0.34434323, 0.33031681],\n",
       "       ...,\n",
       "       [0.33692513, 0.33797203, 0.32510284],\n",
       "       [0.33692513, 0.33797203, 0.32510284],\n",
       "       [0.32533995, 0.34434323, 0.33031681]])"
      ]
     },
     "execution_count": 20,
     "metadata": {},
     "output_type": "execute_result"
    }
   ],
   "source": [
    "pc.predict_proba(test[:, desc_ids])"
   ]
  },
  {
   "cell_type": "markdown",
   "metadata": {},
   "source": [
    "## Merging slightly different models."
   ]
  },
  {
   "cell_type": "markdown",
   "metadata": {},
   "source": [
    "### Challenge one: different targets."
   ]
  },
  {
   "cell_type": "code",
   "execution_count": 21,
   "metadata": {
    "collapsed": true
   },
   "outputs": [],
   "source": [
    "targ_ids_1 = [5]\n",
    "desc_ids_1 = [0,1,2,3]\n",
    "\n",
    "targ_ids_2 = [4]\n",
    "desc_ids_2 = [0,1,2,3]\n",
    "\n",
    "all_desc_ids = [desc_ids_1, desc_ids_2]\n",
    "all_targ_ids = [targ_ids_1, targ_ids_2]\n",
    "\n"
   ]
  },
  {
   "cell_type": "code",
   "execution_count": 22,
   "metadata": {},
   "outputs": [
    {
     "data": {
      "text/plain": [
       "[0, 1, 2, 3, 4, 5]"
      ]
     },
     "execution_count": 22,
     "metadata": {},
     "output_type": "execute_result"
    }
   ],
   "source": [
    "atts_ids"
   ]
  },
  {
   "cell_type": "code",
   "execution_count": 23,
   "metadata": {},
   "outputs": [
    {
     "name": "stdout",
     "output_type": "stream",
     "text": [
      "[0, 1, 2, 3] [5]\n",
      "[0, 1, 2, 3] [4]\n"
     ]
    },
    {
     "name": "stderr",
     "output_type": "stream",
     "text": [
      "/home/elia/Software/anaconda3/lib/python3.6/site-packages/sklearn/ensemble/forest.py:246: FutureWarning: The default value of n_estimators will change from 10 in version 0.20 to 100 in 0.22.\n",
      "  \"10 in version 0.20 to 100 in 0.22.\", FutureWarning)\n",
      "/home/elia/Software/anaconda3/lib/python3.6/site-packages/sklearn/ensemble/forest.py:246: FutureWarning: The default value of n_estimators will change from 10 in version 0.20 to 100 in 0.22.\n",
      "  \"10 in version 0.20 to 100 in 0.22.\", FutureWarning)\n"
     ]
    }
   ],
   "source": [
    "m_list = []\n",
    "ids = zip(all_desc_ids, all_targ_ids)\n",
    "for desc_ids, targ_ids in ids:\n",
    "    print(desc_ids, targ_ids)\n",
    "    m = learn_model(train, desc_ids, targ_ids)\n",
    "    m.desc_ids = desc_ids\n",
    "    m.targ_ids = targ_ids\n",
    "    m_list.append(m)"
   ]
  },
  {
   "cell_type": "code",
   "execution_count": null,
   "metadata": {
    "collapsed": true
   },
   "outputs": [],
   "source": []
  },
  {
   "cell_type": "code",
   "execution_count": 24,
   "metadata": {
    "collapsed": true
   },
   "outputs": [],
   "source": [
    "pc2 = morpheus.ParallelComposition()\n",
    "\n",
    "for m in m_list:\n",
    "    pc2.add_estimator(m)"
   ]
  },
  {
   "cell_type": "code",
   "execution_count": 25,
   "metadata": {
    "collapsed": true
   },
   "outputs": [],
   "source": [
    "pc2.add_estimator(m_list[0])"
   ]
  },
  {
   "cell_type": "code",
   "execution_count": 26,
   "metadata": {
    "scrolled": true
   },
   "outputs": [
    {
     "name": "stdout",
     "output_type": "stream",
     "text": [
      "\n",
      "        # Main\n",
      "        Descriptive attributes:     [0. 1. 2. 3.]\n",
      "        Target attributes:          [4. 5.]\n",
      "        \n",
      "        ## On types (mostly nominals)\n",
      "        Target attribute types:                     ['nominal', 'nominal']\n",
      "        N_classes of nominal target attributes:     [2, 3]\n",
      "        Classes of nominal target attributes:       [array([0., 1.]), array([1., 2., 3.])]\n",
      "        \n",
      "        ## Weights\n",
      "        Total weights of target attributes:         [1. 2.]\n",
      "        \n",
      "         \n",
      "        ## Estimators\n",
      "        Estimators used:        ['RandomForestClassifier', 'RandomForestClassifier', 'RandomForestClassifier']\n",
      "        N_estimators:           3\n",
      "        \n"
     ]
    }
   ],
   "source": [
    "pc2.pretty_print()"
   ]
  },
  {
   "cell_type": "code",
   "execution_count": 27,
   "metadata": {},
   "outputs": [
    {
     "data": {
      "text/plain": [
       "[array([[0.6858366 , 0.3141634 ],\n",
       "        [0.25709476, 0.74290524],\n",
       "        [0.6858366 , 0.3141634 ],\n",
       "        ...,\n",
       "        [0.6858366 , 0.3141634 ],\n",
       "        [0.6858366 , 0.3141634 ],\n",
       "        [0.6858366 , 0.3141634 ]]),\n",
       " array([[0.33359754, 0.3392887 , 0.32711376],\n",
       "        [0.33159725, 0.33239787, 0.33600487],\n",
       "        [0.33359754, 0.3392887 , 0.32711376],\n",
       "        ...,\n",
       "        [0.33359754, 0.3392887 , 0.32711376],\n",
       "        [0.33359754, 0.3392887 , 0.32711376],\n",
       "        [0.33359754, 0.3392887 , 0.32711376]])]"
      ]
     },
     "execution_count": 27,
     "metadata": {},
     "output_type": "execute_result"
    }
   ],
   "source": [
    "pc2.predict_proba(test[:, desc_ids_1])"
   ]
  },
  {
   "cell_type": "markdown",
   "metadata": {},
   "source": [
    "### Challenge two: (Partly overlapping targets)"
   ]
  },
  {
   "cell_type": "code",
   "execution_count": 28,
   "metadata": {
    "collapsed": true
   },
   "outputs": [],
   "source": [
    "targ_ids_1 = [4,5]\n",
    "desc_ids_1 = [0,1,2]\n",
    "\n",
    "targ_ids_2 = [3,4]\n",
    "desc_ids_2 = [0,1,2]\n",
    "\n",
    "all_desc_ids = [desc_ids_1, desc_ids_2]\n",
    "all_targ_ids = [targ_ids_1, targ_ids_2]"
   ]
  },
  {
   "cell_type": "code",
   "execution_count": 29,
   "metadata": {},
   "outputs": [
    {
     "name": "stdout",
     "output_type": "stream",
     "text": [
      "[0, 1, 2] [4, 5]\n",
      "[0, 1, 2] [3, 4]\n"
     ]
    },
    {
     "name": "stderr",
     "output_type": "stream",
     "text": [
      "/home/elia/Software/anaconda3/lib/python3.6/site-packages/sklearn/ensemble/forest.py:246: FutureWarning: The default value of n_estimators will change from 10 in version 0.20 to 100 in 0.22.\n",
      "  \"10 in version 0.20 to 100 in 0.22.\", FutureWarning)\n",
      "/home/elia/Software/anaconda3/lib/python3.6/site-packages/sklearn/ensemble/forest.py:246: FutureWarning: The default value of n_estimators will change from 10 in version 0.20 to 100 in 0.22.\n",
      "  \"10 in version 0.20 to 100 in 0.22.\", FutureWarning)\n"
     ]
    }
   ],
   "source": [
    "ids = zip(all_desc_ids, all_targ_ids) # Make iterator here.\n",
    "m_list = []\n",
    "\n",
    "for desc_ids, targ_ids in ids:\n",
    "    print(desc_ids, targ_ids)\n",
    "    m = learn_model(train, desc_ids, targ_ids)\n",
    "    m.desc_ids = desc_ids\n",
    "    m.targ_ids = targ_ids\n",
    "    m_list.append(m)"
   ]
  },
  {
   "cell_type": "code",
   "execution_count": 30,
   "metadata": {
    "collapsed": true
   },
   "outputs": [],
   "source": [
    "pc2 = morpheus.ParallelComposition()\n",
    "\n",
    "for m in m_list:\n",
    "    pc2.add_estimator(m)"
   ]
  },
  {
   "cell_type": "code",
   "execution_count": 31,
   "metadata": {},
   "outputs": [
    {
     "name": "stdout",
     "output_type": "stream",
     "text": [
      "\n",
      "        # Main\n",
      "        Descriptive attributes:     [0. 1. 2.]\n",
      "        Target attributes:          [3. 4. 5.]\n",
      "        \n",
      "        ## On types (mostly nominals)\n",
      "        Target attribute types:                     ['nominal', 'nominal', 'nominal']\n",
      "        N_classes of nominal target attributes:     [2, 2, 3]\n",
      "        Classes of nominal target attributes:       [array([0., 1.]), array([0., 1.]), array([1., 2., 3.])]\n",
      "        \n",
      "        ## Weights\n",
      "        Total weights of target attributes:         [1. 2. 1.]\n",
      "        \n",
      "         \n",
      "        ## Estimators\n",
      "        Estimators used:        ['RandomForestClassifier', 'RandomForestClassifier']\n",
      "        N_estimators:           2\n",
      "        \n"
     ]
    }
   ],
   "source": [
    "pc2.pretty_print()"
   ]
  },
  {
   "cell_type": "code",
   "execution_count": 32,
   "metadata": {},
   "outputs": [
    {
     "data": {
      "text/plain": [
       "[array([[0.64504686, 0.35495314],\n",
       "        [0.64504686, 0.35495314],\n",
       "        [0.64504686, 0.35495314],\n",
       "        ...,\n",
       "        [0.64504686, 0.35495314],\n",
       "        [0.64504686, 0.35495314],\n",
       "        [0.64504686, 0.35495314]]), array([[0.53352083, 0.46647917],\n",
       "        [0.53352083, 0.46647917],\n",
       "        [0.53352083, 0.46647917],\n",
       "        ...,\n",
       "        [0.53352083, 0.46647917],\n",
       "        [0.53352083, 0.46647917],\n",
       "        [0.53352083, 0.46647917]]), array([[0.33112443, 0.33695825, 0.33191732],\n",
       "        [0.33112443, 0.33695825, 0.33191732],\n",
       "        [0.33112443, 0.33695825, 0.33191732],\n",
       "        ...,\n",
       "        [0.33112443, 0.33695825, 0.33191732],\n",
       "        [0.33112443, 0.33695825, 0.33191732],\n",
       "        [0.33112443, 0.33695825, 0.33191732]])]"
      ]
     },
     "execution_count": 32,
     "metadata": {},
     "output_type": "execute_result"
    }
   ],
   "source": [
    "pc2.predict_proba(test[:, desc_ids_1])"
   ]
  },
  {
   "cell_type": "code",
   "execution_count": 33,
   "metadata": {},
   "outputs": [
    {
     "name": "stderr",
     "output_type": "stream",
     "text": [
      "/home/elia/Software/anaconda3/lib/python3.6/site-packages/sklearn/ensemble/forest.py:246: FutureWarning: The default value of n_estimators will change from 10 in version 0.20 to 100 in 0.22.\n",
      "  \"10 in version 0.20 to 100 in 0.22.\", FutureWarning)\n"
     ]
    }
   ],
   "source": [
    "# Add dumbass model => Changes predictions.\n",
    "m = learn_model(train[1:10,:], desc_ids_2, targ_ids_2)\n",
    "m.desc_ids = desc_ids_2\n",
    "m.targ_ids = targ_ids_2"
   ]
  },
  {
   "cell_type": "code",
   "execution_count": 34,
   "metadata": {
    "collapsed": true
   },
   "outputs": [],
   "source": [
    "pc2.add_estimator(m)"
   ]
  },
  {
   "cell_type": "code",
   "execution_count": 35,
   "metadata": {},
   "outputs": [
    {
     "name": "stdout",
     "output_type": "stream",
     "text": [
      "\n",
      "        # Main\n",
      "        Descriptive attributes:     [0. 1. 2.]\n",
      "        Target attributes:          [3. 4. 5.]\n",
      "        \n",
      "        ## On types (mostly nominals)\n",
      "        Target attribute types:                     ['nominal', 'nominal', 'nominal']\n",
      "        N_classes of nominal target attributes:     [2, 2, 3]\n",
      "        Classes of nominal target attributes:       [array([0., 1.]), array([0., 1.]), array([1., 2., 3.])]\n",
      "        \n",
      "        ## Weights\n",
      "        Total weights of target attributes:         [2. 3. 1.]\n",
      "        \n",
      "         \n",
      "        ## Estimators\n",
      "        Estimators used:        ['RandomForestClassifier', 'RandomForestClassifier', 'RandomForestClassifier']\n",
      "        N_estimators:           3\n",
      "        \n"
     ]
    }
   ],
   "source": [
    "pc2.pretty_print()"
   ]
  },
  {
   "cell_type": "code",
   "execution_count": 36,
   "metadata": {},
   "outputs": [
    {
     "data": {
      "text/plain": [
       "[array([[0.65778137, 0.34221863],\n",
       "        [0.65778137, 0.34221863],\n",
       "        [0.65778137, 0.34221863],\n",
       "        ...,\n",
       "        [0.65778137, 0.34221863],\n",
       "        [0.65778137, 0.34221863],\n",
       "        [0.65778137, 0.34221863]]), array([[0.52885516, 0.47114484],\n",
       "        [0.52885516, 0.47114484],\n",
       "        [0.52885516, 0.47114484],\n",
       "        ...,\n",
       "        [0.52885516, 0.47114484],\n",
       "        [0.52885516, 0.47114484],\n",
       "        [0.52885516, 0.47114484]]), array([[0.33112443, 0.33695825, 0.33191732],\n",
       "        [0.33112443, 0.33695825, 0.33191732],\n",
       "        [0.33112443, 0.33695825, 0.33191732],\n",
       "        ...,\n",
       "        [0.33112443, 0.33695825, 0.33191732],\n",
       "        [0.33112443, 0.33695825, 0.33191732],\n",
       "        [0.33112443, 0.33695825, 0.33191732]])]"
      ]
     },
     "execution_count": 36,
     "metadata": {},
     "output_type": "execute_result"
    }
   ],
   "source": [
    "pc2.predict_proba(test[:, desc_ids_1])"
   ]
  },
  {
   "cell_type": "markdown",
   "metadata": {},
   "source": [
    "## Adding regressors to the mix"
   ]
  },
  {
   "cell_type": "markdown",
   "metadata": {},
   "source": [
    "### Adding numerical target"
   ]
  },
  {
   "cell_type": "code",
   "execution_count": 37,
   "metadata": {
    "collapsed": true
   },
   "outputs": [],
   "source": [
    "train, test = add_extra_column(train, nominal=False), add_extra_column(test, nominal=False)\n",
    "train, test = add_extra_column(train, nominal=False), add_extra_column(test, nominal=False)"
   ]
  },
  {
   "cell_type": "code",
   "execution_count": 38,
   "metadata": {},
   "outputs": [
    {
     "data": {
      "text/html": [
       "<div>\n",
       "<style scoped>\n",
       "    .dataframe tbody tr th:only-of-type {\n",
       "        vertical-align: middle;\n",
       "    }\n",
       "\n",
       "    .dataframe tbody tr th {\n",
       "        vertical-align: top;\n",
       "    }\n",
       "\n",
       "    .dataframe thead th {\n",
       "        text-align: right;\n",
       "    }\n",
       "</style>\n",
       "<table border=\"1\" class=\"dataframe\">\n",
       "  <thead>\n",
       "    <tr style=\"text-align: right;\">\n",
       "      <th></th>\n",
       "      <th>0</th>\n",
       "      <th>1</th>\n",
       "      <th>2</th>\n",
       "      <th>3</th>\n",
       "      <th>4</th>\n",
       "      <th>5</th>\n",
       "      <th>6</th>\n",
       "      <th>7</th>\n",
       "    </tr>\n",
       "  </thead>\n",
       "  <tbody>\n",
       "    <tr>\n",
       "      <th>0</th>\n",
       "      <td>0.0</td>\n",
       "      <td>0.0</td>\n",
       "      <td>0.0</td>\n",
       "      <td>0.0</td>\n",
       "      <td>0.0</td>\n",
       "      <td>1.0</td>\n",
       "      <td>0.203920</td>\n",
       "      <td>0.669628</td>\n",
       "    </tr>\n",
       "    <tr>\n",
       "      <th>1</th>\n",
       "      <td>1.0</td>\n",
       "      <td>0.0</td>\n",
       "      <td>1.0</td>\n",
       "      <td>1.0</td>\n",
       "      <td>1.0</td>\n",
       "      <td>1.0</td>\n",
       "      <td>0.068931</td>\n",
       "      <td>0.327780</td>\n",
       "    </tr>\n",
       "    <tr>\n",
       "      <th>2</th>\n",
       "      <td>1.0</td>\n",
       "      <td>1.0</td>\n",
       "      <td>1.0</td>\n",
       "      <td>1.0</td>\n",
       "      <td>1.0</td>\n",
       "      <td>1.0</td>\n",
       "      <td>0.705527</td>\n",
       "      <td>0.223310</td>\n",
       "    </tr>\n",
       "    <tr>\n",
       "      <th>3</th>\n",
       "      <td>0.0</td>\n",
       "      <td>0.0</td>\n",
       "      <td>0.0</td>\n",
       "      <td>0.0</td>\n",
       "      <td>0.0</td>\n",
       "      <td>1.0</td>\n",
       "      <td>0.497676</td>\n",
       "      <td>0.030849</td>\n",
       "    </tr>\n",
       "    <tr>\n",
       "      <th>4</th>\n",
       "      <td>0.0</td>\n",
       "      <td>0.0</td>\n",
       "      <td>0.0</td>\n",
       "      <td>0.0</td>\n",
       "      <td>1.0</td>\n",
       "      <td>1.0</td>\n",
       "      <td>0.892374</td>\n",
       "      <td>0.318923</td>\n",
       "    </tr>\n",
       "  </tbody>\n",
       "</table>\n",
       "</div>"
      ],
      "text/plain": [
       "     0    1    2    3    4    5         6         7\n",
       "0  0.0  0.0  0.0  0.0  0.0  1.0  0.203920  0.669628\n",
       "1  1.0  0.0  1.0  1.0  1.0  1.0  0.068931  0.327780\n",
       "2  1.0  1.0  1.0  1.0  1.0  1.0  0.705527  0.223310\n",
       "3  0.0  0.0  0.0  0.0  0.0  1.0  0.497676  0.030849\n",
       "4  0.0  0.0  0.0  0.0  1.0  1.0  0.892374  0.318923"
      ]
     },
     "execution_count": 38,
     "metadata": {},
     "output_type": "execute_result"
    }
   ],
   "source": [
    "pd.DataFrame(train).head() # Useful for inspection."
   ]
  },
  {
   "cell_type": "code",
   "execution_count": 39,
   "metadata": {
    "collapsed": true
   },
   "outputs": [],
   "source": [
    "targ_ids_1 = [6]\n",
    "desc_ids_1 = [0,1,2,3]\n",
    "\n",
    "targ_ids_2 = [4,5]\n",
    "desc_ids_2 = [0,1,2,3]\n",
    "\n",
    "targ_ids_3 = [6,7]\n",
    "desc_ids_3 = [0,1,2,3]\n",
    "\n",
    "all_desc_ids = [desc_ids_1, desc_ids_2, desc_ids_3]\n",
    "all_targ_ids = [targ_ids_1, targ_ids_2, targ_ids_3]"
   ]
  },
  {
   "cell_type": "code",
   "execution_count": 40,
   "metadata": {},
   "outputs": [
    {
     "name": "stdout",
     "output_type": "stream",
     "text": [
      "[0, 1, 2, 3] [6]\n"
     ]
    },
    {
     "name": "stderr",
     "output_type": "stream",
     "text": [
      "/home/elia/Software/anaconda3/lib/python3.6/site-packages/sklearn/ensemble/forest.py:246: FutureWarning: The default value of n_estimators will change from 10 in version 0.20 to 100 in 0.22.\n",
      "  \"10 in version 0.20 to 100 in 0.22.\", FutureWarning)\n",
      "/home/elia/Software/anaconda3/lib/python3.6/site-packages/sklearn/ensemble/forest.py:246: FutureWarning: The default value of n_estimators will change from 10 in version 0.20 to 100 in 0.22.\n",
      "  \"10 in version 0.20 to 100 in 0.22.\", FutureWarning)\n"
     ]
    },
    {
     "name": "stdout",
     "output_type": "stream",
     "text": [
      "[0, 1, 2, 3] [4, 5]\n",
      "[0, 1, 2, 3] [6, 7]\n"
     ]
    },
    {
     "name": "stderr",
     "output_type": "stream",
     "text": [
      "/home/elia/Software/anaconda3/lib/python3.6/site-packages/sklearn/ensemble/forest.py:246: FutureWarning: The default value of n_estimators will change from 10 in version 0.20 to 100 in 0.22.\n",
      "  \"10 in version 0.20 to 100 in 0.22.\", FutureWarning)\n",
      "/home/elia/Software/anaconda3/lib/python3.6/site-packages/sklearn/ensemble/forest.py:246: FutureWarning: The default value of n_estimators will change from 10 in version 0.20 to 100 in 0.22.\n",
      "  \"10 in version 0.20 to 100 in 0.22.\", FutureWarning)\n",
      "/home/elia/Software/anaconda3/lib/python3.6/site-packages/sklearn/ensemble/forest.py:246: FutureWarning: The default value of n_estimators will change from 10 in version 0.20 to 100 in 0.22.\n",
      "  \"10 in version 0.20 to 100 in 0.22.\", FutureWarning)\n"
     ]
    }
   ],
   "source": [
    "m_list = []\n",
    "ids = zip(all_desc_ids, all_targ_ids)\n",
    "for desc_ids, targ_ids in ids:\n",
    "    print(desc_ids, targ_ids)\n",
    "    m = learn_model(train, desc_ids, targ_ids)\n",
    "    m.desc_ids = desc_ids\n",
    "    m.targ_ids = targ_ids\n",
    "    m_list.append(m)"
   ]
  },
  {
   "cell_type": "markdown",
   "metadata": {},
   "source": [
    "### Composing estimators"
   ]
  },
  {
   "cell_type": "code",
   "execution_count": 41,
   "metadata": {
    "collapsed": true
   },
   "outputs": [],
   "source": [
    "pc3 = morpheus.ParallelComposition()\n",
    "\n",
    "for m in m_list:\n",
    "    pc3.add_estimator(m)"
   ]
  },
  {
   "cell_type": "code",
   "execution_count": 42,
   "metadata": {},
   "outputs": [
    {
     "name": "stdout",
     "output_type": "stream",
     "text": [
      "\n",
      "        # Main\n",
      "        Descriptive attributes:     [0. 1. 2. 3.]\n",
      "        Target attributes:          [4. 5. 6. 7.]\n",
      "        \n",
      "        ## On types (mostly nominals)\n",
      "        Target attribute types:                     ['nominal', 'nominal', 'numeric', 'numeric']\n",
      "        N_classes of nominal target attributes:     [2, 3]\n",
      "        Classes of nominal target attributes:       [array([0., 1.]), array([1., 2., 3.])]\n",
      "        \n",
      "        ## Weights\n",
      "        Total weights of target attributes:         [1. 1. 2. 1.]\n",
      "        \n",
      "         \n",
      "        ## Estimators\n",
      "        Estimators used:        ['RandomForestRegressor', 'RandomForestClassifier', 'RandomForestRegressor']\n",
      "        N_estimators:           3\n",
      "        \n"
     ]
    }
   ],
   "source": [
    "pc3.pretty_print()"
   ]
  },
  {
   "cell_type": "code",
   "execution_count": 43,
   "metadata": {},
   "outputs": [
    {
     "data": {
      "text/plain": [
       "[array([[0.68305401, 0.31694599],\n",
       "        [0.2575294 , 0.7424706 ],\n",
       "        [0.68305401, 0.31694599],\n",
       "        ...,\n",
       "        [0.68305401, 0.31694599],\n",
       "        [0.68305401, 0.31694599],\n",
       "        [0.68305401, 0.31694599]]),\n",
       " array([[0.33241632, 0.34010788, 0.3274758 ],\n",
       "        [0.3358224 , 0.33046484, 0.33371276],\n",
       "        [0.33241632, 0.34010788, 0.3274758 ],\n",
       "        ...,\n",
       "        [0.33241632, 0.34010788, 0.3274758 ],\n",
       "        [0.33241632, 0.34010788, 0.3274758 ],\n",
       "        [0.33241632, 0.34010788, 0.3274758 ]])]"
      ]
     },
     "execution_count": 43,
     "metadata": {},
     "output_type": "execute_result"
    }
   ],
   "source": [
    "pc3.predict_proba(test[:, desc_ids_1])"
   ]
  },
  {
   "cell_type": "code",
   "execution_count": 44,
   "metadata": {},
   "outputs": [
    {
     "data": {
      "text/plain": [
       "array([[0.49899876, 0.50242171],\n",
       "       [0.50291683, 0.5089372 ],\n",
       "       [0.49899876, 0.50242171],\n",
       "       ...,\n",
       "       [0.49899876, 0.50242171],\n",
       "       [0.49899876, 0.50242171],\n",
       "       [0.49899876, 0.50242171]])"
      ]
     },
     "execution_count": 44,
     "metadata": {},
     "output_type": "execute_result"
    }
   ],
   "source": [
    "pc3.predict_numeric(test[:, desc_ids_1])"
   ]
  },
  {
   "cell_type": "code",
   "execution_count": 45,
   "metadata": {},
   "outputs": [
    {
     "data": {
      "text/plain": [
       "array([[0.        , 2.        , 0.49899876, 0.50242171],\n",
       "       [1.        , 1.        , 0.50291683, 0.5089372 ],\n",
       "       [0.        , 2.        , 0.49899876, 0.50242171],\n",
       "       ...,\n",
       "       [0.        , 2.        , 0.49899876, 0.50242171],\n",
       "       [0.        , 2.        , 0.49899876, 0.50242171],\n",
       "       [0.        , 2.        , 0.49899876, 0.50242171]])"
      ]
     },
     "execution_count": 45,
     "metadata": {},
     "output_type": "execute_result"
    }
   ],
   "source": [
    "pc3.predict(test[:, desc_ids_1])"
   ]
  },
  {
   "cell_type": "code",
   "execution_count": 46,
   "metadata": {},
   "outputs": [
    {
     "data": {
      "text/plain": [
       "array([4., 5., 6., 7.])"
      ]
     },
     "execution_count": 46,
     "metadata": {},
     "output_type": "execute_result"
    }
   ],
   "source": [
    "pc3.targ_ids"
   ]
  }
 ],
 "metadata": {
  "kernelspec": {
   "display_name": "Python [default]",
   "language": "python",
   "name": "python3"
  },
  "language_info": {
   "codemirror_mode": {
    "name": "ipython",
    "version": 3
   },
   "file_extension": ".py",
   "mimetype": "text/x-python",
   "name": "python",
   "nbconvert_exporter": "python",
   "pygments_lexer": "ipython3",
   "version": "3.6.8"
  },
  "toc": {
   "nav_menu": {},
   "number_sections": true,
   "sideBar": true,
   "skip_h1_title": true,
   "toc_cell": false,
   "toc_position": {
    "height": "885px",
    "left": "0px",
    "right": "1708px",
    "top": "107px",
    "width": "212px"
   },
   "toc_section_display": "block",
   "toc_window_display": true
  }
 },
 "nbformat": 4,
 "nbformat_minor": 2
}
