{
 "cells": [
  {
   "cell_type": "markdown",
   "metadata": {},
   "source": [
    "# Prediction Algorithms"
   ]
  },
  {
   "cell_type": "markdown",
   "metadata": {},
   "source": [
    "## Preliminaries"
   ]
  },
  {
   "cell_type": "code",
   "execution_count": 97,
   "metadata": {},
   "outputs": [],
   "source": [
    "import os\n",
    "import sys\n",
    "import networkx as nx\n",
    "import numpy as np\n",
    "\n",
    "from os.path import dirname\n",
    "from networkx.drawing.nx_pydot import to_pydot\n",
    "\n",
    "note_dir = os.getcwd()\n",
    "\n",
    "root_dir = dirname(note_dir)\n",
    "src_dir = os.path.join(root_dir, \"src\")\n",
    "\n",
    "sys.path.append(src_dir)\n",
    "\n",
    "import morpheus\n",
    "from morpheus.utils.encoding import code_to_query\n",
    "from morpheus.algo.selection import base_selection_algorithm\n",
    "from morpheus.tests import default_chain, default_ensemble, default_dataset, default_m_list_for_mercs\n",
    "from morpheus.graph import model_to_graph"
   ]
  },
  {
   "cell_type": "code",
   "execution_count": 98,
   "metadata": {
    "collapsed": true
   },
   "outputs": [],
   "source": [
    "def get_ids(g, kind='desc'):\n",
    "    \n",
    "    if kind in {'s', 'src', 'source', 'd', 'desc', 'descriptive'}:\n",
    "        r = [g.nodes()[n]['idx'] for n, in_degree in g.in_degree\n",
    "             if in_degree == 0\n",
    "             if g.nodes()[n]['kind'] == 'data']\n",
    "        \n",
    "    elif kind in {'t', 'tgt', 'targ', 'target'}:\n",
    "        r = [g.nodes()[n]['idx'] for n, in_degree in g.out_degree\n",
    "             if out_degree == 0\n",
    "             if g.nodes()[n]['kind'] == 'data']\n",
    "    else:\n",
    "        msg = \"\"\"\n",
    "        Did not recognize kind:   {}\n",
    "        \"\"\".format(kind)\n",
    "        raise ValueError(msg)\n",
    "    \n",
    "    return set(r)"
   ]
  },
  {
   "cell_type": "markdown",
   "metadata": {},
   "source": [
    "## Collect Basic Building Blocks"
   ]
  },
  {
   "cell_type": "code",
   "execution_count": 7,
   "metadata": {
    "code_folding": []
   },
   "outputs": [
    {
     "name": "stdout",
     "output_type": "stream",
     "text": [
      "\n",
      "        Learning model with desc ids:    [0, 1, 2, 4, 5, 6, 7]\n",
      "                            targ ids:    [3]\n",
      "        \n",
      "\n",
      "        Learning model with desc ids:    [0, 1, 3, 4, 5, 6, 7]\n",
      "                            targ ids:    [2]\n",
      "        \n",
      "\n",
      "        Learning model with desc ids:    [0, 1, 2, 3, 4, 5, 7]\n",
      "                            targ ids:    [6]\n",
      "        \n",
      "Unknown label type: 'continuous'\n",
      "\n",
      "        Learning model with desc ids:    [0, 1, 2, 3, 5, 6, 7]\n",
      "                            targ ids:    [4]\n",
      "        \n",
      "\n",
      "        Learning model with desc ids:    [0, 2, 3, 4, 5, 6, 7]\n",
      "                            targ ids:    [1]\n",
      "        \n",
      "\n",
      "        Learning model with desc ids:    [0, 1, 2, 3, 4, 5, 6]\n",
      "                            targ ids:    [7]\n",
      "        \n",
      "\n",
      "        Learning model with desc ids:    [0, 1, 2, 3, 4, 6, 7]\n",
      "                            targ ids:    [5]\n",
      "        \n",
      "\n",
      "        Learning model with desc ids:    [1, 2, 3, 4, 5, 6, 7]\n",
      "                            targ ids:    [0]\n",
      "        \n"
     ]
    }
   ],
   "source": [
    "X, _ = default_dataset()\n",
    "X = X.values\n",
    "m_list = default_m_list_for_mercs(X)"
   ]
  },
  {
   "cell_type": "code",
   "execution_count": 8,
   "metadata": {},
   "outputs": [],
   "source": [
    "g_list = [model_to_graph(m) for m in m_list]"
   ]
  },
  {
   "cell_type": "code",
   "execution_count": 95,
   "metadata": {
    "collapsed": true
   },
   "outputs": [],
   "source": []
  },
  {
   "cell_type": "code",
   "execution_count": 96,
   "metadata": {},
   "outputs": [
    {
     "data": {
      "text/plain": [
       "<networkx.classes.digraph.DiGraph at 0x7f713e42fef0>"
      ]
     },
     "execution_count": 96,
     "metadata": {},
     "output_type": "execute_result"
    }
   ],
   "source": [
    "nx.DiGraph()"
   ]
  },
  {
   "cell_type": "markdown",
   "metadata": {},
   "source": [
    "## IT"
   ]
  },
  {
   "cell_type": "code",
   "execution_count": 94,
   "metadata": {
    "collapsed": true
   },
   "outputs": [],
   "source": [
    "def it_algorithm(g_list, q_code, max_steps=4):\n",
    "    \n",
    "    # Init\n",
    "    q_desc, q_targ, q_miss = code_to_query(q_code)\n",
    "    \n",
    "    avl_desc = set(q_desc)\n",
    "    avl_targ = set(q_targ + q_miss)\n",
    "    \n",
    "    avl_grph = g_list\n",
    "    \n",
    "    g_res = nx.DiGraph()\n",
    "    \n",
    "    for step in range(max_steps):\n",
    "        \n",
    "        q_code = query_to_code(avl_desc, avl_targ, [])\n",
    "        \n",
    "        \n",
    "        g_nxt = mrai_algorithm(avl_grph, q_code, complete= (max_step - step == 1))\n",
    "        g_res = nx.compose(g_res, g_next)\n",
    "        \n",
    "        g_nxt_targ = get_ids(g_nxt, kind='targ')\n",
    "        \n",
    "        g_nxt_mods = set([n for n in g.nodes()\n",
    "                          if g.nodes()[n]['kind'] == 'model'])\n",
    "        \n",
    "        avl_desc = avl_desc.union(g_nxt_targ)\n",
    "        avl_targ = avl_targ.difference(g_nxt_targ)\n",
    "        \n",
    "        avl_grph = [g for g in avl_graph\n",
    "                    if len(g_nxt_mods.intersection(set(g))) > 0]\n",
    "        \n",
    "        \n",
    "    g_res = prune(g_res)\n",
    "    \n",
    "    return g_res"
   ]
  },
  {
   "cell_type": "markdown",
   "metadata": {},
   "source": [
    "## RW-algorithm"
   ]
  },
  {
   "cell_type": "code",
   "execution_count": null,
   "metadata": {
    "collapsed": true
   },
   "outputs": [],
   "source": [
    "def rw_algorithm(g_list, q_code, max_chain_size=5):\n",
    "    \n",
    "    # Init\n",
    "    q_desc, q_targ, q_miss = code_to_query(q_code)\n",
    "    \n",
    "    avl_desc = set(q_desc)\n",
    "    avl_targ = set(q_targ)\n",
    "    \n",
    "    avl_grph = g_list\n",
    "    \n",
    "    g_res = nx.DiGraph()\n",
    "    \n",
    "    for step in range(max_chain_size):\n",
    "        \n",
    "        q_code = query_to_code(avl_desc, avl_targ, [])\n",
    "        \n",
    "        g_nxt = mrai_algorithm(avl_grph, q_code, stochastic=True)\n",
    "        g_res = nx.compose(g_res, g_next)\n",
    "        \n",
    "        g_nxt_mods = set([n for n in g.nodes()\n",
    "                          if g.nodes()[n]['kind'] == 'model'])\n",
    "        g_res_desc, g_res_targ = get_ids(g_res, kind='desc'), get_ids(g_res, kind='targ')\n",
    "        \n",
    "    \n",
    "        avl_desc = avl_desc\n",
    "        avl_targ = g_res_desc.difference(avl_desc).union(avl_targ.difference(g_res_targ))\n",
    "        \n",
    "        avl_grph = [g for g in avl_graph\n",
    "                    if len(g_nxt_mods.intersection(set(g))) > 0]\n",
    "    \n",
    "    g_res = prune(g_res)\n",
    "    \n",
    "    return g_res"
   ]
  },
  {
   "cell_type": "markdown",
   "metadata": {},
   "source": [
    "So what we need are modifications to the mrai_algorithm that allow it to be more easily used as a component. Or, alternatively, split it up."
   ]
  },
  {
   "cell_type": "code",
   "execution_count": null,
   "metadata": {
    "collapsed": true
   },
   "outputs": [],
   "source": []
  },
  {
   "cell_type": "code",
   "execution_count": null,
   "metadata": {
    "collapsed": true
   },
   "outputs": [],
   "source": []
  }
 ],
 "metadata": {
  "kernelspec": {
   "display_name": "Python [conda env:morpheus]",
   "language": "python",
   "name": "conda-env-morpheus-py"
  },
  "language_info": {
   "codemirror_mode": {
    "name": "ipython",
    "version": 3
   },
   "file_extension": ".py",
   "mimetype": "text/x-python",
   "name": "python",
   "nbconvert_exporter": "python",
   "pygments_lexer": "ipython3",
   "version": "3.6.7"
  },
  "toc": {
   "nav_menu": {},
   "number_sections": true,
   "sideBar": true,
   "skip_h1_title": true,
   "toc_cell": false,
   "toc_position": {},
   "toc_section_display": "block",
   "toc_window_display": false
  }
 },
 "nbformat": 4,
 "nbformat_minor": 2
}
