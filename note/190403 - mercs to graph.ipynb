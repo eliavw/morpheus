{
 "cells": [
  {
   "cell_type": "markdown",
   "metadata": {},
   "source": [
    "# Converting MERCS to Graph\n",
    "\n",
    "I now have more or less an idea of what I want."
   ]
  },
  {
   "cell_type": "markdown",
   "metadata": {},
   "source": [
    "## Preliminaries"
   ]
  },
  {
   "cell_type": "code",
   "execution_count": 1,
   "metadata": {
    "collapsed": true
   },
   "outputs": [],
   "source": [
    "import networkx as nx\n",
    "import nxviz as nxv\n",
    "import matplotlib.pyplot as plt"
   ]
  },
  {
   "cell_type": "code",
   "execution_count": 2,
   "metadata": {},
   "outputs": [],
   "source": [
    "from itertools import product\n",
    "import os, sys\n",
    "\n",
    "import pandas as pd\n",
    "import numpy as np\n",
    "import sklearn\n",
    "import matplotlib.pyplot as plt\n",
    "import seaborn as sns\n",
    "\n",
    "from sklearn.tree import (DecisionTreeClassifier,\n",
    "                          DecisionTreeRegressor)\n",
    "from sklearn.ensemble import (RandomForestClassifier,\n",
    "                              RandomForestRegressor)\n",
    "from sklearn.datasets import make_classification\n",
    "from sklearn.model_selection import train_test_split\n",
    "\n",
    "from os.path import dirname\n",
    "\n",
    "note_dir = os.getcwd()\n",
    "\n",
    "root_dir = dirname(note_dir)\n",
    "data_dir = os.path.join(root_dir, 'resc', 'data', 'tidy','nltcs')\n",
    "src_dir = os.path.join(root_dir, \"src\")\n",
    "\n",
    "sys.path.append(src_dir)"
   ]
  },
  {
   "cell_type": "code",
   "execution_count": 3,
   "metadata": {
    "collapsed": true
   },
   "outputs": [],
   "source": [
    "import morpheus"
   ]
  },
  {
   "cell_type": "markdown",
   "metadata": {},
   "source": [
    "### Methods"
   ]
  },
  {
   "cell_type": "code",
   "execution_count": 4,
   "metadata": {
    "collapsed": true
   },
   "outputs": [],
   "source": [
    "def learn_model(data, desc_ids, targ_ids, model, **kwargs):\n",
    "    \"\"\"\n",
    "    Learn a model from the data.\n",
    "    \n",
    "    The desc ids and targ ids identify which prediction task\n",
    "    you should try to learn from the data.\n",
    "    \n",
    "    Model is a machine learning method that has a .fit() method.\n",
    "    \"\"\"\n",
    "    X, Y = data[:, desc_ids], data[:, targ_ids]\n",
    "    \n",
    "    if X.shape[1]==1: X = X.ravel()\n",
    "    if Y.shape[1]==1: Y = Y.ravel()\n",
    "    \n",
    "    try:\n",
    "        clf = model(**kwargs)\n",
    "        clf.fit(X, Y)\n",
    "    except ValueError as e:\n",
    "        print(e)\n",
    "    \n",
    "    # Bookkeeping\n",
    "    clf.desc_ids = desc_ids\n",
    "    clf.targ_ids = targ_ids\n",
    "    return clf"
   ]
  },
  {
   "cell_type": "markdown",
   "metadata": {},
   "source": [
    "## Basic MERCS model"
   ]
  },
  {
   "cell_type": "code",
   "execution_count": 5,
   "metadata": {},
   "outputs": [
    {
     "name": "stdout",
     "output_type": "stream",
     "text": [
      "(1000, 7) (1000,)\n"
     ]
    }
   ],
   "source": [
    "X, y = make_classification(n_samples=10**3,\n",
    "                           n_features=7,\n",
    "                           n_informative=7,\n",
    "                           n_repeated=0,\n",
    "                           n_redundant=0,\n",
    "                           n_clusters_per_class=2)\n",
    "\n",
    "print(X.shape, y.shape)\n",
    "\n",
    "X_train, X_test, y_train, y_test = train_test_split(X,\n",
    "                                                    y,\n",
    "                                                    test_size=0.2,\n",
    "                                                    random_state=997)"
   ]
  },
  {
   "cell_type": "code",
   "execution_count": 6,
   "metadata": {},
   "outputs": [],
   "source": [
    "df = pd.DataFrame(X_train)\n",
    "df = df.assign(y=y_train)\n",
    "#df.head()\n",
    "data = df.values"
   ]
  },
  {
   "cell_type": "code",
   "execution_count": 7,
   "metadata": {},
   "outputs": [
    {
     "name": "stdout",
     "output_type": "stream",
     "text": [
      "Number of columns: 8\n"
     ]
    }
   ],
   "source": [
    "n,m = data.shape\n",
    "print(\"Number of columns: {}\".format(m))\n",
    "atts_ids = list(range(m))"
   ]
  },
  {
   "cell_type": "code",
   "execution_count": 8,
   "metadata": {
    "collapsed": true
   },
   "outputs": [],
   "source": [
    "# Extract test data\n",
    "df_test = pd.DataFrame(X_test)\n",
    "df_test = df_test.assign(y=y_test)\n",
    "test_data = df_test.values"
   ]
  },
  {
   "cell_type": "markdown",
   "metadata": {},
   "source": [
    "Defining some prediction models that will be chained afterwards."
   ]
  },
  {
   "cell_type": "code",
   "execution_count": 9,
   "metadata": {
    "collapsed": true
   },
   "outputs": [],
   "source": [
    "targ_ids_1 = [4,5]\n",
    "desc_ids_1 = [0,1,2]\n",
    "\n",
    "targ_ids_2 = [7]\n",
    "desc_ids_2 = [1,2,5]\n",
    "\n",
    "all_desc_ids = [desc_ids_1, desc_ids_2]\n",
    "all_targ_ids = [targ_ids_1, targ_ids_2]"
   ]
  },
  {
   "cell_type": "code",
   "execution_count": 10,
   "metadata": {
    "code_folding": [
     5,
     14
    ]
   },
   "outputs": [
    {
     "name": "stdout",
     "output_type": "stream",
     "text": [
      "\n",
      "    Learning model with desc ids:    [0, 1, 2]\n",
      "                        targ ids:    [4, 5]\n",
      "    \n",
      "\n",
      "    Learning model with desc ids:    [1, 2, 5]\n",
      "                        targ ids:    [7]\n",
      "    \n"
     ]
    }
   ],
   "source": [
    "m_list = []\n",
    "ids = zip(all_desc_ids, all_targ_ids)\n",
    "\n",
    "for desc_ids, targ_ids in ids:\n",
    "    msg = \"\"\"\n",
    "    Learning model with desc ids:    {}\n",
    "                        targ ids:    {}\n",
    "    \"\"\".format(desc_ids, targ_ids)\n",
    "    print(msg)\n",
    "    \n",
    "    if set(targ_ids).issubset(set([6,7])):\n",
    "        learner = RandomForestClassifier\n",
    "    elif set(targ_ids).issubset(set([0,1,2,3,4,5])):\n",
    "        learner = RandomForestRegressor\n",
    "    else:\n",
    "        msg = \"\"\"\n",
    "        Cannot learn mixed (nominal/numeric) models\n",
    "        \"\"\"\n",
    "        raise ValueError(msg)\n",
    "    \n",
    "    # Learn a model for desc_ids-targ_ids\n",
    "    m = learn_model(data, desc_ids, targ_ids, learner, max_depth=5, n_estimators=5)\n",
    "    m_list.append(m)"
   ]
  },
  {
   "cell_type": "code",
   "execution_count": 11,
   "metadata": {},
   "outputs": [
    {
     "name": "stdout",
     "output_type": "stream",
     "text": [
      "\n",
      "            Trying to add a model to end of the chain.\n",
      "            \n",
      "            Current chain targ_ids:     [4. 5.]\n",
      "            New estimator desc_ids:     [1, 2, 5]\n",
      "            \n",
      "\n",
      "\n",
      "            Connecting attributes:  [5.]\n",
      "            \n",
      "\n"
     ]
    }
   ],
   "source": [
    "sc = morpheus.SequentialComposition()\n",
    "for m in m_list:\n",
    "    sc.add_estimator(m, location='back')  "
   ]
  },
  {
   "cell_type": "markdown",
   "metadata": {},
   "source": [
    "sc = morpheus.SequentialComposition()\n",
    "m_list.reverse()\n",
    "for m in m_list:\n",
    "    sc.add_estimator(m, location='front')  "
   ]
  },
  {
   "cell_type": "code",
   "execution_count": 12,
   "metadata": {},
   "outputs": [
    {
     "name": "stdout",
     "output_type": "stream",
     "text": [
      "\n",
      "        # Main\n",
      "        Descriptive attributes:     [0. 1. 2.]\n",
      "        Target attributes:          [4. 7.]\n",
      "\n",
      "        ## On types (mostly nominals)\n",
      "        Target attribute types:                     ['numeric', 'nominal']\n",
      "        N_classes of nominal target attributes:     [2]\n",
      "        Classes of nominal target attributes:       [array([0., 1.])]\n",
      "\n",
      "        ## Weights\n",
      "        Total weights of target attributes:         [1. 1.]\n",
      "\n",
      "         \n",
      "        ## Estimators\n",
      "        Estimators used:        ['RandomForestRegressor', 'RandomForestClassifier']\n",
      "        N_estimators:           2\n",
      "        \n"
     ]
    }
   ],
   "source": [
    "sc.pretty_print()"
   ]
  },
  {
   "cell_type": "markdown",
   "metadata": {},
   "source": [
    "## Convert to graphs\n",
    "\n",
    "Now, we want to convert what this does into graphs. The eventual guess is that graphs are a very natural datastructure for our problem, and that we stand to gain quite a bit from doing this.\n",
    "\n",
    "As always, datastructures are the key to success here."
   ]
  },
  {
   "cell_type": "markdown",
   "metadata": {},
   "source": [
    "### Convert single model to graph."
   ]
  },
  {
   "cell_type": "code",
   "execution_count": 13,
   "metadata": {},
   "outputs": [],
   "source": [
    "m = sc.estimators_[0]"
   ]
  },
  {
   "cell_type": "code",
   "execution_count": 14,
   "metadata": {},
   "outputs": [
    {
     "data": {
      "text/plain": [
       "[0, 1, 2]"
      ]
     },
     "execution_count": 14,
     "metadata": {},
     "output_type": "execute_result"
    }
   ],
   "source": [
    "m.desc_ids"
   ]
  },
  {
   "cell_type": "code",
   "execution_count": 15,
   "metadata": {},
   "outputs": [
    {
     "data": {
      "text/plain": [
       "[4, 5]"
      ]
     },
     "execution_count": 15,
     "metadata": {},
     "output_type": "execute_result"
    }
   ],
   "source": [
    "m.targ_ids"
   ]
  },
  {
   "cell_type": "code",
   "execution_count": 16,
   "metadata": {},
   "outputs": [],
   "source": [
    "def n_label(idx, kind='function'):\n",
    "    \n",
    "    if kind in {'func', 'model', 'function'}:\n",
    "        c = 'f'\n",
    "    elif kind in {'data'}:\n",
    "        c = 'd'\n",
    "    else:\n",
    "        raise ValueError\n",
    "    \n",
    "    return \"{}-{:04d}\".format(c, idx)\n",
    "\n",
    "\n",
    "def convert_model_to_graph(model, idx=0):\n",
    "    \n",
    "    G = nx.DiGraph()\n",
    "    \n",
    "    d_nodes_desc = [(n_label(i, kind='data'), {'idx': i}) for i in model.desc_ids]\n",
    "    d_nodes_targ = [(n_label(i, kind='data'), {'idx': i}) for i in model.targ_ids]\n",
    "    m_nodes = [(n_label(idx, kind='function'), {'idx': idx, 'mod': model})]\n",
    "    \n",
    "    G.add_nodes_from(d_nodes_desc + d_nodes_targ, bipartite='data')\n",
    "    G.add_nodes_from(m_nodes, bipartite='func')\n",
    "    \n",
    "    # reduce our lists\n",
    "    m_nodes = [t[0] for t in m_nodes]\n",
    "    d_nodes_desc = [t[0] for t in d_nodes_desc]\n",
    "    d_nodes_targ = [t[0] for t in d_nodes_targ]\n",
    "    \n",
    "    src_edges = [(*e,{'id': d}) for e,d in zip(product(d_nodes_desc, m_nodes), model.desc_ids)]\n",
    "    tgt_edges = [(*e,{'id': d}) for e,d in zip(product(m_nodes, d_nodes_targ), model.targ_ids)]\n",
    "    \n",
    "    G.add_edges_from(src_edges)\n",
    "    G.add_edges_from(tgt_edges)\n",
    "    \n",
    "    return G\n",
    "\n",
    "\n",
    "def add_FI_to_graph(G):\n",
    "    \n",
    "    a, b = nx.bipartite.sets(G)\n",
    "    m_nodes = a if G.nodes()[a.pop()]['bipartite'] == 'func' else b\n",
    "    \n",
    "    m = m_nodes.pop()\n",
    "    \n",
    "    e_desc = G.in_edges({m})\n",
    "    \n",
    "    desc_ids = G.nodes()[m]['mod'].desc_ids\n",
    "    feat_imp = G.nodes()[m]['mod'].feature_importances_\n",
    "    \n",
    "    fi = dict(zip(desc_ids, feat_imp))\n",
    "    \n",
    "    for e in e_desc:\n",
    "        e_idx = G.edges()[e]['id']\n",
    "        G.edges()[e]['FI'] = fi[e_idx]\n",
    "\n",
    "    return G"
   ]
  },
  {
   "cell_type": "code",
   "execution_count": 17,
   "metadata": {
    "scrolled": true
   },
   "outputs": [
    {
     "data": {
      "text/plain": [
       "<networkx.classes.digraph.DiGraph at 0x7f9cde3c7470>"
      ]
     },
     "execution_count": 17,
     "metadata": {},
     "output_type": "execute_result"
    }
   ],
   "source": [
    "G = convert_model_to_graph(m, idx=0)\n",
    "\n",
    "add_FI_to_graph(G)"
   ]
  },
  {
   "cell_type": "code",
   "execution_count": 18,
   "metadata": {},
   "outputs": [],
   "source": [
    "from nxviz import ArcPlot, CircosPlot"
   ]
  },
  {
   "cell_type": "code",
   "execution_count": 19,
   "metadata": {},
   "outputs": [
    {
     "data": {
      "image/png": "[encoded data removed]",
      "text/plain": [
       "<Figure size 432x432 with 1 Axes>"
      ]
     },
     "metadata": {
      "needs_background": "light"
     },
     "output_type": "display_data"
    }
   ],
   "source": [
    "cfg = {\"node_color\":       'bipartite',\n",
    "      'node_ordering':     'bipartite',\n",
    "      'node_grouping':     'bipartite',\n",
    "      'node_labels':       True}\n",
    "\n",
    "a = ArcPlot(G, **cfg)\n",
    "a.draw()"
   ]
  },
  {
   "cell_type": "code",
   "execution_count": 20,
   "metadata": {},
   "outputs": [
    {
     "data": {
      "image/png": "[encoded data removed]",
      "text/plain": [
       "<Figure size 432x432 with 1 Axes>"
      ]
     },
     "metadata": {
      "needs_background": "light"
     },
     "output_type": "display_data"
    }
   ],
   "source": [
    "c = CircosPlot(G, **cfg)\n",
    "c.draw()"
   ]
  },
  {
   "cell_type": "code",
   "execution_count": 27,
   "metadata": {},
   "outputs": [
    {
     "name": "stdout",
     "output_type": "stream",
     "text": [
      "9\n"
     ]
    }
   ],
   "source": [
    "exec(\"print(max(range(10)))\")"
   ]
  },
  {
   "cell_type": "code",
   "execution_count": 26,
   "metadata": {},
   "outputs": [
    {
     "data": {
      "text/plain": [
       "2"
      ]
     },
     "execution_count": 26,
     "metadata": {},
     "output_type": "execute_result"
    }
   ],
   "source": []
  }
 ],
 "metadata": {
  "kernelspec": {
   "display_name": "Python [conda env:morpheus]",
   "language": "python",
   "name": "conda-env-morpheus-py"
  },
  "language_info": {
   "codemirror_mode": {
    "name": "ipython",
    "version": 3
   },
   "file_extension": ".py",
   "mimetype": "text/x-python",
   "name": "python",
   "nbconvert_exporter": "python",
   "pygments_lexer": "ipython3",
   "version": "3.6.7"
  },
  "toc": {
   "nav_menu": {},
   "number_sections": true,
   "sideBar": true,
   "skip_h1_title": true,
   "toc_cell": false,
   "toc_position": {},
   "toc_section_display": "block",
   "toc_window_display": false
  }
 },
 "nbformat": 4,
 "nbformat_minor": 2
}
