{
 "cells": [
  {
   "cell_type": "markdown",
   "metadata": {},
   "source": [
    "# Recursion in Morpheus"
   ]
  },
  {
   "cell_type": "markdown",
   "metadata": {},
   "source": [
    "# Preliminaries"
   ]
  },
  {
   "cell_type": "markdown",
   "metadata": {},
   "source": [
    "## Imports"
   ]
  },
  {
   "cell_type": "code",
   "execution_count": 1,
   "metadata": {},
   "outputs": [],
   "source": [
    "import os\n",
    "import sys\n",
    "import numpy as np\n",
    "import pprint\n",
    "\n",
    "\n",
    "from os.path import dirname\n",
    "from networkx.drawing.nx_pydot import to_pydot\n",
    "\n",
    "# Import morpheus\n",
    "note_dir = dirname(os.getcwd())\n",
    "root_dir = dirname(note_dir)\n",
    "src_dir = os.path.join(root_dir, \"src\")\n",
    "\n",
    "sys.path.append(src_dir)\n",
    "\n",
    "import morpheus\n",
    "from morpheus import Morpheus\n",
    "from morpheus.tests import (default_dataset,\n",
    "                            default_m_list_for_mercs,\n",
    "                            random_m_list_for_mercs)\n",
    "\n",
    "from morpheus.algo.inference import get_predict\n",
    "\n",
    "# Visuals\n",
    "from morpheus.graph import to_dot\n",
    "from morpheus.visuals import show_diagram\n",
    "from morpheus.graph.network import *\n",
    "\n",
    "from morpheus.composition import o as ω\n",
    "from morpheus.composition import x as χ\n",
    "\n",
    "# Ipython things\n",
    "from IPython.display import Image, display\n",
    "from IPython.core.display import HTML \n",
    "\n",
    "pp = pprint.PrettyPrinter(indent=4)"
   ]
  },
  {
   "cell_type": "markdown",
   "metadata": {},
   "source": [
    "## Methods"
   ]
  },
  {
   "cell_type": "code",
   "execution_count": null,
   "metadata": {},
   "outputs": [],
   "source": []
  },
  {
   "cell_type": "markdown",
   "metadata": {},
   "source": [
    "## General Variables"
   ]
  },
  {
   "cell_type": "code",
   "execution_count": null,
   "metadata": {},
   "outputs": [],
   "source": []
  },
  {
   "cell_type": "markdown",
   "metadata": {},
   "source": [
    "# Prepare sandbox\n",
    "\n",
    "Train a morpheus on a dataset and extract an interesting composite model."
   ]
  },
  {
   "cell_type": "code",
   "execution_count": 2,
   "metadata": {},
   "outputs": [],
   "source": [
    "m = Morpheus(random_state=802,\n",
    "             prediction_algorithm='it',\n",
    "             clf_criterion='entropy',\n",
    "             rgr_criterion='mae',\n",
    "             selection_algorithm='random',\n",
    "             nb_targets=1,\n",
    "             nb_iterations=10,\n",
    "             fraction_missing=0.4,\n",
    "             max_depth=15,\n",
    "             regression_max_depth=25)\n",
    "\n",
    "df_train, df_test = default_dataset()\n",
    "test = df_test.copy().values\n",
    "\n",
    "q_code = np.array([0,0,-1,-1,-1,-1,0,1])\n",
    "\n",
    "m.fit(df_train.values)"
   ]
  },
  {
   "cell_type": "code",
   "execution_count": 14,
   "metadata": {},
   "outputs": [
    {
     "name": "stdout",
     "output_type": "stream",
     "text": [
      "\n",
      "    sorted_list:    ['d-01', 'd-06', 'f-99', 'd-07']\n",
      "    \n",
      "\n",
      "[1, 6]\n",
      "Retain indices: [1 2]\n"
     ]
    }
   ],
   "source": [
    "Y = m.predict(test, q_code=q_code)"
   ]
  },
  {
   "cell_type": "code",
   "execution_count": 15,
   "metadata": {},
   "outputs": [
    {
     "data": {
      "image/svg+xml": [
       "<svg height=\"289pt\" viewBox=\"0.00 0.00 132.30 288.59\" width=\"132pt\" xmlns=\"http://www.w3.org/2000/svg\" xmlns:xlink=\"http://www.w3.org/1999/xlink\">\n",
       "<g class=\"graph\" id=\"graph0\" transform=\"scale(1 1) rotate(0) translate(4 284.5905)\">\n",
       "<title>G</title>\n",
       "<polygon fill=\"#ffffff\" points=\"-4,4 -4,-284.5905 128.2953,-284.5905 128.2953,4 -4,4\" stroke=\"transparent\"/>\n",
       "<!-- d&#45;06 -->\n",
       "<g class=\"node\" id=\"node1\">\n",
       "<title>d-06</title>\n",
       "<ellipse cx=\"26.6476\" cy=\"-26.6476\" fill=\"none\" rx=\"26.7961\" ry=\"26.7961\" stroke=\"#000000\"/>\n",
       "<text fill=\"#000000\" font-family=\"Times,serif\" font-size=\"14.00\" text-anchor=\"middle\" x=\"26.6476\" y=\"-22.9476\">d-06</text>\n",
       "</g>\n",
       "<!-- f&#45;99 -->\n",
       "<g class=\"node\" id=\"node4\">\n",
       "<title>f-99</title>\n",
       "<polygon fill=\"none\" points=\"97.6476,-176.2953 25.6476,-176.2953 25.6476,-104.2953 97.6476,-104.2953 97.6476,-176.2953\" stroke=\"#000000\"/>\n",
       "<text fill=\"#000000\" font-family=\"Times,serif\" font-size=\"14.00\" text-anchor=\"middle\" x=\"61.6476\" y=\"-136.5953\">f-99</text>\n",
       "</g>\n",
       "<!-- d&#45;06&#45;&gt;f&#45;99 -->\n",
       "<g class=\"edge\" id=\"edge1\">\n",
       "<title>d-06-&gt;f-99</title>\n",
       "<path d=\"M34.5023,-52.1524C38.3342,-64.5948 43.0634,-79.9508 47.495,-94.3407\" fill=\"none\" stroke=\"#000000\"/>\n",
       "<polygon fill=\"#000000\" points=\"44.2126,-95.5741 50.5009,-104.1009 50.9025,-93.5137 44.2126,-95.5741\" stroke=\"#000000\"/>\n",
       "<text fill=\"#000000\" font-family=\"Times,serif\" font-size=\"14.00\" text-anchor=\"middle\" x=\"57.1476\" y=\"-75.0953\">0.72</text>\n",
       "</g>\n",
       "<!-- d&#45;01 -->\n",
       "<g class=\"node\" id=\"node2\">\n",
       "<title>d-01</title>\n",
       "<ellipse cx=\"97.6476\" cy=\"-26.6476\" fill=\"none\" rx=\"26.7961\" ry=\"26.7961\" stroke=\"#000000\"/>\n",
       "<text fill=\"#000000\" font-family=\"Times,serif\" font-size=\"14.00\" text-anchor=\"middle\" x=\"97.6476\" y=\"-22.9476\">d-01</text>\n",
       "</g>\n",
       "<!-- d&#45;01&#45;&gt;f&#45;99 -->\n",
       "<g class=\"edge\" id=\"edge2\">\n",
       "<title>d-01-&gt;f-99</title>\n",
       "<path d=\"M89.5685,-52.1524C85.6272,-64.5948 80.7629,-79.9508 76.2046,-94.3407\" fill=\"none\" stroke=\"#000000\"/>\n",
       "<polygon fill=\"#000000\" points=\"72.7961,-93.5108 73.1129,-104.1009 79.4693,-95.6247 72.7961,-93.5108\" stroke=\"#000000\"/>\n",
       "<text fill=\"#000000\" font-family=\"Times,serif\" font-size=\"14.00\" text-anchor=\"middle\" x=\"95.1476\" y=\"-75.0953\">0.28</text>\n",
       "</g>\n",
       "<!-- d&#45;07 -->\n",
       "<g class=\"node\" id=\"node3\">\n",
       "<title>d-07</title>\n",
       "<ellipse cx=\"61.6476\" cy=\"-253.9429\" fill=\"none\" rx=\"26.7961\" ry=\"26.7961\" stroke=\"#000000\"/>\n",
       "<text fill=\"#000000\" font-family=\"Times,serif\" font-size=\"14.00\" text-anchor=\"middle\" x=\"61.6476\" y=\"-250.2429\">d-07</text>\n",
       "</g>\n",
       "<!-- f&#45;99&#45;&gt;d&#45;07 -->\n",
       "<g class=\"edge\" id=\"edge3\">\n",
       "<title>f-99-&gt;d-07</title>\n",
       "<path d=\"M61.6476,-176.5666C61.6476,-189.4835 61.6476,-204.038 61.6476,-217.0099\" fill=\"none\" stroke=\"#000000\"/>\n",
       "<polygon fill=\"#000000\" points=\"58.1477,-217.0122 61.6476,-227.0123 65.1477,-217.0123 58.1477,-217.0122\" stroke=\"#000000\"/>\n",
       "<text fill=\"#000000\" font-family=\"Times,serif\" font-size=\"14.00\" text-anchor=\"middle\" x=\"74.1476\" y=\"-198.0953\">0.00</text>\n",
       "</g>\n",
       "</g>\n",
       "</svg>"
      ],
      "text/plain": [
       "<IPython.core.display.SVG object>"
      ]
     },
     "metadata": {},
     "output_type": "display_data"
    }
   ],
   "source": [
    "m.show_q_diagram(fi=True)"
   ]
  },
  {
   "cell_type": "code",
   "execution_count": null,
   "metadata": {},
   "outputs": [],
   "source": []
  },
  {
   "cell_type": "code",
   "execution_count": 4,
   "metadata": {},
   "outputs": [
    {
     "data": {
      "text/plain": [
       "([1, 6], [7])"
      ]
     },
     "execution_count": 4,
     "metadata": {},
     "output_type": "execute_result"
    }
   ],
   "source": [
    "q_compose = m.q_compose\n",
    "q_compose.desc_ids, q_compose.targ_ids"
   ]
  },
  {
   "cell_type": "code",
   "execution_count": 5,
   "metadata": {},
   "outputs": [],
   "source": [
    "cg = model_to_graph(q_compose, idx=99)\n",
    "m.g_list.append(cg)\n",
    "m.m_list.append(q_compose)"
   ]
  },
  {
   "cell_type": "code",
   "execution_count": 6,
   "metadata": {},
   "outputs": [
    {
     "data": {
      "image/svg+xml": [
       "<svg height=\"289pt\" viewBox=\"0.00 0.00 132.30 288.59\" width=\"132pt\" xmlns=\"http://www.w3.org/2000/svg\" xmlns:xlink=\"http://www.w3.org/1999/xlink\">\n",
       "<g class=\"graph\" id=\"graph0\" transform=\"scale(1 1) rotate(0) translate(4 284.5905)\">\n",
       "<title>G</title>\n",
       "<polygon fill=\"#ffffff\" points=\"-4,4 -4,-284.5905 128.2953,-284.5905 128.2953,4 -4,4\" stroke=\"transparent\"/>\n",
       "<!-- d&#45;01 -->\n",
       "<g class=\"node\" id=\"node1\">\n",
       "<title>d-01</title>\n",
       "<ellipse cx=\"26.6476\" cy=\"-26.6476\" fill=\"none\" rx=\"26.7961\" ry=\"26.7961\" stroke=\"#000000\"/>\n",
       "<text fill=\"#000000\" font-family=\"Times,serif\" font-size=\"14.00\" text-anchor=\"middle\" x=\"26.6476\" y=\"-22.9476\">d-01</text>\n",
       "</g>\n",
       "<!-- f&#45;99 -->\n",
       "<g class=\"node\" id=\"node4\">\n",
       "<title>f-99</title>\n",
       "<polygon fill=\"none\" points=\"97.6476,-176.2953 25.6476,-176.2953 25.6476,-104.2953 97.6476,-104.2953 97.6476,-176.2953\" stroke=\"#000000\"/>\n",
       "<text fill=\"#000000\" font-family=\"Times,serif\" font-size=\"14.00\" text-anchor=\"middle\" x=\"61.6476\" y=\"-136.5953\">f-99</text>\n",
       "</g>\n",
       "<!-- d&#45;01&#45;&gt;f&#45;99 -->\n",
       "<g class=\"edge\" id=\"edge1\">\n",
       "<title>d-01-&gt;f-99</title>\n",
       "<path d=\"M34.5023,-52.1524C38.3342,-64.5948 43.0634,-79.9508 47.495,-94.3407\" fill=\"none\" stroke=\"#000000\"/>\n",
       "<polygon fill=\"#000000\" points=\"44.2126,-95.5741 50.5009,-104.1009 50.9025,-93.5137 44.2126,-95.5741\" stroke=\"#000000\"/>\n",
       "<text fill=\"#000000\" font-family=\"Times,serif\" font-size=\"14.00\" text-anchor=\"middle\" x=\"57.1476\" y=\"-75.0953\">0.28</text>\n",
       "</g>\n",
       "<!-- d&#45;06 -->\n",
       "<g class=\"node\" id=\"node2\">\n",
       "<title>d-06</title>\n",
       "<ellipse cx=\"97.6476\" cy=\"-26.6476\" fill=\"none\" rx=\"26.7961\" ry=\"26.7961\" stroke=\"#000000\"/>\n",
       "<text fill=\"#000000\" font-family=\"Times,serif\" font-size=\"14.00\" text-anchor=\"middle\" x=\"97.6476\" y=\"-22.9476\">d-06</text>\n",
       "</g>\n",
       "<!-- d&#45;06&#45;&gt;f&#45;99 -->\n",
       "<g class=\"edge\" id=\"edge2\">\n",
       "<title>d-06-&gt;f-99</title>\n",
       "<path d=\"M89.5685,-52.1524C85.6272,-64.5948 80.7629,-79.9508 76.2046,-94.3407\" fill=\"none\" stroke=\"#000000\"/>\n",
       "<polygon fill=\"#000000\" points=\"72.7961,-93.5108 73.1129,-104.1009 79.4693,-95.6247 72.7961,-93.5108\" stroke=\"#000000\"/>\n",
       "<text fill=\"#000000\" font-family=\"Times,serif\" font-size=\"14.00\" text-anchor=\"middle\" x=\"95.1476\" y=\"-75.0953\">0.72</text>\n",
       "</g>\n",
       "<!-- d&#45;07 -->\n",
       "<g class=\"node\" id=\"node3\">\n",
       "<title>d-07</title>\n",
       "<ellipse cx=\"61.6476\" cy=\"-253.9429\" fill=\"none\" rx=\"26.7961\" ry=\"26.7961\" stroke=\"#000000\"/>\n",
       "<text fill=\"#000000\" font-family=\"Times,serif\" font-size=\"14.00\" text-anchor=\"middle\" x=\"61.6476\" y=\"-250.2429\">d-07</text>\n",
       "</g>\n",
       "<!-- f&#45;99&#45;&gt;d&#45;07 -->\n",
       "<g class=\"edge\" id=\"edge3\">\n",
       "<title>f-99-&gt;d-07</title>\n",
       "<path d=\"M61.6476,-176.5666C61.6476,-189.4835 61.6476,-204.038 61.6476,-217.0099\" fill=\"none\" stroke=\"#000000\"/>\n",
       "<polygon fill=\"#000000\" points=\"58.1477,-217.0122 61.6476,-227.0123 65.1477,-217.0123 58.1477,-217.0122\" stroke=\"#000000\"/>\n",
       "<text fill=\"#000000\" font-family=\"Times,serif\" font-size=\"14.00\" text-anchor=\"middle\" x=\"74.1476\" y=\"-198.0953\">0.00</text>\n",
       "</g>\n",
       "</g>\n",
       "</svg>"
      ],
      "text/plain": [
       "<IPython.core.display.SVG object>"
      ]
     },
     "metadata": {},
     "output_type": "display_data"
    }
   ],
   "source": [
    "show_diagram(m.g_list[-1], fi=True)"
   ]
  },
  {
   "cell_type": "code",
   "execution_count": 7,
   "metadata": {},
   "outputs": [
    {
     "name": "stdout",
     "output_type": "stream",
     "text": [
      "\n",
      "    sorted_list:    ['d-01', 'd-06', 'f-99', 'd-07']\n",
      "    \n",
      "\n",
      "[1, 6]\n",
      "Retain indices: [1 2]\n"
     ]
    }
   ],
   "source": [
    "Y2 = m.predict(df_test.values, q_code=q_code)"
   ]
  },
  {
   "cell_type": "code",
   "execution_count": 8,
   "metadata": {},
   "outputs": [
    {
     "data": {
      "text/plain": [
       "0.0"
      ]
     },
     "execution_count": 8,
     "metadata": {},
     "output_type": "execute_result"
    }
   ],
   "source": [
    "np.sum(Y-Y2)"
   ]
  },
  {
   "cell_type": "code",
   "execution_count": 9,
   "metadata": {},
   "outputs": [
    {
     "data": {
      "image/svg+xml": [
       "<svg height=\"289pt\" viewBox=\"0.00 0.00 132.30 288.59\" width=\"132pt\" xmlns=\"http://www.w3.org/2000/svg\" xmlns:xlink=\"http://www.w3.org/1999/xlink\">\n",
       "<g class=\"graph\" id=\"graph0\" transform=\"scale(1 1) rotate(0) translate(4 284.5905)\">\n",
       "<title>G</title>\n",
       "<polygon fill=\"#ffffff\" points=\"-4,4 -4,-284.5905 128.2953,-284.5905 128.2953,4 -4,4\" stroke=\"transparent\"/>\n",
       "<!-- d&#45;06 -->\n",
       "<g class=\"node\" id=\"node1\">\n",
       "<title>d-06</title>\n",
       "<ellipse cx=\"26.6476\" cy=\"-26.6476\" fill=\"none\" rx=\"26.7961\" ry=\"26.7961\" stroke=\"#000000\"/>\n",
       "<text fill=\"#000000\" font-family=\"Times,serif\" font-size=\"14.00\" text-anchor=\"middle\" x=\"26.6476\" y=\"-22.9476\">d-06</text>\n",
       "</g>\n",
       "<!-- f&#45;99 -->\n",
       "<g class=\"node\" id=\"node4\">\n",
       "<title>f-99</title>\n",
       "<polygon fill=\"none\" points=\"97.6476,-176.2953 25.6476,-176.2953 25.6476,-104.2953 97.6476,-104.2953 97.6476,-176.2953\" stroke=\"#000000\"/>\n",
       "<text fill=\"#000000\" font-family=\"Times,serif\" font-size=\"14.00\" text-anchor=\"middle\" x=\"61.6476\" y=\"-136.5953\">f-99</text>\n",
       "</g>\n",
       "<!-- d&#45;06&#45;&gt;f&#45;99 -->\n",
       "<g class=\"edge\" id=\"edge1\">\n",
       "<title>d-06-&gt;f-99</title>\n",
       "<path d=\"M34.5023,-52.1524C38.3342,-64.5948 43.0634,-79.9508 47.495,-94.3407\" fill=\"none\" stroke=\"#000000\"/>\n",
       "<polygon fill=\"#000000\" points=\"44.2126,-95.5741 50.5009,-104.1009 50.9025,-93.5137 44.2126,-95.5741\" stroke=\"#000000\"/>\n",
       "<text fill=\"#000000\" font-family=\"Times,serif\" font-size=\"14.00\" text-anchor=\"middle\" x=\"57.1476\" y=\"-75.0953\">0.72</text>\n",
       "</g>\n",
       "<!-- d&#45;01 -->\n",
       "<g class=\"node\" id=\"node2\">\n",
       "<title>d-01</title>\n",
       "<ellipse cx=\"97.6476\" cy=\"-26.6476\" fill=\"none\" rx=\"26.7961\" ry=\"26.7961\" stroke=\"#000000\"/>\n",
       "<text fill=\"#000000\" font-family=\"Times,serif\" font-size=\"14.00\" text-anchor=\"middle\" x=\"97.6476\" y=\"-22.9476\">d-01</text>\n",
       "</g>\n",
       "<!-- d&#45;01&#45;&gt;f&#45;99 -->\n",
       "<g class=\"edge\" id=\"edge2\">\n",
       "<title>d-01-&gt;f-99</title>\n",
       "<path d=\"M89.5685,-52.1524C85.6272,-64.5948 80.7629,-79.9508 76.2046,-94.3407\" fill=\"none\" stroke=\"#000000\"/>\n",
       "<polygon fill=\"#000000\" points=\"72.7961,-93.5108 73.1129,-104.1009 79.4693,-95.6247 72.7961,-93.5108\" stroke=\"#000000\"/>\n",
       "<text fill=\"#000000\" font-family=\"Times,serif\" font-size=\"14.00\" text-anchor=\"middle\" x=\"95.1476\" y=\"-75.0953\">0.28</text>\n",
       "</g>\n",
       "<!-- d&#45;07 -->\n",
       "<g class=\"node\" id=\"node3\">\n",
       "<title>d-07</title>\n",
       "<ellipse cx=\"61.6476\" cy=\"-253.9429\" fill=\"none\" rx=\"26.7961\" ry=\"26.7961\" stroke=\"#000000\"/>\n",
       "<text fill=\"#000000\" font-family=\"Times,serif\" font-size=\"14.00\" text-anchor=\"middle\" x=\"61.6476\" y=\"-250.2429\">d-07</text>\n",
       "</g>\n",
       "<!-- f&#45;99&#45;&gt;d&#45;07 -->\n",
       "<g class=\"edge\" id=\"edge3\">\n",
       "<title>f-99-&gt;d-07</title>\n",
       "<path d=\"M61.6476,-176.5666C61.6476,-189.4835 61.6476,-204.038 61.6476,-217.0099\" fill=\"none\" stroke=\"#000000\"/>\n",
       "<polygon fill=\"#000000\" points=\"58.1477,-217.0122 61.6476,-227.0123 65.1477,-217.0123 58.1477,-217.0122\" stroke=\"#000000\"/>\n",
       "<text fill=\"#000000\" font-family=\"Times,serif\" font-size=\"14.00\" text-anchor=\"middle\" x=\"74.1476\" y=\"-198.0953\">0.00</text>\n",
       "</g>\n",
       "</g>\n",
       "</svg>"
      ],
      "text/plain": [
       "<IPython.core.display.SVG object>"
      ]
     },
     "metadata": {},
     "output_type": "display_data"
    }
   ],
   "source": [
    "m.show_q_diagram(fi=True)"
   ]
  },
  {
   "cell_type": "raw",
   "metadata": {},
   "source": [
    "%%timeit\n",
    "Y2 = m.predict(df_test.values, q_code=q_code)\n",
    "print(np.sum(Y-Y2))"
   ]
  },
  {
   "cell_type": "raw",
   "metadata": {},
   "source": [
    "%%timeit\n",
    "Y = m.predict(test, q_code=q_code)"
   ]
  },
  {
   "cell_type": "code",
   "execution_count": null,
   "metadata": {},
   "outputs": [],
   "source": []
  }
 ],
 "metadata": {
  "kernelspec": {
   "display_name": "morpheus",
   "language": "python",
   "name": "morpheus"
  },
  "language_info": {
   "codemirror_mode": {
    "name": "ipython",
    "version": 3
   },
   "file_extension": ".py",
   "mimetype": "text/x-python",
   "name": "python",
   "nbconvert_exporter": "python",
   "pygments_lexer": "ipython3",
   "version": "3.7.3"
  },
  "toc-autonumbering": true,
  "toc-showcode": false
 },
 "nbformat": 4,
 "nbformat_minor": 2
}
