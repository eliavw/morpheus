{
 "cells": [
  {
   "cell_type": "markdown",
   "metadata": {},
   "source": [
    "# Recursion in Morpheus"
   ]
  },
  {
   "cell_type": "markdown",
   "metadata": {},
   "source": [
    "# Preliminaries"
   ]
  },
  {
   "cell_type": "markdown",
   "metadata": {},
   "source": [
    "## Imports"
   ]
  },
  {
   "cell_type": "code",
   "execution_count": 1,
   "metadata": {},
   "outputs": [],
   "source": [
    "import os\n",
    "import sys\n",
    "import numpy as np\n",
    "import pprint\n",
    "\n",
    "\n",
    "from os.path import dirname\n",
    "from networkx.drawing.nx_pydot import to_pydot\n",
    "\n",
    "# Import morpheus\n",
    "note_dir = dirname(os.getcwd())\n",
    "root_dir = dirname(note_dir)\n",
    "src_dir = os.path.join(root_dir, \"src\")\n",
    "\n",
    "sys.path.append(src_dir)\n",
    "\n",
    "import morpheus\n",
    "from morpheus import Morpheus\n",
    "from morpheus.tests import (default_dataset,\n",
    "                            default_m_list_for_mercs,\n",
    "                            random_m_list_for_mercs)\n",
    "\n",
    "from morpheus.algo.inference import get_predict\n",
    "\n",
    "# Visuals\n",
    "from morpheus.graph import to_dot\n",
    "from morpheus.visuals import show_diagram\n",
    "from morpheus.graph.network import *\n",
    "\n",
    "from morpheus.composition import o as ω\n",
    "from morpheus.composition import x as χ\n",
    "\n",
    "# Ipython things\n",
    "from IPython.display import Image, display\n",
    "from IPython.core.display import HTML \n",
    "\n",
    "pp = pprint.PrettyPrinter(indent=4)"
   ]
  },
  {
   "cell_type": "markdown",
   "metadata": {},
   "source": [
    "## Methods"
   ]
  },
  {
   "cell_type": "code",
   "execution_count": null,
   "metadata": {},
   "outputs": [],
   "source": []
  },
  {
   "cell_type": "markdown",
   "metadata": {},
   "source": [
    "## General Variables"
   ]
  },
  {
   "cell_type": "code",
   "execution_count": null,
   "metadata": {},
   "outputs": [],
   "source": []
  },
  {
   "cell_type": "markdown",
   "metadata": {},
   "source": [
    "# Prepare sandbox\n",
    "\n",
    "Train a morpheus on a dataset and extract an interesting composite model."
   ]
  },
  {
   "cell_type": "code",
   "execution_count": 2,
   "metadata": {},
   "outputs": [
    {
     "name": "stdout",
     "output_type": "stream",
     "text": [
      "\n",
      "                We have selected    2 model(s) \n",
      "                at threshold:       0.90\n",
      "                with model ids:     [{'f-34'}, {'f-56'}]\n",
      "                \n",
      "\n",
      "\n",
      "                We have selected    5 model(s) \n",
      "                at threshold:       0.90\n",
      "                with model ids:     [{'f-02'}, {'f-22'}, {'f-33'}, {'f-52'}, {'f-67'}]\n",
      "                \n",
      "\n",
      "AVL DESC: {0, 1, 6}\n",
      "AVL DESC: {0, 1, 3, 4, 6}\n",
      "dict_keys(['d-01', 'd-06'])\n",
      "dict_keys(['d-01', 'd-06', 'f-34', 'd-04'])\n"
     ]
    },
    {
     "data": {
      "image/svg+xml": [
       "<svg height=\"516pt\" viewBox=\"0.00 0.00 189.65 515.89\" width=\"190pt\" xmlns=\"http://www.w3.org/2000/svg\" xmlns:xlink=\"http://www.w3.org/1999/xlink\">\n",
       "<g class=\"graph\" id=\"graph0\" transform=\"scale(1 1) rotate(0) translate(4 511.8858)\">\n",
       "<title>G</title>\n",
       "<polygon fill=\"#ffffff\" points=\"-4,4 -4,-511.8858 185.6476,-511.8858 185.6476,4 -4,4\" stroke=\"transparent\"/>\n",
       "<!-- d&#45;06 -->\n",
       "<g class=\"node\" id=\"node1\">\n",
       "<title>d-06</title>\n",
       "<ellipse cx=\"68\" cy=\"-26.6476\" fill=\"none\" rx=\"26.7961\" ry=\"26.7961\" stroke=\"#000000\"/>\n",
       "<text fill=\"#000000\" font-family=\"Times,serif\" font-size=\"14.00\" text-anchor=\"middle\" x=\"68\" y=\"-22.9476\">d-06</text>\n",
       "</g>\n",
       "<!-- f&#45;34 -->\n",
       "<g class=\"node\" id=\"node3\">\n",
       "<title>f-34</title>\n",
       "<polygon fill=\"none\" points=\"72,-176.2953 0,-176.2953 0,-104.2953 72,-104.2953 72,-176.2953\" stroke=\"#000000\"/>\n",
       "<text fill=\"#000000\" font-family=\"Times,serif\" font-size=\"14.00\" text-anchor=\"middle\" x=\"36\" y=\"-136.5953\">f-34</text>\n",
       "</g>\n",
       "<!-- d&#45;06&#45;&gt;f&#45;34 -->\n",
       "<g class=\"edge\" id=\"edge1\">\n",
       "<title>d-06-&gt;f-34</title>\n",
       "<path d=\"M60.7387,-52.436C57.2328,-64.8873 52.9194,-80.2064 48.8816,-94.5465\" fill=\"none\" stroke=\"#000000\"/>\n",
       "<polygon fill=\"#000000\" points=\"45.4849,-93.6962 46.1435,-104.2706 52.2229,-95.5935 45.4849,-93.6962\" stroke=\"#000000\"/>\n",
       "<text fill=\"#000000\" font-family=\"Times,serif\" font-size=\"14.00\" text-anchor=\"middle\" x=\"67.5\" y=\"-75.0953\">1.00</text>\n",
       "</g>\n",
       "<!-- f&#45;33 -->\n",
       "<g class=\"node\" id=\"node6\">\n",
       "<title>f-33</title>\n",
       "<polygon fill=\"none\" points=\"136,-403.5905 64,-403.5905 64,-331.5905 136,-331.5905 136,-403.5905\" stroke=\"#000000\"/>\n",
       "<text fill=\"#000000\" font-family=\"Times,serif\" font-size=\"14.00\" text-anchor=\"middle\" x=\"100\" y=\"-363.8905\">f-33</text>\n",
       "</g>\n",
       "<!-- d&#45;06&#45;&gt;f&#45;33 -->\n",
       "<g class=\"edge\" id=\"edge2\">\n",
       "<title>d-06-&gt;f-33</title>\n",
       "<path d=\"M78.2767,-51.3144C80.5437,-57.7172 82.6651,-64.6767 84,-71.2953 101.5353,-158.2345 102.7216,-262.2445 101.6179,-321.0445\" fill=\"none\" stroke=\"#000000\"/>\n",
       "<polygon fill=\"#000000\" points=\"98.1168,-321.0593 101.3974,-331.1334 105.1152,-321.2123 98.1168,-321.0593\" stroke=\"#000000\"/>\n",
       "<text fill=\"#000000\" font-family=\"Times,serif\" font-size=\"14.00\" text-anchor=\"middle\" x=\"111.5\" y=\"-198.0953\">0.30</text>\n",
       "</g>\n",
       "<!-- d&#45;04 -->\n",
       "<g class=\"node\" id=\"node2\">\n",
       "<title>d-04</title>\n",
       "<ellipse cx=\"43\" cy=\"-253.9429\" fill=\"none\" rx=\"26.7961\" ry=\"26.7961\" stroke=\"#000000\"/>\n",
       "<text fill=\"#000000\" font-family=\"Times,serif\" font-size=\"14.00\" text-anchor=\"middle\" x=\"43\" y=\"-250.2429\">d-04</text>\n",
       "</g>\n",
       "<!-- d&#45;04&#45;&gt;f&#45;33 -->\n",
       "<g class=\"edge\" id=\"edge3\">\n",
       "<title>d-04-&gt;f-33</title>\n",
       "<path d=\"M48.8996,-280.2002C51.8085,-290.8669 55.8213,-303.1191 61,-313.5905 62.5332,-316.6906 64.2404,-319.8033 66.06,-322.8834\" fill=\"none\" stroke=\"#000000\"/>\n",
       "<polygon fill=\"#000000\" points=\"63.1517,-324.8335 71.4347,-331.4398 69.0793,-321.1101 63.1517,-324.8335\" stroke=\"#000000\"/>\n",
       "<text fill=\"#000000\" font-family=\"Times,serif\" font-size=\"14.00\" text-anchor=\"middle\" x=\"73.5\" y=\"-302.3905\">0.20</text>\n",
       "</g>\n",
       "<!-- f&#45;34&#45;&gt;d&#45;04 -->\n",
       "<g class=\"edge\" id=\"edge4\">\n",
       "<title>f-34-&gt;d-04</title>\n",
       "<path d=\"M38.2341,-176.5666C39.0297,-189.4835 39.9262,-204.038 40.7252,-217.0099\" fill=\"none\" stroke=\"#000000\"/>\n",
       "<polygon fill=\"#000000\" points=\"37.233,-217.2464 41.3412,-227.0123 44.2197,-216.816 37.233,-217.2464\" stroke=\"#000000\"/>\n",
       "<text fill=\"#000000\" font-family=\"Times,serif\" font-size=\"14.00\" text-anchor=\"middle\" x=\"53.5\" y=\"-198.0953\">0.00</text>\n",
       "</g>\n",
       "<!-- d&#45;01 -->\n",
       "<g class=\"node\" id=\"node4\">\n",
       "<title>d-01</title>\n",
       "<ellipse cx=\"155\" cy=\"-253.9429\" fill=\"none\" rx=\"26.7961\" ry=\"26.7961\" stroke=\"#000000\"/>\n",
       "<text fill=\"#000000\" font-family=\"Times,serif\" font-size=\"14.00\" text-anchor=\"middle\" x=\"155\" y=\"-250.2429\">d-01</text>\n",
       "</g>\n",
       "<!-- d&#45;01&#45;&gt;f&#45;33 -->\n",
       "<g class=\"edge\" id=\"edge5\">\n",
       "<title>d-01-&gt;f-33</title>\n",
       "<path d=\"M143.3359,-278.0446C137.121,-290.8866 129.2692,-307.111 121.9617,-322.2107\" fill=\"none\" stroke=\"#000000\"/>\n",
       "<polygon fill=\"#000000\" points=\"118.7073,-320.9007 117.5015,-331.4267 125.0083,-323.9501 118.7073,-320.9007\" stroke=\"#000000\"/>\n",
       "<text fill=\"#000000\" font-family=\"Times,serif\" font-size=\"14.00\" text-anchor=\"middle\" x=\"144.5\" y=\"-302.3905\">0.50</text>\n",
       "</g>\n",
       "<!-- d&#45;07 -->\n",
       "<g class=\"node\" id=\"node5\">\n",
       "<title>d-07</title>\n",
       "<ellipse cx=\"100\" cy=\"-481.2382\" fill=\"none\" rx=\"26.7961\" ry=\"26.7961\" stroke=\"#000000\"/>\n",
       "<text fill=\"#000000\" font-family=\"Times,serif\" font-size=\"14.00\" text-anchor=\"middle\" x=\"100\" y=\"-477.5382\">d-07</text>\n",
       "</g>\n",
       "<!-- f&#45;33&#45;&gt;d&#45;07 -->\n",
       "<g class=\"edge\" id=\"edge6\">\n",
       "<title>f-33-&gt;d-07</title>\n",
       "<path d=\"M100,-403.8618C100,-416.7788 100,-431.3333 100,-444.3052\" fill=\"none\" stroke=\"#000000\"/>\n",
       "<polygon fill=\"#000000\" points=\"96.5001,-444.3075 100,-454.3075 103.5001,-444.3076 96.5001,-444.3075\" stroke=\"#000000\"/>\n",
       "<text fill=\"#000000\" font-family=\"Times,serif\" font-size=\"14.00\" text-anchor=\"middle\" x=\"112.5\" y=\"-425.3905\">0.00</text>\n",
       "</g>\n",
       "</g>\n",
       "</svg>"
      ],
      "text/plain": [
       "<IPython.core.display.SVG object>"
      ]
     },
     "metadata": {},
     "output_type": "display_data"
    }
   ],
   "source": [
    "m = Morpheus(random_state=802,\n",
    "             prediction_algorithm='it',\n",
    "             clf_criterion='entropy',\n",
    "             rgr_criterion='mae',\n",
    "             selection_algorithm='random',\n",
    "             nb_targets=1,\n",
    "             nb_iterations=10,\n",
    "             fraction_missing=0.4,\n",
    "             max_depth=15,\n",
    "             regression_max_depth=25)\n",
    "\n",
    "df_train, df_test = default_dataset()\n",
    "\n",
    "q_code = np.array([0,0,-1,-1,-1,-1,0,1])\n",
    "\n",
    "m.fit(df_train.values)\n",
    "Y = m.predict(df_test.values[:, :], q_code=q_code)\n",
    "m.show_q_diagram(fi=True)"
   ]
  },
  {
   "cell_type": "code",
   "execution_count": 3,
   "metadata": {},
   "outputs": [
    {
     "data": {
      "text/plain": [
       "array([[1.],\n",
       "       [0.],\n",
       "       [1.],\n",
       "       [0.],\n",
       "       [0.],\n",
       "       [0.],\n",
       "       [0.],\n",
       "       [0.],\n",
       "       [0.],\n",
       "       [0.]])"
      ]
     },
     "execution_count": 3,
     "metadata": {},
     "output_type": "execute_result"
    }
   ],
   "source": [
    "Y[:10,:]"
   ]
  },
  {
   "cell_type": "code",
   "execution_count": 4,
   "metadata": {},
   "outputs": [],
   "source": [
    "q_compose = m.q_compose"
   ]
  },
  {
   "cell_type": "code",
   "execution_count": 5,
   "metadata": {},
   "outputs": [
    {
     "data": {
      "text/plain": [
       "['__class__',\n",
       " '__delattr__',\n",
       " '__dict__',\n",
       " '__dir__',\n",
       " '__doc__',\n",
       " '__eq__',\n",
       " '__format__',\n",
       " '__ge__',\n",
       " '__getattribute__',\n",
       " '__gt__',\n",
       " '__hash__',\n",
       " '__init__',\n",
       " '__init_subclass__',\n",
       " '__le__',\n",
       " '__lt__',\n",
       " '__module__',\n",
       " '__ne__',\n",
       " '__new__',\n",
       " '__reduce__',\n",
       " '__reduce_ex__',\n",
       " '__repr__',\n",
       " '__setattr__',\n",
       " '__sizeof__',\n",
       " '__str__',\n",
       " '__subclasshook__',\n",
       " '__weakref__',\n",
       " 'desc_ids',\n",
       " 'extract_feature_importances',\n",
       " 'feature_importances_',\n",
       " 'predict',\n",
       " 'targ_ids']"
      ]
     },
     "execution_count": 5,
     "metadata": {},
     "output_type": "execute_result"
    }
   ],
   "source": [
    "dir(q_compose)"
   ]
  },
  {
   "cell_type": "code",
   "execution_count": 6,
   "metadata": {},
   "outputs": [
    {
     "data": {
      "text/plain": [
       "[1, 6]"
      ]
     },
     "execution_count": 6,
     "metadata": {},
     "output_type": "execute_result"
    }
   ],
   "source": [
    "q_compose.desc_ids"
   ]
  },
  {
   "cell_type": "code",
   "execution_count": 7,
   "metadata": {},
   "outputs": [
    {
     "data": {
      "text/plain": [
       "[7]"
      ]
     },
     "execution_count": 7,
     "metadata": {},
     "output_type": "execute_result"
    }
   ],
   "source": [
    "q_compose.targ_ids"
   ]
  },
  {
   "cell_type": "code",
   "execution_count": 8,
   "metadata": {},
   "outputs": [],
   "source": [
    "cg = model_to_graph(q_compose, idx=99)"
   ]
  },
  {
   "cell_type": "code",
   "execution_count": 9,
   "metadata": {},
   "outputs": [],
   "source": [
    "m.g_list.append(cg)"
   ]
  },
  {
   "cell_type": "code",
   "execution_count": 10,
   "metadata": {},
   "outputs": [],
   "source": [
    "m.m_list.append(q_compose)"
   ]
  },
  {
   "cell_type": "code",
   "execution_count": 11,
   "metadata": {},
   "outputs": [
    {
     "data": {
      "image/svg+xml": [
       "<svg height=\"259pt\" viewBox=\"0.00 0.00 132.30 258.59\" width=\"132pt\" xmlns=\"http://www.w3.org/2000/svg\" xmlns:xlink=\"http://www.w3.org/1999/xlink\">\n",
       "<g class=\"graph\" id=\"graph0\" transform=\"scale(1 1) rotate(0) translate(4 254.5905)\">\n",
       "<title>G</title>\n",
       "<polygon fill=\"#ffffff\" points=\"-4,4 -4,-254.5905 128.2953,-254.5905 128.2953,4 -4,4\" stroke=\"transparent\"/>\n",
       "<!-- d&#45;01 -->\n",
       "<g class=\"node\" id=\"node1\">\n",
       "<title>d-01</title>\n",
       "<ellipse cx=\"26.6476\" cy=\"-26.6476\" fill=\"none\" rx=\"26.7961\" ry=\"26.7961\" stroke=\"#000000\"/>\n",
       "<text fill=\"#000000\" font-family=\"Times,serif\" font-size=\"14.00\" text-anchor=\"middle\" x=\"26.6476\" y=\"-22.9476\">d-01</text>\n",
       "</g>\n",
       "<!-- f&#45;99 -->\n",
       "<g class=\"node\" id=\"node4\">\n",
       "<title>f-99</title>\n",
       "<polygon fill=\"none\" points=\"97.6476,-161.2953 25.6476,-161.2953 25.6476,-89.2953 97.6476,-89.2953 97.6476,-161.2953\" stroke=\"#000000\"/>\n",
       "<text fill=\"#000000\" font-family=\"Times,serif\" font-size=\"14.00\" text-anchor=\"middle\" x=\"61.6476\" y=\"-121.5953\">f-99</text>\n",
       "</g>\n",
       "<!-- d&#45;01&#45;&gt;f&#45;99 -->\n",
       "<g class=\"edge\" id=\"edge1\">\n",
       "<title>d-01-&gt;f-99</title>\n",
       "<path d=\"M35.5702,-51.7958C38.5778,-60.2728 42.0344,-70.0154 45.4267,-79.5764\" fill=\"none\" stroke=\"#000000\"/>\n",
       "<polygon fill=\"#000000\" points=\"42.136,-80.7692 48.7784,-89.0232 48.7331,-78.4285 42.136,-80.7692\" stroke=\"#000000\"/>\n",
       "</g>\n",
       "<!-- d&#45;06 -->\n",
       "<g class=\"node\" id=\"node2\">\n",
       "<title>d-06</title>\n",
       "<ellipse cx=\"97.6476\" cy=\"-26.6476\" fill=\"none\" rx=\"26.7961\" ry=\"26.7961\" stroke=\"#000000\"/>\n",
       "<text fill=\"#000000\" font-family=\"Times,serif\" font-size=\"14.00\" text-anchor=\"middle\" x=\"97.6476\" y=\"-22.9476\">d-06</text>\n",
       "</g>\n",
       "<!-- d&#45;06&#45;&gt;f&#45;99 -->\n",
       "<g class=\"edge\" id=\"edge2\">\n",
       "<title>d-06-&gt;f-99</title>\n",
       "<path d=\"M88.4702,-51.7958C85.3766,-60.2728 81.8212,-70.0154 78.3321,-79.5764\" fill=\"none\" stroke=\"#000000\"/>\n",
       "<polygon fill=\"#000000\" points=\"75.0249,-78.4293 74.8846,-89.0232 81.6008,-80.8291 75.0249,-78.4293\" stroke=\"#000000\"/>\n",
       "</g>\n",
       "<!-- d&#45;07 -->\n",
       "<g class=\"node\" id=\"node3\">\n",
       "<title>d-07</title>\n",
       "<ellipse cx=\"61.6476\" cy=\"-223.9429\" fill=\"none\" rx=\"26.7961\" ry=\"26.7961\" stroke=\"#000000\"/>\n",
       "<text fill=\"#000000\" font-family=\"Times,serif\" font-size=\"14.00\" text-anchor=\"middle\" x=\"61.6476\" y=\"-220.2429\">d-07</text>\n",
       "</g>\n",
       "<!-- f&#45;99&#45;&gt;d&#45;07 -->\n",
       "<g class=\"edge\" id=\"edge3\">\n",
       "<title>f-99-&gt;d-07</title>\n",
       "<path d=\"M61.6476,-161.4679C61.6476,-169.7419 61.6476,-178.5485 61.6476,-186.8601\" fill=\"none\" stroke=\"#000000\"/>\n",
       "<polygon fill=\"#000000\" points=\"58.1477,-187.046 61.6476,-197.0461 65.1477,-187.0461 58.1477,-187.046\" stroke=\"#000000\"/>\n",
       "</g>\n",
       "</g>\n",
       "</svg>"
      ],
      "text/plain": [
       "<IPython.core.display.SVG object>"
      ]
     },
     "metadata": {},
     "output_type": "display_data"
    }
   ],
   "source": [
    "show_diagram(m.g_list[-1])"
   ]
  },
  {
   "cell_type": "code",
   "execution_count": 13,
   "metadata": {},
   "outputs": [
    {
     "name": "stdout",
     "output_type": "stream",
     "text": [
      "\n",
      "                We have selected    3 model(s) \n",
      "                at threshold:       0.90\n",
      "                with model ids:     [{'f-34'}, {'f-56'}, {'f-99'}]\n",
      "                \n",
      "\n",
      "AVL DESC: {0, 1, 6}\n",
      "dict_keys(['d-01', 'd-06'])\n"
     ]
    },
    {
     "data": {
      "image/svg+xml": [
       "<svg height=\"289pt\" viewBox=\"0.00 0.00 132.30 288.59\" width=\"132pt\" xmlns=\"http://www.w3.org/2000/svg\" xmlns:xlink=\"http://www.w3.org/1999/xlink\">\n",
       "<g class=\"graph\" id=\"graph0\" transform=\"scale(1 1) rotate(0) translate(4 284.5905)\">\n",
       "<title>G</title>\n",
       "<polygon fill=\"#ffffff\" points=\"-4,4 -4,-284.5905 128.2953,-284.5905 128.2953,4 -4,4\" stroke=\"transparent\"/>\n",
       "<!-- d&#45;06 -->\n",
       "<g class=\"node\" id=\"node1\">\n",
       "<title>d-06</title>\n",
       "<ellipse cx=\"26.6476\" cy=\"-26.6476\" fill=\"none\" rx=\"26.7961\" ry=\"26.7961\" stroke=\"#000000\"/>\n",
       "<text fill=\"#000000\" font-family=\"Times,serif\" font-size=\"14.00\" text-anchor=\"middle\" x=\"26.6476\" y=\"-22.9476\">d-06</text>\n",
       "</g>\n",
       "<!-- f&#45;99 -->\n",
       "<g class=\"node\" id=\"node4\">\n",
       "<title>f-99</title>\n",
       "<polygon fill=\"none\" points=\"97.6476,-176.2953 25.6476,-176.2953 25.6476,-104.2953 97.6476,-104.2953 97.6476,-176.2953\" stroke=\"#000000\"/>\n",
       "<text fill=\"#000000\" font-family=\"Times,serif\" font-size=\"14.00\" text-anchor=\"middle\" x=\"61.6476\" y=\"-136.5953\">f-99</text>\n",
       "</g>\n",
       "<!-- d&#45;06&#45;&gt;f&#45;99 -->\n",
       "<g class=\"edge\" id=\"edge1\">\n",
       "<title>d-06-&gt;f-99</title>\n",
       "<path d=\"M34.5023,-52.1524C38.3342,-64.5948 43.0634,-79.9508 47.495,-94.3407\" fill=\"none\" stroke=\"#000000\"/>\n",
       "<polygon fill=\"#000000\" points=\"44.2126,-95.5741 50.5009,-104.1009 50.9025,-93.5137 44.2126,-95.5741\" stroke=\"#000000\"/>\n",
       "<text fill=\"#000000\" font-family=\"Times,serif\" font-size=\"14.00\" text-anchor=\"middle\" x=\"57.1476\" y=\"-75.0953\">0.72</text>\n",
       "</g>\n",
       "<!-- d&#45;01 -->\n",
       "<g class=\"node\" id=\"node2\">\n",
       "<title>d-01</title>\n",
       "<ellipse cx=\"97.6476\" cy=\"-26.6476\" fill=\"none\" rx=\"26.7961\" ry=\"26.7961\" stroke=\"#000000\"/>\n",
       "<text fill=\"#000000\" font-family=\"Times,serif\" font-size=\"14.00\" text-anchor=\"middle\" x=\"97.6476\" y=\"-22.9476\">d-01</text>\n",
       "</g>\n",
       "<!-- d&#45;01&#45;&gt;f&#45;99 -->\n",
       "<g class=\"edge\" id=\"edge2\">\n",
       "<title>d-01-&gt;f-99</title>\n",
       "<path d=\"M89.5685,-52.1524C85.6272,-64.5948 80.7629,-79.9508 76.2046,-94.3407\" fill=\"none\" stroke=\"#000000\"/>\n",
       "<polygon fill=\"#000000\" points=\"72.7961,-93.5108 73.1129,-104.1009 79.4693,-95.6247 72.7961,-93.5108\" stroke=\"#000000\"/>\n",
       "<text fill=\"#000000\" font-family=\"Times,serif\" font-size=\"14.00\" text-anchor=\"middle\" x=\"95.1476\" y=\"-75.0953\">0.28</text>\n",
       "</g>\n",
       "<!-- d&#45;07 -->\n",
       "<g class=\"node\" id=\"node3\">\n",
       "<title>d-07</title>\n",
       "<ellipse cx=\"61.6476\" cy=\"-253.9429\" fill=\"none\" rx=\"26.7961\" ry=\"26.7961\" stroke=\"#000000\"/>\n",
       "<text fill=\"#000000\" font-family=\"Times,serif\" font-size=\"14.00\" text-anchor=\"middle\" x=\"61.6476\" y=\"-250.2429\">d-07</text>\n",
       "</g>\n",
       "<!-- f&#45;99&#45;&gt;d&#45;07 -->\n",
       "<g class=\"edge\" id=\"edge3\">\n",
       "<title>f-99-&gt;d-07</title>\n",
       "<path d=\"M61.6476,-176.5666C61.6476,-189.4835 61.6476,-204.038 61.6476,-217.0099\" fill=\"none\" stroke=\"#000000\"/>\n",
       "<polygon fill=\"#000000\" points=\"58.1477,-217.0122 61.6476,-227.0123 65.1477,-217.0123 58.1477,-217.0122\" stroke=\"#000000\"/>\n",
       "<text fill=\"#000000\" font-family=\"Times,serif\" font-size=\"14.00\" text-anchor=\"middle\" x=\"74.1476\" y=\"-198.0953\">0.00</text>\n",
       "</g>\n",
       "</g>\n",
       "</svg>"
      ],
      "text/plain": [
       "<IPython.core.display.SVG object>"
      ]
     },
     "metadata": {},
     "output_type": "display_data"
    }
   ],
   "source": [
    "Y2 = m.predict(df_test.values[:, :], q_code=q_code)\n",
    "m.show_q_diagram(fi=True)"
   ]
  },
  {
   "cell_type": "code",
   "execution_count": null,
   "metadata": {},
   "outputs": [],
   "source": [
    "Y-Y2"
   ]
  }
 ],
 "metadata": {
  "kernelspec": {
   "display_name": "morpheus",
   "language": "python",
   "name": "morpheus"
  },
  "language_info": {
   "codemirror_mode": {
    "name": "ipython",
    "version": 3
   },
   "file_extension": ".py",
   "mimetype": "text/x-python",
   "name": "python",
   "nbconvert_exporter": "python",
   "pygments_lexer": "ipython3",
   "version": "3.7.3"
  },
  "toc-autonumbering": true,
  "toc-showcode": false
 },
 "nbformat": 4,
 "nbformat_minor": 2
}
