{
 "cells": [
  {
   "cell_type": "markdown",
   "metadata": {},
   "source": [
    "# Morpheus Demonstration"
   ]
  },
  {
   "cell_type": "markdown",
   "metadata": {},
   "source": [
    "# Preliminaries"
   ]
  },
  {
   "cell_type": "markdown",
   "metadata": {},
   "source": [
    "## Imports"
   ]
  },
  {
   "cell_type": "code",
   "execution_count": 1,
   "metadata": {},
   "outputs": [],
   "source": [
    "import os\n",
    "import sys\n",
    "import networkx as nx\n",
    "import numpy as np\n",
    "\n",
    "\n",
    "from os.path import dirname\n",
    "from networkx.drawing.nx_pydot import to_pydot\n",
    "\n",
    "# Import morpheus\n",
    "note_dir = dirname(os.getcwd())\n",
    "root_dir = dirname(note_dir)\n",
    "src_dir = os.path.join(root_dir, \"src\")\n",
    "\n",
    "sys.path.append(src_dir)\n",
    "\n",
    "import morpheus\n",
    "from morpheus import Morpheus\n",
    "from morpheus.tests import (\n",
    "    default_dataset,\n",
    "    default_m_list_for_mercs,\n",
    "    random_m_list_for_mercs,\n",
    ")\n",
    "\n",
    "# Visuals\n",
    "from morpheus.graph import to_dot\n",
    "\n",
    "# Ipython things\n",
    "from IPython.display import Image, display, SVG\n",
    "from IPython.core.display import HTML\n",
    "\n",
    "import matplotlib as mpl\n",
    "import matplotlib.pyplot as plt"
   ]
  },
  {
   "cell_type": "markdown",
   "metadata": {},
   "source": [
    "## Methods"
   ]
  },
  {
   "cell_type": "code",
   "execution_count": 2,
   "metadata": {},
   "outputs": [],
   "source": [
    "def to_dot(g, dname='tmp', fname='test', extension='.dot', return_fname=False, ortho=False, fi_labels=False):\n",
    "    \"\"\"\n",
    "    Convert a graph to a dot file.\n",
    "    \"\"\"\n",
    "    \n",
    "    # Layout\n",
    "    if fi_labels:\n",
    "        for e in g.edges():\n",
    "            g.edges()[e]['label'] = \"{0:.2f}\".format(g.edges()[e].get('fi', 0))\n",
    "    \n",
    "    dot = nx.drawing.nx_pydot.to_pydot(g)\n",
    "    dot.set('rankdir', 'BT')\n",
    "    \n",
    "    if ortho:\n",
    "        dot.set('splines', 'ortho')\n",
    "    \n",
    "    # To file\n",
    "    full_fname = os.path.join(dname, fname+extension)\n",
    "    \n",
    "    with open(full_fname, \"w\") as f:\n",
    "        print(dot.to_string(), file=f)\n",
    "    \n",
    "    if return_fname:\n",
    "        return full_fname\n",
    "    else:\n",
    "        return"
   ]
  },
  {
   "cell_type": "markdown",
   "metadata": {},
   "source": [
    "## General Constants"
   ]
  },
  {
   "cell_type": "code",
   "execution_count": 3,
   "metadata": {},
   "outputs": [],
   "source": [
    "random_state=800"
   ]
  },
  {
   "cell_type": "markdown",
   "metadata": {},
   "source": [
    "# Initialize"
   ]
  },
  {
   "cell_type": "code",
   "execution_count": 4,
   "metadata": {},
   "outputs": [],
   "source": [
    "m = Morpheus(random_state=random_state,\n",
    "             prediction_algorithm='mi',\n",
    "             clf_criterion='entropy',\n",
    "             rgr_criterion='mae',\n",
    "             selection_algorithm='random',\n",
    "             nb_iterations=3,\n",
    "             fraction_missing=0.5,\n",
    "             max_depth=15,\n",
    "             regression_max_depth=25)"
   ]
  },
  {
   "cell_type": "markdown",
   "metadata": {},
   "source": [
    "## Inspection\n",
    "\n",
    "Let us investigate what is now in such a Morpheus model."
   ]
  },
  {
   "cell_type": "code",
   "execution_count": 5,
   "metadata": {},
   "outputs": [
    {
     "data": {
      "text/plain": [
       "{'selection': {'nb_targets': 1,\n",
       "  'nb_iterations': 3,\n",
       "  'fraction_missing': 0.5,\n",
       "  'random_state': 800},\n",
       " 'classification': {'criterion': 'entropy',\n",
       "  'splitter': 'best',\n",
       "  'max_depth': 15,\n",
       "  'min_samples_split': 2,\n",
       "  'min_samples_leaf': 1,\n",
       "  'min_weight_fraction_leaf': 0.0,\n",
       "  'max_features': None,\n",
       "  'random_state': 800,\n",
       "  'max_leaf_nodes': None,\n",
       "  'min_impurity_decrease': 0.0,\n",
       "  'min_impurity_split': None,\n",
       "  'class_weight': None,\n",
       "  'presort': False},\n",
       " 'regression': {'criterion': 'mae',\n",
       "  'splitter': 'best',\n",
       "  'max_depth': 25,\n",
       "  'min_samples_split': 2,\n",
       "  'min_samples_leaf': 1,\n",
       "  'min_weight_fraction_leaf': 0.0,\n",
       "  'max_features': None,\n",
       "  'random_state': 800,\n",
       "  'max_leaf_nodes': None,\n",
       "  'min_impurity_decrease': 0.0,\n",
       "  'min_impurity_split': None,\n",
       "  'presort': False},\n",
       " 'prediction': {'random_state': 800},\n",
       " 'inference': {}}"
      ]
     },
     "execution_count": 5,
     "metadata": {},
     "output_type": "execute_result"
    }
   ],
   "source": [
    "m.configuration"
   ]
  },
  {
   "cell_type": "markdown",
   "metadata": {},
   "source": [
    "# Training"
   ]
  },
  {
   "cell_type": "code",
   "execution_count": 6,
   "metadata": {},
   "outputs": [
    {
     "data": {
      "text/html": [
       "<div>\n",
       "<style scoped>\n",
       "    .dataframe tbody tr th:only-of-type {\n",
       "        vertical-align: middle;\n",
       "    }\n",
       "\n",
       "    .dataframe tbody tr th {\n",
       "        vertical-align: top;\n",
       "    }\n",
       "\n",
       "    .dataframe thead th {\n",
       "        text-align: right;\n",
       "    }\n",
       "</style>\n",
       "<table border=\"1\" class=\"dataframe\">\n",
       "  <thead>\n",
       "    <tr style=\"text-align: right;\">\n",
       "      <th></th>\n",
       "      <th>0</th>\n",
       "      <th>1</th>\n",
       "      <th>2</th>\n",
       "      <th>3</th>\n",
       "      <th>4</th>\n",
       "      <th>5</th>\n",
       "      <th>6</th>\n",
       "      <th>y</th>\n",
       "    </tr>\n",
       "  </thead>\n",
       "  <tbody>\n",
       "    <tr>\n",
       "      <th>0</th>\n",
       "      <td>0.157326</td>\n",
       "      <td>-1.139498</td>\n",
       "      <td>-3.413978</td>\n",
       "      <td>0.450054</td>\n",
       "      <td>0.955829</td>\n",
       "      <td>0.131576</td>\n",
       "      <td>-0.421599</td>\n",
       "      <td>0</td>\n",
       "    </tr>\n",
       "    <tr>\n",
       "      <th>1</th>\n",
       "      <td>-2.415292</td>\n",
       "      <td>-3.886052</td>\n",
       "      <td>-0.958055</td>\n",
       "      <td>0.320644</td>\n",
       "      <td>0.583524</td>\n",
       "      <td>0.346293</td>\n",
       "      <td>0.162183</td>\n",
       "      <td>1</td>\n",
       "    </tr>\n",
       "    <tr>\n",
       "      <th>2</th>\n",
       "      <td>-2.182962</td>\n",
       "      <td>-2.658076</td>\n",
       "      <td>-3.260118</td>\n",
       "      <td>0.603738</td>\n",
       "      <td>-0.094709</td>\n",
       "      <td>-0.884652</td>\n",
       "      <td>1.249092</td>\n",
       "      <td>1</td>\n",
       "    </tr>\n",
       "    <tr>\n",
       "      <th>3</th>\n",
       "      <td>-0.693264</td>\n",
       "      <td>4.014894</td>\n",
       "      <td>2.754989</td>\n",
       "      <td>5.113562</td>\n",
       "      <td>4.314176</td>\n",
       "      <td>2.977437</td>\n",
       "      <td>-0.004439</td>\n",
       "      <td>1</td>\n",
       "    </tr>\n",
       "    <tr>\n",
       "      <th>4</th>\n",
       "      <td>-0.449253</td>\n",
       "      <td>1.783561</td>\n",
       "      <td>-0.830222</td>\n",
       "      <td>1.902207</td>\n",
       "      <td>1.374010</td>\n",
       "      <td>2.174907</td>\n",
       "      <td>3.159475</td>\n",
       "      <td>1</td>\n",
       "    </tr>\n",
       "  </tbody>\n",
       "</table>\n",
       "</div>"
      ],
      "text/plain": [
       "          0         1         2         3         4         5         6  y\n",
       "0  0.157326 -1.139498 -3.413978  0.450054  0.955829  0.131576 -0.421599  0\n",
       "1 -2.415292 -3.886052 -0.958055  0.320644  0.583524  0.346293  0.162183  1\n",
       "2 -2.182962 -2.658076 -3.260118  0.603738 -0.094709 -0.884652  1.249092  1\n",
       "3 -0.693264  4.014894  2.754989  5.113562  4.314176  2.977437 -0.004439  1\n",
       "4 -0.449253  1.783561 -0.830222  1.902207  1.374010  2.174907  3.159475  1"
      ]
     },
     "execution_count": 6,
     "metadata": {},
     "output_type": "execute_result"
    }
   ],
   "source": [
    "df_train, df_test = default_dataset()\n",
    "df_train.head()"
   ]
  },
  {
   "cell_type": "code",
   "execution_count": 7,
   "metadata": {},
   "outputs": [],
   "source": [
    "X = df_train.values"
   ]
  },
  {
   "cell_type": "code",
   "execution_count": 8,
   "metadata": {},
   "outputs": [
    {
     "data": {
      "text/plain": [
       "(800, 8)"
      ]
     },
     "execution_count": 8,
     "metadata": {},
     "output_type": "execute_result"
    }
   ],
   "source": [
    "X.shape"
   ]
  },
  {
   "cell_type": "code",
   "execution_count": 9,
   "metadata": {},
   "outputs": [],
   "source": [
    "m.fit(X)"
   ]
  },
  {
   "cell_type": "code",
   "execution_count": 10,
   "metadata": {},
   "outputs": [
    {
     "data": {
      "text/plain": [
       "array([[-1., -1.,  0., -1., -1.,  1., -1., -1.],\n",
       "       [ 0.,  0.,  0.,  0., -1.,  0.,  1., -1.],\n",
       "       [-1.,  1., -1., -1.,  0., -1.,  0.,  0.],\n",
       "       [ 0.,  0.,  0.,  0., -1., -1., -1.,  1.],\n",
       "       [-1.,  0., -1., -1.,  1.,  0., -1., -1.],\n",
       "       [ 0., -1.,  1., -1., -1., -1.,  0., -1.],\n",
       "       [ 0.,  0.,  0.,  1.,  0., -1., -1., -1.],\n",
       "       [ 1.,  0.,  0.,  0.,  0., -1.,  0., -1.],\n",
       "       [-1.,  0.,  0., -1.,  0., -1., -1.,  1.],\n",
       "       [ 1., -1., -1.,  0.,  0.,  0., -1., -1.],\n",
       "       [-1.,  0., -1.,  1., -1.,  0.,  0.,  0.],\n",
       "       [ 0.,  0., -1., -1.,  1., -1.,  0., -1.],\n",
       "       [ 0.,  0.,  1.,  0.,  0., -1., -1., -1.],\n",
       "       [-1.,  0.,  0., -1.,  0.,  1.,  0., -1.],\n",
       "       [-1., -1., -1.,  0.,  0.,  0.,  1.,  0.],\n",
       "       [ 0.,  1.,  0.,  0.,  0.,  0.,  0.,  0.],\n",
       "       [ 0., -1., -1., -1., -1.,  0.,  1., -1.],\n",
       "       [ 1., -1.,  0., -1.,  0.,  0.,  0.,  0.],\n",
       "       [-1.,  0., -1., -1.,  1., -1.,  0., -1.],\n",
       "       [-1.,  0.,  0.,  0.,  0.,  1.,  0.,  0.],\n",
       "       [-1.,  0.,  0.,  1., -1., -1., -1., -1.],\n",
       "       [-1.,  0.,  1.,  0., -1., -1., -1.,  0.],\n",
       "       [ 0.,  1.,  0., -1.,  0.,  0., -1., -1.],\n",
       "       [ 0., -1.,  0., -1.,  0.,  0.,  0.,  1.]])"
      ]
     },
     "execution_count": 10,
     "metadata": {},
     "output_type": "execute_result"
    }
   ],
   "source": [
    "m.m_codes"
   ]
  },
  {
   "cell_type": "code",
   "execution_count": 11,
   "metadata": {},
   "outputs": [
    {
     "data": {
      "text/plain": [
       "[DecisionTreeRegressor(criterion='mae', max_depth=25, max_features=None,\n",
       "                       max_leaf_nodes=None, min_impurity_decrease=0.0,\n",
       "                       min_impurity_split=None, min_samples_leaf=1,\n",
       "                       min_samples_split=2, min_weight_fraction_leaf=0.0,\n",
       "                       presort=False, random_state=800, splitter='best'),\n",
       " DecisionTreeRegressor(criterion='mae', max_depth=25, max_features=None,\n",
       "                       max_leaf_nodes=None, min_impurity_decrease=0.0,\n",
       "                       min_impurity_split=None, min_samples_leaf=1,\n",
       "                       min_samples_split=2, min_weight_fraction_leaf=0.0,\n",
       "                       presort=False, random_state=800, splitter='best')]"
      ]
     },
     "execution_count": 11,
     "metadata": {},
     "output_type": "execute_result"
    }
   ],
   "source": [
    "m.m_list[4:6]"
   ]
  },
  {
   "cell_type": "code",
   "execution_count": 12,
   "metadata": {},
   "outputs": [
    {
     "data": {
      "text/plain": [
       "{'attributes': {0, 1, 2, 3, 4, 5, 6, 7},\n",
       " 'n_attributes': 8,\n",
       " 'types': [dtype('float64'),\n",
       "  dtype('float64'),\n",
       "  dtype('float64'),\n",
       "  dtype('float64'),\n",
       "  dtype('float64'),\n",
       "  dtype('float64'),\n",
       "  dtype('float64'),\n",
       "  dtype('float64')],\n",
       " 'nominal_attributes': set(),\n",
       " 'numeric_attributes': {0, 1, 2, 3, 4, 5, 6, 7}}"
      ]
     },
     "execution_count": 12,
     "metadata": {},
     "output_type": "execute_result"
    }
   ],
   "source": [
    "m.metadata"
   ]
  },
  {
   "cell_type": "code",
   "execution_count": 13,
   "metadata": {},
   "outputs": [],
   "source": [
    "m.fit(X, nominal_attributes={7})"
   ]
  },
  {
   "cell_type": "code",
   "execution_count": 14,
   "metadata": {},
   "outputs": [
    {
     "data": {
      "text/plain": [
       "{'attributes': {0, 1, 2, 3, 4, 5, 6, 7},\n",
       " 'n_attributes': 8,\n",
       " 'types': [dtype('float64'),\n",
       "  dtype('float64'),\n",
       "  dtype('float64'),\n",
       "  dtype('float64'),\n",
       "  dtype('float64'),\n",
       "  dtype('float64'),\n",
       "  dtype('float64'),\n",
       "  dtype('float64')],\n",
       " 'nominal_attributes': {7},\n",
       " 'numeric_attributes': {0, 1, 2, 3, 4, 5, 6}}"
      ]
     },
     "execution_count": 14,
     "metadata": {},
     "output_type": "execute_result"
    }
   ],
   "source": [
    "m.metadata"
   ]
  },
  {
   "cell_type": "markdown",
   "metadata": {},
   "source": [
    "# Basic Prediction"
   ]
  },
  {
   "cell_type": "code",
   "execution_count": 15,
   "metadata": {},
   "outputs": [],
   "source": [
    "X = df_test.values"
   ]
  },
  {
   "cell_type": "code",
   "execution_count": 16,
   "metadata": {},
   "outputs": [
    {
     "name": "stdout",
     "output_type": "stream",
     "text": [
      "dict_keys(['d-06', 'd-05', 'd-04', 'd-03', 'd-02', 'd-01'])\n",
      "dict_keys(['d-06', 'd-05', 'd-04', 'd-03', 'd-02', 'd-01', 'f-08', 'd-00'])\n",
      "dict_keys(['d-06', 'd-05', 'd-04', 'd-03', 'd-02', 'd-01', 'f-08', 'd-00', 'f-23'])\n"
     ]
    }
   ],
   "source": [
    "m.predict(X)"
   ]
  },
  {
   "cell_type": "code",
   "execution_count": 17,
   "metadata": {},
   "outputs": [
    {
     "data": {
      "image/svg+xml": [
       "<svg height=\"341pt\" viewBox=\"0.00 0.00 487.30 340.59\" width=\"487pt\" xmlns=\"http://www.w3.org/2000/svg\" xmlns:xlink=\"http://www.w3.org/1999/xlink\">\n",
       "<g class=\"graph\" id=\"graph0\" transform=\"scale(1 1) rotate(0) translate(4 336.591)\">\n",
       "<title>G</title>\n",
       "<polygon fill=\"white\" points=\"-4,4 -4,-336.591 483.295,-336.591 483.295,4 -4,4\" stroke=\"none\"/>\n",
       "<!-- d&#45;00 -->\n",
       "<g class=\"node\" id=\"node1\"><title>d-00</title>\n",
       "<ellipse cx=\"239.648\" cy=\"-26.6476\" fill=\"none\" rx=\"26.7961\" ry=\"26.7961\" stroke=\"black\"/>\n",
       "<text font-family=\"Times,serif\" font-size=\"14.00\" text-anchor=\"middle\" x=\"239.648\" y=\"-22.9476\">d-00</text>\n",
       "</g>\n",
       "<!-- f&#45;03 -->\n",
       "<g class=\"node\" id=\"node5\"><title>f-03</title>\n",
       "<polygon fill=\"none\" points=\"141.648,-161.295 69.6476,-161.295 69.6476,-89.2953 141.648,-89.2953 141.648,-161.295\" stroke=\"black\"/>\n",
       "<text font-family=\"Times,serif\" font-size=\"14.00\" text-anchor=\"middle\" x=\"105.648\" y=\"-121.595\">f-03</text>\n",
       "</g>\n",
       "<!-- d&#45;00&#45;&gt;f&#45;03 -->\n",
       "<g class=\"edge\" id=\"edge1\"><title>d-00-&gt;f-03</title>\n",
       "<path d=\"M218.658,-43.2614C214.068,-46.6102 209.216,-50.1009 204.648,-53.2953 181.009,-69.824 174.047,-72.4296 150.648,-89.2953 150.467,-89.4255 150.286,-89.5561 150.105,-89.6871\" fill=\"none\" stroke=\"black\"/>\n",
       "<polygon fill=\"black\" points=\"147.796,-87.0412 141.824,-95.7928 151.95,-92.6752 147.796,-87.0412\" stroke=\"black\"/>\n",
       "</g>\n",
       "<!-- f&#45;23 -->\n",
       "<g class=\"node\" id=\"node10\"><title>f-23</title>\n",
       "<polygon fill=\"none\" points=\"337.648,-161.295 265.648,-161.295 265.648,-89.2953 337.648,-89.2953 337.648,-161.295\" stroke=\"black\"/>\n",
       "<text font-family=\"Times,serif\" font-size=\"14.00\" text-anchor=\"middle\" x=\"301.648\" y=\"-121.595\">f-23</text>\n",
       "</g>\n",
       "<!-- d&#45;00&#45;&gt;f&#45;23 -->\n",
       "<g class=\"edge\" id=\"edge2\"><title>d-00-&gt;f-23</title>\n",
       "<path d=\"M253.716,-49.5785C259.637,-58.8071 266.745,-69.8882 273.653,-80.6561\" fill=\"none\" stroke=\"black\"/>\n",
       "<polygon fill=\"black\" points=\"270.778,-82.6562 279.123,-89.1833 276.669,-78.8765 270.778,-82.6562\" stroke=\"black\"/>\n",
       "</g>\n",
       "<!-- d&#45;01 -->\n",
       "<g class=\"node\" id=\"node2\"><title>d-01</title>\n",
       "<ellipse cx=\"97.6476\" cy=\"-26.6476\" fill=\"none\" rx=\"26.7961\" ry=\"26.7961\" stroke=\"black\"/>\n",
       "<text font-family=\"Times,serif\" font-size=\"14.00\" text-anchor=\"middle\" x=\"97.6476\" y=\"-22.9476\">d-01</text>\n",
       "</g>\n",
       "<!-- d&#45;01&#45;&gt;f&#45;03 -->\n",
       "<g class=\"edge\" id=\"edge3\"><title>d-01-&gt;f-03</title>\n",
       "<path d=\"M99.7705,-53.2937C100.423,-61.1718 101.161,-70.0898 101.888,-78.8791\" fill=\"none\" stroke=\"black\"/>\n",
       "<polygon fill=\"black\" points=\"98.4186,-79.3907 102.732,-89.0679 105.395,-78.8132 98.4186,-79.3907\" stroke=\"black\"/>\n",
       "</g>\n",
       "<!-- f&#45;08 -->\n",
       "<g class=\"node\" id=\"node7\"><title>f-08</title>\n",
       "<polygon fill=\"none\" points=\"231.648,-161.295 159.648,-161.295 159.648,-89.2953 231.648,-89.2953 231.648,-161.295\" stroke=\"black\"/>\n",
       "<text font-family=\"Times,serif\" font-size=\"14.00\" text-anchor=\"middle\" x=\"195.648\" y=\"-121.595\">f-08</text>\n",
       "</g>\n",
       "<!-- d&#45;01&#45;&gt;f&#45;08 -->\n",
       "<g class=\"edge\" id=\"edge4\"><title>d-01-&gt;f-08</title>\n",
       "<path d=\"M116.543,-46.2823C126.865,-56.4618 140.097,-69.511 152.773,-82.0123\" fill=\"none\" stroke=\"black\"/>\n",
       "<polygon fill=\"black\" points=\"150.568,-84.7539 160.146,-89.2837 155.484,-79.7699 150.568,-84.7539\" stroke=\"black\"/>\n",
       "</g>\n",
       "<!-- d&#45;02 -->\n",
       "<g class=\"node\" id=\"node3\"><title>d-02</title>\n",
       "<ellipse cx=\"168.648\" cy=\"-26.6476\" fill=\"none\" rx=\"26.7961\" ry=\"26.7961\" stroke=\"black\"/>\n",
       "<text font-family=\"Times,serif\" font-size=\"14.00\" text-anchor=\"middle\" x=\"168.648\" y=\"-22.9476\">d-02</text>\n",
       "</g>\n",
       "<!-- d&#45;02&#45;&gt;f&#45;03 -->\n",
       "<g class=\"edge\" id=\"edge5\"><title>d-02-&gt;f-03</title>\n",
       "<path d=\"M154.352,-49.5785C148.336,-58.8071 141.113,-69.8882 134.094,-80.6561\" fill=\"none\" stroke=\"black\"/>\n",
       "<polygon fill=\"black\" points=\"131.064,-78.8946 128.535,-89.1833 136.928,-82.7172 131.064,-78.8946\" stroke=\"black\"/>\n",
       "</g>\n",
       "<!-- d&#45;02&#45;&gt;f&#45;08 -->\n",
       "<g class=\"edge\" id=\"edge6\"><title>d-02-&gt;f-08</title>\n",
       "<path d=\"M175.601,-52.5368C177.896,-60.7515 180.524,-70.1583 183.105,-79.3972\" fill=\"none\" stroke=\"black\"/>\n",
       "<polygon fill=\"black\" points=\"179.807,-80.6028 185.869,-89.2922 186.549,-78.7193 179.807,-80.6028\" stroke=\"black\"/>\n",
       "</g>\n",
       "<!-- d&#45;02&#45;&gt;f&#45;23 -->\n",
       "<g class=\"edge\" id=\"edge7\"><title>d-02-&gt;f-23</title>\n",
       "<path d=\"M189.733,-43.1274C194.317,-46.4845 199.142,-50.0125 203.648,-53.2953 220.999,-65.9384 240.114,-79.8009 256.818,-91.8948\" fill=\"none\" stroke=\"black\"/>\n",
       "<polygon fill=\"black\" points=\"255.159,-95.0144 265.312,-98.0421 259.263,-89.3437 255.159,-95.0144\" stroke=\"black\"/>\n",
       "</g>\n",
       "<!-- d&#45;03 -->\n",
       "<g class=\"node\" id=\"node4\"><title>d-03</title>\n",
       "<ellipse cx=\"26.6476\" cy=\"-26.6476\" fill=\"none\" rx=\"26.7961\" ry=\"26.7961\" stroke=\"black\"/>\n",
       "<text font-family=\"Times,serif\" font-size=\"14.00\" text-anchor=\"middle\" x=\"26.6476\" y=\"-22.9476\">d-03</text>\n",
       "</g>\n",
       "<!-- d&#45;03&#45;&gt;f&#45;03 -->\n",
       "<g class=\"edge\" id=\"edge8\"><title>d-03-&gt;f-03</title>\n",
       "<path d=\"M43.4015,-48.1441C51.2767,-57.7786 60.9818,-69.6517 70.3657,-81.1318\" fill=\"none\" stroke=\"black\"/>\n",
       "<polygon fill=\"black\" points=\"67.7458,-83.457 76.7845,-88.9844 73.1656,-79.0268 67.7458,-83.457\" stroke=\"black\"/>\n",
       "</g>\n",
       "<!-- M(d&#45;07) -->\n",
       "<g class=\"node\" id=\"node11\"><title>M(d-07)</title>\n",
       "<polygon fill=\"none\" points=\"195.648,-243.295 113.862,-208.795 277.433,-208.795 195.648,-243.295\" stroke=\"black\"/>\n",
       "<text font-family=\"Times,serif\" font-size=\"14.00\" text-anchor=\"middle\" x=\"195.648\" y=\"-216.595\">M(d-07)</text>\n",
       "</g>\n",
       "<!-- f&#45;03&#45;&gt;M(d&#45;07) -->\n",
       "<g class=\"edge\" id=\"edge9\"><title>f-03-&gt;M(d-07)</title>\n",
       "<path d=\"M139.673,-161.455C152.811,-175.031 167.279,-189.981 178.214,-201.28\" fill=\"none\" stroke=\"black\"/>\n",
       "<polygon fill=\"black\" points=\"176.013,-204.039 185.482,-208.791 181.043,-199.171 176.013,-204.039\" stroke=\"black\"/>\n",
       "</g>\n",
       "<!-- d&#45;04 -->\n",
       "<g class=\"node\" id=\"node6\"><title>d-04</title>\n",
       "<ellipse cx=\"310.648\" cy=\"-26.6476\" fill=\"none\" rx=\"26.7961\" ry=\"26.7961\" stroke=\"black\"/>\n",
       "<text font-family=\"Times,serif\" font-size=\"14.00\" text-anchor=\"middle\" x=\"310.648\" y=\"-22.9476\">d-04</text>\n",
       "</g>\n",
       "<!-- d&#45;04&#45;&gt;f&#45;08 -->\n",
       "<g class=\"edge\" id=\"edge10\"><title>d-04-&gt;f-08</title>\n",
       "<path d=\"M290.616,-44.4824C276.553,-56.3011 257.194,-72.5707 239.622,-87.3388\" fill=\"none\" stroke=\"black\"/>\n",
       "<polygon fill=\"black\" points=\"237.103,-84.8838 231.699,-93.9971 241.606,-90.2427 237.103,-84.8838\" stroke=\"black\"/>\n",
       "</g>\n",
       "<!-- d&#45;04&#45;&gt;f&#45;23 -->\n",
       "<g class=\"edge\" id=\"edge11\"><title>d-04-&gt;f-23</title>\n",
       "<path d=\"M308.259,-53.2937C307.526,-61.1718 306.695,-70.0898 305.877,-78.8791\" fill=\"none\" stroke=\"black\"/>\n",
       "<polygon fill=\"black\" points=\"302.37,-78.7864 304.928,-89.0679 309.34,-79.4355 302.37,-78.7864\" stroke=\"black\"/>\n",
       "</g>\n",
       "<!-- f&#45;08&#45;&gt;M(d&#45;07) -->\n",
       "<g class=\"edge\" id=\"edge12\"><title>f-08-&gt;M(d-07)</title>\n",
       "<path d=\"M195.648,-161.455C195.648,-173.976 195.648,-187.667 195.648,-198.584\" fill=\"none\" stroke=\"black\"/>\n",
       "<polygon fill=\"black\" points=\"192.148,-198.791 195.648,-208.791 199.148,-198.791 192.148,-198.791\" stroke=\"black\"/>\n",
       "</g>\n",
       "<!-- d&#45;05 -->\n",
       "<g class=\"node\" id=\"node8\"><title>d-05</title>\n",
       "<ellipse cx=\"452.648\" cy=\"-26.6476\" fill=\"none\" rx=\"26.7961\" ry=\"26.7961\" stroke=\"black\"/>\n",
       "<text font-family=\"Times,serif\" font-size=\"14.00\" text-anchor=\"middle\" x=\"452.648\" y=\"-22.9476\">d-05</text>\n",
       "</g>\n",
       "<!-- d&#45;05&#45;&gt;f&#45;23 -->\n",
       "<g class=\"edge\" id=\"edge13\"><title>d-05-&gt;f-23</title>\n",
       "<path d=\"M431.75,-43.3966C427.155,-46.7369 422.277,-50.19 417.648,-53.2953 394.553,-68.7857 368.157,-85.0504 346.385,-98.0983\" fill=\"none\" stroke=\"black\"/>\n",
       "<polygon fill=\"black\" points=\"344.464,-95.1686 337.67,-103.298 348.051,-101.18 344.464,-95.1686\" stroke=\"black\"/>\n",
       "</g>\n",
       "<!-- d&#45;06 -->\n",
       "<g class=\"node\" id=\"node9\"><title>d-06</title>\n",
       "<ellipse cx=\"381.648\" cy=\"-26.6476\" fill=\"none\" rx=\"26.7961\" ry=\"26.7961\" stroke=\"black\"/>\n",
       "<text font-family=\"Times,serif\" font-size=\"14.00\" text-anchor=\"middle\" x=\"381.648\" y=\"-22.9476\">d-06</text>\n",
       "</g>\n",
       "<!-- d&#45;06&#45;&gt;f&#45;23 -->\n",
       "<g class=\"edge\" id=\"edge14\"><title>d-06-&gt;f-23</title>\n",
       "<path d=\"M365.072,-47.6731C357.04,-57.3766 347.062,-69.4305 337.416,-81.0834\" fill=\"none\" stroke=\"black\"/>\n",
       "<polygon fill=\"black\" points=\"334.5,-79.1178 330.819,-89.0529 339.892,-83.5813 334.5,-79.1178\" stroke=\"black\"/>\n",
       "</g>\n",
       "<!-- f&#45;23&#45;&gt;M(d&#45;07) -->\n",
       "<g class=\"edge\" id=\"edge15\"><title>f-23-&gt;M(d-07)</title>\n",
       "<path d=\"M265.465,-158.04C248.72,-172.732 229.476,-189.616 215.438,-201.932\" fill=\"none\" stroke=\"black\"/>\n",
       "<polygon fill=\"black\" points=\"213.041,-199.379 207.832,-208.605 217.658,-204.641 213.041,-199.379\" stroke=\"black\"/>\n",
       "</g>\n",
       "<!-- d&#45;07 -->\n",
       "<g class=\"node\" id=\"node12\"><title>d-07</title>\n",
       "<ellipse cx=\"195.648\" cy=\"-305.943\" fill=\"none\" rx=\"26.7961\" ry=\"26.7961\" stroke=\"black\"/>\n",
       "<text font-family=\"Times,serif\" font-size=\"14.00\" text-anchor=\"middle\" x=\"195.648\" y=\"-302.243\">d-07</text>\n",
       "</g>\n",
       "<!-- M(d&#45;07)&#45;&gt;d&#45;07 -->\n",
       "<g class=\"edge\" id=\"edge16\"><title>M(d-07)-&gt;d-07</title>\n",
       "<path d=\"M195.648,-243.711C195.648,-251.487 195.648,-260.412 195.648,-269\" fill=\"none\" stroke=\"black\"/>\n",
       "<polygon fill=\"black\" points=\"192.148,-269.208 195.648,-279.208 199.148,-269.208 192.148,-269.208\" stroke=\"black\"/>\n",
       "</g>\n",
       "</g>\n",
       "</svg>"
      ],
      "text/plain": [
       "<IPython.core.display.SVG object>"
      ]
     },
     "metadata": {},
     "output_type": "display_data"
    }
   ],
   "source": [
    "m.show_q_diagram()"
   ]
  },
  {
   "cell_type": "markdown",
   "metadata": {},
   "source": [
    "# Parallel Composition"
   ]
  },
  {
   "cell_type": "code",
   "execution_count": 18,
   "metadata": {},
   "outputs": [
    {
     "name": "stdout",
     "output_type": "stream",
     "text": [
      "dict_keys(['I(d-00)', 'd-06', 'd-05', 'd-04', 'd-03', 'd-02'])\n",
      "dict_keys(['I(d-00)', 'd-06', 'd-05', 'd-04', 'd-03', 'd-02', 'f-23', 'd-01'])\n",
      "dict_keys(['I(d-00)', 'd-06', 'd-05', 'd-04', 'd-03', 'd-02', 'f-23', 'd-01', 'f-08'])\n"
     ]
    },
    {
     "data": {
      "image/svg+xml": [
       "<svg height=\"341pt\" viewBox=\"0.00 0.00 577.30 340.59\" width=\"577pt\" xmlns=\"http://www.w3.org/2000/svg\" xmlns:xlink=\"http://www.w3.org/1999/xlink\">\n",
       "<g class=\"graph\" id=\"graph0\" transform=\"scale(1 1) rotate(0) translate(4 336.591)\">\n",
       "<title>G</title>\n",
       "<polygon fill=\"white\" points=\"-4,4 -4,-336.591 573.295,-336.591 573.295,4 -4,4\" stroke=\"none\"/>\n",
       "<!-- d&#45;01 -->\n",
       "<g class=\"node\" id=\"node1\"><title>d-01</title>\n",
       "<ellipse cx=\"97.6476\" cy=\"-26.6476\" fill=\"none\" rx=\"26.7961\" ry=\"26.7961\" stroke=\"black\"/>\n",
       "<text font-family=\"Times,serif\" font-size=\"14.00\" text-anchor=\"middle\" x=\"97.6476\" y=\"-22.9476\">d-01</text>\n",
       "</g>\n",
       "<!-- f&#45;03 -->\n",
       "<g class=\"node\" id=\"node4\"><title>f-03</title>\n",
       "<polygon fill=\"none\" points=\"249.648,-161.295 177.648,-161.295 177.648,-89.2953 249.648,-89.2953 249.648,-161.295\" stroke=\"black\"/>\n",
       "<text font-family=\"Times,serif\" font-size=\"14.00\" text-anchor=\"middle\" x=\"213.648\" y=\"-121.595\">f-03</text>\n",
       "</g>\n",
       "<!-- d&#45;01&#45;&gt;f&#45;03 -->\n",
       "<g class=\"edge\" id=\"edge1\"><title>d-01-&gt;f-03</title>\n",
       "<path d=\"M117.853,-44.4824C132.039,-56.3011 151.566,-72.5707 169.291,-87.3388\" fill=\"none\" stroke=\"black\"/>\n",
       "<polygon fill=\"black\" points=\"167.359,-90.2849 177.283,-93.9971 171.84,-84.9069 167.359,-90.2849\" stroke=\"black\"/>\n",
       "</g>\n",
       "<!-- f&#45;08 -->\n",
       "<g class=\"node\" id=\"node6\"><title>f-08</title>\n",
       "<polygon fill=\"none\" points=\"346.648,-161.295 274.648,-161.295 274.648,-89.2953 346.648,-89.2953 346.648,-161.295\" stroke=\"black\"/>\n",
       "<text font-family=\"Times,serif\" font-size=\"14.00\" text-anchor=\"middle\" x=\"310.648\" y=\"-121.595\">f-08</text>\n",
       "</g>\n",
       "<!-- d&#45;01&#45;&gt;f&#45;08 -->\n",
       "<g class=\"edge\" id=\"edge2\"><title>d-01-&gt;f-08</title>\n",
       "<path d=\"M118.223,-44.0958C123.089,-47.4695 128.395,-50.76 133.648,-53.2953 185.713,-78.4275 206.253,-64.8576 258.648,-89.2953 260.978,-90.382 263.32,-91.5662 265.654,-92.8207\" fill=\"none\" stroke=\"black\"/>\n",
       "<polygon fill=\"black\" points=\"264.148,-95.9923 274.56,-97.9499 267.641,-89.9263 264.148,-95.9923\" stroke=\"black\"/>\n",
       "</g>\n",
       "<!-- d&#45;02 -->\n",
       "<g class=\"node\" id=\"node2\"><title>d-02</title>\n",
       "<ellipse cx=\"329.648\" cy=\"-26.6476\" fill=\"none\" rx=\"26.7961\" ry=\"26.7961\" stroke=\"black\"/>\n",
       "<text font-family=\"Times,serif\" font-size=\"14.00\" text-anchor=\"middle\" x=\"329.648\" y=\"-22.9476\">d-02</text>\n",
       "</g>\n",
       "<!-- d&#45;02&#45;&gt;f&#45;03 -->\n",
       "<g class=\"edge\" id=\"edge3\"><title>d-02-&gt;f-03</title>\n",
       "<path d=\"M309.442,-44.4824C295.257,-56.3011 275.729,-72.5707 258.004,-87.3388\" fill=\"none\" stroke=\"black\"/>\n",
       "<polygon fill=\"black\" points=\"255.455,-84.9069 250.013,-93.9971 259.936,-90.2849 255.455,-84.9069\" stroke=\"black\"/>\n",
       "</g>\n",
       "<!-- d&#45;02&#45;&gt;f&#45;08 -->\n",
       "<g class=\"edge\" id=\"edge4\"><title>d-02-&gt;f-08</title>\n",
       "<path d=\"M324.656,-53.0407C323.074,-61.0864 321.275,-70.2362 319.506,-79.2344\" fill=\"none\" stroke=\"black\"/>\n",
       "<polygon fill=\"black\" points=\"316.03,-78.775 317.535,-89.2623 322.898,-80.1253 316.03,-78.775\" stroke=\"black\"/>\n",
       "</g>\n",
       "<!-- f&#45;23 -->\n",
       "<g class=\"node\" id=\"node9\"><title>f-23</title>\n",
       "<polygon fill=\"none\" points=\"436.648,-161.295 364.648,-161.295 364.648,-89.2953 436.648,-89.2953 436.648,-161.295\" stroke=\"black\"/>\n",
       "<text font-family=\"Times,serif\" font-size=\"14.00\" text-anchor=\"middle\" x=\"400.648\" y=\"-121.595\">f-23</text>\n",
       "</g>\n",
       "<!-- d&#45;02&#45;&gt;f&#45;23 -->\n",
       "<g class=\"edge\" id=\"edge5\"><title>d-02-&gt;f-23</title>\n",
       "<path d=\"M345.054,-48.6187C352.011,-58.0896 360.504,-69.6506 368.737,-80.8575\" fill=\"none\" stroke=\"black\"/>\n",
       "<polygon fill=\"black\" points=\"365.919,-82.9333 374.66,-88.9203 371.56,-78.789 365.919,-82.9333\" stroke=\"black\"/>\n",
       "</g>\n",
       "<!-- d&#45;03 -->\n",
       "<g class=\"node\" id=\"node3\"><title>d-03</title>\n",
       "<ellipse cx=\"26.6476\" cy=\"-26.6476\" fill=\"none\" rx=\"26.7961\" ry=\"26.7961\" stroke=\"black\"/>\n",
       "<text font-family=\"Times,serif\" font-size=\"14.00\" text-anchor=\"middle\" x=\"26.6476\" y=\"-22.9476\">d-03</text>\n",
       "</g>\n",
       "<!-- d&#45;03&#45;&gt;f&#45;03 -->\n",
       "<g class=\"edge\" id=\"edge6\"><title>d-03-&gt;f-03</title>\n",
       "<path d=\"M47.2919,-43.7978C51.9031,-47.1132 56.8511,-50.4546 61.6476,-53.2953 96.1686,-73.7399 137.549,-92.7396 168.411,-105.93\" fill=\"none\" stroke=\"black\"/>\n",
       "<polygon fill=\"black\" points=\"167.059,-109.158 177.632,-109.832 169.787,-102.712 167.059,-109.158\" stroke=\"black\"/>\n",
       "</g>\n",
       "<!-- M(d&#45;07) -->\n",
       "<g class=\"node\" id=\"node11\"><title>M(d-07)</title>\n",
       "<polygon fill=\"none\" points=\"310.648,-243.295 228.862,-208.795 392.433,-208.795 310.648,-243.295\" stroke=\"black\"/>\n",
       "<text font-family=\"Times,serif\" font-size=\"14.00\" text-anchor=\"middle\" x=\"310.648\" y=\"-216.595\">M(d-07)</text>\n",
       "</g>\n",
       "<!-- f&#45;03&#45;&gt;M(d&#45;07) -->\n",
       "<g class=\"edge\" id=\"edge7\"><title>f-03-&gt;M(d-07)</title>\n",
       "<path d=\"M249.767,-160.925C264.26,-174.82 280.333,-190.231 292.324,-201.727\" fill=\"none\" stroke=\"black\"/>\n",
       "<polygon fill=\"black\" points=\"289.915,-204.267 299.556,-208.661 294.76,-199.214 289.915,-204.267\" stroke=\"black\"/>\n",
       "</g>\n",
       "<!-- d&#45;04 -->\n",
       "<g class=\"node\" id=\"node5\"><title>d-04</title>\n",
       "<ellipse cx=\"400.648\" cy=\"-26.6476\" fill=\"none\" rx=\"26.7961\" ry=\"26.7961\" stroke=\"black\"/>\n",
       "<text font-family=\"Times,serif\" font-size=\"14.00\" text-anchor=\"middle\" x=\"400.648\" y=\"-22.9476\">d-04</text>\n",
       "</g>\n",
       "<!-- d&#45;04&#45;&gt;f&#45;08 -->\n",
       "<g class=\"edge\" id=\"edge8\"><title>d-04-&gt;f-08</title>\n",
       "<path d=\"M382.867,-46.7421C373.533,-56.7646 361.698,-69.474 350.323,-81.6892\" fill=\"none\" stroke=\"black\"/>\n",
       "<polygon fill=\"black\" points=\"347.58,-79.499 343.327,-89.2025 352.703,-84.2694 347.58,-79.499\" stroke=\"black\"/>\n",
       "</g>\n",
       "<!-- d&#45;04&#45;&gt;f&#45;23 -->\n",
       "<g class=\"edge\" id=\"edge9\"><title>d-04-&gt;f-23</title>\n",
       "<path d=\"M400.648,-53.5474C400.648,-61.4244 400.648,-70.3227 400.648,-79.084\" fill=\"none\" stroke=\"black\"/>\n",
       "<polygon fill=\"black\" points=\"397.148,-79.2367 400.648,-89.2367 404.148,-79.2367 397.148,-79.2367\" stroke=\"black\"/>\n",
       "</g>\n",
       "<!-- f&#45;08&#45;&gt;M(d&#45;07) -->\n",
       "<g class=\"edge\" id=\"edge10\"><title>f-08-&gt;M(d-07)</title>\n",
       "<path d=\"M310.648,-161.455C310.648,-173.976 310.648,-187.667 310.648,-198.584\" fill=\"none\" stroke=\"black\"/>\n",
       "<polygon fill=\"black\" points=\"307.148,-198.791 310.648,-208.791 314.148,-198.791 307.148,-198.791\" stroke=\"black\"/>\n",
       "</g>\n",
       "<!-- d&#45;05 -->\n",
       "<g class=\"node\" id=\"node7\"><title>d-05</title>\n",
       "<ellipse cx=\"542.648\" cy=\"-26.6476\" fill=\"none\" rx=\"26.7961\" ry=\"26.7961\" stroke=\"black\"/>\n",
       "<text font-family=\"Times,serif\" font-size=\"14.00\" text-anchor=\"middle\" x=\"542.648\" y=\"-22.9476\">d-05</text>\n",
       "</g>\n",
       "<!-- d&#45;05&#45;&gt;f&#45;23 -->\n",
       "<g class=\"edge\" id=\"edge11\"><title>d-05-&gt;f-23</title>\n",
       "<path d=\"M521.663,-43.2689C517.073,-46.6172 512.22,-50.1058 507.648,-53.2953 487.51,-67.3432 464.896,-82.4446 445.663,-95.0931\" fill=\"none\" stroke=\"black\"/>\n",
       "<polygon fill=\"black\" points=\"443.528,-92.3081 437.085,-100.719 447.367,-98.1614 443.528,-92.3081\" stroke=\"black\"/>\n",
       "</g>\n",
       "<!-- d&#45;06 -->\n",
       "<g class=\"node\" id=\"node8\"><title>d-06</title>\n",
       "<ellipse cx=\"471.648\" cy=\"-26.6476\" fill=\"none\" rx=\"26.7961\" ry=\"26.7961\" stroke=\"black\"/>\n",
       "<text font-family=\"Times,serif\" font-size=\"14.00\" text-anchor=\"middle\" x=\"471.648\" y=\"-22.9476\">d-06</text>\n",
       "</g>\n",
       "<!-- d&#45;06&#45;&gt;f&#45;23 -->\n",
       "<g class=\"edge\" id=\"edge12\"><title>d-06-&gt;f-23</title>\n",
       "<path d=\"M456.242,-48.6187C449.284,-58.0896 440.791,-69.6506 432.558,-80.8575\" fill=\"none\" stroke=\"black\"/>\n",
       "<polygon fill=\"black\" points=\"429.735,-78.789 426.635,-88.9203 435.376,-82.9333 429.735,-78.789\" stroke=\"black\"/>\n",
       "</g>\n",
       "<!-- f&#45;23&#45;&gt;M(d&#45;07) -->\n",
       "<g class=\"edge\" id=\"edge13\"><title>f-23-&gt;M(d-07)</title>\n",
       "<path d=\"M366.622,-161.455C353.484,-175.031 339.017,-189.981 328.082,-201.28\" fill=\"none\" stroke=\"black\"/>\n",
       "<polygon fill=\"black\" points=\"325.252,-199.171 320.813,-208.791 330.283,-204.039 325.252,-199.171\" stroke=\"black\"/>\n",
       "</g>\n",
       "<!-- I(d&#45;00) -->\n",
       "<g class=\"node\" id=\"node10\"><title>I(d-00)</title>\n",
       "<polygon fill=\"none\" points=\"213.648,-3.64764 285.135,-38.1476 142.16,-38.1476 213.648,-3.64764\" stroke=\"black\"/>\n",
       "<text font-family=\"Times,serif\" font-size=\"14.00\" text-anchor=\"middle\" x=\"213.648\" y=\"-22.9476\">I(d-00)</text>\n",
       "</g>\n",
       "<!-- I(d&#45;00)&#45;&gt;f&#45;03 -->\n",
       "<g class=\"edge\" id=\"edge14\"><title>I(d-00)-&gt;f-03</title>\n",
       "<path d=\"M213.648,-38.3599C213.648,-48.2631 213.648,-63.6815 213.648,-78.7402\" fill=\"none\" stroke=\"black\"/>\n",
       "<polygon fill=\"black\" points=\"210.148,-79.0357 213.648,-89.0358 217.148,-79.0358 210.148,-79.0357\" stroke=\"black\"/>\n",
       "</g>\n",
       "<!-- I(d&#45;00)&#45;&gt;f&#45;23 -->\n",
       "<g class=\"edge\" id=\"edge15\"><title>I(d-00)-&gt;f-23</title>\n",
       "<path d=\"M243.807,-38.2069C273.305,-49.1116 319.009,-67.5655 355.648,-89.2953 355.741,-89.3505 355.834,-89.4059 355.927,-89.4614\" fill=\"none\" stroke=\"black\"/>\n",
       "<polygon fill=\"black\" points=\"354.296,-92.5736 364.602,-95.0298 358.077,-86.6827 354.296,-92.5736\" stroke=\"black\"/>\n",
       "</g>\n",
       "<!-- d&#45;07 -->\n",
       "<g class=\"node\" id=\"node12\"><title>d-07</title>\n",
       "<ellipse cx=\"310.648\" cy=\"-305.943\" fill=\"none\" rx=\"26.7961\" ry=\"26.7961\" stroke=\"black\"/>\n",
       "<text font-family=\"Times,serif\" font-size=\"14.00\" text-anchor=\"middle\" x=\"310.648\" y=\"-302.243\">d-07</text>\n",
       "</g>\n",
       "<!-- M(d&#45;07)&#45;&gt;d&#45;07 -->\n",
       "<g class=\"edge\" id=\"edge16\"><title>M(d-07)-&gt;d-07</title>\n",
       "<path d=\"M310.648,-243.711C310.648,-251.487 310.648,-260.412 310.648,-269\" fill=\"none\" stroke=\"black\"/>\n",
       "<polygon fill=\"black\" points=\"307.148,-269.208 310.648,-279.208 314.148,-269.208 307.148,-269.208\" stroke=\"black\"/>\n",
       "</g>\n",
       "</g>\n",
       "</svg>"
      ],
      "text/plain": [
       "<IPython.core.display.SVG object>"
      ]
     },
     "metadata": {},
     "output_type": "display_data"
    }
   ],
   "source": [
    "m = Morpheus(random_state=random_state,\n",
    "             prediction_algorithm='mi',\n",
    "             clf_criterion='entropy',\n",
    "             rgr_criterion='mae',\n",
    "             selection_algorithm='random',\n",
    "             nb_iterations=3,\n",
    "             fraction_missing=0.5,\n",
    "             max_depth=15,\n",
    "             regression_max_depth=25)\n",
    "\n",
    "df_train, df_test = default_dataset()\n",
    "\n",
    "m.fit(df_train.values)\n",
    "m.predict(df_test.values, q_code=np.array([-1,0,0,0,0,0,0,1]))\n",
    "m.show_q_diagram()"
   ]
  },
  {
   "cell_type": "code",
   "execution_count": 19,
   "metadata": {},
   "outputs": [
    {
     "name": "stdout",
     "output_type": "stream",
     "text": [
      "\n",
      "                We have selected    1 model(s) \n",
      "                at threshold:       0.90\n",
      "                with model ids:     [{'f-08'}]\n",
      "                \n",
      "\n",
      "dict_keys(['d-04', 'd-02', 'd-01'])\n"
     ]
    },
    {
     "data": {
      "image/svg+xml": [
       "<svg height=\"259pt\" viewBox=\"0.00 0.00 203.30 258.59\" width=\"203pt\" xmlns=\"http://www.w3.org/2000/svg\" xmlns:xlink=\"http://www.w3.org/1999/xlink\">\n",
       "<g class=\"graph\" id=\"graph0\" transform=\"scale(1 1) rotate(0) translate(4 254.591)\">\n",
       "<title>G</title>\n",
       "<polygon fill=\"white\" points=\"-4,4 -4,-254.591 199.295,-254.591 199.295,4 -4,4\" stroke=\"none\"/>\n",
       "<!-- d&#45;01 -->\n",
       "<g class=\"node\" id=\"node1\"><title>d-01</title>\n",
       "<ellipse cx=\"26.6476\" cy=\"-26.6476\" fill=\"none\" rx=\"26.7961\" ry=\"26.7961\" stroke=\"black\"/>\n",
       "<text font-family=\"Times,serif\" font-size=\"14.00\" text-anchor=\"middle\" x=\"26.6476\" y=\"-22.9476\">d-01</text>\n",
       "</g>\n",
       "<!-- f&#45;08 -->\n",
       "<g class=\"node\" id=\"node5\"><title>f-08</title>\n",
       "<polygon fill=\"none\" points=\"133.648,-161.295 61.6476,-161.295 61.6476,-89.2953 133.648,-89.2953 133.648,-161.295\" stroke=\"black\"/>\n",
       "<text font-family=\"Times,serif\" font-size=\"14.00\" text-anchor=\"middle\" x=\"97.6476\" y=\"-121.595\">f-08</text>\n",
       "</g>\n",
       "<!-- d&#45;01&#45;&gt;f&#45;08 -->\n",
       "<g class=\"edge\" id=\"edge1\"><title>d-01-&gt;f-08</title>\n",
       "<path d=\"M42.0536,-48.6187C49.0112,-58.0896 57.5042,-69.6506 65.737,-80.8575\" fill=\"none\" stroke=\"black\"/>\n",
       "<polygon fill=\"black\" points=\"62.919,-82.9333 71.6602,-88.9203 68.5604,-78.789 62.919,-82.9333\" stroke=\"black\"/>\n",
       "</g>\n",
       "<!-- d&#45;02 -->\n",
       "<g class=\"node\" id=\"node2\"><title>d-02</title>\n",
       "<ellipse cx=\"97.6476\" cy=\"-26.6476\" fill=\"none\" rx=\"26.7961\" ry=\"26.7961\" stroke=\"black\"/>\n",
       "<text font-family=\"Times,serif\" font-size=\"14.00\" text-anchor=\"middle\" x=\"97.6476\" y=\"-22.9476\">d-02</text>\n",
       "</g>\n",
       "<!-- d&#45;02&#45;&gt;f&#45;08 -->\n",
       "<g class=\"edge\" id=\"edge2\"><title>d-02-&gt;f-08</title>\n",
       "<path d=\"M97.6476,-53.5474C97.6476,-61.4244 97.6476,-70.3227 97.6476,-79.084\" fill=\"none\" stroke=\"black\"/>\n",
       "<polygon fill=\"black\" points=\"94.1477,-79.2367 97.6476,-89.2367 101.148,-79.2367 94.1477,-79.2367\" stroke=\"black\"/>\n",
       "</g>\n",
       "<!-- d&#45;04 -->\n",
       "<g class=\"node\" id=\"node3\"><title>d-04</title>\n",
       "<ellipse cx=\"168.648\" cy=\"-26.6476\" fill=\"none\" rx=\"26.7961\" ry=\"26.7961\" stroke=\"black\"/>\n",
       "<text font-family=\"Times,serif\" font-size=\"14.00\" text-anchor=\"middle\" x=\"168.648\" y=\"-22.9476\">d-04</text>\n",
       "</g>\n",
       "<!-- d&#45;04&#45;&gt;f&#45;08 -->\n",
       "<g class=\"edge\" id=\"edge3\"><title>d-04-&gt;f-08</title>\n",
       "<path d=\"M153.242,-48.6187C146.284,-58.0896 137.791,-69.6506 129.558,-80.8575\" fill=\"none\" stroke=\"black\"/>\n",
       "<polygon fill=\"black\" points=\"126.735,-78.789 123.635,-88.9203 132.376,-82.9333 126.735,-78.789\" stroke=\"black\"/>\n",
       "</g>\n",
       "<!-- d&#45;07 -->\n",
       "<g class=\"node\" id=\"node4\"><title>d-07</title>\n",
       "<ellipse cx=\"97.6476\" cy=\"-223.943\" fill=\"none\" rx=\"26.7961\" ry=\"26.7961\" stroke=\"black\"/>\n",
       "<text font-family=\"Times,serif\" font-size=\"14.00\" text-anchor=\"middle\" x=\"97.6476\" y=\"-220.243\">d-07</text>\n",
       "</g>\n",
       "<!-- f&#45;08&#45;&gt;d&#45;07 -->\n",
       "<g class=\"edge\" id=\"edge4\"><title>f-08-&gt;d-07</title>\n",
       "<path d=\"M97.6476,-161.461C97.6476,-169.734 97.6476,-178.564 97.6476,-186.876\" fill=\"none\" stroke=\"black\"/>\n",
       "<polygon fill=\"black\" points=\"94.1477,-187.046 97.6476,-197.046 101.148,-187.046 94.1477,-187.046\" stroke=\"black\"/>\n",
       "</g>\n",
       "</g>\n",
       "</svg>"
      ],
      "text/plain": [
       "<IPython.core.display.SVG object>"
      ]
     },
     "metadata": {},
     "output_type": "display_data"
    }
   ],
   "source": [
    "m = Morpheus(random_state=random_state,\n",
    "             prediction_algorithm='mrai',\n",
    "             clf_criterion='entropy',\n",
    "             rgr_criterion='mae',\n",
    "             selection_algorithm='random',\n",
    "             nb_iterations=3,\n",
    "             fraction_missing=0.5,\n",
    "             max_depth=15,\n",
    "             regression_max_depth=25)\n",
    "\n",
    "df_train, df_test = default_dataset()\n",
    "\n",
    "m.fit(df_train.values)\n",
    "m.predict(df_test.values, q_code=np.array([-1,0,0,0,0,0,0,1]))\n",
    "m.show_q_diagram()"
   ]
  },
  {
   "cell_type": "markdown",
   "metadata": {},
   "source": [
    "# Sequential Composition"
   ]
  },
  {
   "cell_type": "code",
   "execution_count": 33,
   "metadata": {},
   "outputs": [],
   "source": [
    "m = Morpheus(random_state=802,\n",
    "             prediction_algorithm='it',\n",
    "             clf_criterion='entropy',\n",
    "             rgr_criterion='mae',\n",
    "             selection_algorithm='random',\n",
    "             nb_iterations=20,\n",
    "             fraction_missing=0.5,\n",
    "             max_depth=15,\n",
    "             regression_max_depth=25)\n",
    "\n",
    "df_train, df_test = default_dataset()\n",
    "\n",
    "m.fit(df_train.values)\n",
    "m.predict(df_test.values, q_code=np.array([-1,-1,-1,0,0,-1,0,1]))\n",
    "m.show_q_diagram(fi_labels=True)"
   ]
  },
  {
   "cell_type": "code",
   "execution_count": 43,
   "metadata": {},
   "outputs": [],
   "source": [
    "m = Morpheus(random_state=random_state,\n",
    "             prediction_algorithm='rw',\n",
    "             clf_criterion='entropy',\n",
    "             rgr_criterion='mae',\n",
    "             selection_algorithm='random',\n",
    "             nb_iterations=10,\n",
    "             max_steps=64,\n",
    "             fraction_missing=0.5,\n",
    "             max_depth=15,\n",
    "             regression_max_depth=25)\n",
    "\n",
    "df_train, df_test = default_dataset()\n",
    "\n",
    "m.fit(df_train.values)\n"
   ]
  },
  {
   "cell_type": "code",
   "execution_count": 46,
   "metadata": {},
   "outputs": [
    {
     "name": "stdout",
     "output_type": "stream",
     "text": [
      "AVL DESC: {0, 6}\n",
      "AVL DESC: {0, 4, 6}\n",
      "AVL DESC: {0, 1, 4, 6}\n",
      "dict_keys(['I(d-02)', 'I(d-03)', 'd-00', 'I(d-01)', 'd-06'])\n",
      "dict_keys(['I(d-02)', 'I(d-03)', 'd-00', 'I(d-01)', 'd-06', 'f-18', 'd-04'])\n",
      "dict_keys(['I(d-02)', 'I(d-03)', 'd-00', 'I(d-01)', 'd-06', 'f-18', 'd-04', 'f-62', 'd-01'])\n"
     ]
    },
    {
     "data": {
      "image/svg+xml": [
       "<svg height=\"743pt\" viewBox=\"0.00 0.00 363.49 743.18\" width=\"363pt\" xmlns=\"http://www.w3.org/2000/svg\" xmlns:xlink=\"http://www.w3.org/1999/xlink\">\n",
       "<g class=\"graph\" id=\"graph0\" transform=\"scale(1 1) rotate(0) translate(4 739.181)\">\n",
       "<title>G</title>\n",
       "<polygon fill=\"white\" points=\"-4,4 -4,-739.181 359.494,-739.181 359.494,4 -4,4\" stroke=\"none\"/>\n",
       "<!-- d&#45;06 -->\n",
       "<g class=\"node\" id=\"node1\"><title>d-06</title>\n",
       "<ellipse cx=\"104\" cy=\"-26.6476\" fill=\"none\" rx=\"26.7961\" ry=\"26.7961\" stroke=\"black\"/>\n",
       "<text font-family=\"Times,serif\" font-size=\"14.00\" text-anchor=\"middle\" x=\"104\" y=\"-22.9476\">d-06</text>\n",
       "</g>\n",
       "<!-- f&#45;18 -->\n",
       "<g class=\"node\" id=\"node3\"><title>f-18</title>\n",
       "<polygon fill=\"none\" points=\"213,-176.295 141,-176.295 141,-104.295 213,-104.295 213,-176.295\" stroke=\"black\"/>\n",
       "<text font-family=\"Times,serif\" font-size=\"14.00\" text-anchor=\"middle\" x=\"177\" y=\"-136.595\">f-18</text>\n",
       "</g>\n",
       "<!-- d&#45;06&#45;&gt;f&#45;18 -->\n",
       "<g class=\"edge\" id=\"edge1\"><title>d-06-&gt;f-18</title>\n",
       "<path d=\"M130.956,-27.1811C138.535,-27.1811 144.753,-27.1811 144.753,-27.1811 144.753,-27.1811 144.753,-94.1942 144.753,-94.1942\" fill=\"none\" stroke=\"black\"/>\n",
       "<polygon fill=\"black\" points=\"141.253,-94.1942 144.753,-104.194 148.253,-94.1943 141.253,-94.1942\" stroke=\"black\"/>\n",
       "<text font-family=\"Times,serif\" font-size=\"14.00\" text-anchor=\"middle\" x=\"167.5\" y=\"-75.0953\">0.49</text>\n",
       "</g>\n",
       "<!-- f&#45;62 -->\n",
       "<g class=\"node\" id=\"node7\"><title>f-62</title>\n",
       "<polygon fill=\"none\" points=\"149,-403.591 77,-403.591 77,-331.591 149,-331.591 149,-403.591\" stroke=\"black\"/>\n",
       "<text font-family=\"Times,serif\" font-size=\"14.00\" text-anchor=\"middle\" x=\"113\" y=\"-363.891\">f-62</text>\n",
       "</g>\n",
       "<!-- d&#45;06&#45;&gt;f&#45;62 -->\n",
       "<g class=\"edge\" id=\"edge2\"><title>d-06-&gt;f-62</title>\n",
       "<path d=\"M114.981,-51.1674C114.981,-51.1674 114.981,-321.326 114.981,-321.326\" fill=\"none\" stroke=\"black\"/>\n",
       "<polygon fill=\"black\" points=\"111.481,-321.326 114.981,-331.326 118.481,-321.326 111.481,-321.326\" stroke=\"black\"/>\n",
       "<text font-family=\"Times,serif\" font-size=\"14.00\" text-anchor=\"middle\" x=\"125.5\" y=\"-198.095\">0.33</text>\n",
       "</g>\n",
       "<!-- f&#45;72 -->\n",
       "<g class=\"node\" id=\"node10\"><title>f-72</title>\n",
       "<polygon fill=\"none\" points=\"98,-630.886 26,-630.886 26,-558.886 98,-558.886 98,-630.886\" stroke=\"black\"/>\n",
       "<text font-family=\"Times,serif\" font-size=\"14.00\" text-anchor=\"middle\" x=\"62\" y=\"-591.186\">f-72</text>\n",
       "</g>\n",
       "<!-- d&#45;06&#45;&gt;f&#45;72 -->\n",
       "<g class=\"edge\" id=\"edge3\"><title>d-06-&gt;f-72</title>\n",
       "<path d=\"M99.3143,-52.9455C99.3143,-122.531 99.3143,-306.181 99.3143,-306.181 99.3143,-306.181 55.6857,-306.181 55.6857,-306.181 55.6857,-306.181 55.6857,-548.613 55.6857,-548.613\" fill=\"none\" stroke=\"black\"/>\n",
       "<polygon fill=\"black\" points=\"52.1858,-548.613 55.6857,-558.613 59.1858,-548.614 52.1858,-548.613\" stroke=\"black\"/>\n",
       "<text font-family=\"Times,serif\" font-size=\"14.00\" text-anchor=\"middle\" x=\"12.5\" y=\"-302.391\">0.26</text>\n",
       "</g>\n",
       "<!-- d&#45;04 -->\n",
       "<g class=\"node\" id=\"node2\"><title>d-04</title>\n",
       "<ellipse cx=\"168\" cy=\"-253.943\" fill=\"none\" rx=\"26.7961\" ry=\"26.7961\" stroke=\"black\"/>\n",
       "<text font-family=\"Times,serif\" font-size=\"14.00\" text-anchor=\"middle\" x=\"168\" y=\"-250.243\">d-04</text>\n",
       "</g>\n",
       "<!-- d&#45;04&#45;&gt;f&#45;62 -->\n",
       "<g class=\"edge\" id=\"edge4\"><title>d-04-&gt;f-62</title>\n",
       "<path d=\"M145.176,-267.878C145.176,-267.878 145.176,-321.573 145.176,-321.573\" fill=\"none\" stroke=\"black\"/>\n",
       "<polygon fill=\"black\" points=\"141.676,-321.573 145.176,-331.573 148.676,-321.573 141.676,-321.573\" stroke=\"black\"/>\n",
       "<text font-family=\"Times,serif\" font-size=\"14.00\" text-anchor=\"middle\" x=\"169.5\" y=\"-302.391\">0.18</text>\n",
       "</g>\n",
       "<!-- f&#45;18&#45;&gt;d&#45;04 -->\n",
       "<g class=\"edge\" id=\"edge5\"><title>f-18-&gt;d-04</title>\n",
       "<path d=\"M168,-176.567C168,-176.567 168,-217.012 168,-217.012\" fill=\"none\" stroke=\"black\"/>\n",
       "<polygon fill=\"black\" points=\"164.5,-217.012 168,-227.012 171.5,-217.012 164.5,-217.012\" stroke=\"black\"/>\n",
       "<text font-family=\"Times,serif\" font-size=\"14.00\" text-anchor=\"middle\" x=\"184.5\" y=\"-198.095\">0.00</text>\n",
       "</g>\n",
       "<!-- I(d&#45;01) -->\n",
       "<g class=\"node\" id=\"node4\"><title>I(d-01)</title>\n",
       "<polygon fill=\"none\" points=\"220,-3.64764 291.487,-38.1476 148.513,-38.1476 220,-3.64764\" stroke=\"black\"/>\n",
       "<text font-family=\"Times,serif\" font-size=\"14.00\" text-anchor=\"middle\" x=\"220\" y=\"-22.9476\">I(d-01)</text>\n",
       "</g>\n",
       "<!-- I(d&#45;01)&#45;&gt;f&#45;18 -->\n",
       "<g class=\"edge\" id=\"edge6\"><title>I(d-01)-&gt;f-18</title>\n",
       "<path d=\"M180.753,-38.3819C180.753,-38.3819 180.753,-94.2779 180.753,-94.2779\" fill=\"none\" stroke=\"black\"/>\n",
       "<polygon fill=\"black\" points=\"177.253,-94.2779 180.753,-104.278 184.253,-94.2779 177.253,-94.2779\" stroke=\"black\"/>\n",
       "<text font-family=\"Times,serif\" font-size=\"14.00\" text-anchor=\"middle\" x=\"232.5\" y=\"-75.0953\">0.51</text>\n",
       "</g>\n",
       "<!-- d&#45;00 -->\n",
       "<g class=\"node\" id=\"node5\"><title>d-00</title>\n",
       "<ellipse cx=\"57\" cy=\"-253.943\" fill=\"none\" rx=\"26.7961\" ry=\"26.7961\" stroke=\"black\"/>\n",
       "<text font-family=\"Times,serif\" font-size=\"14.00\" text-anchor=\"middle\" x=\"57\" y=\"-250.243\">d-00</text>\n",
       "</g>\n",
       "<!-- d&#45;00&#45;&gt;f&#45;62 -->\n",
       "<g class=\"edge\" id=\"edge7\"><title>d-00-&gt;f-62</title>\n",
       "<path d=\"M72.6762,-275.699C72.6762,-308.844 72.6762,-368.181 72.6762,-368.181 72.6762,-368.181 73.1077,-368.181 73.1077,-368.181\" fill=\"none\" stroke=\"black\"/>\n",
       "<polygon fill=\"black\" points=\"66.9916,-371.681 76.9915,-368.181 66.9914,-364.681 66.9916,-371.681\" stroke=\"black\"/>\n",
       "<text font-family=\"Times,serif\" font-size=\"14.00\" text-anchor=\"middle\" x=\"85.5\" y=\"-302.391\">0.24</text>\n",
       "</g>\n",
       "<!-- d&#45;00&#45;&gt;f&#45;72 -->\n",
       "<g class=\"edge\" id=\"edge8\"><title>d-00-&gt;f-72</title>\n",
       "<path d=\"M43.019,-276.843C43.019,-276.843 43.019,-548.695 43.019,-548.695\" fill=\"none\" stroke=\"black\"/>\n",
       "<polygon fill=\"black\" points=\"39.5191,-548.695 43.019,-558.695 46.5191,-548.695 39.5191,-548.695\" stroke=\"black\"/>\n",
       "<text font-family=\"Times,serif\" font-size=\"14.00\" text-anchor=\"middle\" x=\"52.5\" y=\"-425.391\">0.12</text>\n",
       "</g>\n",
       "<!-- d&#45;01 -->\n",
       "<g class=\"node\" id=\"node6\"><title>d-01</title>\n",
       "<ellipse cx=\"95\" cy=\"-481.238\" fill=\"none\" rx=\"26.7961\" ry=\"26.7961\" stroke=\"black\"/>\n",
       "<text font-family=\"Times,serif\" font-size=\"14.00\" text-anchor=\"middle\" x=\"95\" y=\"-477.538\">d-01</text>\n",
       "</g>\n",
       "<!-- d&#45;01&#45;&gt;f&#45;72 -->\n",
       "<g class=\"edge\" id=\"edge9\"><title>d-01-&gt;f-72</title>\n",
       "<path d=\"M83.1762,-505.34C83.1762,-505.34 83.1762,-548.722 83.1762,-548.722\" fill=\"none\" stroke=\"black\"/>\n",
       "<polygon fill=\"black\" points=\"79.6763,-548.722 83.1762,-558.722 86.6763,-548.722 79.6763,-548.722\" stroke=\"black\"/>\n",
       "<text font-family=\"Times,serif\" font-size=\"14.00\" text-anchor=\"middle\" x=\"96.5\" y=\"-529.686\">0.40</text>\n",
       "</g>\n",
       "<!-- f&#45;62&#45;&gt;d&#45;01 -->\n",
       "<g class=\"edge\" id=\"edge10\"><title>f-62-&gt;d-01</title>\n",
       "<path d=\"M99.3238,-403.862C99.3238,-403.862 99.3238,-444.666 99.3238,-444.666\" fill=\"none\" stroke=\"black\"/>\n",
       "<polygon fill=\"black\" points=\"95.8239,-444.666 99.3238,-454.666 102.824,-444.666 95.8239,-444.666\" stroke=\"black\"/>\n",
       "<text font-family=\"Times,serif\" font-size=\"14.00\" text-anchor=\"middle\" x=\"116.5\" y=\"-425.391\">0.00</text>\n",
       "</g>\n",
       "<!-- I(d&#45;03) -->\n",
       "<g class=\"node\" id=\"node8\"><title>I(d-03)</title>\n",
       "<polygon fill=\"none\" points=\"284,-230.943 355.487,-265.443 212.513,-265.443 284,-230.943\" stroke=\"black\"/>\n",
       "<text font-family=\"Times,serif\" font-size=\"14.00\" text-anchor=\"middle\" x=\"284\" y=\"-250.243\">I(d-03)</text>\n",
       "</g>\n",
       "<!-- I(d&#45;03)&#45;&gt;f&#45;62 -->\n",
       "<g class=\"edge\" id=\"edge11\"><title>I(d-03)-&gt;f-62</title>\n",
       "<path d=\"M247.5,-265.738C247.5,-294.926 247.5,-368.181 247.5,-368.181 247.5,-368.181 159.044,-368.181 159.044,-368.181\" fill=\"none\" stroke=\"black\"/>\n",
       "<polygon fill=\"black\" points=\"159.044,-364.681 149.044,-368.181 159.043,-371.681 159.044,-364.681\" stroke=\"black\"/>\n",
       "<text font-family=\"Times,serif\" font-size=\"14.00\" text-anchor=\"middle\" x=\"296.5\" y=\"-302.391\">0.24</text>\n",
       "</g>\n",
       "<!-- d&#45;07 -->\n",
       "<g class=\"node\" id=\"node9\"><title>d-07</title>\n",
       "<ellipse cx=\"62\" cy=\"-708.533\" fill=\"none\" rx=\"26.7961\" ry=\"26.7961\" stroke=\"black\"/>\n",
       "<text font-family=\"Times,serif\" font-size=\"14.00\" text-anchor=\"middle\" x=\"62\" y=\"-704.833\">d-07</text>\n",
       "</g>\n",
       "<!-- f&#45;72&#45;&gt;d&#45;07 -->\n",
       "<g class=\"edge\" id=\"edge12\"><title>f-72-&gt;d-07</title>\n",
       "<path d=\"M62,-631.157C62,-631.157 62,-671.603 62,-671.603\" fill=\"none\" stroke=\"black\"/>\n",
       "<polygon fill=\"black\" points=\"58.5001,-671.603 62,-681.603 65.5001,-671.603 58.5001,-671.603\" stroke=\"black\"/>\n",
       "<text font-family=\"Times,serif\" font-size=\"14.00\" text-anchor=\"middle\" x=\"74.5\" y=\"-652.686\">0.00</text>\n",
       "</g>\n",
       "<!-- I(d&#45;02) -->\n",
       "<g class=\"node\" id=\"node11\"><title>I(d-02)</title>\n",
       "<polygon fill=\"none\" points=\"211,-458.238 282.487,-492.738 139.513,-492.738 211,-458.238\" stroke=\"black\"/>\n",
       "<text font-family=\"Times,serif\" font-size=\"14.00\" text-anchor=\"middle\" x=\"211\" y=\"-477.538\">I(d-02)</text>\n",
       "</g>\n",
       "<!-- I(d&#45;02)&#45;&gt;f&#45;72 -->\n",
       "<g class=\"edge\" id=\"edge13\"><title>I(d-02)-&gt;f-72</title>\n",
       "<path d=\"M211,-493.003C211,-522.115 211,-595.181 211,-595.181 211,-595.181 108.069,-595.181 108.069,-595.181\" fill=\"none\" stroke=\"black\"/>\n",
       "<polygon fill=\"black\" points=\"108.069,-591.681 98.0687,-595.181 108.069,-598.681 108.069,-591.681\" stroke=\"black\"/>\n",
       "<text font-family=\"Times,serif\" font-size=\"14.00\" text-anchor=\"middle\" x=\"223.5\" y=\"-529.686\">0.23</text>\n",
       "</g>\n",
       "</g>\n",
       "</svg>"
      ],
      "text/plain": [
       "<IPython.core.display.SVG object>"
      ]
     },
     "metadata": {},
     "output_type": "display_data"
    }
   ],
   "source": [
    "m.predict(df_test.values, q_code=np.array([0,-1,-1,-1,-1,-1,0,1]))\n",
    "m.show_q_diagram(fi_labels=True, ortho=True)"
   ]
  },
  {
   "cell_type": "code",
   "execution_count": 38,
   "metadata": {},
   "outputs": [
    {
     "name": "stdout",
     "output_type": "stream",
     "text": [
      "AVL DESC: {0, 1, 3, 6}\n",
      "AVL DESC: {0, 1, 3, 4, 6}\n",
      "dict_keys(['I(d-02)', 'd-01', 'I(d-07)', 'd-03'])\n",
      "dict_keys(['I(d-02)', 'd-01', 'I(d-07)', 'd-03', 'f-79', 'd-04'])\n"
     ]
    },
    {
     "data": {
      "image/svg+xml": [
       "<svg height=\"456pt\" viewBox=\"0.00 0.00 351.14 455.89\" width=\"351pt\" xmlns=\"http://www.w3.org/2000/svg\" xmlns:xlink=\"http://www.w3.org/1999/xlink\">\n",
       "<g class=\"graph\" id=\"graph0\" transform=\"scale(1 1) rotate(0) translate(4 451.886)\">\n",
       "<title>G</title>\n",
       "<polygon fill=\"white\" points=\"-4,4 -4,-451.886 347.141,-451.886 347.141,4 -4,4\" stroke=\"none\"/>\n",
       "<!-- d&#45;03 -->\n",
       "<g class=\"node\" id=\"node1\"><title>d-03</title>\n",
       "<ellipse cx=\"26.6476\" cy=\"-26.6476\" fill=\"none\" rx=\"26.7961\" ry=\"26.7961\" stroke=\"black\"/>\n",
       "<text font-family=\"Times,serif\" font-size=\"14.00\" text-anchor=\"middle\" x=\"26.6476\" y=\"-22.9476\">d-03</text>\n",
       "</g>\n",
       "<!-- f&#45;79 -->\n",
       "<g class=\"node\" id=\"node3\"><title>f-79</title>\n",
       "<polygon fill=\"none\" points=\"120.648,-161.295 48.6476,-161.295 48.6476,-89.2953 120.648,-89.2953 120.648,-161.295\" stroke=\"black\"/>\n",
       "<text font-family=\"Times,serif\" font-size=\"14.00\" text-anchor=\"middle\" x=\"84.6476\" y=\"-121.595\">f-79</text>\n",
       "</g>\n",
       "<!-- d&#45;03&#45;&gt;f&#45;79 -->\n",
       "<g class=\"edge\" id=\"edge1\"><title>d-03-&gt;f-79</title>\n",
       "<path d=\"M40.0998,-50.0635C45.5378,-59.125 52.0113,-69.912 58.3152,-80.4166\" fill=\"none\" stroke=\"black\"/>\n",
       "<polygon fill=\"black\" points=\"55.3974,-82.3564 63.5442,-89.1299 61.3996,-78.7543 55.3974,-82.3564\" stroke=\"black\"/>\n",
       "</g>\n",
       "<!-- d&#45;04 -->\n",
       "<g class=\"node\" id=\"node2\"><title>d-04</title>\n",
       "<ellipse cx=\"84.6476\" cy=\"-223.943\" fill=\"none\" rx=\"26.7961\" ry=\"26.7961\" stroke=\"black\"/>\n",
       "<text font-family=\"Times,serif\" font-size=\"14.00\" text-anchor=\"middle\" x=\"84.6476\" y=\"-220.243\">d-04</text>\n",
       "</g>\n",
       "<!-- f&#45;08 -->\n",
       "<g class=\"node\" id=\"node7\"><title>f-08</title>\n",
       "<polygon fill=\"none\" points=\"191.648,-358.591 119.648,-358.591 119.648,-286.591 191.648,-286.591 191.648,-358.591\" stroke=\"black\"/>\n",
       "<text font-family=\"Times,serif\" font-size=\"14.00\" text-anchor=\"middle\" x=\"155.648\" y=\"-318.891\">f-08</text>\n",
       "</g>\n",
       "<!-- d&#45;04&#45;&gt;f&#45;08 -->\n",
       "<g class=\"edge\" id=\"edge2\"><title>d-04-&gt;f-08</title>\n",
       "<path d=\"M100.054,-245.914C107.011,-255.385 115.504,-266.946 123.737,-278.153\" fill=\"none\" stroke=\"black\"/>\n",
       "<polygon fill=\"black\" points=\"120.919,-280.229 129.66,-286.216 126.56,-276.084 120.919,-280.229\" stroke=\"black\"/>\n",
       "</g>\n",
       "<!-- f&#45;79&#45;&gt;d&#45;04 -->\n",
       "<g class=\"edge\" id=\"edge3\"><title>f-79-&gt;d-04</title>\n",
       "<path d=\"M84.6476,-161.461C84.6476,-169.734 84.6476,-178.564 84.6476,-186.876\" fill=\"none\" stroke=\"black\"/>\n",
       "<polygon fill=\"black\" points=\"81.1477,-187.046 84.6476,-197.046 88.1477,-187.046 81.1477,-187.046\" stroke=\"black\"/>\n",
       "</g>\n",
       "<!-- I(d&#45;07) -->\n",
       "<g class=\"node\" id=\"node4\"><title>I(d-07)</title>\n",
       "<polygon fill=\"none\" points=\"142.648,-3.64764 214.135,-38.1476 71.1603,-38.1476 142.648,-3.64764\" stroke=\"black\"/>\n",
       "<text font-family=\"Times,serif\" font-size=\"14.00\" text-anchor=\"middle\" x=\"142.648\" y=\"-22.9476\">I(d-07)</text>\n",
       "</g>\n",
       "<!-- I(d&#45;07)&#45;&gt;f&#45;79 -->\n",
       "<g class=\"edge\" id=\"edge4\"><title>I(d-07)-&gt;f-79</title>\n",
       "<path d=\"M136.219,-38.3599C130.105,-48.5487 120.486,-64.5756 111.205,-80.0423\" fill=\"none\" stroke=\"black\"/>\n",
       "<polygon fill=\"black\" points=\"107.952,-78.6603 105.807,-89.0358 113.954,-82.2623 107.952,-78.6603\" stroke=\"black\"/>\n",
       "</g>\n",
       "<!-- d&#45;01 -->\n",
       "<g class=\"node\" id=\"node5\"><title>d-01</title>\n",
       "<ellipse cx=\"155.648\" cy=\"-223.943\" fill=\"none\" rx=\"26.7961\" ry=\"26.7961\" stroke=\"black\"/>\n",
       "<text font-family=\"Times,serif\" font-size=\"14.00\" text-anchor=\"middle\" x=\"155.648\" y=\"-220.243\">d-01</text>\n",
       "</g>\n",
       "<!-- d&#45;01&#45;&gt;f&#45;08 -->\n",
       "<g class=\"edge\" id=\"edge5\"><title>d-01-&gt;f-08</title>\n",
       "<path d=\"M155.648,-250.843C155.648,-258.72 155.648,-267.618 155.648,-276.379\" fill=\"none\" stroke=\"black\"/>\n",
       "<polygon fill=\"black\" points=\"152.148,-276.532 155.648,-286.532 159.148,-276.532 152.148,-276.532\" stroke=\"black\"/>\n",
       "</g>\n",
       "<!-- d&#45;07 -->\n",
       "<g class=\"node\" id=\"node6\"><title>d-07</title>\n",
       "<ellipse cx=\"155.648\" cy=\"-421.238\" fill=\"none\" rx=\"26.7961\" ry=\"26.7961\" stroke=\"black\"/>\n",
       "<text font-family=\"Times,serif\" font-size=\"14.00\" text-anchor=\"middle\" x=\"155.648\" y=\"-417.538\">d-07</text>\n",
       "</g>\n",
       "<!-- f&#45;08&#45;&gt;d&#45;07 -->\n",
       "<g class=\"edge\" id=\"edge6\"><title>f-08-&gt;d-07</title>\n",
       "<path d=\"M155.648,-358.756C155.648,-367.029 155.648,-375.859 155.648,-384.171\" fill=\"none\" stroke=\"black\"/>\n",
       "<polygon fill=\"black\" points=\"152.148,-384.341 155.648,-394.341 159.148,-384.341 152.148,-384.341\" stroke=\"black\"/>\n",
       "</g>\n",
       "<!-- I(d&#45;02) -->\n",
       "<g class=\"node\" id=\"node8\"><title>I(d-02)</title>\n",
       "<polygon fill=\"none\" points=\"271.648,-200.943 343.135,-235.443 200.16,-235.443 271.648,-200.943\" stroke=\"black\"/>\n",
       "<text font-family=\"Times,serif\" font-size=\"14.00\" text-anchor=\"middle\" x=\"271.648\" y=\"-220.243\">I(d-02)</text>\n",
       "</g>\n",
       "<!-- I(d&#45;02)&#45;&gt;f&#45;08 -->\n",
       "<g class=\"edge\" id=\"edge7\"><title>I(d-02)-&gt;f-08</title>\n",
       "<path d=\"M258.79,-235.655C244.563,-247.509 220.852,-267.264 199.749,-284.847\" fill=\"none\" stroke=\"black\"/>\n",
       "<polygon fill=\"black\" points=\"197.257,-282.368 191.814,-291.458 201.737,-287.746 197.257,-282.368\" stroke=\"black\"/>\n",
       "</g>\n",
       "</g>\n",
       "</svg>"
      ],
      "text/plain": [
       "<IPython.core.display.SVG object>"
      ]
     },
     "metadata": {},
     "output_type": "display_data"
    }
   ],
   "source": []
  },
  {
   "cell_type": "markdown",
   "metadata": {},
   "source": [
    "# Imputation"
   ]
  },
  {
   "cell_type": "code",
   "execution_count": null,
   "metadata": {},
   "outputs": [],
   "source": []
  },
  {
   "cell_type": "markdown",
   "metadata": {},
   "source": [
    "# Generality\n",
    "\n",
    "In the previous sections, I have demonstrated the current capa"
   ]
  },
  {
   "cell_type": "code",
   "execution_count": null,
   "metadata": {},
   "outputs": [],
   "source": []
  }
 ],
 "metadata": {
  "kernelspec": {
   "display_name": "Py-morpheus",
   "language": "python",
   "name": "morpheus"
  },
  "language_info": {
   "codemirror_mode": {
    "name": "ipython",
    "version": 3
   },
   "file_extension": ".py",
   "mimetype": "text/x-python",
   "name": "python",
   "nbconvert_exporter": "python",
   "pygments_lexer": "ipython3",
   "version": "3.7.3"
  },
  "toc-autonumbering": true
 },
 "nbformat": 4,
 "nbformat_minor": 2
}
