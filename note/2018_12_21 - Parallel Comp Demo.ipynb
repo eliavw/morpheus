{
 "cells": [
  {
   "cell_type": "markdown",
   "metadata": {},
   "source": [
    "# Parallel Composition Demo\n",
    "\n",
    "Basically, designing some tests."
   ]
  },
  {
   "cell_type": "markdown",
   "metadata": {},
   "source": [
    "## Prelims"
   ]
  },
  {
   "cell_type": "code",
   "execution_count": 1,
   "metadata": {},
   "outputs": [
    {
     "name": "stderr",
     "output_type": "stream",
     "text": [
      "/home/elia/Software/anaconda3/lib/python3.6/site-packages/sklearn/ensemble/weight_boosting.py:29: DeprecationWarning: numpy.core.umath_tests is an internal NumPy module and should not be imported. It will be removed in a future NumPy release.\n",
      "  from numpy.core.umath_tests import inner1d\n"
     ]
    }
   ],
   "source": [
    "import os, sys\n",
    "import pandas as pd\n",
    "import numpy as np\n",
    "import sklearn\n",
    "from sklearn.tree import DecisionTreeClassifier\n",
    "from sklearn.ensemble import RandomForestClassifier\n",
    "\n",
    "from os.path import dirname"
   ]
  },
  {
   "cell_type": "code",
   "execution_count": 2,
   "metadata": {},
   "outputs": [],
   "source": [
    "note_dir = os.getcwd()\n",
    "root_dir = dirname(note_dir)\n",
    "data_dir = os.path.join(root_dir, 'resc', 'data', 'tidy','nltcs')\n",
    "src_dir = os.path.join(root_dir, \"src\")\n",
    "\n",
    "sys.path.append(src_dir)"
   ]
  },
  {
   "cell_type": "code",
   "execution_count": 3,
   "metadata": {},
   "outputs": [],
   "source": [
    "import morpheus"
   ]
  },
  {
   "cell_type": "code",
   "execution_count": null,
   "metadata": {
    "collapsed": true
   },
   "outputs": [],
   "source": []
  },
  {
   "cell_type": "code",
   "execution_count": 4,
   "metadata": {
    "collapsed": true
   },
   "outputs": [],
   "source": [
    "# Filter relevant stuff out\n",
    "rel_fnames = [os.path.join(data_dir, f) for f in os.listdir(data_dir)\n",
    "              if 'F00' in f\n",
    "              if 'bayesfusion' not in f]\n",
    "\n",
    "train_fn, test_fn = rel_fnames[0], rel_fnames[1]\n",
    "\n",
    "# Get dfs\n",
    "df_train, df_test = pd.read_csv(train_fn, header=None), pd.read_csv(test_fn, header=None)\n",
    "\n",
    "# Get np.arrays\n",
    "train, test = df_train.values, df_test.values"
   ]
  },
  {
   "cell_type": "markdown",
   "metadata": {},
   "source": [
    "## Creating Dataset"
   ]
  },
  {
   "cell_type": "code",
   "execution_count": 5,
   "metadata": {
    "collapsed": true
   },
   "outputs": [],
   "source": [
    "def add_extra_column(a):\n",
    "    assert isinstance(a, np.ndarray)\n",
    "    n_rows, n_atts = a.shape\n",
    "    \n",
    "    extra_col = np.random.randint(1,4, size=(n_rows, 1))\n",
    "    extra_col.sort(axis=0)\n",
    "    \n",
    "    return np.concatenate((a, extra_col), axis=1)"
   ]
  },
  {
   "cell_type": "code",
   "execution_count": 6,
   "metadata": {},
   "outputs": [],
   "source": [
    "train, test = train[:,0:6], test[:, 0:6]"
   ]
  },
  {
   "cell_type": "code",
   "execution_count": 7,
   "metadata": {},
   "outputs": [],
   "source": [
    "train, test = add_extra_column(train), add_extra_column(test)"
   ]
  },
  {
   "cell_type": "markdown",
   "metadata": {},
   "source": [
    "## Merging identical models\n",
    "\n",
    "This really should not be an issue."
   ]
  },
  {
   "cell_type": "markdown",
   "metadata": {},
   "source": [
    "### Learning individual estimators"
   ]
  },
  {
   "cell_type": "code",
   "execution_count": 8,
   "metadata": {
    "collapsed": true
   },
   "outputs": [],
   "source": [
    "def learn_model(train, desc_ids, targ_ids, **kwargs):\n",
    "    X, Y = train[:, desc_ids], train[:, targ_ids]\n",
    "    \n",
    "    clf = RandomForestClassifier(**kwargs)\n",
    "    clf.desc_ids = desc_ids\n",
    "    clf.targ_ids = targ_ids\n",
    "    \n",
    "    if X.shape[1]==1: X = X.ravel()\n",
    "    if Y.shape[1]==1: Y = Y.ravel()\n",
    "\n",
    "    clf.fit(X, Y)\n",
    "    return clf"
   ]
  },
  {
   "cell_type": "code",
   "execution_count": 9,
   "metadata": {},
   "outputs": [
    {
     "name": "stdout",
     "output_type": "stream",
     "text": [
      "19416 7\n"
     ]
    }
   ],
   "source": [
    "n_rows, n_atts = train.shape\n",
    "print(n_rows, n_atts)"
   ]
  },
  {
   "cell_type": "code",
   "execution_count": 10,
   "metadata": {},
   "outputs": [
    {
     "data": {
      "text/plain": [
       "[0, 1, 2, 3, 4, 5, 6]"
      ]
     },
     "execution_count": 10,
     "metadata": {},
     "output_type": "execute_result"
    }
   ],
   "source": [
    "atts_ids = list(range(n_atts))\n",
    "atts_ids"
   ]
  },
  {
   "cell_type": "markdown",
   "metadata": {},
   "source": [
    "We assume the last n attributes to be the targets."
   ]
  },
  {
   "cell_type": "code",
   "execution_count": 11,
   "metadata": {
    "collapsed": true
   },
   "outputs": [],
   "source": [
    "n_targs = 1\n",
    "desc_ids = atts_ids[:-n_targs]\n",
    "targ_ids = atts_ids[-n_targs:]"
   ]
  },
  {
   "cell_type": "code",
   "execution_count": 12,
   "metadata": {},
   "outputs": [],
   "source": [
    "m_list = []\n",
    "for m_idx in range(2):\n",
    "    m = learn_model(train, desc_ids, targ_ids)\n",
    "    m.desc_ids = desc_ids\n",
    "    m.targ_ids = targ_ids\n",
    "    m_list.append(m)"
   ]
  },
  {
   "cell_type": "markdown",
   "metadata": {},
   "source": [
    "### Composing estimators"
   ]
  },
  {
   "cell_type": "code",
   "execution_count": 13,
   "metadata": {},
   "outputs": [],
   "source": [
    "pc = morpheus.ParallelComposition()\n",
    "\n",
    "for m in m_list:\n",
    "    pc.add_estimator(m)"
   ]
  },
  {
   "cell_type": "code",
   "execution_count": null,
   "metadata": {},
   "outputs": [],
   "source": []
  },
  {
   "cell_type": "code",
   "execution_count": 14,
   "metadata": {},
   "outputs": [
    {
     "data": {
      "text/plain": [
       "(array([0., 1., 2., 3., 4., 5.]), array([6.]))"
      ]
     },
     "execution_count": 14,
     "metadata": {},
     "output_type": "execute_result"
    }
   ],
   "source": [
    "pc.desc_ids, pc.targ_ids"
   ]
  },
  {
   "cell_type": "code",
   "execution_count": 15,
   "metadata": {},
   "outputs": [
    {
     "data": {
      "text/plain": [
       "[array([1., 2., 3.])]"
      ]
     },
     "execution_count": 15,
     "metadata": {},
     "output_type": "execute_result"
    }
   ],
   "source": [
    "pc.classes_"
   ]
  },
  {
   "cell_type": "code",
   "execution_count": 16,
   "metadata": {},
   "outputs": [
    {
     "data": {
      "text/plain": [
       "(array([1, 2, 3]), array([1, 2, 3]))"
      ]
     },
     "execution_count": 16,
     "metadata": {},
     "output_type": "execute_result"
    }
   ],
   "source": [
    "m_list[0].classes_, m_list[1].classes_"
   ]
  },
  {
   "cell_type": "markdown",
   "metadata": {},
   "source": [
    "### Predictions"
   ]
  },
  {
   "cell_type": "code",
   "execution_count": 17,
   "metadata": {},
   "outputs": [
    {
     "data": {
      "text/plain": [
       "array([2.])"
      ]
     },
     "execution_count": 17,
     "metadata": {},
     "output_type": "execute_result"
    }
   ],
   "source": [
    "pc.targ_weights"
   ]
  },
  {
   "cell_type": "code",
   "execution_count": 18,
   "metadata": {},
   "outputs": [
    {
     "data": {
      "text/plain": [
       "['nominal']"
      ]
     },
     "execution_count": 18,
     "metadata": {},
     "output_type": "execute_result"
    }
   ],
   "source": [
    "pc.targ_types "
   ]
  },
  {
   "cell_type": "code",
   "execution_count": 19,
   "metadata": {},
   "outputs": [
    {
     "data": {
      "text/plain": [
       "array([[0.34161002, 0.33561552, 0.32277446],\n",
       "       [0.32641046, 0.33854101, 0.33504854],\n",
       "       [0.35685126, 0.33205136, 0.31109737],\n",
       "       ...,\n",
       "       [0.34161002, 0.33561552, 0.32277446],\n",
       "       [0.34161002, 0.33561552, 0.32277446],\n",
       "       [0.35685126, 0.33205136, 0.31109737]])"
      ]
     },
     "execution_count": 19,
     "metadata": {},
     "output_type": "execute_result"
    }
   ],
   "source": [
    "pc.predict_proba(test[:, desc_ids])"
   ]
  },
  {
   "cell_type": "markdown",
   "metadata": {},
   "source": [
    "## Merging slightly different models."
   ]
  },
  {
   "cell_type": "markdown",
   "metadata": {},
   "source": [
    "### Challenge one: different targets."
   ]
  },
  {
   "cell_type": "code",
   "execution_count": 20,
   "metadata": {},
   "outputs": [],
   "source": [
    "n_targs = 1\n",
    "\n",
    "targ_ids_1 = [6]\n",
    "desc_ids_1 = [0,1,2,3]\n",
    "\n",
    "targ_ids_2 = [5]\n",
    "desc_ids_2 = [0,1,2,3]\n",
    "\n",
    "all_desc_ids = [desc_ids_1, desc_ids_2]\n",
    "all_targ_ids = [targ_ids_1, targ_ids_2]\n",
    "\n"
   ]
  },
  {
   "cell_type": "code",
   "execution_count": 21,
   "metadata": {},
   "outputs": [
    {
     "data": {
      "text/plain": [
       "[0, 1, 2, 3, 4, 5, 6]"
      ]
     },
     "execution_count": 21,
     "metadata": {},
     "output_type": "execute_result"
    }
   ],
   "source": [
    "atts_ids"
   ]
  },
  {
   "cell_type": "code",
   "execution_count": 22,
   "metadata": {},
   "outputs": [
    {
     "name": "stdout",
     "output_type": "stream",
     "text": [
      "[0, 1, 2, 3] [6]\n",
      "[0, 1, 2, 3] [5]\n"
     ]
    }
   ],
   "source": [
    "m_list = []\n",
    "ids = zip(all_desc_ids, all_targ_ids)\n",
    "for desc_ids, targ_ids in ids:\n",
    "    print(desc_ids, targ_ids)\n",
    "    m = learn_model(train, desc_ids, targ_ids)\n",
    "    m.desc_ids = desc_ids\n",
    "    m.targ_ids = targ_ids\n",
    "    m_list.append(m)"
   ]
  },
  {
   "cell_type": "code",
   "execution_count": null,
   "metadata": {},
   "outputs": [],
   "source": []
  },
  {
   "cell_type": "code",
   "execution_count": 32,
   "metadata": {
    "collapsed": true
   },
   "outputs": [],
   "source": [
    "pc2 = morpheus.ParallelComposition()\n",
    "\n",
    "for m in m_list:\n",
    "    pc2.add_estimator(m)"
   ]
  },
  {
   "cell_type": "code",
   "execution_count": 51,
   "metadata": {
    "collapsed": true
   },
   "outputs": [],
   "source": [
    "pc2.add_estimator(m_list[0])"
   ]
  },
  {
   "cell_type": "code",
   "execution_count": 52,
   "metadata": {
    "scrolled": true
   },
   "outputs": [
    {
     "name": "stdout",
     "output_type": "stream",
     "text": [
      "\n",
      "        # Main\n",
      "        Descriptive attributes:     [0. 1. 2. 3.]\n",
      "        Target attributes:          [5. 6.]\n",
      "        \n",
      "        # On types (mostly nominals)\n",
      "        Target attribute types:                     ['nominal', 'nominal']\n",
      "        N_classes of nominal target attributes:     [2, 3]\n",
      "        Classes of nominal target attributes:       [array([0., 1.]), array([1., 2., 3.])]\n",
      "        \n",
      "        # Weights\n",
      "        Total weights of target attributes:         [11.  6.]\n",
      "        \n"
     ]
    }
   ],
   "source": [
    "pc2.pretty_print()"
   ]
  },
  {
   "cell_type": "code",
   "execution_count": 53,
   "metadata": {},
   "outputs": [
    {
     "data": {
      "text/plain": [
       "[array([[0.87787441, 0.12212559],\n",
       "        [0.31215805, 0.68784195],\n",
       "        [0.87787441, 0.12212559],\n",
       "        ...,\n",
       "        [0.87787441, 0.12212559],\n",
       "        [0.87787441, 0.12212559],\n",
       "        [0.87787441, 0.12212559]]),\n",
       " array([[0.33534155, 0.33880594, 0.32585251],\n",
       "        [0.33579801, 0.33093043, 0.33327156],\n",
       "        [0.33534155, 0.33880594, 0.32585251],\n",
       "        ...,\n",
       "        [0.33534155, 0.33880594, 0.32585251],\n",
       "        [0.33534155, 0.33880594, 0.32585251],\n",
       "        [0.33534155, 0.33880594, 0.32585251]])]"
      ]
     },
     "execution_count": 53,
     "metadata": {},
     "output_type": "execute_result"
    }
   ],
   "source": [
    "pc2.predict_proba(test[:, desc_ids_1])"
   ]
  },
  {
   "cell_type": "code",
   "execution_count": null,
   "metadata": {
    "collapsed": true
   },
   "outputs": [],
   "source": []
  }
 ],
 "metadata": {
  "kernelspec": {
   "display_name": "Python [default]",
   "language": "python",
   "name": "python3"
  },
  "language_info": {
   "codemirror_mode": {
    "name": "ipython",
    "version": 3
   },
   "file_extension": ".py",
   "mimetype": "text/x-python",
   "name": "python",
   "nbconvert_exporter": "python",
   "pygments_lexer": "ipython3",
   "version": "3.6.1"
  },
  "toc": {
   "nav_menu": {},
   "number_sections": true,
   "sideBar": true,
   "skip_h1_title": true,
   "toc_cell": false,
   "toc_position": {},
   "toc_section_display": "block",
   "toc_window_display": false
  }
 },
 "nbformat": 4,
 "nbformat_minor": 2
}
