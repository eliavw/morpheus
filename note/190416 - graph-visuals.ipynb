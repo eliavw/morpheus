{
 "cells": [
  {
   "cell_type": "markdown",
   "metadata": {},
   "source": [
    "# Graph Visuals\n",
    "\n",
    "I just need something a bit more flexible than dotfiles..."
   ]
  },
  {
   "cell_type": "code",
   "execution_count": 1,
   "metadata": {
    "collapsed": true
   },
   "outputs": [],
   "source": [
    "import networkx as nx\n",
    "import visJS2jupyter.visJS_module"
   ]
  },
  {
   "cell_type": "code",
   "execution_count": 4,
   "metadata": {
    "collapsed": true
   },
   "outputs": [],
   "source": [
    "\n",
    "\n",
    "G = nx.connected_watts_strogatz_graph(30, 5, 0.2)\n",
    "nodes = list(G.nodes()) # must cast to list to maintain compatibility between nx 1.11 and 2.0\n",
    "edges = list(G.edges()) # will return an \"EdgeView\" object in nx 2.0\n",
    "\n",
    "# define the initial positions of the nodes using networkx's spring_layout function, and add to the nodes_dict.\n",
    "pos = nx.spring_layout(G)"
   ]
  },
  {
   "cell_type": "code",
   "execution_count": 6,
   "metadata": {},
   "outputs": [
    {
     "data": {
      "text/html": [
       "<!doctype html><html><head>  <title>Network | Basic usage</title></head><body><script type=\"text/javascript\">function setUpFrame() {     var frame = window.frames[\"style_file0\"];    frame.runVis([{\"id\": 0, \"x\": 69.63394260365683, \"y\": -8.50876430458709, \"node_shape\": \"dot\", \"color\": \"#8BA8D3\", \"border_width\": 0, \"title\": 0, \"degree\": 3.0}, {\"id\": 1, \"x\": -47.113310852324936, \"y\": 63.84961469153669, \"node_shape\": \"dot\", \"color\": \"#8BA8D3\", \"border_width\": 0, \"title\": 1, \"degree\": 3.0}, {\"id\": 2, \"x\": -173.9239479158345, \"y\": 39.40088081299102, \"node_shape\": \"dot\", \"color\": \"#8BA8D3\", \"border_width\": 0, \"title\": 2, \"degree\": 3.0}, {\"id\": 3, \"x\": -101.50236988077796, \"y\": 155.68039653288147, \"node_shape\": \"dot\", \"color\": \"#8BA8D3\", \"border_width\": 0, \"title\": 3, \"degree\": 3.0}, {\"id\": 4, \"x\": -1.0202583694978975, \"y\": 241.778522775828, \"node_shape\": \"dot\", \"color\": \"#8BA8D3\", \"border_width\": 0, \"title\": 4, \"degree\": 3.0}, {\"id\": 5, \"x\": 259.3367026123092, \"y\": -112.6809393559862, \"node_shape\": \"dot\", \"color\": \"#8BA8D3\", \"border_width\": 0, \"title\": 5, \"degree\": 3.0}, {\"id\": 6, \"x\": 124.91653309828415, \"y\": 129.0594265619328, \"node_shape\": \"dot\", \"color\": \"#8BA8D3\", \"border_width\": 0, \"title\": 6, \"degree\": 3.0}, {\"id\": 7, \"x\": 258.4957002286235, \"y\": 21.427725580333092, \"node_shape\": \"dot\", \"color\": \"#8BA8D3\", \"border_width\": 0, \"title\": 7, \"degree\": 3.0}, {\"id\": 8, \"x\": 245.74449293580045, \"y\": -58.42617180402812, \"node_shape\": \"dot\", \"color\": \"#8BA8D3\", \"border_width\": 0, \"title\": 8, \"degree\": 3.0}, {\"id\": 9, \"x\": 227.46010583604686, \"y\": 87.15343726170701, \"node_shape\": \"dot\", \"color\": \"#8BA8D3\", \"border_width\": 0, \"title\": 9, \"degree\": 3.0}, {\"id\": 10, \"x\": 181.00142413009118, \"y\": 201.99870242556435, \"node_shape\": \"dot\", \"color\": \"#8BA8D3\", \"border_width\": 0, \"title\": 10, \"degree\": 3.0}, {\"id\": 11, \"x\": 76.526375689813, \"y\": 103.46512905707289, \"node_shape\": \"dot\", \"color\": \"#8BA8D3\", \"border_width\": 0, \"title\": 11, \"degree\": 3.0}, {\"id\": 12, \"x\": 76.74602674858627, \"y\": 258.73114601521104, \"node_shape\": \"dot\", \"color\": \"#8BA8D3\", \"border_width\": 0, \"title\": 12, \"degree\": 3.0}, {\"id\": 13, \"x\": -16.421021028201903, \"y\": 144.163054133171, \"node_shape\": \"dot\", \"color\": \"#8BA8D3\", \"border_width\": 0, \"title\": 13, \"degree\": 3.0}, {\"id\": 14, \"x\": 3.056005526483358, \"y\": 184.13158560213944, \"node_shape\": \"dot\", \"color\": \"#8BA8D3\", \"border_width\": 0, \"title\": 14, \"degree\": 3.0}, {\"id\": 15, \"x\": -112.82786849848186, \"y\": 12.396014385841639, \"node_shape\": \"dot\", \"color\": \"#8BA8D3\", \"border_width\": 0, \"title\": 15, \"degree\": 3.0}, {\"id\": 16, \"x\": -40.60858927522541, \"y\": 30.67387854677209, \"node_shape\": \"dot\", \"color\": \"#8BA8D3\", \"border_width\": 0, \"title\": 16, \"degree\": 3.0}, {\"id\": 17, \"x\": 133.16841727724415, \"y\": -185.3555956749719, \"node_shape\": \"dot\", \"color\": \"#8BA8D3\", \"border_width\": 0, \"title\": 17, \"degree\": 3.0}, {\"id\": 18, \"x\": 9.922142765653152, \"y\": -144.29782867856898, \"node_shape\": \"dot\", \"color\": \"#8BA8D3\", \"border_width\": 0, \"title\": 18, \"degree\": 3.0}, {\"id\": 19, \"x\": 0.8548696140749737, \"y\": -200.60943164290617, \"node_shape\": \"dot\", \"color\": \"#8BA8D3\", \"border_width\": 0, \"title\": 19, \"degree\": 3.0}, {\"id\": 20, \"x\": 103.92593390131582, \"y\": -115.94551261123793, \"node_shape\": \"dot\", \"color\": \"#8BA8D3\", \"border_width\": 0, \"title\": 20, \"degree\": 3.0}, {\"id\": 21, \"x\": -172.516668063371, \"y\": -124.58888996906504, \"node_shape\": \"dot\", \"color\": \"#8BA8D3\", \"border_width\": 0, \"title\": 21, \"degree\": 3.0}, {\"id\": 22, \"x\": -253.68778167904, \"y\": -87.57582899184193, \"node_shape\": \"dot\", \"color\": \"#8BA8D3\", \"border_width\": 0, \"title\": 22, \"degree\": 3.0}, {\"id\": 23, \"x\": -299.99999999999994, \"y\": -157.56853401768808, \"node_shape\": \"dot\", \"color\": \"#8BA8D3\", \"border_width\": 0, \"title\": 23, \"degree\": 3.0}, {\"id\": 24, \"x\": -257.26640502007524, \"y\": -200.39709866677765, \"node_shape\": \"dot\", \"color\": \"#8BA8D3\", \"border_width\": 0, \"title\": 24, \"degree\": 3.0}, {\"id\": 25, \"x\": -220.1118955103769, \"y\": -126.15756701978466, \"node_shape\": \"dot\", \"color\": \"#8BA8D3\", \"border_width\": 0, \"title\": 25, \"degree\": 3.0}, {\"id\": 26, \"x\": -128.38241251815884, \"y\": -189.34248036583313, \"node_shape\": \"dot\", \"color\": \"#8BA8D3\", \"border_width\": 0, \"title\": 26, \"degree\": 3.0}, {\"id\": 27, \"x\": 53.67509975556938, \"y\": 141.63313128188884, \"node_shape\": \"dot\", \"color\": \"#8BA8D3\", \"border_width\": 0, \"title\": 27, \"degree\": 3.0}, {\"id\": 28, \"x\": -26.53685292796514, \"y\": -99.8286243686644, \"node_shape\": \"dot\", \"color\": \"#8BA8D3\", \"border_width\": 0, \"title\": 28, \"degree\": 3.0}, {\"id\": 29, \"x\": 27.45560881577889, \"y\": -4.259378192930369, \"node_shape\": \"dot\", \"color\": \"#8BA8D3\", \"border_width\": 0, \"title\": 29, \"degree\": 3.0}], [{\"source\": 0, \"target\": 1, \"title\": \"test\"}, {\"source\": 0, \"target\": 29, \"title\": \"test\"}, {\"source\": 0, \"target\": 28, \"title\": \"test\"}, {\"source\": 0, \"target\": 20, \"title\": \"test\"}, {\"source\": 0, \"target\": 6, \"title\": \"test\"}, {\"source\": 1, \"target\": 2, \"title\": \"test\"}, {\"source\": 1, \"target\": 29, \"title\": \"test\"}, {\"source\": 1, \"target\": 13, \"title\": \"test\"}, {\"source\": 2, \"target\": 3, \"title\": \"test\"}, {\"source\": 2, \"target\": 21, \"title\": \"test\"}, {\"source\": 3, \"target\": 4, \"title\": \"test\"}, {\"source\": 3, \"target\": 14, \"title\": \"test\"}, {\"source\": 3, \"target\": 16, \"title\": \"test\"}, {\"source\": 4, \"target\": 6, \"title\": \"test\"}, {\"source\": 4, \"target\": 14, \"title\": \"test\"}, {\"source\": 5, \"target\": 7, \"title\": \"test\"}, {\"source\": 5, \"target\": 20, \"title\": \"test\"}, {\"source\": 6, \"target\": 7, \"title\": \"test\"}, {\"source\": 6, \"target\": 14, \"title\": \"test\"}, {\"source\": 7, \"target\": 8, \"title\": \"test\"}, {\"source\": 7, \"target\": 9, \"title\": \"test\"}, {\"source\": 8, \"target\": 9, \"title\": \"test\"}, {\"source\": 8, \"target\": 17, \"title\": \"test\"}, {\"source\": 9, \"target\": 10, \"title\": \"test\"}, {\"source\": 9, \"target\": 11, \"title\": \"test\"}, {\"source\": 10, \"target\": 11, \"title\": \"test\"}, {\"source\": 10, \"target\": 12, \"title\": \"test\"}, {\"source\": 11, \"target\": 13, \"title\": \"test\"}, {\"source\": 11, \"target\": 15, \"title\": \"test\"}, {\"source\": 12, \"target\": 13, \"title\": \"test\"}, {\"source\": 12, \"target\": 14, \"title\": \"test\"}, {\"source\": 13, \"target\": 14, \"title\": \"test\"}, {\"source\": 13, \"target\": 15, \"title\": \"test\"}, {\"source\": 13, \"target\": 27, \"title\": \"test\"}, {\"source\": 14, \"target\": 16, \"title\": \"test\"}, {\"source\": 15, \"target\": 16, \"title\": \"test\"}, {\"source\": 15, \"target\": 22, \"title\": \"test\"}, {\"source\": 15, \"target\": 25, \"title\": \"test\"}, {\"source\": 16, \"target\": 18, \"title\": \"test\"}, {\"source\": 16, \"target\": 29, \"title\": \"test\"}, {\"source\": 17, \"target\": 18, \"title\": \"test\"}, {\"source\": 17, \"target\": 19, \"title\": \"test\"}, {\"source\": 18, \"target\": 19, \"title\": \"test\"}, {\"source\": 18, \"target\": 20, \"title\": \"test\"}, {\"source\": 18, \"target\": 26, \"title\": \"test\"}, {\"source\": 19, \"target\": 20, \"title\": \"test\"}, {\"source\": 19, \"target\": 21, \"title\": \"test\"}, {\"source\": 20, \"target\": 29, \"title\": \"test\"}, {\"source\": 21, \"target\": 22, \"title\": \"test\"}, {\"source\": 21, \"target\": 23, \"title\": \"test\"}, {\"source\": 22, \"target\": 23, \"title\": \"test\"}, {\"source\": 22, \"target\": 24, \"title\": \"test\"}, {\"source\": 23, \"target\": 24, \"title\": \"test\"}, {\"source\": 23, \"target\": 25, \"title\": \"test\"}, {\"source\": 24, \"target\": 25, \"title\": \"test\"}, {\"source\": 24, \"target\": 26, \"title\": \"test\"}, {\"source\": 25, \"target\": 26, \"title\": \"test\"}, {\"source\": 26, \"target\": 28, \"title\": \"test\"}, {\"source\": 27, \"target\": 29, \"title\": \"test\"}, {\"source\": 28, \"target\": 29, \"title\": \"test\"}]);}</script><iframe name=\"style_file0\" src=\"style_file0.html\" width=\"100%;\" height=\"805px\"></iframe></body></html>"
      ],
      "text/plain": [
       "<IPython.core.display.HTML object>"
      ]
     },
     "execution_count": 6,
     "metadata": {},
     "output_type": "execute_result"
    }
   ],
   "source": [
    "\n",
    "\n",
    "nodes_dict = [{\"id\":n,\n",
    "              \"x\":pos[n][0]*300,\n",
    "              \"y\":pos[n][1]*300} for n in nodes]\n",
    "\n",
    "node_map = dict(zip(nodes,range(len(nodes))))  # map to indices for source/target in edges\n",
    "\n",
    "edges_dict = [{\"source\":node_map[edges[i][0]], \"target\":node_map[edges[i][1]], \n",
    "              \"title\":'test'} for i in range(len(edges))]\n",
    "\n",
    "visJS2jupyter.visJS_module.visjs_network(nodes_dict, edges_dict)"
   ]
  },
  {
   "cell_type": "code",
   "execution_count": null,
   "metadata": {
    "collapsed": true
   },
   "outputs": [],
   "source": []
  },
  {
   "cell_type": "code",
   "execution_count": null,
   "metadata": {
    "collapsed": true
   },
   "outputs": [],
   "source": []
  }
 ],
 "metadata": {
  "kernelspec": {
   "display_name": "Python [conda env:morpheus]",
   "language": "python",
   "name": "conda-env-morpheus-py"
  },
  "language_info": {
   "codemirror_mode": {
    "name": "ipython",
    "version": 3
   },
   "file_extension": ".py",
   "mimetype": "text/x-python",
   "name": "python",
   "nbconvert_exporter": "python",
   "pygments_lexer": "ipython3",
   "version": "3.6.7"
  },
  "toc": {
   "nav_menu": {},
   "number_sections": true,
   "sideBar": true,
   "skip_h1_title": true,
   "toc_cell": false,
   "toc_position": {},
   "toc_section_display": "block",
   "toc_window_display": false
  }
 },
 "nbformat": 4,
 "nbformat_minor": 2
}
