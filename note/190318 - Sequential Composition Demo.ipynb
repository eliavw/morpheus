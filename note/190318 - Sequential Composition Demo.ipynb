{
 "cells": [
  {
   "cell_type": "markdown",
   "metadata": {},
   "source": [
    "# Sequential Composition Demo\n",
    "\n",
    "Trying to see if sequential composition is viable."
   ]
  },
  {
   "cell_type": "markdown",
   "metadata": {
    "heading_collapsed": true
   },
   "source": [
    "## Imports"
   ]
  },
  {
   "cell_type": "code",
   "execution_count": 1,
   "metadata": {
    "collapsed": true,
    "hidden": true
   },
   "outputs": [],
   "source": [
    "import os, sys\n",
    "import pandas as pd\n",
    "import numpy as np\n",
    "import sklearn\n",
    "import matplotlib.pyplot as plt\n",
    "import seaborn as sns\n",
    "\n",
    "from sklearn.tree import (DecisionTreeClassifier,\n",
    "                          DecisionTreeRegressor)\n",
    "from sklearn.ensemble import (RandomForestClassifier,\n",
    "                              RandomForestRegressor)\n",
    "from sklearn.datasets import make_classification\n",
    "from sklearn.model_selection import train_test_split\n",
    "\n",
    "from os.path import dirname"
   ]
  },
  {
   "cell_type": "code",
   "execution_count": 2,
   "metadata": {
    "collapsed": true,
    "hidden": true
   },
   "outputs": [],
   "source": [
    "note_dir = os.getcwd()\n",
    "root_dir = dirname(note_dir)\n",
    "data_dir = os.path.join(root_dir, 'resc', 'data', 'tidy','nltcs')\n",
    "src_dir = os.path.join(root_dir, \"src\")\n",
    "\n",
    "sys.path.append(src_dir)"
   ]
  },
  {
   "cell_type": "code",
   "execution_count": 3,
   "metadata": {
    "collapsed": true,
    "hidden": true
   },
   "outputs": [],
   "source": [
    "import morpheus"
   ]
  },
  {
   "cell_type": "markdown",
   "metadata": {
    "heading_collapsed": true,
    "hidden": true
   },
   "source": [
    "### Functions"
   ]
  },
  {
   "cell_type": "code",
   "execution_count": 4,
   "metadata": {
    "collapsed": true,
    "hidden": true
   },
   "outputs": [],
   "source": [
    "def plot_corr(corr):\n",
    "    fig = plt.figure(figsize=((10,10))) # slightly larger\n",
    "    ax = fig.add_subplot(111)\n",
    "    cax = ax.matshow(corr,cmap='seismic')\n",
    "    fig.colorbar(cax)\n",
    "    \n",
    "    for (i, j), z in np.ndenumerate(corr):\n",
    "        ax.text(j, i, '{:0.4f}'.format(z), ha='center', va='center', color='w')\n",
    "    return "
   ]
  },
  {
   "cell_type": "code",
   "execution_count": 5,
   "metadata": {
    "collapsed": true,
    "hidden": true
   },
   "outputs": [],
   "source": [
    "def summarize_dataset(df, samples=1000, random_state=997, replace=False):\n",
    "    \"\"\"\n",
    "    This function plots a grid of plots that give some insights into pairwise relationships between\n",
    "    the attributes in the dataset.\n",
    "    \n",
    "    Explicit correlations or special distributions should be very visible here.\n",
    "    \"\"\"\n",
    "    \n",
    "    df_subsample = df.sample(n=samples, replace=False, random_state=random_state)\n",
    "    \n",
    "    sns.set(style=\"ticks\", color_codes=True)\n",
    "    g = sns.PairGrid(df_subsample) # slice every 10 otherwise a bit slow\n",
    "    g = g.map_diag(plt.hist) # histograms on the diagonal\n",
    "    g = g.map_lower(sns.kdeplot, cmap=\"Blues_d\") # density plot on the lower plots\n",
    "    g = g.map_upper(plt.scatter) # scatter plots on the upper plots\n",
    "    return"
   ]
  },
  {
   "cell_type": "code",
   "execution_count": null,
   "metadata": {
    "collapsed": true,
    "hidden": true
   },
   "outputs": [],
   "source": []
  },
  {
   "cell_type": "markdown",
   "metadata": {
    "heading_collapsed": true
   },
   "source": [
    "## Data"
   ]
  },
  {
   "cell_type": "code",
   "execution_count": 6,
   "metadata": {
    "collapsed": true,
    "hidden": true
   },
   "outputs": [],
   "source": [
    "X, y = make_classification(n_samples=10**3,\n",
    "                           n_features=7,\n",
    "                           n_informative=7,\n",
    "                           n_repeated=0,\n",
    "                           n_redundant=0,\n",
    "                           n_clusters_per_class=2)"
   ]
  },
  {
   "cell_type": "code",
   "execution_count": 7,
   "metadata": {
    "hidden": true
   },
   "outputs": [
    {
     "data": {
      "text/plain": [
       "array([0., 1., 2., 3.])"
      ]
     },
     "execution_count": 7,
     "metadata": {},
     "output_type": "execute_result"
    }
   ],
   "source": [
    "# Jam extra nominal attribute in.\n",
    "X[:, 6] = np.abs(np.round(X[:, 6]/2, decimals=0))\n",
    "np.unique(X[:, 6])"
   ]
  },
  {
   "cell_type": "code",
   "execution_count": 8,
   "metadata": {
    "collapsed": true,
    "hidden": true
   },
   "outputs": [],
   "source": [
    "X_train, X_test, y_train, y_test = train_test_split(X,\n",
    "                                                    y,\n",
    "                                                    test_size=0.2,\n",
    "                                                    random_state=997)"
   ]
  },
  {
   "cell_type": "code",
   "execution_count": 9,
   "metadata": {
    "hidden": true
   },
   "outputs": [
    {
     "data": {
      "text/html": [
       "<div>\n",
       "<style scoped>\n",
       "    .dataframe tbody tr th:only-of-type {\n",
       "        vertical-align: middle;\n",
       "    }\n",
       "\n",
       "    .dataframe tbody tr th {\n",
       "        vertical-align: top;\n",
       "    }\n",
       "\n",
       "    .dataframe thead th {\n",
       "        text-align: right;\n",
       "    }\n",
       "</style>\n",
       "<table border=\"1\" class=\"dataframe\">\n",
       "  <thead>\n",
       "    <tr style=\"text-align: right;\">\n",
       "      <th></th>\n",
       "      <th>0</th>\n",
       "      <th>1</th>\n",
       "      <th>2</th>\n",
       "      <th>3</th>\n",
       "      <th>4</th>\n",
       "      <th>5</th>\n",
       "      <th>6</th>\n",
       "      <th>y</th>\n",
       "    </tr>\n",
       "  </thead>\n",
       "  <tbody>\n",
       "    <tr>\n",
       "      <th>0</th>\n",
       "      <td>0.526071</td>\n",
       "      <td>0.864342</td>\n",
       "      <td>-1.645083</td>\n",
       "      <td>-0.318183</td>\n",
       "      <td>-1.855823</td>\n",
       "      <td>-5.184087</td>\n",
       "      <td>1.0</td>\n",
       "      <td>0</td>\n",
       "    </tr>\n",
       "    <tr>\n",
       "      <th>1</th>\n",
       "      <td>2.536010</td>\n",
       "      <td>-2.820842</td>\n",
       "      <td>-0.430130</td>\n",
       "      <td>-2.936149</td>\n",
       "      <td>0.056191</td>\n",
       "      <td>1.137320</td>\n",
       "      <td>1.0</td>\n",
       "      <td>0</td>\n",
       "    </tr>\n",
       "    <tr>\n",
       "      <th>2</th>\n",
       "      <td>-2.546654</td>\n",
       "      <td>0.383768</td>\n",
       "      <td>-1.399507</td>\n",
       "      <td>1.171855</td>\n",
       "      <td>0.220974</td>\n",
       "      <td>-1.363808</td>\n",
       "      <td>1.0</td>\n",
       "      <td>1</td>\n",
       "    </tr>\n",
       "    <tr>\n",
       "      <th>3</th>\n",
       "      <td>-1.587711</td>\n",
       "      <td>0.027437</td>\n",
       "      <td>2.178196</td>\n",
       "      <td>-2.710667</td>\n",
       "      <td>0.499244</td>\n",
       "      <td>1.303139</td>\n",
       "      <td>0.0</td>\n",
       "      <td>1</td>\n",
       "    </tr>\n",
       "    <tr>\n",
       "      <th>4</th>\n",
       "      <td>1.158448</td>\n",
       "      <td>-2.634524</td>\n",
       "      <td>0.035017</td>\n",
       "      <td>-1.878411</td>\n",
       "      <td>-0.214121</td>\n",
       "      <td>0.482241</td>\n",
       "      <td>0.0</td>\n",
       "      <td>0</td>\n",
       "    </tr>\n",
       "  </tbody>\n",
       "</table>\n",
       "</div>"
      ],
      "text/plain": [
       "          0         1         2         3         4         5    6  y\n",
       "0  0.526071  0.864342 -1.645083 -0.318183 -1.855823 -5.184087  1.0  0\n",
       "1  2.536010 -2.820842 -0.430130 -2.936149  0.056191  1.137320  1.0  0\n",
       "2 -2.546654  0.383768 -1.399507  1.171855  0.220974 -1.363808  1.0  1\n",
       "3 -1.587711  0.027437  2.178196 -2.710667  0.499244  1.303139  0.0  1\n",
       "4  1.158448 -2.634524  0.035017 -1.878411 -0.214121  0.482241  0.0  0"
      ]
     },
     "execution_count": 9,
     "metadata": {},
     "output_type": "execute_result"
    }
   ],
   "source": [
    "df = pd.DataFrame(X_train)\n",
    "df = df.assign(y=y_train)\n",
    "df.head()"
   ]
  },
  {
   "cell_type": "code",
   "execution_count": 10,
   "metadata": {
    "hidden": true
   },
   "outputs": [
    {
     "data": {
      "image/png": "[encoded data removed]",
      "text/plain": [
       "<Figure size 720x720 with 2 Axes>"
      ]
     },
     "metadata": {
      "needs_background": "light"
     },
     "output_type": "display_data"
    }
   ],
   "source": [
    "corr = df.corr().values\n",
    "plot_corr(corr)"
   ]
  },
  {
   "cell_type": "code",
   "execution_count": 11,
   "metadata": {
    "collapsed": true,
    "hidden": true
   },
   "outputs": [],
   "source": [
    "#summarize_dataset(df, samples=100)"
   ]
  },
  {
   "cell_type": "markdown",
   "metadata": {},
   "source": [
    "## Learning Models"
   ]
  },
  {
   "cell_type": "code",
   "execution_count": 12,
   "metadata": {
    "collapsed": true
   },
   "outputs": [],
   "source": [
    "def learn_model(data, desc_ids, targ_ids, model, **kwargs):\n",
    "    \"\"\"\n",
    "    Learn a model from the data.\n",
    "    \n",
    "    The desc ids and targ ids identify which prediction task\n",
    "    you should try to learn from the data.\n",
    "    \n",
    "    Model is a machine learning method that has a .fit() method.\n",
    "    \"\"\"\n",
    "    X, Y = data[:, desc_ids], data[:, targ_ids]\n",
    "    \n",
    "    if X.shape[1]==1: X = X.ravel()\n",
    "    if Y.shape[1]==1: Y = Y.ravel()\n",
    "    \n",
    "    try:\n",
    "        clf = model(**kwargs)\n",
    "        clf.fit(X, Y)\n",
    "    except ValueError as e:\n",
    "        print(e)\n",
    "    \n",
    "    # Bookkeeping\n",
    "    clf.desc_ids = desc_ids\n",
    "    clf.targ_ids = targ_ids\n",
    "    return clf"
   ]
  },
  {
   "cell_type": "code",
   "execution_count": 13,
   "metadata": {},
   "outputs": [],
   "source": [
    "data = df.values # Extract numpy array from the pandas dataframe"
   ]
  },
  {
   "cell_type": "code",
   "execution_count": 14,
   "metadata": {},
   "outputs": [
    {
     "name": "stdout",
     "output_type": "stream",
     "text": [
      "Number of columns: 8\n"
     ]
    }
   ],
   "source": [
    "n,m = data.shape\n",
    "print(\"Number of columns: {}\".format(m))\n",
    "atts_ids = list(range(m))"
   ]
  },
  {
   "cell_type": "markdown",
   "metadata": {},
   "source": [
    "## Test 01 - Do Predictions"
   ]
  },
  {
   "cell_type": "markdown",
   "metadata": {},
   "source": [
    "We see whether or not prediction works correctly."
   ]
  },
  {
   "cell_type": "code",
   "execution_count": 15,
   "metadata": {
    "collapsed": true
   },
   "outputs": [],
   "source": [
    "# Extract test data\n",
    "df_test = pd.DataFrame(X_test)\n",
    "df_test = df_test.assign(y=y_test)\n",
    "test_data = df_test.values"
   ]
  },
  {
   "cell_type": "markdown",
   "metadata": {
    "collapsed": true
   },
   "source": [
    "We define some prediction models which we wish to chain afterwards"
   ]
  },
  {
   "cell_type": "code",
   "execution_count": 16,
   "metadata": {
    "collapsed": true
   },
   "outputs": [],
   "source": [
    "targ_ids_1 = [4,5]\n",
    "desc_ids_1 = [0,1,2]\n",
    "\n",
    "targ_ids_2 = [7]\n",
    "desc_ids_2 = [1,2,5]\n",
    "\n",
    "all_desc_ids = [desc_ids_1, desc_ids_2]\n",
    "all_targ_ids = [targ_ids_1, targ_ids_2]"
   ]
  },
  {
   "cell_type": "code",
   "execution_count": 17,
   "metadata": {},
   "outputs": [
    {
     "name": "stdout",
     "output_type": "stream",
     "text": [
      "[0, 1, 2] [4, 5]\n",
      "[1, 2, 5] [7]\n"
     ]
    }
   ],
   "source": [
    "m_list = []\n",
    "ids = zip(all_desc_ids, all_targ_ids)\n",
    "\n",
    "for desc_ids, targ_ids in ids:\n",
    "    print(desc_ids, targ_ids)\n",
    "    \n",
    "    if set(targ_ids).issubset(set([6,7])):\n",
    "        learner = RandomForestClassifier\n",
    "    elif set(targ_ids).issubset(set([0,1,2,3,4,5])):\n",
    "        learner = RandomForestRegressor\n",
    "    else:\n",
    "        msg = \"\"\"\n",
    "        Cannot learn mixed (nominal/numeric) models\n",
    "        \"\"\"\n",
    "        raise ValueError(msg)\n",
    "    \n",
    "    # Learn a model for desc_ids-targ_ids\n",
    "    m = learn_model(data, desc_ids, targ_ids, learner, max_depth=5, n_estimators=5)\n",
    "    m_list.append(m)"
   ]
  },
  {
   "cell_type": "code",
   "execution_count": 18,
   "metadata": {
    "collapsed": true
   },
   "outputs": [],
   "source": [
    "sc = morpheus.SequentialComposition()"
   ]
  },
  {
   "cell_type": "code",
   "execution_count": 19,
   "metadata": {
    "collapsed": true
   },
   "outputs": [],
   "source": [
    "m_list.reverse()"
   ]
  },
  {
   "cell_type": "code",
   "execution_count": 20,
   "metadata": {},
   "outputs": [
    {
     "name": "stdout",
     "output_type": "stream",
     "text": [
      "\n",
      "            Connecting attributes:  [5.]\n",
      "            \n",
      "\n"
     ]
    }
   ],
   "source": [
    "for m in m_list:\n",
    "    sc.add_estimator(m, location='front')  "
   ]
  },
  {
   "cell_type": "code",
   "execution_count": 21,
   "metadata": {},
   "outputs": [
    {
     "data": {
      "text/plain": [
       "False"
      ]
     },
     "execution_count": 21,
     "metadata": {},
     "output_type": "execute_result"
    }
   ],
   "source": [
    "np.array([]).size > 0"
   ]
  },
  {
   "cell_type": "code",
   "execution_count": 22,
   "metadata": {},
   "outputs": [
    {
     "name": "stdout",
     "output_type": "stream",
     "text": [
      "\n",
      "        # Main\n",
      "        Descriptive attributes:     [0. 1. 2. 5.]\n",
      "        Target attributes:          [4. 5. 7.]\n",
      "\n",
      "        ## On types (mostly nominals)\n",
      "        Target attribute types:                     ['numeric', 'numeric', 'nominal']\n",
      "        N_classes of nominal target attributes:     [2]\n",
      "        Classes of nominal target attributes:       [array([0., 1.])]\n",
      "\n",
      "        ## Weights\n",
      "        Total weights of target attributes:         [1. 1. 1.]\n",
      "\n",
      "         \n",
      "        ## Estimators\n",
      "        Estimators used:        ['RandomForestRegressor', 'RandomForestClassifier']\n",
      "        N_estimators:           2\n",
      "        \n"
     ]
    }
   ],
   "source": [
    "sc.pretty_print()"
   ]
  },
  {
   "cell_type": "code",
   "execution_count": 23,
   "metadata": {
    "collapsed": true
   },
   "outputs": [],
   "source": [
    "X = data[:,]"
   ]
  },
  {
   "cell_type": "code",
   "execution_count": 24,
   "metadata": {},
   "outputs": [
    {
     "data": {
      "text/plain": [
       "[7.0]"
      ]
     },
     "execution_count": 24,
     "metadata": {},
     "output_type": "execute_result"
    }
   ],
   "source": [
    "sc.nominal_targ_ids"
   ]
  },
  {
   "cell_type": "code",
   "execution_count": 33,
   "metadata": {
    "scrolled": true
   },
   "outputs": [
    {
     "name": "stdout",
     "output_type": "stream",
     "text": [
      "\n",
      "            e_outcome.shape:    (200, 2)\n",
      "            \n",
      "\n",
      "\n",
      "                t_idx_map:  [[0 0]\n",
      " [1 1]]\n",
      "                \n",
      "\n",
      "\n",
      "            e_outcome.shape:    (200, 1)\n",
      "            \n",
      "\n",
      "\n",
      "                t_idx_map:  [[0 2]]\n",
      "                \n",
      "\n"
     ]
    }
   ],
   "source": [
    "y_pred = sc.predict(test_data[:, sc.desc_ids.astype(int)])"
   ]
  },
  {
   "cell_type": "code",
   "execution_count": 34,
   "metadata": {},
   "outputs": [
    {
     "data": {
      "text/plain": [
       "(200, 3)"
      ]
     },
     "execution_count": 34,
     "metadata": {},
     "output_type": "execute_result"
    }
   ],
   "source": [
    "y_pred.shape"
   ]
  },
  {
   "cell_type": "code",
   "execution_count": 26,
   "metadata": {},
   "outputs": [
    {
     "data": {
      "text/plain": [
       "array([[-3.32208124e-02, -8.85882853e-01],\n",
       "       [-7.87274494e-01, -8.87871726e-01],\n",
       "       [ 9.22534352e-01, -7.22565397e-01],\n",
       "       [ 1.88546131e+00, -1.18733392e+00],\n",
       "       [-4.95010965e-02,  5.22571900e-01],\n",
       "       [ 1.34643911e+00, -6.01005327e-01],\n",
       "       [-3.99037310e-01, -1.01535108e+00],\n",
       "       [ 1.26795401e+00, -3.74012211e-01],\n",
       "       [ 3.37933455e-01,  6.20483384e-02],\n",
       "       [ 1.62353210e+00, -1.43182304e+00],\n",
       "       [ 8.95274184e-01, -1.70951850e+00],\n",
       "       [ 6.02773335e-01,  2.22792061e+00],\n",
       "       [ 1.32342279e+00, -3.06181356e-02],\n",
       "       [-1.22117554e+00, -6.63280631e-01],\n",
       "       [ 7.02119920e-01, -5.63329655e-02],\n",
       "       [ 4.99325642e-01,  1.51225243e+00],\n",
       "       [ 2.52023915e-01,  1.49590788e+00],\n",
       "       [-5.12756205e-01, -1.33827575e+00],\n",
       "       [-8.34226771e-02, -2.86620828e-01],\n",
       "       [ 1.21447014e+00, -7.16437581e-01],\n",
       "       [ 8.33558191e-01, -8.85191267e-01],\n",
       "       [ 2.52023915e-01,  1.49590788e+00],\n",
       "       [ 1.51084688e+00, -2.46638036e+00],\n",
       "       [ 2.56176073e-01, -6.80191362e-01],\n",
       "       [ 8.80339573e-01, -1.44424214e+00],\n",
       "       [ 1.51084688e+00, -2.46638036e+00],\n",
       "       [-1.20423350e+00, -7.51524903e-01],\n",
       "       [ 3.41158725e-02,  2.36933760e-02],\n",
       "       [ 2.03896131e+00,  2.23986021e-01],\n",
       "       [-9.28373457e-01, -8.44567922e-01],\n",
       "       [ 1.71859583e+00,  1.07723480e+00],\n",
       "       [ 1.77015993e+00, -5.81446130e-01],\n",
       "       [ 4.54491712e-01,  5.63669685e-01],\n",
       "       [ 1.66577694e+00, -6.13829967e-01],\n",
       "       [ 1.87410761e+00, -1.31569080e+00],\n",
       "       [ 6.53065580e-01, -4.31638922e-01],\n",
       "       [ 1.26795401e+00, -3.74012211e-01],\n",
       "       [ 6.53065580e-01, -4.31638922e-01],\n",
       "       [ 8.22365695e-01,  6.00075173e-01],\n",
       "       [-1.76890108e+00, -1.04366585e+00],\n",
       "       [ 6.63296168e-01,  1.98626621e+00],\n",
       "       [-7.87274494e-01, -8.87871726e-01],\n",
       "       [ 1.23221230e+00, -9.67412442e-01],\n",
       "       [ 1.23221230e+00, -9.67412442e-01],\n",
       "       [ 2.13603682e+00, -1.07120169e+00],\n",
       "       [ 1.87410761e+00, -1.31569080e+00],\n",
       "       [-3.47351864e-01, -1.07713816e+00],\n",
       "       [ 1.32342279e+00, -3.06181356e-02],\n",
       "       [-1.48974669e+00, -7.20346186e-01],\n",
       "       [ 7.64973717e-01,  1.62101352e-01],\n",
       "       [ 3.41158725e-02,  2.36933760e-02],\n",
       "       [ 1.32342279e+00, -3.06181356e-02],\n",
       "       [ 5.21801547e-01,  1.62031347e+00],\n",
       "       [-1.48974669e+00, -7.20346186e-01],\n",
       "       [ 1.11772333e+00, -5.46647740e-01],\n",
       "       [-8.22751526e-02, -1.26118881e+00],\n",
       "       [ 1.31873505e+00, -4.55136600e-01],\n",
       "       [ 3.54624887e-01,  1.95048872e+00],\n",
       "       [ 1.83222886e+00, -1.08853757e+00],\n",
       "       [-1.21044528e+00, -3.19090888e-03],\n",
       "       [ 7.02119920e-01, -5.63329655e-02],\n",
       "       [ 9.94226428e-01,  2.91268934e-01],\n",
       "       [-1.21044528e+00, -3.19090888e-03],\n",
       "       [ 2.05914781e-01,  6.01119256e-01],\n",
       "       [ 2.56176073e-01, -6.80191362e-01],\n",
       "       [ 2.01119660e+00, -2.65276781e-01],\n",
       "       [ 1.26795401e+00, -3.74012211e-01],\n",
       "       [ 4.46023922e-01,  1.75716979e+00],\n",
       "       [-9.24932092e-01, -3.43696261e-02],\n",
       "       [ 1.32916472e+00, -1.33177781e+00],\n",
       "       [ 1.28162935e+00,  1.23514623e+00],\n",
       "       [ 8.35657172e-01,  4.16772631e-01],\n",
       "       [ 1.34643911e+00, -6.01005327e-01],\n",
       "       [ 4.18247380e-01, -1.30071827e+00],\n",
       "       [ 4.46023922e-01,  1.75716979e+00],\n",
       "       [-3.37914091e-01, -1.91873165e-01],\n",
       "       [ 3.41158725e-02,  2.36933760e-02],\n",
       "       [ 1.87410761e+00, -1.31569080e+00],\n",
       "       [ 1.17803326e+00,  1.55767557e+00],\n",
       "       [-1.22117554e+00, -6.63280631e-01],\n",
       "       [-1.19694461e+00, -9.01633476e-01],\n",
       "       [ 1.54817936e+00, -9.78378958e-01],\n",
       "       [ 2.50931636e+00, -8.48697869e-01],\n",
       "       [ 2.48124558e-01,  1.69352017e+00],\n",
       "       [ 1.26795401e+00, -3.74012211e-01],\n",
       "       [ 8.62017802e-01, -3.02930083e-01],\n",
       "       [ 2.07121733e-01, -1.05549732e+00],\n",
       "       [ 2.07121733e-01, -1.05549732e+00],\n",
       "       [-4.57899416e-01, -9.05442380e-01],\n",
       "       [ 1.87410761e+00, -1.31569080e+00],\n",
       "       [ 1.62817333e-01, -9.54376414e-01],\n",
       "       [-1.08077540e+00, -9.83530984e-01],\n",
       "       [-1.60741594e-03,  1.40203006e-02],\n",
       "       [-1.47901643e+00, -6.02564631e-02],\n",
       "       [ 7.18866248e-01,  7.96229207e-01],\n",
       "       [ 2.48124558e-01,  1.69352017e+00],\n",
       "       [ 1.22043438e+00, -1.92258215e+00],\n",
       "       [-6.49775770e-01, -8.03495917e-01],\n",
       "       [ 3.41158725e-02,  2.36933760e-02],\n",
       "       [ 1.12620470e+00, -1.01229565e+00],\n",
       "       [-8.74847794e-01, -1.00610337e+00],\n",
       "       [ 9.26414690e-01, -1.67625951e+00],\n",
       "       [ 1.34643911e+00, -6.01005327e-01],\n",
       "       [-1.47901643e+00, -6.02564631e-02],\n",
       "       [ 5.17033835e-01, -1.79209469e+00],\n",
       "       [ 2.50931636e+00, -8.48697869e-01],\n",
       "       [ 1.34643911e+00, -6.01005327e-01],\n",
       "       [ 1.90628590e+00, -3.08341139e-01],\n",
       "       [-3.47351864e-01, -1.07713816e+00],\n",
       "       [ 8.31702128e-02,  3.98999333e-01],\n",
       "       [-6.34872550e-01, -7.48908664e-01],\n",
       "       [-3.47885421e-01, -8.46724434e-02],\n",
       "       [ 1.03674434e+00,  1.52684048e-01],\n",
       "       [ 8.22365695e-01,  6.00075173e-01],\n",
       "       [-6.92538218e-01, -1.11101034e+00],\n",
       "       [ 1.34643911e+00, -6.01005327e-01],\n",
       "       [ 1.11772333e+00, -5.46647740e-01],\n",
       "       [ 9.22534352e-01, -7.22565397e-01],\n",
       "       [ 9.67064402e-01, -2.19158809e+00],\n",
       "       [ 1.11772333e+00, -5.46647740e-01],\n",
       "       [ 2.49850043e+00, -2.97533742e-01],\n",
       "       [ 3.41158725e-02,  2.36933760e-02],\n",
       "       [ 6.41544322e-01, -1.91279068e+00],\n",
       "       [-8.94067709e-01, -8.79742000e-01],\n",
       "       [-3.47351864e-01, -1.07713816e+00],\n",
       "       [ 7.48563584e-01,  1.45640610e+00],\n",
       "       [ 1.54817936e+00, -9.78378958e-01],\n",
       "       [ 6.85772074e-01,  2.09432725e+00],\n",
       "       [ 8.95274184e-01, -1.70951850e+00],\n",
       "       [-1.38166664e+00, -1.03446377e+00],\n",
       "       [ 1.89595177e-01, -3.01093983e-01],\n",
       "       [-1.86012097e-01, -2.72113511e-01],\n",
       "       [ 2.39698261e-01,  2.86988411e-01],\n",
       "       [ 7.44595083e-01,  8.70754391e-01],\n",
       "       [ 8.88883840e-01, -1.70587325e+00],\n",
       "       [-7.22908708e-02, -2.40650978e-01],\n",
       "       [ 5.18314744e-01, -4.94489375e-02],\n",
       "       [ 3.41158725e-02,  2.36933760e-02],\n",
       "       [-1.21044528e+00, -3.19090888e-03],\n",
       "       [ 6.29862055e-01, -2.62029318e+00],\n",
       "       [-6.50019771e-02, -3.90759551e-01],\n",
       "       [ 2.02643601e+00,  2.78461018e-01],\n",
       "       [ 3.18913385e-01, -1.47687380e+00],\n",
       "       [ 1.84314058e+00, -1.75499987e+00],\n",
       "       [ 2.56176073e-01, -6.80191362e-01],\n",
       "       [ 1.10026265e+00,  1.82835479e+00],\n",
       "       [ 1.78385442e+00, -1.64920852e+00],\n",
       "       [-3.81204622e-01, -7.46430362e-01],\n",
       "       [-6.74880148e-01, -8.52336548e-01],\n",
       "       [ 8.62017802e-01, -3.02930083e-01],\n",
       "       [ 2.07121733e-01, -1.05549732e+00],\n",
       "       [ 1.32916472e+00, -1.33177781e+00],\n",
       "       [ 1.90628590e+00, -3.08341139e-01],\n",
       "       [-3.47351864e-01, -1.07713816e+00],\n",
       "       [-5.71477988e-01, -3.44128812e-01],\n",
       "       [ 1.48791783e+00, -1.21113010e+00],\n",
       "       [-2.49406658e-01, -6.76893364e-01],\n",
       "       [-9.03443698e-01, -8.05974219e-01],\n",
       "       [-3.08465858e-01, -1.25312509e+00],\n",
       "       [ 1.20622285e+00, -2.85293789e+00],\n",
       "       [ 7.45904569e-01, -1.59204120e+00],\n",
       "       [ 3.37933455e-01,  6.20483384e-02],\n",
       "       [ 1.10742779e+00,  4.07355327e-01],\n",
       "       [ 1.54817936e+00, -9.78378958e-01],\n",
       "       [-4.50084862e-01, -4.09090859e-01],\n",
       "       [-1.53260195e+00, -4.20513723e-01],\n",
       "       [-1.47901643e+00, -6.02564631e-02],\n",
       "       [ 9.34486082e-01, -2.23373565e+00],\n",
       "       [ 1.89595177e-01, -3.01093983e-01],\n",
       "       [ 1.03674434e+00,  1.52684048e-01],\n",
       "       [ 1.11772333e+00, -5.46647740e-01],\n",
       "       [ 2.48124558e-01,  1.69352017e+00],\n",
       "       [ 1.87410761e+00, -1.31569080e+00],\n",
       "       [ 4.61003023e-01,  2.12441172e+00],\n",
       "       [ 2.49850043e+00, -2.97533742e-01],\n",
       "       [-1.21044528e+00, -3.19090888e-03],\n",
       "       [-1.08077540e+00, -9.83530984e-01],\n",
       "       [ 2.59524724e+00, -4.67323583e-01],\n",
       "       [ 1.34643911e+00, -6.01005327e-01],\n",
       "       [ 1.71859583e+00,  1.07723480e+00],\n",
       "       [-3.47351864e-01, -1.07713816e+00],\n",
       "       [-5.40170350e-01, -1.01907013e+00],\n",
       "       [-2.27685829e-01, -1.26168306e+00],\n",
       "       [ 1.32342279e+00, -3.06181356e-02],\n",
       "       [ 4.61003023e-01,  2.12441172e+00],\n",
       "       [-9.28373457e-01, -8.44567922e-01],\n",
       "       [-1.01067642e+00, -2.16268818e+00],\n",
       "       [ 1.10363652e+00, -2.05631455e+00],\n",
       "       [ 5.91798239e-01, -8.73721750e-01],\n",
       "       [ 1.34643911e+00, -6.01005327e-01],\n",
       "       [-1.11221119e-01, -7.69911253e-01],\n",
       "       [ 3.41158725e-02,  2.36933760e-02],\n",
       "       [-6.01553349e-01, -8.71507454e-02],\n",
       "       [ 8.95274184e-01, -1.70951850e+00],\n",
       "       [ 2.76448992e-01, -1.01079991e+00],\n",
       "       [ 1.74984705e+00, -9.66640983e-01],\n",
       "       [-2.91690187e-01,  5.33925669e-01],\n",
       "       [ 4.71957772e-01, -4.53784103e-01],\n",
       "       [ 1.32342279e+00, -3.06181356e-02],\n",
       "       [ 9.22534352e-01, -7.22565397e-01]])"
      ]
     },
     "execution_count": 26,
     "metadata": {},
     "output_type": "execute_result"
    }
   ],
   "source": [
    "y = sc.predict_numeric(test_data[:, sc.desc_ids.astype(int)])\n",
    "y"
   ]
  },
  {
   "cell_type": "code",
   "execution_count": 27,
   "metadata": {},
   "outputs": [
    {
     "data": {
      "text/plain": [
       "[array([0., 1.])]"
      ]
     },
     "execution_count": 27,
     "metadata": {},
     "output_type": "execute_result"
    }
   ],
   "source": [
    "sc.classes_"
   ]
  },
  {
   "cell_type": "code",
   "execution_count": 28,
   "metadata": {},
   "outputs": [
    {
     "data": {
      "text/plain": [
       "array([[0.60487758, 0.39512242],\n",
       "       [0.17112209, 0.82887791],\n",
       "       [0.77177511, 0.22822489],\n",
       "       [0.80817941, 0.19182059],\n",
       "       [0.34218243, 0.65781757],\n",
       "       [0.56283676, 0.43716324],\n",
       "       [0.26752625, 0.73247375],\n",
       "       [0.56095652, 0.43904348],\n",
       "       [0.50184663, 0.49815337],\n",
       "       [0.72395481, 0.27604519],\n",
       "       [0.806063  , 0.193937  ],\n",
       "       [0.2625769 , 0.7374231 ],\n",
       "       [0.66487758, 0.33512242],\n",
       "       [0.5836699 , 0.4163301 ],\n",
       "       [0.44184663, 0.55815337],\n",
       "       [0.59169193, 0.40830807],\n",
       "       [0.18042147, 0.81957853],\n",
       "       [0.56949848, 0.43050152],\n",
       "       [0.68850581, 0.31149419],\n",
       "       [0.63275181, 0.36724819],\n",
       "       [0.89008497, 0.10991503],\n",
       "       [0.24742053, 0.75257947],\n",
       "       [0.89698324, 0.10301676],\n",
       "       [0.41539459, 0.58460541],\n",
       "       [0.806063  , 0.193937  ],\n",
       "       [0.89698324, 0.10301676],\n",
       "       [0.08795377, 0.91204623],\n",
       "       [0.44184663, 0.55815337],\n",
       "       [0.57592171, 0.42407829],\n",
       "       [0.60111484, 0.39888516],\n",
       "       [0.2157637 , 0.7842363 ],\n",
       "       [0.56949848, 0.43050152],\n",
       "       [0.45368421, 0.54631579],\n",
       "       [0.65186561, 0.34813439],\n",
       "       [0.806063  , 0.193937  ],\n",
       "       [0.5128423 , 0.4871577 ],\n",
       "       [0.65299179, 0.34700821],\n",
       "       [0.5128423 , 0.4871577 ],\n",
       "       [0.41814737, 0.58185263],\n",
       "       [0.08795377, 0.91204623],\n",
       "       [0.56842105, 0.43157895],\n",
       "       [0.08795377, 0.91204623],\n",
       "       [0.63275181, 0.36724819],\n",
       "       [0.74705875, 0.25294125],\n",
       "       [0.64659884, 0.35340116],\n",
       "       [0.80817941, 0.19182059],\n",
       "       [0.12692706, 0.87307294],\n",
       "       [0.70680769, 0.29319231],\n",
       "       [0.08795377, 0.91204623],\n",
       "       [0.3557846 , 0.6442154 ],\n",
       "       [0.50184663, 0.49815337],\n",
       "       [0.65299179, 0.34700821],\n",
       "       [0.48628763, 0.51371237],\n",
       "       [0.08795377, 0.91204623],\n",
       "       [0.47080149, 0.52919851],\n",
       "       [0.74015257, 0.25984743],\n",
       "       [0.5162796 , 0.4837204 ],\n",
       "       [0.1687768 , 0.8312232 ],\n",
       "       [0.806063  , 0.193937  ],\n",
       "       [0.46807537, 0.53192463],\n",
       "       [0.56283676, 0.43716324],\n",
       "       [0.31605044, 0.68394956],\n",
       "       [0.51882504, 0.48117496],\n",
       "       [0.44225599, 0.55774401],\n",
       "       [0.60487758, 0.39512242],\n",
       "       [0.65186561, 0.34813439],\n",
       "       [0.56095652, 0.43904348],\n",
       "       [0.4125769 , 0.5874231 ],\n",
       "       [0.51882504, 0.48117496],\n",
       "       [0.806063  , 0.193937  ],\n",
       "       [0.42529193, 0.57470807],\n",
       "       [0.55538712, 0.44461288],\n",
       "       [0.47080149, 0.52919851],\n",
       "       [0.80817941, 0.19182059],\n",
       "       [0.4125769 , 0.5874231 ],\n",
       "       [0.55832042, 0.44167958],\n",
       "       [0.44184663, 0.55815337],\n",
       "       [0.80817941, 0.19182059],\n",
       "       [0.12587601, 0.87412399],\n",
       "       [0.32870097, 0.67129903],\n",
       "       [0.22169292, 0.77830708],\n",
       "       [0.55832042, 0.44167958],\n",
       "       [0.80817941, 0.19182059],\n",
       "       [0.19873632, 0.80126368],\n",
       "       [0.56095652, 0.43904348],\n",
       "       [0.56095652, 0.43904348],\n",
       "       [0.63275181, 0.36724819],\n",
       "       [0.66539643, 0.33460357],\n",
       "       [0.04064195, 0.95935805],\n",
       "       [0.806063  , 0.193937  ],\n",
       "       [0.21980861, 0.78019139],\n",
       "       [0.08795377, 0.91204623],\n",
       "       [0.51011619, 0.48988381],\n",
       "       [0.21537879, 0.78462121],\n",
       "       [0.46659312, 0.53340688],\n",
       "       [0.1687768 , 0.8312232 ],\n",
       "       [0.64659884, 0.35340116],\n",
       "       [0.08795377, 0.91204623],\n",
       "       [0.44184663, 0.55815337],\n",
       "       [0.70050159, 0.29949841],\n",
       "       [0.08795377, 0.91204623],\n",
       "       [0.89698324, 0.10301676],\n",
       "       [0.47080149, 0.52919851],\n",
       "       [0.2985471 , 0.7014529 ],\n",
       "       [0.65404831, 0.34595169],\n",
       "       [0.75689226, 0.24310774],\n",
       "       [0.60487758, 0.39512242],\n",
       "       [0.56095652, 0.43904348],\n",
       "       [0.30609372, 0.69390628],\n",
       "       [0.21219996, 0.78780004],\n",
       "       [0.22169292, 0.77830708],\n",
       "       [0.65860345, 0.34139655],\n",
       "       [0.3557846 , 0.6442154 ],\n",
       "       [0.30942942, 0.69057058],\n",
       "       [0.32870097, 0.67129903],\n",
       "       [0.56283676, 0.43716324],\n",
       "       [0.47080149, 0.52919851],\n",
       "       [0.89008497, 0.10991503],\n",
       "       [0.89698324, 0.10301676],\n",
       "       [0.47080149, 0.52919851],\n",
       "       [0.47080149, 0.52919851],\n",
       "       [0.39980582, 0.60019418],\n",
       "       [0.89698324, 0.10301676],\n",
       "       [0.62694787, 0.37305213],\n",
       "       [0.08795377, 0.91204623],\n",
       "       [0.46126111, 0.53873889],\n",
       "       [0.60487758, 0.39512242],\n",
       "       [0.4125769 , 0.5874231 ],\n",
       "       [0.806063  , 0.193937  ],\n",
       "       [0.17112209, 0.82887791],\n",
       "       [0.50880715, 0.49119285],\n",
       "       [0.08795377, 0.91204623],\n",
       "       [0.52771747, 0.47228253],\n",
       "       [0.22626111, 0.77373889],\n",
       "       [0.806063  , 0.193937  ],\n",
       "       [0.32870097, 0.67129903],\n",
       "       [0.56015649, 0.43984351],\n",
       "       [0.48996085, 0.51003915],\n",
       "       [0.44260154, 0.55739846],\n",
       "       [0.89698324, 0.10301676],\n",
       "       [0.08795377, 0.91204623],\n",
       "       [0.58673387, 0.41326613],\n",
       "       [0.806063  , 0.193937  ],\n",
       "       [0.89698324, 0.10301676],\n",
       "       [0.73092443, 0.26907557],\n",
       "       [0.4125769 , 0.5874231 ],\n",
       "       [0.91266951, 0.08733049],\n",
       "       [0.22169292, 0.77830708],\n",
       "       [0.77177511, 0.22822489],\n",
       "       [0.70680769, 0.29319231],\n",
       "       [0.80817941, 0.19182059],\n",
       "       [0.806063  , 0.193937  ],\n",
       "       [0.65186561, 0.34813439],\n",
       "       [0.17112209, 0.82887791],\n",
       "       [0.51011619, 0.48988381],\n",
       "       [0.63275181, 0.36724819],\n",
       "       [0.32870097, 0.67129903],\n",
       "       [0.22169292, 0.77830708],\n",
       "       [0.70050159, 0.29949841],\n",
       "       [0.91253879, 0.08746121],\n",
       "       [0.64659884, 0.35340116],\n",
       "       [0.44184663, 0.55815337],\n",
       "       [0.27489633, 0.72510367],\n",
       "       [0.55832042, 0.44167958],\n",
       "       [0.68737963, 0.31262037],\n",
       "       [0.08795377, 0.91204623],\n",
       "       [0.22204545, 0.77795455],\n",
       "       [0.89698324, 0.10301676],\n",
       "       [0.08795377, 0.91204623],\n",
       "       [0.3557846 , 0.6442154 ],\n",
       "       [0.47080149, 0.52919851],\n",
       "       [0.20920801, 0.79079199],\n",
       "       [0.80817941, 0.19182059],\n",
       "       [0.1687768 , 0.8312232 ],\n",
       "       [0.37335377, 0.62664623],\n",
       "       [0.51011619, 0.48988381],\n",
       "       [0.08795377, 0.91204623],\n",
       "       [0.6720854 , 0.3279146 ],\n",
       "       [0.56283676, 0.43716324],\n",
       "       [0.2157637 , 0.7842363 ],\n",
       "       [0.08795377, 0.91204623],\n",
       "       [0.80728913, 0.19271087],\n",
       "       [0.50880715, 0.49119285],\n",
       "       [0.70680769, 0.29319231],\n",
       "       [0.19873632, 0.80126368],\n",
       "       [0.4020343 , 0.5979657 ],\n",
       "       [0.8289564 , 0.1710436 ],\n",
       "       [0.89698324, 0.10301676],\n",
       "       [0.06980861, 0.93019139],\n",
       "       [0.5162796 , 0.4837204 ],\n",
       "       [0.59071099, 0.40928901],\n",
       "       [0.39980582, 0.60019418],\n",
       "       [0.57798615, 0.42201385],\n",
       "       [0.806063  , 0.193937  ],\n",
       "       [0.79622948, 0.20377052],\n",
       "       [0.78340463, 0.21659537],\n",
       "       [0.35139902, 0.64860098],\n",
       "       [0.69500988, 0.30499012],\n",
       "       [0.65967708, 0.34032292],\n",
       "       [0.68086602, 0.31913398]])"
      ]
     },
     "execution_count": 28,
     "metadata": {},
     "output_type": "execute_result"
    }
   ],
   "source": [
    "y = sc.predict_nominal(test_data[:, sc.desc_ids.astype(int)])\n",
    "y"
   ]
  },
  {
   "cell_type": "code",
   "execution_count": 29,
   "metadata": {},
   "outputs": [
    {
     "data": {
      "text/plain": [
       "[1, 2, 3, 4]"
      ]
     },
     "execution_count": 29,
     "metadata": {},
     "output_type": "execute_result"
    }
   ],
   "source": [
    "x = [1,2,3]\n",
    "x.append(4)\n",
    "x"
   ]
  },
  {
   "cell_type": "code",
   "execution_count": 30,
   "metadata": {},
   "outputs": [
    {
     "data": {
      "text/plain": [
       "[4]"
      ]
     },
     "execution_count": 30,
     "metadata": {},
     "output_type": "execute_result"
    }
   ],
   "source": [
    "x = []\n",
    "x.insert(8,4)\n",
    "x"
   ]
  },
  {
   "cell_type": "code",
   "execution_count": 31,
   "metadata": {},
   "outputs": [],
   "source": [
    "x = [1,2,3]\n",
    "x.insert(len(x),4)"
   ]
  },
  {
   "cell_type": "code",
   "execution_count": 32,
   "metadata": {},
   "outputs": [
    {
     "data": {
      "text/plain": [
       "[4, 3, 2, 1]"
      ]
     },
     "execution_count": 32,
     "metadata": {},
     "output_type": "execute_result"
    }
   ],
   "source": [
    "x.reverse()\n",
    "x"
   ]
  }
 ],
 "metadata": {
  "kernelspec": {
   "display_name": "Python [conda env:morpheus]",
   "language": "python",
   "name": "conda-env-morpheus-py"
  },
  "language_info": {
   "codemirror_mode": {
    "name": "ipython",
    "version": 3
   },
   "file_extension": ".py",
   "mimetype": "text/x-python",
   "name": "python",
   "nbconvert_exporter": "python",
   "pygments_lexer": "ipython3",
   "version": "3.6.7"
  },
  "toc": {
   "nav_menu": {},
   "number_sections": true,
   "sideBar": true,
   "skip_h1_title": true,
   "toc_cell": false,
   "toc_position": {},
   "toc_section_display": "block",
   "toc_window_display": false
  }
 },
 "nbformat": 4,
 "nbformat_minor": 2
}
