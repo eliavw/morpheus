{
 "cells": [
  {
   "cell_type": "markdown",
   "metadata": {},
   "source": [
    "# Sequential Composition Demo\n",
    "\n",
    "Trying to see if sequential composition is viable."
   ]
  },
  {
   "cell_type": "markdown",
   "metadata": {},
   "source": [
    "## Imports"
   ]
  },
  {
   "cell_type": "code",
   "execution_count": 1,
   "metadata": {
    "collapsed": true
   },
   "outputs": [],
   "source": [
    "import os, sys\n",
    "import pandas as pd\n",
    "import numpy as np\n",
    "import sklearn\n",
    "import matplotlib.pyplot as plt\n",
    "import seaborn as sns\n",
    "\n",
    "from sklearn.tree import (DecisionTreeClassifier,\n",
    "                          DecisionTreeRegressor)\n",
    "from sklearn.ensemble import (RandomForestClassifier,\n",
    "                              RandomForestRegressor)\n",
    "from sklearn.datasets import make_classification\n",
    "from sklearn.model_selection import train_test_split\n",
    "\n",
    "from os.path import dirname"
   ]
  },
  {
   "cell_type": "code",
   "execution_count": 2,
   "metadata": {
    "collapsed": true
   },
   "outputs": [],
   "source": [
    "note_dir = os.getcwd()\n",
    "root_dir = dirname(note_dir)\n",
    "data_dir = os.path.join(root_dir, 'resc', 'data', 'tidy','nltcs')\n",
    "src_dir = os.path.join(root_dir, \"src\")\n",
    "\n",
    "sys.path.append(src_dir)"
   ]
  },
  {
   "cell_type": "code",
   "execution_count": 3,
   "metadata": {
    "collapsed": true
   },
   "outputs": [],
   "source": [
    "import morpheus"
   ]
  },
  {
   "cell_type": "markdown",
   "metadata": {
    "heading_collapsed": true
   },
   "source": [
    "### Functions"
   ]
  },
  {
   "cell_type": "code",
   "execution_count": 4,
   "metadata": {
    "collapsed": true,
    "hidden": true
   },
   "outputs": [],
   "source": [
    "def plot_corr(corr):\n",
    "    fig = plt.figure(figsize=((10,10))) # slightly larger\n",
    "    ax = fig.add_subplot(111)\n",
    "    cax = ax.matshow(corr,cmap='seismic')\n",
    "    fig.colorbar(cax)\n",
    "    \n",
    "    for (i, j), z in np.ndenumerate(corr):\n",
    "        ax.text(j, i, '{:0.4f}'.format(z), ha='center', va='center', color='w')\n",
    "    return "
   ]
  },
  {
   "cell_type": "code",
   "execution_count": 5,
   "metadata": {
    "collapsed": true,
    "hidden": true
   },
   "outputs": [],
   "source": [
    "def summarize_dataset(df, samples=1000, random_state=997, replace=False):\n",
    "    \"\"\"\n",
    "    This function plots a grid of plots that give some insights into pairwise relationships between\n",
    "    the attributes in the dataset.\n",
    "    \n",
    "    Explicit correlations or special distributions should be very visible here.\n",
    "    \"\"\"\n",
    "    \n",
    "    df_subsample = df.sample(n=samples, replace=False, random_state=random_state)\n",
    "    \n",
    "    sns.set(style=\"ticks\", color_codes=True)\n",
    "    g = sns.PairGrid(df_subsample) # slice every 10 otherwise a bit slow\n",
    "    g = g.map_diag(plt.hist) # histograms on the diagonal\n",
    "    g = g.map_lower(sns.kdeplot, cmap=\"Blues_d\") # density plot on the lower plots\n",
    "    g = g.map_upper(plt.scatter) # scatter plots on the upper plots\n",
    "    return"
   ]
  },
  {
   "cell_type": "code",
   "execution_count": null,
   "metadata": {
    "collapsed": true,
    "hidden": true
   },
   "outputs": [],
   "source": []
  },
  {
   "cell_type": "markdown",
   "metadata": {},
   "source": [
    "## Data"
   ]
  },
  {
   "cell_type": "code",
   "execution_count": 6,
   "metadata": {},
   "outputs": [],
   "source": [
    "X, y = make_classification(n_samples=10**3,\n",
    "                           n_features=7,\n",
    "                           n_informative=7,\n",
    "                           n_repeated=0,\n",
    "                           n_redundant=0,\n",
    "                           n_clusters_per_class=2)"
   ]
  },
  {
   "cell_type": "code",
   "execution_count": 7,
   "metadata": {},
   "outputs": [
    {
     "data": {
      "text/plain": [
       "array([0., 1., 2., 3., 4.])"
      ]
     },
     "execution_count": 7,
     "metadata": {},
     "output_type": "execute_result"
    }
   ],
   "source": [
    "# Jam extra nominal attribute in.\n",
    "X[:, 6] = np.abs(np.round(X[:, 6]/2, decimals=0))\n",
    "np.unique(X[:, 6])"
   ]
  },
  {
   "cell_type": "code",
   "execution_count": 8,
   "metadata": {
    "collapsed": true
   },
   "outputs": [],
   "source": [
    "X_train, X_test, y_train, y_test = train_test_split(X,\n",
    "                                                    y,\n",
    "                                                    test_size=0.2,\n",
    "                                                    random_state=997)"
   ]
  },
  {
   "cell_type": "code",
   "execution_count": 9,
   "metadata": {},
   "outputs": [
    {
     "data": {
      "text/html": [
       "<div>\n",
       "<style scoped>\n",
       "    .dataframe tbody tr th:only-of-type {\n",
       "        vertical-align: middle;\n",
       "    }\n",
       "\n",
       "    .dataframe tbody tr th {\n",
       "        vertical-align: top;\n",
       "    }\n",
       "\n",
       "    .dataframe thead th {\n",
       "        text-align: right;\n",
       "    }\n",
       "</style>\n",
       "<table border=\"1\" class=\"dataframe\">\n",
       "  <thead>\n",
       "    <tr style=\"text-align: right;\">\n",
       "      <th></th>\n",
       "      <th>0</th>\n",
       "      <th>1</th>\n",
       "      <th>2</th>\n",
       "      <th>3</th>\n",
       "      <th>4</th>\n",
       "      <th>5</th>\n",
       "      <th>6</th>\n",
       "      <th>y</th>\n",
       "    </tr>\n",
       "  </thead>\n",
       "  <tbody>\n",
       "    <tr>\n",
       "      <th>0</th>\n",
       "      <td>0.503667</td>\n",
       "      <td>-4.748312</td>\n",
       "      <td>0.469730</td>\n",
       "      <td>-2.755241</td>\n",
       "      <td>-1.900013</td>\n",
       "      <td>-0.350073</td>\n",
       "      <td>0.0</td>\n",
       "      <td>0</td>\n",
       "    </tr>\n",
       "    <tr>\n",
       "      <th>1</th>\n",
       "      <td>-2.855811</td>\n",
       "      <td>-2.256814</td>\n",
       "      <td>0.269476</td>\n",
       "      <td>-1.883883</td>\n",
       "      <td>-0.688255</td>\n",
       "      <td>-1.180293</td>\n",
       "      <td>2.0</td>\n",
       "      <td>0</td>\n",
       "    </tr>\n",
       "    <tr>\n",
       "      <th>2</th>\n",
       "      <td>-3.108165</td>\n",
       "      <td>1.213510</td>\n",
       "      <td>1.060363</td>\n",
       "      <td>-4.483336</td>\n",
       "      <td>0.488860</td>\n",
       "      <td>3.694379</td>\n",
       "      <td>1.0</td>\n",
       "      <td>1</td>\n",
       "    </tr>\n",
       "    <tr>\n",
       "      <th>3</th>\n",
       "      <td>-4.417891</td>\n",
       "      <td>-3.748324</td>\n",
       "      <td>2.543567</td>\n",
       "      <td>3.115962</td>\n",
       "      <td>0.147967</td>\n",
       "      <td>-1.753808</td>\n",
       "      <td>2.0</td>\n",
       "      <td>1</td>\n",
       "    </tr>\n",
       "    <tr>\n",
       "      <th>4</th>\n",
       "      <td>1.022292</td>\n",
       "      <td>-1.473511</td>\n",
       "      <td>-0.596252</td>\n",
       "      <td>-1.333509</td>\n",
       "      <td>-1.133542</td>\n",
       "      <td>0.271563</td>\n",
       "      <td>1.0</td>\n",
       "      <td>0</td>\n",
       "    </tr>\n",
       "  </tbody>\n",
       "</table>\n",
       "</div>"
      ],
      "text/plain": [
       "          0         1         2         3         4         5    6  y\n",
       "0  0.503667 -4.748312  0.469730 -2.755241 -1.900013 -0.350073  0.0  0\n",
       "1 -2.855811 -2.256814  0.269476 -1.883883 -0.688255 -1.180293  2.0  0\n",
       "2 -3.108165  1.213510  1.060363 -4.483336  0.488860  3.694379  1.0  1\n",
       "3 -4.417891 -3.748324  2.543567  3.115962  0.147967 -1.753808  2.0  1\n",
       "4  1.022292 -1.473511 -0.596252 -1.333509 -1.133542  0.271563  1.0  0"
      ]
     },
     "execution_count": 9,
     "metadata": {},
     "output_type": "execute_result"
    }
   ],
   "source": [
    "df = pd.DataFrame(X_train)\n",
    "df = df.assign(y=y_train)\n",
    "df.head()"
   ]
  },
  {
   "cell_type": "code",
   "execution_count": 10,
   "metadata": {},
   "outputs": [
    {
     "data": {
      "image/png": "[encoded data removed]",
      "text/plain": [
       "<Figure size 720x720 with 2 Axes>"
      ]
     },
     "metadata": {
      "needs_background": "light"
     },
     "output_type": "display_data"
    }
   ],
   "source": [
    "corr = df.corr().values\n",
    "plot_corr(corr)"
   ]
  },
  {
   "cell_type": "code",
   "execution_count": 11,
   "metadata": {},
   "outputs": [],
   "source": [
    "#summarize_dataset(df, samples=100)"
   ]
  },
  {
   "cell_type": "markdown",
   "metadata": {},
   "source": [
    "## Learning Models"
   ]
  },
  {
   "cell_type": "code",
   "execution_count": 12,
   "metadata": {
    "collapsed": true
   },
   "outputs": [],
   "source": [
    "def learn_model(data, desc_ids, targ_ids, model, **kwargs):\n",
    "    X, Y = data[:, desc_ids], data[:, targ_ids]\n",
    "    \n",
    "    if X.shape[1]==1: X = X.ravel()\n",
    "    if Y.shape[1]==1: Y = Y.ravel()\n",
    "    \n",
    "    try:\n",
    "        clf = model(**kwargs)\n",
    "        clf.fit(X, Y)\n",
    "    except ValueError as e:\n",
    "        print(e)\n",
    "    # Bookkeeping\n",
    "    clf.desc_ids = desc_ids\n",
    "    clf.targ_ids = targ_ids\n",
    "    return clf"
   ]
  },
  {
   "cell_type": "code",
   "execution_count": 13,
   "metadata": {
    "collapsed": true
   },
   "outputs": [],
   "source": [
    "data = df.values"
   ]
  },
  {
   "cell_type": "code",
   "execution_count": 14,
   "metadata": {},
   "outputs": [
    {
     "name": "stdout",
     "output_type": "stream",
     "text": [
      "8\n"
     ]
    }
   ],
   "source": [
    "n,m = data.shape\n",
    "print(m)\n",
    "atts_ids = list(range(m))"
   ]
  },
  {
   "cell_type": "markdown",
   "metadata": {},
   "source": [
    "## Test 01"
   ]
  },
  {
   "cell_type": "code",
   "execution_count": 15,
   "metadata": {},
   "outputs": [],
   "source": [
    "df_test = pd.DataFrame(X_test)\n",
    "df_test = df_test.assign(y=y_test)\n",
    "test_data = df_test.values"
   ]
  },
  {
   "cell_type": "code",
   "execution_count": null,
   "metadata": {
    "collapsed": true
   },
   "outputs": [],
   "source": []
  },
  {
   "cell_type": "code",
   "execution_count": 16,
   "metadata": {
    "collapsed": true
   },
   "outputs": [],
   "source": [
    "targ_ids_1 = [4,5]\n",
    "desc_ids_1 = [0,1,2]\n",
    "\n",
    "targ_ids_2 = [7]\n",
    "desc_ids_2 = [1,2,5]\n",
    "\n",
    "all_desc_ids = [desc_ids_1, desc_ids_2]\n",
    "all_targ_ids = [targ_ids_1, targ_ids_2]"
   ]
  },
  {
   "cell_type": "code",
   "execution_count": 17,
   "metadata": {},
   "outputs": [
    {
     "name": "stdout",
     "output_type": "stream",
     "text": [
      "[0, 1, 2] [4, 5]\n",
      "[1, 2, 5] [7]\n"
     ]
    }
   ],
   "source": [
    "m_list = []\n",
    "ids = zip(all_desc_ids, all_targ_ids)\n",
    "for desc_ids, targ_ids in ids:\n",
    "    print(desc_ids, targ_ids)\n",
    "    \n",
    "    if set(targ_ids).issubset(set([6,7])):\n",
    "        learner = RandomForestClassifier\n",
    "    else:\n",
    "        learner = RandomForestRegressor\n",
    "        \n",
    "    m = learn_model(data, desc_ids, targ_ids, learner, max_depth=5, n_estimators=5)\n",
    "    m.desc_ids = desc_ids\n",
    "    m.targ_ids = targ_ids\n",
    "    m_list.append(m)"
   ]
  },
  {
   "cell_type": "code",
   "execution_count": 18,
   "metadata": {},
   "outputs": [],
   "source": [
    "sc = morpheus.SequentialComposition()"
   ]
  },
  {
   "cell_type": "code",
   "execution_count": 19,
   "metadata": {},
   "outputs": [],
   "source": [
    "for m in m_list:\n",
    "    sc.add_estimator(m)  "
   ]
  },
  {
   "cell_type": "code",
   "execution_count": 20,
   "metadata": {},
   "outputs": [
    {
     "name": "stdout",
     "output_type": "stream",
     "text": [
      "\n",
      "        # Main\n",
      "        Descriptive attributes:     [0. 1. 2.]\n",
      "        Target attributes:          [4. 7.]\n",
      "\n",
      "        ## On types (mostly nominals)\n",
      "        Target attribute types:                     ['numeric', 'nominal']\n",
      "        N_classes of nominal target attributes:     [2]\n",
      "        Classes of nominal target attributes:       [array([0., 1.])]\n",
      "\n",
      "        ## Weights\n",
      "        Total weights of target attributes:         [1. 1.]\n",
      "\n",
      "         \n",
      "        ## Estimators\n",
      "        Estimators used:        ['RandomForestRegressor', 'RandomForestClassifier']\n",
      "        N_estimators:           2\n",
      "        \n"
     ]
    }
   ],
   "source": [
    "sc.pretty_print()"
   ]
  },
  {
   "cell_type": "code",
   "execution_count": 21,
   "metadata": {
    "collapsed": true
   },
   "outputs": [],
   "source": [
    "X = data[:,]"
   ]
  },
  {
   "cell_type": "code",
   "execution_count": 22,
   "metadata": {},
   "outputs": [
    {
     "data": {
      "text/plain": [
       "[7.0]"
      ]
     },
     "execution_count": 22,
     "metadata": {},
     "output_type": "execute_result"
    }
   ],
   "source": [
    "sc.nominal_targ_ids"
   ]
  },
  {
   "cell_type": "code",
   "execution_count": 23,
   "metadata": {
    "scrolled": true
   },
   "outputs": [
    {
     "name": "stdout",
     "output_type": "stream",
     "text": [
      "\n",
      "            e_outcome.shape:    (200, 2)\n",
      "            \n",
      "\n",
      "\n",
      "                t_idx_map:  [[0 0]]\n",
      "                \n",
      "\n",
      "\n",
      "            e_outcome.shape:    (200, 1)\n",
      "            \n",
      "\n",
      "\n",
      "                t_idx_map:  [[0 1]]\n",
      "                \n",
      "\n"
     ]
    },
    {
     "data": {
      "text/plain": [
       "array([[-1.04398653,  0.        ],\n",
       "       [-0.60315219,  1.        ],\n",
       "       [-0.56131844,  1.        ],\n",
       "       [ 0.21232895,  1.        ],\n",
       "       [-1.09027277,  0.        ],\n",
       "       [-0.14950045,  1.        ],\n",
       "       [-0.12299569,  1.        ],\n",
       "       [-0.56131844,  1.        ],\n",
       "       [-0.94365536,  1.        ],\n",
       "       [-1.13893666,  1.        ],\n",
       "       [-0.34307905,  1.        ],\n",
       "       [-0.08240576,  0.        ],\n",
       "       [-0.5233555 ,  0.        ],\n",
       "       [-0.60315219,  1.        ],\n",
       "       [-0.60315219,  1.        ],\n",
       "       [ 0.29279955,  0.        ],\n",
       "       [-0.59100153,  0.        ],\n",
       "       [-0.87021652,  1.        ],\n",
       "       [-0.12463544,  1.        ],\n",
       "       [-0.09300776,  1.        ],\n",
       "       [ 0.23129093,  0.        ],\n",
       "       [-0.15693479,  1.        ],\n",
       "       [ 0.11909585,  1.        ],\n",
       "       [-0.26814701,  0.        ],\n",
       "       [-0.18450431,  1.        ],\n",
       "       [-0.78360892,  0.        ],\n",
       "       [-1.05393128,  1.        ],\n",
       "       [-0.31227218,  1.        ],\n",
       "       [-0.60315219,  1.        ],\n",
       "       [-0.94365536,  1.        ],\n",
       "       [-0.15693479,  1.        ],\n",
       "       [-0.38125097,  1.        ],\n",
       "       [-0.34307905,  1.        ],\n",
       "       [-0.42164184,  1.        ],\n",
       "       [-0.60315219,  1.        ],\n",
       "       [-0.84165414,  0.        ],\n",
       "       [-0.60315219,  1.        ],\n",
       "       [-0.51568161,  1.        ],\n",
       "       [-0.95997717,  1.        ],\n",
       "       [-1.26875187,  0.        ],\n",
       "       [-0.33625773,  1.        ],\n",
       "       [-0.90252498,  1.        ],\n",
       "       [ 0.50726783,  1.        ],\n",
       "       [-1.13893666,  1.        ],\n",
       "       [ 0.02227347,  1.        ],\n",
       "       [-0.33625773,  1.        ],\n",
       "       [-0.60315219,  1.        ],\n",
       "       [-0.60315219,  1.        ],\n",
       "       [-0.34961559,  0.        ],\n",
       "       [-0.73986592,  0.        ],\n",
       "       [-1.47387379,  1.        ],\n",
       "       [-0.74966086,  0.        ],\n",
       "       [-0.37592357,  0.        ],\n",
       "       [-0.82825251,  0.        ],\n",
       "       [-1.2271883 ,  0.        ],\n",
       "       [ 0.43960528,  0.        ],\n",
       "       [ 0.51224428,  1.        ],\n",
       "       [ 0.51380288,  1.        ],\n",
       "       [-0.12155272,  1.        ],\n",
       "       [-1.26875187,  1.        ],\n",
       "       [-0.94961648,  0.        ],\n",
       "       [ 0.01876288,  0.        ],\n",
       "       [-0.60315219,  0.        ],\n",
       "       [-1.69672519,  1.        ],\n",
       "       [-0.5233555 ,  0.        ],\n",
       "       [-1.33596931,  0.        ],\n",
       "       [-0.31227218,  1.        ],\n",
       "       [-0.65821898,  1.        ],\n",
       "       [ 0.29279955,  0.        ],\n",
       "       [-1.09027277,  0.        ],\n",
       "       [-0.56870275,  0.        ],\n",
       "       [ 0.43583584,  1.        ],\n",
       "       [-0.43399384,  0.        ],\n",
       "       [-0.37592357,  0.        ],\n",
       "       [-0.94365536,  1.        ],\n",
       "       [-0.39380455,  0.        ],\n",
       "       [ 0.59185066,  1.        ],\n",
       "       [-0.71796439,  0.        ],\n",
       "       [-0.46153382,  1.        ],\n",
       "       [ 0.0849127 ,  0.        ],\n",
       "       [-1.00202113,  1.        ],\n",
       "       [-0.17376114,  1.        ],\n",
       "       [ 0.62812419,  1.        ],\n",
       "       [-1.09027277,  0.        ],\n",
       "       [-1.40720229,  1.        ],\n",
       "       [ 0.35788219,  1.        ],\n",
       "       [-0.37592357,  0.        ],\n",
       "       [-0.09982908,  1.        ],\n",
       "       [ 0.8105762 ,  1.        ],\n",
       "       [-1.00202113,  1.        ],\n",
       "       [-0.87021652,  1.        ],\n",
       "       [-0.12299569,  1.        ],\n",
       "       [-0.17212362,  1.        ],\n",
       "       [-0.51980966,  1.        ],\n",
       "       [-0.60315219,  1.        ],\n",
       "       [-0.47667775,  0.        ],\n",
       "       [-0.43874172,  1.        ],\n",
       "       [-0.99349121,  0.        ],\n",
       "       [-1.20548875,  1.        ],\n",
       "       [-1.69672519,  0.        ],\n",
       "       [-0.20076145,  1.        ],\n",
       "       [ 0.39633563,  0.        ],\n",
       "       [-0.77983246,  1.        ],\n",
       "       [-1.03626303,  0.        ],\n",
       "       [-0.46153382,  1.        ],\n",
       "       [-1.09027277,  0.        ],\n",
       "       [-0.38399196,  0.        ],\n",
       "       [-0.40265623,  1.        ],\n",
       "       [-0.32741558,  1.        ],\n",
       "       [-1.38997905,  0.        ],\n",
       "       [ 0.29279955,  0.        ],\n",
       "       [-0.11932227,  1.        ],\n",
       "       [-0.27962881,  1.        ],\n",
       "       [-0.37063795,  1.        ],\n",
       "       [-0.57140738,  1.        ],\n",
       "       [-0.90341802,  1.        ],\n",
       "       [-2.28755645,  0.        ],\n",
       "       [-0.31677451,  0.        ],\n",
       "       [-0.65821898,  0.        ],\n",
       "       [-0.60315219,  1.        ],\n",
       "       [-0.63048372,  1.        ],\n",
       "       [-0.87021652,  1.        ],\n",
       "       [-1.01683392,  0.        ],\n",
       "       [-1.75664074,  0.        ],\n",
       "       [-0.09982908,  1.        ],\n",
       "       [-0.26019814,  0.        ],\n",
       "       [-1.00202113,  1.        ],\n",
       "       [-0.23078934,  1.        ],\n",
       "       [-1.00202113,  1.        ],\n",
       "       [-0.12299569,  1.        ],\n",
       "       [-0.01117175,  1.        ],\n",
       "       [-0.42254007,  1.        ],\n",
       "       [-0.13395359,  0.        ],\n",
       "       [-1.23854238,  0.        ],\n",
       "       [ 0.29279955,  0.        ],\n",
       "       [-0.26019814,  1.        ],\n",
       "       [ 0.35222213,  0.        ],\n",
       "       [-0.2302102 ,  1.        ],\n",
       "       [-0.09300776,  1.        ],\n",
       "       [-0.22225842,  0.        ],\n",
       "       [-1.03626303,  0.        ],\n",
       "       [-0.58633786,  1.        ],\n",
       "       [-1.3165402 ,  0.        ],\n",
       "       [-0.35829037,  1.        ],\n",
       "       [-1.33596931,  0.        ],\n",
       "       [-0.86136484,  1.        ],\n",
       "       [-0.38855657,  1.        ],\n",
       "       [ 0.51380288,  1.        ],\n",
       "       [-0.60315219,  1.        ],\n",
       "       [-0.0547928 ,  0.        ],\n",
       "       [-0.20931067,  0.        ],\n",
       "       [-1.33988817,  1.        ],\n",
       "       [-1.09027277,  0.        ],\n",
       "       [-0.43874172,  1.        ],\n",
       "       [ 0.09182189,  1.        ],\n",
       "       [-0.30781213,  0.        ],\n",
       "       [-0.12299569,  0.        ],\n",
       "       [-0.51708121,  0.        ],\n",
       "       [-1.34631834,  0.        ],\n",
       "       [ 0.29279955,  0.        ],\n",
       "       [-0.2814419 ,  1.        ],\n",
       "       [-0.51708121,  0.        ],\n",
       "       [-0.12299569,  1.        ],\n",
       "       [ 0.21232895,  1.        ],\n",
       "       [-1.00202113,  0.        ],\n",
       "       [-0.09982908,  1.        ],\n",
       "       [-0.12299569,  1.        ],\n",
       "       [-0.94365536,  1.        ],\n",
       "       [-0.32741558,  1.        ],\n",
       "       [-0.60315219,  0.        ],\n",
       "       [-0.48559557,  1.        ],\n",
       "       [-1.138144  ,  1.        ],\n",
       "       [-1.14136042,  0.        ],\n",
       "       [-0.2302102 ,  1.        ],\n",
       "       [-0.86670105,  0.        ],\n",
       "       [-0.37592357,  0.        ],\n",
       "       [-0.09722437,  1.        ],\n",
       "       [-0.28239815,  0.        ],\n",
       "       [-1.34631834,  0.        ],\n",
       "       [ 0.62812419,  1.        ],\n",
       "       [-0.20931067,  0.        ],\n",
       "       [-0.34307905,  1.        ],\n",
       "       [-0.26814701,  0.        ],\n",
       "       [-0.41410091,  1.        ],\n",
       "       [ 0.87407646,  1.        ],\n",
       "       [-0.37592357,  1.        ],\n",
       "       [-0.57419952,  1.        ],\n",
       "       [-0.60315219,  1.        ],\n",
       "       [ 0.43960528,  0.        ],\n",
       "       [-1.33596931,  0.        ],\n",
       "       [-0.32741558,  1.        ],\n",
       "       [-0.43874172,  1.        ],\n",
       "       [-0.26814701,  0.        ],\n",
       "       [ 0.23129093,  0.        ],\n",
       "       [-0.37592357,  1.        ],\n",
       "       [-0.5233555 ,  0.        ],\n",
       "       [-1.09027277,  0.        ],\n",
       "       [ 0.06663577,  0.        ],\n",
       "       [-0.62646482,  1.        ],\n",
       "       [-0.26814701,  0.        ]])"
      ]
     },
     "execution_count": 23,
     "metadata": {},
     "output_type": "execute_result"
    }
   ],
   "source": [
    "sc.predict(test_data[:, sc.desc_ids.astype(int)])"
   ]
  },
  {
   "cell_type": "code",
   "execution_count": 24,
   "metadata": {},
   "outputs": [
    {
     "data": {
      "text/plain": [
       "array([-1.04398653, -0.60315219, -0.56131844,  0.21232895, -1.09027277,\n",
       "       -0.14950045, -0.12299569, -0.56131844, -0.94365536, -1.13893666,\n",
       "       -0.34307905, -0.08240576, -0.5233555 , -0.60315219, -0.60315219,\n",
       "        0.29279955, -0.59100153, -0.87021652, -0.12463544, -0.09300776,\n",
       "        0.23129093, -0.15693479,  0.11909585, -0.26814701, -0.18450431,\n",
       "       -0.78360892, -1.05393128, -0.31227218, -0.60315219, -0.94365536,\n",
       "       -0.15693479, -0.38125097, -0.34307905, -0.42164184, -0.60315219,\n",
       "       -0.84165414, -0.60315219, -0.51568161, -0.95997717, -1.26875187,\n",
       "       -0.33625773, -0.90252498,  0.50726783, -1.13893666,  0.02227347,\n",
       "       -0.33625773, -0.60315219, -0.60315219, -0.34961559, -0.73986592,\n",
       "       -1.47387379, -0.74966086, -0.37592357, -0.82825251, -1.2271883 ,\n",
       "        0.43960528,  0.51224428,  0.51380288, -0.12155272, -1.26875187,\n",
       "       -0.94961648,  0.01876288, -0.60315219, -1.69672519, -0.5233555 ,\n",
       "       -1.33596931, -0.31227218, -0.65821898,  0.29279955, -1.09027277,\n",
       "       -0.56870275,  0.43583584, -0.43399384, -0.37592357, -0.94365536,\n",
       "       -0.39380455,  0.59185066, -0.71796439, -0.46153382,  0.0849127 ,\n",
       "       -1.00202113, -0.17376114,  0.62812419, -1.09027277, -1.40720229,\n",
       "        0.35788219, -0.37592357, -0.09982908,  0.8105762 , -1.00202113,\n",
       "       -0.87021652, -0.12299569, -0.17212362, -0.51980966, -0.60315219,\n",
       "       -0.47667775, -0.43874172, -0.99349121, -1.20548875, -1.69672519,\n",
       "       -0.20076145,  0.39633563, -0.77983246, -1.03626303, -0.46153382,\n",
       "       -1.09027277, -0.38399196, -0.40265623, -0.32741558, -1.38997905,\n",
       "        0.29279955, -0.11932227, -0.27962881, -0.37063795, -0.57140738,\n",
       "       -0.90341802, -2.28755645, -0.31677451, -0.65821898, -0.60315219,\n",
       "       -0.63048372, -0.87021652, -1.01683392, -1.75664074, -0.09982908,\n",
       "       -0.26019814, -1.00202113, -0.23078934, -1.00202113, -0.12299569,\n",
       "       -0.01117175, -0.42254007, -0.13395359, -1.23854238,  0.29279955,\n",
       "       -0.26019814,  0.35222213, -0.2302102 , -0.09300776, -0.22225842,\n",
       "       -1.03626303, -0.58633786, -1.3165402 , -0.35829037, -1.33596931,\n",
       "       -0.86136484, -0.38855657,  0.51380288, -0.60315219, -0.0547928 ,\n",
       "       -0.20931067, -1.33988817, -1.09027277, -0.43874172,  0.09182189,\n",
       "       -0.30781213, -0.12299569, -0.51708121, -1.34631834,  0.29279955,\n",
       "       -0.2814419 , -0.51708121, -0.12299569,  0.21232895, -1.00202113,\n",
       "       -0.09982908, -0.12299569, -0.94365536, -0.32741558, -0.60315219,\n",
       "       -0.48559557, -1.138144  , -1.14136042, -0.2302102 , -0.86670105,\n",
       "       -0.37592357, -0.09722437, -0.28239815, -1.34631834,  0.62812419,\n",
       "       -0.20931067, -0.34307905, -0.26814701, -0.41410091,  0.87407646,\n",
       "       -0.37592357, -0.57419952, -0.60315219,  0.43960528, -1.33596931,\n",
       "       -0.32741558, -0.43874172, -0.26814701,  0.23129093, -0.37592357,\n",
       "       -0.5233555 , -1.09027277,  0.06663577, -0.62646482, -0.26814701])"
      ]
     },
     "execution_count": 24,
     "metadata": {},
     "output_type": "execute_result"
    }
   ],
   "source": [
    "y = sc.predict_numeric(test_data[:, sc.desc_ids.astype(int)])\n",
    "y"
   ]
  },
  {
   "cell_type": "code",
   "execution_count": 25,
   "metadata": {},
   "outputs": [
    {
     "data": {
      "text/plain": [
       "[array([0., 1.])]"
      ]
     },
     "execution_count": 25,
     "metadata": {},
     "output_type": "execute_result"
    }
   ],
   "source": [
    "sc.classes_"
   ]
  },
  {
   "cell_type": "code",
   "execution_count": 26,
   "metadata": {},
   "outputs": [
    {
     "data": {
      "text/plain": [
       "array([[0.72513909, 0.27486091],\n",
       "       [0.48267103, 0.51732897],\n",
       "       [0.48267103, 0.51732897],\n",
       "       [0.43879476, 0.56120524],\n",
       "       [0.700675  , 0.299325  ],\n",
       "       [0.48267103, 0.51732897],\n",
       "       [0.46157253, 0.53842747],\n",
       "       [0.48267103, 0.51732897],\n",
       "       [0.48267103, 0.51732897],\n",
       "       [0.48094035, 0.51905965],\n",
       "       [0.22315577, 0.77684423],\n",
       "       [0.64272237, 0.35727763],\n",
       "       [0.6787312 , 0.3212688 ],\n",
       "       [0.48267103, 0.51732897],\n",
       "       [0.48267103, 0.51732897],\n",
       "       [0.700675  , 0.299325  ],\n",
       "       [0.56020914, 0.43979086],\n",
       "       [0.48267103, 0.51732897],\n",
       "       [0.40688911, 0.59311089],\n",
       "       [0.40688911, 0.59311089],\n",
       "       [0.75875412, 0.24124588],\n",
       "       [0.4279876 , 0.5720124 ],\n",
       "       [0.40688911, 0.59311089],\n",
       "       [0.75875412, 0.24124588],\n",
       "       [0.48267103, 0.51732897],\n",
       "       [0.75875412, 0.24124588],\n",
       "       [0.48267103, 0.51732897],\n",
       "       [0.4279876 , 0.5720124 ],\n",
       "       [0.48267103, 0.51732897],\n",
       "       [0.48267103, 0.51732897],\n",
       "       [0.4279876 , 0.5720124 ],\n",
       "       [0.48267103, 0.51732897],\n",
       "       [0.187611  , 0.812389  ],\n",
       "       [0.48267103, 0.51732897],\n",
       "       [0.48267103, 0.51732897],\n",
       "       [0.700675  , 0.299325  ],\n",
       "       [0.48267103, 0.51732897],\n",
       "       [0.4279876 , 0.5720124 ],\n",
       "       [0.40688911, 0.59311089],\n",
       "       [0.72513909, 0.27486091],\n",
       "       [0.27887314, 0.72112686],\n",
       "       [0.48094035, 0.51905965],\n",
       "       [0.4365319 , 0.5634681 ],\n",
       "       [0.47413763, 0.52586237],\n",
       "       [0.34990587, 0.65009413],\n",
       "       [0.27887314, 0.72112686],\n",
       "       [0.48267103, 0.51732897],\n",
       "       [0.48267103, 0.51732897],\n",
       "       [0.75191156, 0.24808844],\n",
       "       [0.700675  , 0.299325  ],\n",
       "       [0.22315577, 0.77684423],\n",
       "       [0.7107993 , 0.2892007 ],\n",
       "       [0.52379888, 0.47620112],\n",
       "       [0.6294638 , 0.3705362 ],\n",
       "       [0.53065427, 0.46934573],\n",
       "       [0.58402306, 0.41597694],\n",
       "       [0.40688911, 0.59311089],\n",
       "       [0.1016792 , 0.8983208 ],\n",
       "       [0.30704664, 0.69295336],\n",
       "       [0.46386925, 0.53613075],\n",
       "       [0.54840214, 0.45159786],\n",
       "       [0.71766046, 0.28233954],\n",
       "       [0.52379888, 0.47620112],\n",
       "       [0.46386925, 0.53613075],\n",
       "       [0.6787312 , 0.3212688 ],\n",
       "       [0.75875412, 0.24124588],\n",
       "       [0.4279876 , 0.5720124 ],\n",
       "       [0.40191873, 0.59808127],\n",
       "       [0.700675  , 0.299325  ],\n",
       "       [0.700675  , 0.299325  ],\n",
       "       [0.6787312 , 0.3212688 ],\n",
       "       [0.1016792 , 0.8983208 ],\n",
       "       [0.53055103, 0.46944897],\n",
       "       [0.52379888, 0.47620112],\n",
       "       [0.48267103, 0.51732897],\n",
       "       [0.53911064, 0.46088936],\n",
       "       [0.48726823, 0.51273177],\n",
       "       [0.7499424 , 0.2500576 ],\n",
       "       [0.4279876 , 0.5720124 ],\n",
       "       [0.52379888, 0.47620112],\n",
       "       [0.40688911, 0.59311089],\n",
       "       [0.29072219, 0.70927781],\n",
       "       [0.30805031, 0.69194969],\n",
       "       [0.6294638 , 0.3705362 ],\n",
       "       [0.48267103, 0.51732897],\n",
       "       [0.22315577, 0.77684423],\n",
       "       [0.52379888, 0.47620112],\n",
       "       [0.4279876 , 0.5720124 ],\n",
       "       [0.33941109, 0.66058891],\n",
       "       [0.40688911, 0.59311089],\n",
       "       [0.48267103, 0.51732897],\n",
       "       [0.48267103, 0.51732897],\n",
       "       [0.48267103, 0.51732897],\n",
       "       [0.48267103, 0.51732897],\n",
       "       [0.48267103, 0.51732897],\n",
       "       [0.6294638 , 0.3705362 ],\n",
       "       [0.48267103, 0.51732897],\n",
       "       [0.56020914, 0.43979086],\n",
       "       [0.4279876 , 0.5720124 ],\n",
       "       [0.75875412, 0.24124588],\n",
       "       [0.22315577, 0.77684423],\n",
       "       [0.7107993 , 0.2892007 ],\n",
       "       [0.4279876 , 0.5720124 ],\n",
       "       [0.6294638 , 0.3705362 ],\n",
       "       [0.4279876 , 0.5720124 ],\n",
       "       [0.700675  , 0.299325  ],\n",
       "       [0.7499424 , 0.2500576 ],\n",
       "       [0.4279876 , 0.5720124 ],\n",
       "       [0.4279876 , 0.5720124 ],\n",
       "       [0.77042211, 0.22957789],\n",
       "       [0.75191156, 0.24808844],\n",
       "       [0.48267103, 0.51732897],\n",
       "       [0.48267103, 0.51732897],\n",
       "       [0.40688911, 0.59311089],\n",
       "       [0.13189363, 0.86810637],\n",
       "       [0.22315577, 0.77684423],\n",
       "       [0.75191156, 0.24808844],\n",
       "       [0.6787312 , 0.3212688 ],\n",
       "       [0.52379888, 0.47620112],\n",
       "       [0.40191873, 0.59808127],\n",
       "       [0.4279876 , 0.5720124 ],\n",
       "       [0.48267103, 0.51732897],\n",
       "       [0.6294638 , 0.3705362 ],\n",
       "       [0.76294348, 0.23705652],\n",
       "       [0.40688911, 0.59311089],\n",
       "       [0.53911064, 0.46088936],\n",
       "       [0.39770543, 0.60229457],\n",
       "       [0.40688911, 0.59311089],\n",
       "       [0.4279876 , 0.5720124 ],\n",
       "       [0.46157253, 0.53842747],\n",
       "       [0.13189363, 0.86810637],\n",
       "       [0.48267103, 0.51732897],\n",
       "       [0.65336317, 0.34663683],\n",
       "       [0.75191156, 0.24808844],\n",
       "       [0.75875412, 0.24124588],\n",
       "       [0.40688911, 0.59311089],\n",
       "       [0.75191156, 0.24808844],\n",
       "       [0.48094035, 0.51905965],\n",
       "       [0.40688911, 0.59311089],\n",
       "       [0.6294638 , 0.3705362 ],\n",
       "       [0.56950064, 0.43049936],\n",
       "       [0.25627644, 0.74372356],\n",
       "       [0.75875412, 0.24124588],\n",
       "       [0.48267103, 0.51732897],\n",
       "       [0.75875412, 0.24124588],\n",
       "       [0.40688911, 0.59311089],\n",
       "       [0.48267103, 0.51732897],\n",
       "       [0.1016792 , 0.8983208 ],\n",
       "       [0.48267103, 0.51732897],\n",
       "       [0.6294638 , 0.3705362 ],\n",
       "       [0.52379888, 0.47620112],\n",
       "       [0.31854016, 0.68145984],\n",
       "       [0.6294638 , 0.3705362 ],\n",
       "       [0.48267103, 0.51732897],\n",
       "       [0.4279876 , 0.5720124 ],\n",
       "       [0.52379888, 0.47620112],\n",
       "       [0.50270039, 0.49729961],\n",
       "       [0.75191156, 0.24808844],\n",
       "       [0.75875412, 0.24124588],\n",
       "       [0.57780761, 0.42219239],\n",
       "       [0.37328974, 0.62671026],\n",
       "       [0.75191156, 0.24808844],\n",
       "       [0.46157253, 0.53842747],\n",
       "       [0.43879476, 0.56120524],\n",
       "       [0.53911064, 0.46088936],\n",
       "       [0.40688911, 0.59311089],\n",
       "       [0.48267103, 0.51732897],\n",
       "       [0.48267103, 0.51732897],\n",
       "       [0.4279876 , 0.5720124 ],\n",
       "       [0.52379888, 0.47620112],\n",
       "       [0.48094035, 0.51905965],\n",
       "       [0.2778392 , 0.7221608 ],\n",
       "       [0.75875412, 0.24124588],\n",
       "       [0.48094035, 0.51905965],\n",
       "       [0.71827793, 0.28172207],\n",
       "       [0.52379888, 0.47620112],\n",
       "       [0.40688911, 0.59311089],\n",
       "       [0.7107993 , 0.2892007 ],\n",
       "       [0.71827793, 0.28172207],\n",
       "       [0.44416275, 0.55583725],\n",
       "       [0.52379888, 0.47620112],\n",
       "       [0.37425753, 0.62574247],\n",
       "       [0.75875412, 0.24124588],\n",
       "       [0.48267103, 0.51732897],\n",
       "       [0.27887314, 0.72112686],\n",
       "       [0.48267103, 0.51732897],\n",
       "       [0.45213221, 0.54786779],\n",
       "       [0.48267103, 0.51732897],\n",
       "       [0.58402306, 0.41597694],\n",
       "       [0.71827793, 0.28172207],\n",
       "       [0.4279876 , 0.5720124 ],\n",
       "       [0.48267103, 0.51732897],\n",
       "       [0.72513909, 0.27486091],\n",
       "       [0.75191156, 0.24808844],\n",
       "       [0.40191873, 0.59808127],\n",
       "       [0.6787312 , 0.3212688 ],\n",
       "       [0.6294638 , 0.3705362 ],\n",
       "       [0.56020914, 0.43979086],\n",
       "       [0.4279876 , 0.5720124 ],\n",
       "       [0.75875412, 0.24124588]])"
      ]
     },
     "execution_count": 26,
     "metadata": {},
     "output_type": "execute_result"
    }
   ],
   "source": [
    "y = sc.predict_nominal(test_data[:, sc.desc_ids.astype(int)])\n",
    "y"
   ]
  }
 ],
 "metadata": {
  "kernelspec": {
   "display_name": "Python [conda env:morpheus]",
   "language": "python",
   "name": "conda-env-morpheus-py"
  },
  "language_info": {
   "codemirror_mode": {
    "name": "ipython",
    "version": 3
   },
   "file_extension": ".py",
   "mimetype": "text/x-python",
   "name": "python",
   "nbconvert_exporter": "python",
   "pygments_lexer": "ipython3",
   "version": "3.6.7"
  },
  "toc": {
   "nav_menu": {},
   "number_sections": true,
   "sideBar": true,
   "skip_h1_title": true,
   "toc_cell": false,
   "toc_position": {},
   "toc_section_display": "block",
   "toc_window_display": false
  }
 },
 "nbformat": 4,
 "nbformat_minor": 2
}
