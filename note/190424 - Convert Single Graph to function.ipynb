{
 "cells": [
  {
   "cell_type": "markdown",
   "metadata": {},
   "source": [
    "# Convert Single Graph to function"
   ]
  },
  {
   "cell_type": "markdown",
   "metadata": {},
   "source": [
    "## Preliminaries"
   ]
  },
  {
   "cell_type": "markdown",
   "metadata": {},
   "source": [
    "### Imports"
   ]
  },
  {
   "cell_type": "code",
   "execution_count": 1,
   "metadata": {},
   "outputs": [],
   "source": [
    "import os\n",
    "import sys\n",
    "import networkx as nx\n",
    "\n",
    "from os.path import dirname\n",
    "from networkx.drawing.nx_pydot import to_pydot\n",
    "\n",
    "note_dir = os.getcwd()\n",
    "\n",
    "root_dir = dirname(note_dir)\n",
    "src_dir = os.path.join(root_dir, \"src\")\n",
    "\n",
    "sys.path.append(src_dir)\n",
    "\n",
    "import morpheus\n",
    "from morpheus.tests import default_chain, default_ensemble\n",
    "from morpheus.graph import (model_to_graph,\n",
    "                            model_graph_traces,\n",
    "                            model_graph_layout, \n",
    "                            convert_positions_to_dot_format,\n",
    "                            add_merge_nodes)"
   ]
  },
  {
   "cell_type": "markdown",
   "metadata": {},
   "source": [
    "### Methods"
   ]
  },
  {
   "cell_type": "code",
   "execution_count": 2,
   "metadata": {},
   "outputs": [],
   "source": [
    "def fix_layout(G):\n",
    "    \n",
    "    for n in G.nodes():\n",
    "        node = G.nodes(data=True)[n]\n",
    "        if node['bipartite'] == 'func':\n",
    "            node['shape'] = \"\\\"square\\\"\"\n",
    "            node['width'] = \"2\"\n",
    "        elif node['bipartite'] == 'data':\n",
    "            node['shape'] = \"\\\"circle\\\"\"\n",
    "        else:\n",
    "            pass\n",
    "    \n",
    "    return G"
   ]
  },
  {
   "cell_type": "markdown",
   "metadata": {},
   "source": [
    "### Demo graph"
   ]
  },
  {
   "cell_type": "code",
   "execution_count": 3,
   "metadata": {},
   "outputs": [
    {
     "name": "stdout",
     "output_type": "stream",
     "text": [
      "\n",
      "        Learning model with desc ids:    [0, 1, 2]\n",
      "                            targ ids:    [5]\n",
      "        \n",
      "\n",
      "        Learning model with desc ids:    [0, 1, 3]\n",
      "                            targ ids:    [4, 5]\n",
      "        \n"
     ]
    }
   ],
   "source": [
    "ens = default_ensemble()"
   ]
  },
  {
   "cell_type": "code",
   "execution_count": 4,
   "metadata": {},
   "outputs": [
    {
     "name": "stdout",
     "output_type": "stream",
     "text": [
      "\n",
      "        # Main\n",
      "        Descriptive attributes:     [0. 1. 2. 3.]\n",
      "        Target attributes:          [4. 5.]\n",
      "\n",
      "        ## On types (mostly nominals)\n",
      "        Target attribute types:                     ['numeric', 'numeric']\n",
      "        N_classes of nominal target attributes:     []\n",
      "        Classes of nominal target attributes:       []\n",
      "\n",
      "        ## Weights\n",
      "        Total weights of target attributes:         [1. 2.]\n",
      "\n",
      "         \n",
      "        ## Estimators\n",
      "        Estimators used:        ['RandomForestRegressor', 'RandomForestRegressor']\n",
      "        N_estimators:           2\n",
      "        \n"
     ]
    }
   ],
   "source": [
    "ens.pretty_print()"
   ]
  },
  {
   "cell_type": "code",
   "execution_count": 5,
   "metadata": {},
   "outputs": [],
   "source": [
    "model_one = ens.estimators_[0]\n",
    "model_two = ens.estimators_[1]"
   ]
  },
  {
   "cell_type": "code",
   "execution_count": 6,
   "metadata": {},
   "outputs": [],
   "source": [
    "G = model_to_graph(model_one, idx=1)"
   ]
  },
  {
   "cell_type": "code",
   "execution_count": 7,
   "metadata": {},
   "outputs": [],
   "source": [
    "G = fix_layout(G)"
   ]
  },
  {
   "cell_type": "code",
   "execution_count": 8,
   "metadata": {},
   "outputs": [
    {
     "data": {
      "text/plain": [
       "NodeDataView({'d-00': {'bipartite': 'data', 'kind': 'data', 'idx': 0, 'tgt': [0], 'shape': '\"circle\"'}, 'd-01': {'bipartite': 'data', 'kind': 'data', 'idx': 1, 'tgt': [1], 'shape': '\"circle\"'}, 'd-02': {'bipartite': 'data', 'kind': 'data', 'idx': 2, 'tgt': [2], 'shape': '\"circle\"'}, 'd-05': {'bipartite': 'data', 'kind': 'data', 'idx': 5, 'tgt': [5], 'shape': '\"circle\"'}, 'f-01': {'bipartite': 'func', 'kind': 'model', 'idx': 1, 'mod': RandomForestRegressor(bootstrap=True, criterion='mse', max_depth=5,\n",
       "           max_features='auto', max_leaf_nodes=None,\n",
       "           min_impurity_decrease=0.0, min_impurity_split=None,\n",
       "           min_samples_leaf=1, min_samples_split=2,\n",
       "           min_weight_fraction_leaf=0.0, n_estimators=5, n_jobs=None,\n",
       "           oob_score=False, random_state=None, verbose=0, warm_start=False), 'function': <bound method ForestRegressor.predict of RandomForestRegressor(bootstrap=True, criterion='mse', max_depth=5,\n",
       "           max_features='auto', max_leaf_nodes=None,\n",
       "           min_impurity_decrease=0.0, min_impurity_split=None,\n",
       "           min_samples_leaf=1, min_samples_split=2,\n",
       "           min_weight_fraction_leaf=0.0, n_estimators=5, n_jobs=None,\n",
       "           oob_score=False, random_state=None, verbose=0, warm_start=False)>, 'src': [0, 1, 2], 'tgt': [5], 'shape': '\"square\"', 'width': '2'}})"
      ]
     },
     "execution_count": 8,
     "metadata": {},
     "output_type": "execute_result"
    }
   ],
   "source": [
    "G.nodes(data=True)"
   ]
  },
  {
   "cell_type": "code",
   "execution_count": 9,
   "metadata": {},
   "outputs": [],
   "source": [
    "\n",
    "    \n"
   ]
  },
  {
   "cell_type": "code",
   "execution_count": 39,
   "metadata": {},
   "outputs": [
    {
     "data": {
      "image/png": "[encoded data removed]",
      "text/plain": [
       "<IPython.core.display.Image object>"
      ]
     },
     "metadata": {
      "image/png": {
       "unconfined": true
      }
     },
     "output_type": "display_data"
    }
   ],
   "source": [
    "X = to_pydot(G)\n",
    "X.set('rankdir', 'BT')\n",
    "X.set('splines', 'ortho')\n",
    "\n",
    "with open(\"tmp/test.dot\", \"w\") as text_file:\n",
    "    print(X.to_string(), file=text_file)\n",
    "\n",
    "!dot -T png ./tmp/test.dot > ./tmp/test.png  # Bash command\n",
    "\n",
    "from IPython.display import Image, display\n",
    "from IPython.core.display import HTML \n",
    "\n",
    "display(Image('tmp/test.png', unconfined=True))"
   ]
  },
  {
   "cell_type": "markdown",
   "metadata": {},
   "source": [
    "## Parse graph"
   ]
  },
  {
   "cell_type": "code",
   "execution_count": 11,
   "metadata": {},
   "outputs": [
    {
     "data": {
      "text/plain": [
       "InDegreeView({'d-00': 0, 'd-01': 0, 'd-02': 0, 'd-05': 1, 'f-01': 3})"
      ]
     },
     "execution_count": 11,
     "metadata": {},
     "output_type": "execute_result"
    }
   ],
   "source": [
    "G.in_degree()"
   ]
  },
  {
   "cell_type": "code",
   "execution_count": 12,
   "metadata": {},
   "outputs": [],
   "source": [
    "source_nodes = [node for node, in_degree in G.in_degree() if in_degree == 0]\n",
    "target_nodes = [node for node, out_degree in G.out_degree() if out_degree == 0]\n",
    "\n",
    "for n in source_nodes:\n",
    "    G.nodes()[n]['stage'] = 0"
   ]
  },
  {
   "cell_type": "code",
   "execution_count": 13,
   "metadata": {},
   "outputs": [
    {
     "data": {
      "text/plain": [
       "['d-05']"
      ]
     },
     "execution_count": 13,
     "metadata": {},
     "output_type": "execute_result"
    }
   ],
   "source": [
    "target_nodes"
   ]
  },
  {
   "cell_type": "code",
   "execution_count": 14,
   "metadata": {},
   "outputs": [
    {
     "data": {
      "text/plain": [
       "set()"
      ]
     },
     "execution_count": 14,
     "metadata": {},
     "output_type": "execute_result"
    }
   ],
   "source": [
    "nx.ancestors(G, 'd-01')"
   ]
  },
  {
   "cell_type": "code",
   "execution_count": 15,
   "metadata": {},
   "outputs": [
    {
     "data": {
      "text/plain": [
       "['d-02', 'd-01', 'd-00', 'f-01', 'd-05']"
      ]
     },
     "execution_count": 15,
     "metadata": {},
     "output_type": "execute_result"
    }
   ],
   "source": [
    "list(nx.topological_sort(G))"
   ]
  },
  {
   "cell_type": "code",
   "execution_count": 16,
   "metadata": {},
   "outputs": [],
   "source": [
    "def select(idx):\n",
    "    \n",
    "    def select(X):\n",
    "        return X[:, idx]\n",
    "    return select"
   ]
  },
  {
   "cell_type": "code",
   "execution_count": 17,
   "metadata": {},
   "outputs": [],
   "source": [
    "import numpy as np"
   ]
  },
  {
   "cell_type": "code",
   "execution_count": 18,
   "metadata": {},
   "outputs": [
    {
     "data": {
      "text/plain": [
       "array([[3, 4, 3, 9, 7],\n",
       "       [9, 2, 1, 0, 5],\n",
       "       [0, 4, 0, 4, 7],\n",
       "       [7, 7, 6, 9, 4],\n",
       "       [6, 0, 6, 2, 4],\n",
       "       [6, 3, 5, 8, 0],\n",
       "       [0, 2, 4, 0, 4],\n",
       "       [3, 4, 0, 1, 8],\n",
       "       [5, 2, 6, 8, 9],\n",
       "       [7, 6, 2, 6, 9],\n",
       "       [8, 5, 9, 0, 4],\n",
       "       [3, 2, 9, 3, 0],\n",
       "       [0, 0, 4, 0, 3],\n",
       "       [8, 4, 6, 6, 4],\n",
       "       [8, 7, 1, 2, 2],\n",
       "       [8, 9, 0, 4, 0],\n",
       "       [1, 9, 9, 9, 0],\n",
       "       [0, 4, 9, 8, 6],\n",
       "       [1, 5, 8, 6, 8],\n",
       "       [7, 5, 8, 3, 9]])"
      ]
     },
     "execution_count": 18,
     "metadata": {},
     "output_type": "execute_result"
    }
   ],
   "source": [
    "X = np.random.randint(0,10, (20, 5))\n",
    "X"
   ]
  },
  {
   "cell_type": "code",
   "execution_count": 19,
   "metadata": {},
   "outputs": [
    {
     "data": {
      "text/plain": [
       "array([7, 5, 7, 4, 4, 0, 4, 8, 9, 9, 4, 0, 3, 4, 2, 0, 0, 6, 8, 9])"
      ]
     },
     "execution_count": 19,
     "metadata": {},
     "output_type": "execute_result"
    }
   ],
   "source": [
    "select(4)(X)"
   ]
  },
  {
   "cell_type": "code",
   "execution_count": null,
   "metadata": {},
   "outputs": [],
   "source": []
  },
  {
   "cell_type": "code",
   "execution_count": 20,
   "metadata": {},
   "outputs": [],
   "source": [
    "from functools import reduce"
   ]
  },
  {
   "cell_type": "code",
   "execution_count": 21,
   "metadata": {},
   "outputs": [],
   "source": [
    "def f1(x):\n",
    "    return x*2\n",
    "\n",
    "def f2(x):\n",
    "    return x+2\n",
    "\n",
    "def f3(x):\n",
    "    return x+6"
   ]
  },
  {
   "cell_type": "code",
   "execution_count": 22,
   "metadata": {},
   "outputs": [],
   "source": [
    "def x(*functions):\n",
    "    \n",
    "    def parallel_comp(*function_inputs):\n",
    "        if len(function_inputs) == 1:\n",
    "            res = tuple([f(function_inputs[0]) for f in functions])\n",
    "            return res\n",
    "        elif len(function_inputs) == len(functions):\n",
    "            res = tuple([f(x) for f, x in zip(functions, function_inputs)])\n",
    "            return res\n",
    "            \n",
    "    return parallel_comp"
   ]
  },
  {
   "cell_type": "code",
   "execution_count": null,
   "metadata": {},
   "outputs": [],
   "source": []
  },
  {
   "cell_type": "code",
   "execution_count": 23,
   "metadata": {},
   "outputs": [],
   "source": [
    "px = reduce(x, [f1,f2,f3])"
   ]
  },
  {
   "cell_type": "code",
   "execution_count": 24,
   "metadata": {},
   "outputs": [
    {
     "data": {
      "text/plain": [
       "(8, 6, 10)"
      ]
     },
     "execution_count": 24,
     "metadata": {},
     "output_type": "execute_result"
    }
   ],
   "source": [
    "px = x(f1,f2,f3)\n",
    "px(4)"
   ]
  },
  {
   "cell_type": "code",
   "execution_count": 25,
   "metadata": {},
   "outputs": [
    {
     "data": {
      "text/plain": [
       "(8, 6, 10)"
      ]
     },
     "execution_count": 25,
     "metadata": {},
     "output_type": "execute_result"
    }
   ],
   "source": [
    "px(4,4,4)"
   ]
  },
  {
   "cell_type": "code",
   "execution_count": 26,
   "metadata": {},
   "outputs": [
    {
     "data": {
      "text/plain": [
       "(8, 12, 16)"
      ]
     },
     "execution_count": 26,
     "metadata": {},
     "output_type": "execute_result"
    }
   ],
   "source": [
    "px(4,10,10)"
   ]
  },
  {
   "cell_type": "code",
   "execution_count": 27,
   "metadata": {},
   "outputs": [
    {
     "data": {
      "text/plain": [
       "(8, 6, 10)"
      ]
     },
     "execution_count": 27,
     "metadata": {},
     "output_type": "execute_result"
    }
   ],
   "source": [
    "px(4)"
   ]
  },
  {
   "cell_type": "code",
   "execution_count": null,
   "metadata": {},
   "outputs": [],
   "source": []
  },
  {
   "cell_type": "code",
   "execution_count": 28,
   "metadata": {},
   "outputs": [
    {
     "data": {
      "text/plain": [
       "(20,)"
      ]
     },
     "execution_count": 28,
     "metadata": {},
     "output_type": "execute_result"
    }
   ],
   "source": [
    "select(2)(X).shape"
   ]
  },
  {
   "cell_type": "code",
   "execution_count": null,
   "metadata": {},
   "outputs": [],
   "source": []
  },
  {
   "cell_type": "code",
   "execution_count": 29,
   "metadata": {},
   "outputs": [],
   "source": [
    "def o(f1, f2):\n",
    "    def sequential_composition(*function_arguments):\n",
    "        return f1(f2(*function_arguments))\n",
    "\n",
    "    return sequential_composition\n",
    "\n",
    "\n",
    "def x(*functions, return_type=tuple):\n",
    "    def parallel_composition(*function_arguments):\n",
    "        if len(function_arguments) == 1:\n",
    "            res = return_type([f(function_arguments[0]) for f in functions])\n",
    "            return res\n",
    "        elif len(function_arguments) == len(functions):\n",
    "            res = return_type([f(x) for f, x in zip(functions, function_arguments)])\n",
    "            return res\n",
    "\n",
    "    return parallel_composition"
   ]
  },
  {
   "cell_type": "code",
   "execution_count": 30,
   "metadata": {},
   "outputs": [],
   "source": [
    "pc = o(np.transpose, x(select(1), select(2), select(3), return_type=np.array))"
   ]
  },
  {
   "cell_type": "code",
   "execution_count": 31,
   "metadata": {},
   "outputs": [
    {
     "data": {
      "text/plain": [
       "array([[4, 3, 9],\n",
       "       [2, 1, 0],\n",
       "       [4, 0, 4],\n",
       "       [7, 6, 9],\n",
       "       [0, 6, 2],\n",
       "       [3, 5, 8],\n",
       "       [2, 4, 0],\n",
       "       [4, 0, 1],\n",
       "       [2, 6, 8],\n",
       "       [6, 2, 6],\n",
       "       [5, 9, 0],\n",
       "       [2, 9, 3],\n",
       "       [0, 4, 0],\n",
       "       [4, 6, 6],\n",
       "       [7, 1, 2],\n",
       "       [9, 0, 4],\n",
       "       [9, 9, 9],\n",
       "       [4, 9, 8],\n",
       "       [5, 8, 6],\n",
       "       [5, 8, 3]])"
      ]
     },
     "execution_count": 31,
     "metadata": {},
     "output_type": "execute_result"
    }
   ],
   "source": [
    "pc(X)"
   ]
  },
  {
   "cell_type": "code",
   "execution_count": 32,
   "metadata": {},
   "outputs": [
    {
     "data": {
      "text/plain": [
       "array([[4, 3, 9],\n",
       "       [2, 1, 0],\n",
       "       [4, 0, 4],\n",
       "       [7, 6, 9],\n",
       "       [0, 6, 2],\n",
       "       [3, 5, 8],\n",
       "       [2, 4, 0],\n",
       "       [4, 0, 1],\n",
       "       [2, 6, 8],\n",
       "       [6, 2, 6],\n",
       "       [5, 9, 0],\n",
       "       [2, 9, 3],\n",
       "       [0, 4, 0],\n",
       "       [4, 6, 6],\n",
       "       [7, 1, 2],\n",
       "       [9, 0, 4],\n",
       "       [9, 9, 9],\n",
       "       [4, 9, 8],\n",
       "       [5, 8, 6],\n",
       "       [5, 8, 3]])"
      ]
     },
     "execution_count": 32,
     "metadata": {},
     "output_type": "execute_result"
    }
   ],
   "source": [
    "np.array(pc(X))"
   ]
  },
  {
   "cell_type": "code",
   "execution_count": 33,
   "metadata": {},
   "outputs": [],
   "source": [
    "def build_array(array_tuple):\n",
    "    n_rows = np.unique([t.shape[0] for t in array_tuple])\n",
    "    return n_rows"
   ]
  },
  {
   "cell_type": "code",
   "execution_count": 34,
   "metadata": {},
   "outputs": [
    {
     "data": {
      "text/plain": [
       "array([3])"
      ]
     },
     "execution_count": 34,
     "metadata": {},
     "output_type": "execute_result"
    }
   ],
   "source": [
    "build_array(pc(X))"
   ]
  },
  {
   "cell_type": "code",
   "execution_count": 35,
   "metadata": {},
   "outputs": [
    {
     "name": "stdout",
     "output_type": "stream",
     "text": [
      "['d-02', 'd-01', 'd-00', 'f-01', 'd-05']\n"
     ]
    }
   ],
   "source": [
    "sorted_list = list(nx.topological_sort(G))\n",
    "print(sorted_list)\n",
    "functions = {}\n",
    "for node_name in sorted_list:\n",
    "    node = G.nodes(data=True)[node_name]\n",
    "    \n",
    "    if node['bipartite'] == 'data': \n",
    "        if len(nx.ancestors(G, node_name)) == 0:\n",
    "            functions[node_name] = select(node['idx'])\n",
    "        elif len(nx.descendants(G, node_name)) == 0:\n",
    "            functions[node_name] = 'end'\n",
    "            \n",
    "    elif node['bipartite'] == 'func':\n",
    "        inputs = [functions[n] for n in nx.ancestors(G, node_name)]\n",
    "        inputs = o(np.transpose, x(*inputs, return_type=np.array))\n",
    "        f = node['function']\n",
    "        functions[node_name] = o(f, inputs)\n",
    "        \n",
    "        \n",
    "        "
   ]
  },
  {
   "cell_type": "code",
   "execution_count": null,
   "metadata": {},
   "outputs": [],
   "source": []
  },
  {
   "cell_type": "code",
   "execution_count": 36,
   "metadata": {},
   "outputs": [
    {
     "data": {
      "text/plain": [
       "{'d-02': <function __main__.select.<locals>.select(X)>,\n",
       " 'd-01': <function __main__.select.<locals>.select(X)>,\n",
       " 'd-00': <function __main__.select.<locals>.select(X)>,\n",
       " 'f-01': <function __main__.o.<locals>.sequential_composition(*function_arguments)>,\n",
       " 'd-05': 'end'}"
      ]
     },
     "execution_count": 36,
     "metadata": {},
     "output_type": "execute_result"
    }
   ],
   "source": [
    "functions"
   ]
  },
  {
   "cell_type": "code",
   "execution_count": 37,
   "metadata": {},
   "outputs": [
    {
     "data": {
      "text/plain": [
       "array([[3, 4, 3],\n",
       "       [9, 2, 1],\n",
       "       [0, 4, 0],\n",
       "       [7, 7, 6],\n",
       "       [6, 0, 6],\n",
       "       [6, 3, 5],\n",
       "       [0, 2, 4],\n",
       "       [3, 4, 0],\n",
       "       [5, 2, 6],\n",
       "       [7, 6, 2],\n",
       "       [8, 5, 9],\n",
       "       [3, 2, 9],\n",
       "       [0, 0, 4],\n",
       "       [8, 4, 6],\n",
       "       [8, 7, 1],\n",
       "       [8, 9, 0],\n",
       "       [1, 9, 9],\n",
       "       [0, 4, 9],\n",
       "       [1, 5, 8],\n",
       "       [7, 5, 8]])"
      ]
     },
     "execution_count": 37,
     "metadata": {},
     "output_type": "execute_result"
    }
   ],
   "source": [
    "X[:, 0:3]"
   ]
  },
  {
   "cell_type": "code",
   "execution_count": 38,
   "metadata": {},
   "outputs": [
    {
     "data": {
      "text/plain": [
       "array([-0.79876798, -1.61844729, -0.10978778, -3.17176866, -4.50424085,\n",
       "       -3.17176866,  1.44072784, -1.69924655, -4.50424085, -2.87283911,\n",
       "       -3.17176866, -4.82849779,  1.10224051, -3.17176866, -0.79043533,\n",
       "       -1.18124331, -1.08571993,  1.44072784, -1.08571993, -3.17176866])"
      ]
     },
     "execution_count": 38,
     "metadata": {},
     "output_type": "execute_result"
    }
   ],
   "source": [
    "functions['f-01'](X)"
   ]
  }
 ],
 "metadata": {
  "kernelspec": {
   "display_name": "Py(morpheus)",
   "language": "python",
   "name": "morpheus"
  },
  "language_info": {
   "codemirror_mode": {
    "name": "ipython",
    "version": 3
   },
   "file_extension": ".py",
   "mimetype": "text/x-python",
   "name": "python",
   "nbconvert_exporter": "python",
   "pygments_lexer": "ipython3",
   "version": "3.6.7"
  },
  "toc": {
   "nav_menu": {},
   "number_sections": true,
   "sideBar": true,
   "skip_h1_title": true,
   "toc_cell": false,
   "toc_position": {},
   "toc_section_display": "block",
   "toc_window_display": false
  }
 },
 "nbformat": 4,
 "nbformat_minor": 2
}
