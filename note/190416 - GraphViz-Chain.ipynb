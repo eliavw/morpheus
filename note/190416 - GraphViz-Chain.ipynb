{
 "cells": [
  {
   "cell_type": "markdown",
   "metadata": {},
   "source": [
    "# GraphViz Chain\n",
    "\n",
    "In this notebook, we construct a graph of a chain of models."
   ]
  },
  {
   "cell_type": "markdown",
   "metadata": {},
   "source": [
    "## Preliminaries"
   ]
  },
  {
   "cell_type": "code",
   "execution_count": 1,
   "metadata": {
    "collapsed": true
   },
   "outputs": [],
   "source": [
    "import os\n",
    "import sys\n",
    "import networkx as nx\n",
    "\n",
    "from os.path import dirname\n",
    "\n",
    "note_dir = os.getcwd()\n",
    "\n",
    "root_dir = dirname(note_dir)\n",
    "src_dir = os.path.join(root_dir, \"src\")\n",
    "\n",
    "sys.path.append(src_dir)\n",
    "\n",
    "import morpheus\n",
    "from morpheus.tests import default_chain\n",
    "from morpheus.graph import (add_positions,\n",
    "                            model_to_graph,\n",
    "                            model_graph_traces,\n",
    "                            model_graph_layout, \n",
    "                            convert_positions_to_dot_format)"
   ]
  },
  {
   "cell_type": "markdown",
   "metadata": {},
   "source": [
    "## Build Chain"
   ]
  },
  {
   "cell_type": "code",
   "execution_count": 2,
   "metadata": {},
   "outputs": [
    {
     "name": "stdout",
     "output_type": "stream",
     "text": [
      "\n",
      "        Learning model with desc ids:    [0, 1, 2]\n",
      "                            targ ids:    [4, 5]\n",
      "        \n",
      "\n",
      "        Learning model with desc ids:    [1, 2, 5]\n",
      "                            targ ids:    [7]\n",
      "        \n",
      "\n",
      "            Trying to add a model to end of the chain.\n",
      "            \n",
      "            Current chain targ_ids:     [4. 5.]\n",
      "            New estimator desc_ids:     [1, 2, 5]\n",
      "            \n",
      "\n",
      "\n",
      "            Connecting attributes:  [5.]\n",
      "            \n",
      "\n"
     ]
    }
   ],
   "source": [
    "chain = default_chain()"
   ]
  },
  {
   "cell_type": "code",
   "execution_count": 3,
   "metadata": {},
   "outputs": [
    {
     "name": "stdout",
     "output_type": "stream",
     "text": [
      "\n",
      "        # Main\n",
      "        Descriptive attributes:     [0. 1. 2.]\n",
      "        Target attributes:          [4. 7.]\n",
      "\n",
      "        ## On types (mostly nominals)\n",
      "        Target attribute types:                     ['numeric', 'nominal']\n",
      "        N_classes of nominal target attributes:     [2]\n",
      "        Classes of nominal target attributes:       [array([0., 1.])]\n",
      "\n",
      "        ## Weights\n",
      "        Total weights of target attributes:         [1. 1.]\n",
      "\n",
      "         \n",
      "        ## Estimators\n",
      "        Estimators used:        ['RandomForestRegressor', 'RandomForestClassifier']\n",
      "        N_estimators:           2\n",
      "        \n"
     ]
    }
   ],
   "source": [
    "chain.pretty_print()"
   ]
  },
  {
   "cell_type": "markdown",
   "metadata": {},
   "source": [
    "## Build Graph"
   ]
  },
  {
   "cell_type": "code",
   "execution_count": 4,
   "metadata": {
    "collapsed": true
   },
   "outputs": [],
   "source": [
    "model_one = chain.estimators_[0]\n",
    "model_two = chain.estimators_[1]"
   ]
  },
  {
   "cell_type": "code",
   "execution_count": 5,
   "metadata": {},
   "outputs": [],
   "source": [
    "G_one = model_to_graph(model_one, idx=1)\n",
    "G_two = model_to_graph(model_two, idx=2)\n",
    "G_three = model_to_graph(model_two, idx=3)"
   ]
  },
  {
   "cell_type": "code",
   "execution_count": 6,
   "metadata": {},
   "outputs": [],
   "source": [
    "G_chain = nx.compose(G_one, G_two)"
   ]
  },
  {
   "cell_type": "code",
   "execution_count": 7,
   "metadata": {
    "collapsed": true
   },
   "outputs": [],
   "source": [
    "G_chain = nx.compose(G_chain, G_three)"
   ]
  },
  {
   "cell_type": "code",
   "execution_count": 8,
   "metadata": {},
   "outputs": [],
   "source": [
    "for n in G_chain.nodes():\n",
    "    if G_chain.nodes()[n]['bipartite'] == 'func':\n",
    "        G_chain.nodes()[n]['shape'] = \"\\\"square\\\"\"\n",
    "        G_chain.nodes()[n]['width'] = \"2.5\"\n",
    "    else:\n",
    "        G_chain.nodes()[n]['shape'] = \"\\\"circle\\\"\""
   ]
  },
  {
   "cell_type": "markdown",
   "metadata": {},
   "source": [
    "## Build graph from chain\n",
    "\n",
    "Now,we try to combine."
   ]
  },
  {
   "cell_type": "code",
   "execution_count": 9,
   "metadata": {
    "collapsed": true
   },
   "outputs": [],
   "source": [
    "from networkx.drawing.nx_pydot import to_pydot"
   ]
  },
  {
   "cell_type": "code",
   "execution_count": 10,
   "metadata": {},
   "outputs": [],
   "source": [
    "X = to_pydot(G_chain)"
   ]
  },
  {
   "cell_type": "code",
   "execution_count": 11,
   "metadata": {
    "collapsed": true
   },
   "outputs": [],
   "source": [
    "X.set('rankdir', 'BT')\n",
    "X.set('splines', 'ortho')"
   ]
  },
  {
   "cell_type": "code",
   "execution_count": 12,
   "metadata": {},
   "outputs": [
    {
     "data": {
      "text/plain": [
       "'strict digraph  {\\nrankdir=BT;\\nsplines=ortho;\\n\"d-0000\" [bipartite=data, idx=0, shape=\"circle\"];\\n\"d-0001\" [bipartite=data, idx=1, shape=\"circle\"];\\n\"d-0002\" [bipartite=data, idx=2, shape=\"circle\"];\\n\"d-0004\" [bipartite=data, idx=4, shape=\"circle\"];\\n\"d-0005\" [bipartite=data, idx=5, shape=\"circle\"];\\n\"f-0001\" [bipartite=func, idx=1, mod=\"RandomForestRegressor(bootstrap=True, criterion=\\'mse\\', max_depth=5,\\\\n           max_features=\\'auto\\', max_leaf_nodes=None,\\\\n           min_impurity_decrease=0.0, min_impurity_split=None,\\\\n           min_samples_leaf=1, min_samples_split=2,\\\\n           min_weight_fraction_leaf=0.0, n_estimators=5, n_jobs=None,\\\\n           oob_score=False, random_state=None, verbose=0, warm_start=False)\", shape=\"square\", width=\"2.5\"];\\n\"d-0007\" [bipartite=data, idx=7, shape=\"circle\"];\\n\"f-0002\" [bipartite=func, idx=2, mod=\"RandomForestClassifier(bootstrap=True, class_weight=None, criterion=\\'gini\\',\\\\n            max_depth=5, max_features=\\'auto\\', max_leaf_nodes=None,\\\\n            min_impurity_decrease=0.0, min_impurity_split=None,\\\\n            min_samples_leaf=1, min_samples_split=2,\\\\n            min_weight_fraction_leaf=0.0, n_estimators=5, n_jobs=None,\\\\n            oob_score=False, random_state=None, verbose=0,\\\\n            warm_start=False)\", shape=\"square\", width=\"2.5\"];\\n\"f-0003\" [bipartite=func, idx=3, mod=\"RandomForestClassifier(bootstrap=True, class_weight=None, criterion=\\'gini\\',\\\\n            max_depth=5, max_features=\\'auto\\', max_leaf_nodes=None,\\\\n            min_impurity_decrease=0.0, min_impurity_split=None,\\\\n            min_samples_leaf=1, min_samples_split=2,\\\\n            min_weight_fraction_leaf=0.0, n_estimators=5, n_jobs=None,\\\\n            oob_score=False, random_state=None, verbose=0,\\\\n            warm_start=False)\", shape=\"square\", width=\"2.5\"];\\n\"d-0000\" -> \"f-0001\"  [idx=0];\\n\"d-0001\" -> \"f-0001\"  [idx=1];\\n\"d-0001\" -> \"f-0002\"  [idx=1];\\n\"d-0001\" -> \"f-0003\"  [idx=1];\\n\"d-0002\" -> \"f-0001\"  [idx=2];\\n\"d-0002\" -> \"f-0002\"  [idx=2];\\n\"d-0002\" -> \"f-0003\"  [idx=2];\\n\"d-0005\" -> \"f-0002\"  [idx=5];\\n\"d-0005\" -> \"f-0003\"  [idx=5];\\n\"f-0001\" -> \"d-0004\"  [idx=4];\\n\"f-0001\" -> \"d-0005\"  [idx=5];\\n\"f-0002\" -> \"d-0007\"  [idx=7];\\n\"f-0003\" -> \"d-0007\"  [idx=7];\\n}\\n'"
      ]
     },
     "execution_count": 12,
     "metadata": {},
     "output_type": "execute_result"
    }
   ],
   "source": [
    "X.to_string()"
   ]
  },
  {
   "cell_type": "code",
   "execution_count": 13,
   "metadata": {
    "collapsed": true
   },
   "outputs": [],
   "source": [
    "with open(\"test.dot\", \"w\") as text_file:\n",
    "    print(X.to_string(), file=text_file)"
   ]
  },
  {
   "cell_type": "code",
   "execution_count": 14,
   "metadata": {
    "collapsed": true
   },
   "outputs": [],
   "source": [
    "!dot -T png test.dot > test.png  # Bash command"
   ]
  },
  {
   "cell_type": "code",
   "execution_count": 15,
   "metadata": {},
   "outputs": [
    {
     "data": {
      "image/png": "[encoded data removed]",
      "text/plain": [
       "<IPython.core.display.Image object>"
      ]
     },
     "metadata": {
      "image/png": {
       "unconfined": true
      }
     },
     "output_type": "display_data"
    }
   ],
   "source": [
    "from IPython.display import Image, display\n",
    "from IPython.core.display import HTML \n",
    "\n",
    "display(Image('test.png', unconfined=True))"
   ]
  },
  {
   "cell_type": "code",
   "execution_count": null,
   "metadata": {
    "collapsed": true
   },
   "outputs": [],
   "source": []
  }
 ],
 "metadata": {
  "kernelspec": {
   "display_name": "Python [conda env:morpheus]",
   "language": "python",
   "name": "conda-env-morpheus-py"
  },
  "language_info": {
   "codemirror_mode": {
    "name": "ipython",
    "version": 3
   },
   "file_extension": ".py",
   "mimetype": "text/x-python",
   "name": "python",
   "nbconvert_exporter": "python",
   "pygments_lexer": "ipython3",
   "version": "3.6.7"
  },
  "toc": {
   "nav_menu": {},
   "number_sections": true,
   "sideBar": true,
   "skip_h1_title": true,
   "toc_cell": false,
   "toc_position": {},
   "toc_section_display": "block",
   "toc_window_display": false
  }
 },
 "nbformat": 4,
 "nbformat_minor": 2
}
