{
 "cells": [
  {
   "cell_type": "markdown",
   "metadata": {},
   "source": [
    "# GraphViz Ensemble\n",
    "\n",
    "In this notebook, we construct a graph of a chain of models."
   ]
  },
  {
   "cell_type": "markdown",
   "metadata": {},
   "source": [
    "## Preliminaries"
   ]
  },
  {
   "cell_type": "code",
   "execution_count": 1,
   "metadata": {},
   "outputs": [],
   "source": [
    "import os\n",
    "import sys\n",
    "import networkx as nx\n",
    "\n",
    "from os.path import dirname\n",
    "\n",
    "note_dir = os.getcwd()\n",
    "\n",
    "root_dir = dirname(note_dir)\n",
    "src_dir = os.path.join(root_dir, \"src\")\n",
    "\n",
    "sys.path.append(src_dir)\n",
    "\n",
    "import morpheus\n",
    "from morpheus.tests import default_chain, default_ensemble\n",
    "from morpheus.graph import (model_to_graph,\n",
    "                            model_graph_traces,\n",
    "                            model_graph_layout, \n",
    "                            convert_positions_to_dot_format)"
   ]
  },
  {
   "cell_type": "markdown",
   "metadata": {},
   "source": [
    "## Build Ensemble"
   ]
  },
  {
   "cell_type": "code",
   "execution_count": 2,
   "metadata": {},
   "outputs": [
    {
     "name": "stdout",
     "output_type": "stream",
     "text": [
      "\n",
      "        Learning model with desc ids:    [0, 1, 2]\n",
      "                            targ ids:    [5]\n",
      "        \n",
      "\n",
      "        Learning model with desc ids:    [0, 1, 3]\n",
      "                            targ ids:    [4, 5]\n",
      "        \n"
     ]
    }
   ],
   "source": [
    "chain = default_ensemble()"
   ]
  },
  {
   "cell_type": "code",
   "execution_count": 3,
   "metadata": {},
   "outputs": [
    {
     "name": "stdout",
     "output_type": "stream",
     "text": [
      "\n",
      "        # Main\n",
      "        Descriptive attributes:     [0. 1. 2. 3.]\n",
      "        Target attributes:          [4. 5.]\n",
      "\n",
      "        ## On types (mostly nominals)\n",
      "        Target attribute types:                     ['numeric', 'numeric']\n",
      "        N_classes of nominal target attributes:     []\n",
      "        Classes of nominal target attributes:       []\n",
      "\n",
      "        ## Weights\n",
      "        Total weights of target attributes:         [1. 2.]\n",
      "\n",
      "         \n",
      "        ## Estimators\n",
      "        Estimators used:        ['RandomForestRegressor', 'RandomForestRegressor']\n",
      "        N_estimators:           2\n",
      "        \n"
     ]
    }
   ],
   "source": [
    "chain.pretty_print()"
   ]
  },
  {
   "cell_type": "markdown",
   "metadata": {},
   "source": [
    "## Build Graph"
   ]
  },
  {
   "cell_type": "code",
   "execution_count": 4,
   "metadata": {
    "collapsed": true
   },
   "outputs": [],
   "source": [
    "model_one = chain.estimators_[0]\n",
    "model_two = chain.estimators_[1]"
   ]
  },
  {
   "cell_type": "code",
   "execution_count": 5,
   "metadata": {
    "collapsed": true
   },
   "outputs": [],
   "source": [
    "G_one = model_to_graph(model_one, idx=1)\n",
    "G_two = model_to_graph(model_two, idx=2)"
   ]
  },
  {
   "cell_type": "code",
   "execution_count": 6,
   "metadata": {},
   "outputs": [
    {
     "data": {
      "text/plain": [
       "NodeView(('d-0000', 'd-0001', 'd-0002', 'd-0005', 'f-0001'))"
      ]
     },
     "execution_count": 6,
     "metadata": {},
     "output_type": "execute_result"
    }
   ],
   "source": [
    "G_one.nodes()"
   ]
  },
  {
   "cell_type": "code",
   "execution_count": 7,
   "metadata": {
    "collapsed": true
   },
   "outputs": [],
   "source": [
    "G_chain = nx.compose(G_one, G_two)"
   ]
  },
  {
   "cell_type": "code",
   "execution_count": null,
   "metadata": {
    "collapsed": true
   },
   "outputs": [],
   "source": []
  },
  {
   "cell_type": "code",
   "execution_count": 8,
   "metadata": {
    "collapsed": true
   },
   "outputs": [],
   "source": [
    "for n in G_chain.nodes():\n",
    "    if G_chain.nodes()[n]['bipartite'] == 'func':\n",
    "        G_chain.nodes()[n]['shape'] = \"\\\"square\\\"\"\n",
    "        G_chain.nodes()[n]['width'] = \"2.5\"\n",
    "    else:\n",
    "        G_chain.nodes()[n]['shape'] = \"\\\"circle\\\"\""
   ]
  },
  {
   "cell_type": "markdown",
   "metadata": {},
   "source": [
    "## Build graph from ensemble\n",
    "\n",
    "Now,we try to combine."
   ]
  },
  {
   "cell_type": "code",
   "execution_count": 9,
   "metadata": {
    "collapsed": true
   },
   "outputs": [],
   "source": [
    "from networkx.drawing.nx_pydot import to_pydot"
   ]
  },
  {
   "cell_type": "code",
   "execution_count": null,
   "metadata": {
    "collapsed": true
   },
   "outputs": [],
   "source": []
  },
  {
   "cell_type": "code",
   "execution_count": 10,
   "metadata": {},
   "outputs": [
    {
     "data": {
      "image/png": "[encoded data removed]",
      "text/plain": [
       "<IPython.core.display.Image object>"
      ]
     },
     "metadata": {
      "image/png": {
       "unconfined": true
      }
     },
     "output_type": "display_data"
    }
   ],
   "source": [
    "X = to_pydot(G_chain)\n",
    "X.set('rankdir', 'BT')\n",
    "X.set('splines', 'ortho')\n",
    "\n",
    "with open(\"test.dot\", \"w\") as text_file:\n",
    "    print(X.to_string(), file=text_file)\n",
    "    \n",
    "!dot -T png test.dot > test.png  # Bash command\n",
    "\n",
    "from IPython.display import Image, display\n",
    "from IPython.core.display import HTML \n",
    "\n",
    "display(Image('test.png', unconfined=True))"
   ]
  },
  {
   "cell_type": "code",
   "execution_count": 11,
   "metadata": {
    "collapsed": true
   },
   "outputs": [],
   "source": [
    "G = G_chain.copy()"
   ]
  },
  {
   "cell_type": "code",
   "execution_count": 12,
   "metadata": {
    "collapsed": true
   },
   "outputs": [],
   "source": [
    "def add_merge_nodes(G):\n",
    "    data_nodes = [n for n in G.nodes() if G.nodes()[n]['bipartite']=='data']\n",
    "    \n",
    "    mapping = {}\n",
    "    for node in data_nodes:\n",
    "        if len(G.in_edges(node)) > 1:\n",
    "            mapping[node] = \"merge-{}\".format(node)\n",
    "    \n",
    "    nx.relabel_nodes(G, mapping, copy=False)\n",
    "    \n",
    "    return "
   ]
  },
  {
   "cell_type": "code",
   "execution_count": 13,
   "metadata": {
    "collapsed": true
   },
   "outputs": [],
   "source": [
    "def convert_data_node_to_merge_node(G, data_node_label):\n",
    "    assert G.nodes()[data_node_label]['bipartite'] == 'data'\n",
    "    \n",
    "    mapping = {}\n",
    "    mapping[data_node_label] = \"merge\"\n",
    "    \n",
    "    nx.relabel_nodes(G, mapping, copy=False)\n",
    "    \n",
    "    G.nodes()[mapping[data_node_label]]['shape'] = \"\\\"triangle\\\"\"\n",
    "    \n",
    "    return mapping[data_node_label]"
   ]
  },
  {
   "cell_type": "code",
   "execution_count": 14,
   "metadata": {
    "collapsed": true
   },
   "outputs": [],
   "source": [
    "def place_original_data_node_behind_merge_node(G, original_node, merge_node_label):\n",
    "    \n",
    "    G.add_node(original_node[0], **original_node[1])\n",
    "    G.add_edge(merge_node_label, original_node[0], idx=original_node[1]['idx'])\n",
    "    \n",
    "    return G"
   ]
  },
  {
   "cell_type": "code",
   "execution_count": 15,
   "metadata": {
    "collapsed": true
   },
   "outputs": [],
   "source": [
    "def test(G, original_node_label):\n",
    "    \n",
    "    original_node_attributes = G.nodes(data=True)[original_node_label]\n",
    "    \n",
    "    original_node = (original_node_label, original_node_attributes)\n",
    "    \n",
    "    merge_node_label = convert_data_node_to_merge_node(G, original_node_label)\n",
    "    place_original_data_node_behind_merge_node(G, original_node, merge_node_label)\n",
    "    \n",
    "    return"
   ]
  },
  {
   "cell_type": "raw",
   "metadata": {},
   "source": [
    "G.nodes()['d-0004'][\"subgraph\"] = \"yeah\""
   ]
  },
  {
   "cell_type": "code",
   "execution_count": 16,
   "metadata": {},
   "outputs": [],
   "source": [
    "test(G, 'd-0005')"
   ]
  },
  {
   "cell_type": "code",
   "execution_count": 17,
   "metadata": {},
   "outputs": [
    {
     "data": {
      "text/plain": [
       "OutEdgeDataView([('d-0000', 'f-0001', {'idx': 0}), ('d-0000', 'f-0002', {'idx': 0}), ('d-0001', 'f-0001', {'idx': 1}), ('d-0001', 'f-0002', {'idx': 1}), ('d-0002', 'f-0001', {'idx': 2}), ('f-0001', 'merge', {'idx': 5}), ('d-0003', 'f-0002', {'idx': 3}), ('f-0002', 'd-0004', {'idx': 4}), ('f-0002', 'merge', {'idx': 5}), ('merge', 'd-0005', {'idx': 5})])"
      ]
     },
     "execution_count": 17,
     "metadata": {},
     "output_type": "execute_result"
    }
   ],
   "source": [
    "G.edges(data=True)"
   ]
  },
  {
   "cell_type": "code",
   "execution_count": 18,
   "metadata": {},
   "outputs": [
    {
     "name": "stdout",
     "output_type": "stream",
     "text": [
      "('d-0000', 'f-0001')\n",
      "('d-0000', 'f-0002')\n",
      "('d-0001', 'f-0001')\n",
      "('d-0001', 'f-0002')\n",
      "('d-0002', 'f-0001')\n",
      "('f-0001', 'merge')\n",
      "('d-0003', 'f-0002')\n",
      "('f-0002', 'd-0004')\n",
      "('f-0002', 'merge')\n",
      "('merge', 'd-0005')\n"
     ]
    }
   ],
   "source": [
    "for e in G.edges():\n",
    "    print(e)\n",
    "    G.edges()[e][\"xlabel\"] = G.edges()[e][\"idx\"]"
   ]
  },
  {
   "cell_type": "code",
   "execution_count": 19,
   "metadata": {
    "scrolled": false
   },
   "outputs": [],
   "source": [
    "X = to_pydot(G)\n",
    "X.set('rankdir', 'BT')\n",
    "X.set('splines', 'ortho')"
   ]
  },
  {
   "cell_type": "code",
   "execution_count": 20,
   "metadata": {},
   "outputs": [
    {
     "name": "stdout",
     "output_type": "stream",
     "text": [
      "strict digraph  {\n",
      "rankdir=BT;\n",
      "splines=ortho;\n",
      "\"d-0000\" [bipartite=data, idx=0, shape=\"circle\"];\n",
      "\"d-0001\" [bipartite=data, idx=1, shape=\"circle\"];\n",
      "\"d-0002\" [bipartite=data, idx=2, shape=\"circle\"];\n",
      "\"f-0001\" [bipartite=func, idx=1, mod=\"RandomForestRegressor(bootstrap=True, criterion='mse', max_depth=5,\\n           max_features='auto', max_leaf_nodes=None,\\n           min_impurity_decrease=0.0, min_impurity_split=None,\\n           min_samples_leaf=1, min_samples_split=2,\\n           min_weight_fraction_leaf=0.0, n_estimators=5, n_jobs=None,\\n           oob_score=False, random_state=None, verbose=0, warm_start=False)\", shape=\"square\", width=\"2.5\"];\n",
      "\"d-0003\" [bipartite=data, idx=3, shape=\"circle\"];\n",
      "\"d-0004\" [bipartite=data, idx=4, shape=\"circle\"];\n",
      "\"f-0002\" [bipartite=func, idx=2, mod=\"RandomForestRegressor(bootstrap=True, criterion='mse', max_depth=5,\\n           max_features='auto', max_leaf_nodes=None,\\n           min_impurity_decrease=0.0, min_impurity_split=None,\\n           min_samples_leaf=1, min_samples_split=2,\\n           min_weight_fraction_leaf=0.0, n_estimators=5, n_jobs=None,\\n           oob_score=False, random_state=None, verbose=0, warm_start=False)\", shape=\"square\", width=\"2.5\"];\n",
      "merge [bipartite=data, idx=5, shape=\"point\"];\n",
      "\"d-0005\" [bipartite=data, idx=5, shape=\"circle\"];\n",
      "\"d-0000\" -> \"f-0001\"  [idx=0, xlabel=0];\n",
      "\"d-0000\" -> \"f-0002\"  [idx=0, xlabel=0];\n",
      "\"d-0001\" -> \"f-0001\"  [idx=1, xlabel=1];\n",
      "\"d-0001\" -> \"f-0002\"  [idx=1, xlabel=1];\n",
      "\"d-0002\" -> \"f-0001\"  [idx=2, xlabel=2];\n",
      "\"f-0001\" -> merge  [idx=5, xlabel=5];\n",
      "\"d-0003\" -> \"f-0002\"  [idx=3, xlabel=3];\n",
      "\"f-0002\" -> \"d-0004\"  [idx=4, xlabel=4];\n",
      "\"f-0002\" -> merge  [idx=5, xlabel=5];\n",
      "merge -> \"d-0005\"  [idx=5, xlabel=5];\n",
      "}\n",
      "\n"
     ]
    }
   ],
   "source": [
    "print(X.to_string())"
   ]
  },
  {
   "cell_type": "code",
   "execution_count": 21,
   "metadata": {},
   "outputs": [
    {
     "data": {
      "image/png": "[encoded data removed]",
      "text/plain": [
       "<IPython.core.display.Image object>"
      ]
     },
     "metadata": {
      "image/png": {
       "unconfined": true
      }
     },
     "output_type": "display_data"
    }
   ],
   "source": [
    "with open(\"test.dot\", \"w\") as text_file:\n",
    "    print(X.to_string(), file=text_file)\n",
    "    \n",
    "!dot -T png test.dot > test.png  # Bash command\n",
    "\n",
    "from IPython.display import Image, display\n",
    "from IPython.core.display import HTML \n",
    "\n",
    "display(Image('test.png', unconfined=True))"
   ]
  },
  {
   "cell_type": "code",
   "execution_count": 22,
   "metadata": {},
   "outputs": [
    {
     "name": "stdout",
     "output_type": "stream",
     "text": [
      "graph parent {\n",
      "\tsubgraph child {\n",
      "\t\trank=same\n",
      "\t\tA\n",
      "\t\tB\n",
      "\t\tC\n",
      "\t\tA -- B\n",
      "\t}\n",
      "}\n"
     ]
    }
   ],
   "source": [
    "from graphviz import Graph\n",
    "\n",
    "g = Graph('parent')\n",
    "\n",
    "c = Graph('child')\n",
    "c.attr(rank='same')\n",
    "c.node('A')\n",
    "c.node('B')\n",
    "c.node('C')\n",
    "c.edge('A', 'B') #without rank='same', B will be below A\n",
    "\n",
    "g.subgraph(c)\n",
    "\n",
    "print(g.source)"
   ]
  }
 ],
 "metadata": {
  "kernelspec": {
   "display_name": "Python [conda env:morpheus]",
   "language": "python",
   "name": "conda-env-morpheus-py"
  },
  "language_info": {
   "codemirror_mode": {
    "name": "ipython",
    "version": 3
   },
   "file_extension": ".py",
   "mimetype": "text/x-python",
   "name": "python",
   "nbconvert_exporter": "python",
   "pygments_lexer": "ipython3",
   "version": "3.6.7"
  },
  "toc": {
   "nav_menu": {},
   "number_sections": true,
   "sideBar": true,
   "skip_h1_title": true,
   "toc_cell": false,
   "toc_position": {},
   "toc_section_display": "block",
   "toc_window_display": false
  }
 },
 "nbformat": 4,
 "nbformat_minor": 2
}
