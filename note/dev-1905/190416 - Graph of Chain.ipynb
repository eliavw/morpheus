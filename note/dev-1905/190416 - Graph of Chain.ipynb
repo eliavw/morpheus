{
 "cells": [
  {
   "cell_type": "markdown",
   "metadata": {},
   "source": [
    "# Graph of Chain\n",
    "\n",
    "In this notebook, we construct a graph of a chain of models."
   ]
  },
  {
   "cell_type": "markdown",
   "metadata": {},
   "source": [
    "## Preliminaries"
   ]
  },
  {
   "cell_type": "code",
   "execution_count": 1,
   "metadata": {},
   "outputs": [],
   "source": [
    "import os\n",
    "import sys\n",
    "\n",
    "from os.path import dirname\n",
    "\n",
    "note_dir = os.getcwd()\n",
    "\n",
    "root_dir = dirname(note_dir)\n",
    "data_dir = os.path.join(root_dir, 'resc', 'data', 'tidy','nltcs')\n",
    "src_dir = os.path.join(root_dir, \"src\")\n",
    "\n",
    "sys.path.append(src_dir)\n",
    "\n",
    "import morpheus\n",
    "from morpheus.tests import default_chain\n",
    "from morpheus.graph import (add_positions,\n",
    "                            model_to_graph,\n",
    "                            model_graph_traces,\n",
    "                            model_graph_layout, \n",
    "                            convert_positions_to_dot_format)"
   ]
  },
  {
   "cell_type": "code",
   "execution_count": 2,
   "metadata": {},
   "outputs": [
    {
     "data": {
      "text/html": [
       "<script type=\"text/javascript\">window.PlotlyConfig = {MathJaxConfig: 'local'};</script><script type=\"text/javascript\">if (window.MathJax) {MathJax.Hub.Config({SVG: {font: \"STIX-Web\"}});}</script><script>requirejs.config({paths: { 'plotly': ['https://cdn.plot.ly/plotly-latest.min']},});if(!window._Plotly) {require(['plotly'],function(plotly) {window._Plotly=plotly;});}</script>"
      ],
      "text/vnd.plotly.v1+html": [
       "<script type=\"text/javascript\">window.PlotlyConfig = {MathJaxConfig: 'local'};</script><script type=\"text/javascript\">if (window.MathJax) {MathJax.Hub.Config({SVG: {font: \"STIX-Web\"}});}</script><script>requirejs.config({paths: { 'plotly': ['https://cdn.plot.ly/plotly-latest.min']},});if(!window._Plotly) {require(['plotly'],function(plotly) {window._Plotly=plotly;});}</script>"
      ]
     },
     "metadata": {},
     "output_type": "display_data"
    }
   ],
   "source": [
    "import plotly as py\n",
    "import plotly.graph_objs as go\n",
    "from plotly.offline import download_plotlyjs, init_notebook_mode, plot, iplot\n",
    "init_notebook_mode(connected=True)"
   ]
  },
  {
   "cell_type": "markdown",
   "metadata": {},
   "source": [
    "## Build Chain"
   ]
  },
  {
   "cell_type": "code",
   "execution_count": 3,
   "metadata": {},
   "outputs": [
    {
     "name": "stdout",
     "output_type": "stream",
     "text": [
      "\n",
      "        Learning model with desc ids:    [0, 1, 2]\n",
      "                            targ ids:    [4, 5]\n",
      "        \n",
      "\n",
      "        Learning model with desc ids:    [1, 2, 5]\n",
      "                            targ ids:    [7]\n",
      "        \n",
      "\n",
      "            Trying to add a model to end of the chain.\n",
      "            \n",
      "            Current chain targ_ids:     [4. 5.]\n",
      "            New estimator desc_ids:     [1, 2, 5]\n",
      "            \n",
      "\n",
      "\n",
      "            Connecting attributes:  [5.]\n",
      "            \n",
      "\n"
     ]
    }
   ],
   "source": [
    "chain = default_chain()"
   ]
  },
  {
   "cell_type": "code",
   "execution_count": 4,
   "metadata": {},
   "outputs": [
    {
     "name": "stdout",
     "output_type": "stream",
     "text": [
      "\n",
      "        # Main\n",
      "        Descriptive attributes:     [0. 1. 2.]\n",
      "        Target attributes:          [4. 7.]\n",
      "\n",
      "        ## On types (mostly nominals)\n",
      "        Target attribute types:                     ['numeric', 'nominal']\n",
      "        N_classes of nominal target attributes:     [2]\n",
      "        Classes of nominal target attributes:       [array([0., 1.])]\n",
      "\n",
      "        ## Weights\n",
      "        Total weights of target attributes:         [1. 1.]\n",
      "\n",
      "         \n",
      "        ## Estimators\n",
      "        Estimators used:        ['RandomForestRegressor', 'RandomForestClassifier']\n",
      "        N_estimators:           2\n",
      "        \n"
     ]
    }
   ],
   "source": [
    "chain.pretty_print()"
   ]
  },
  {
   "cell_type": "markdown",
   "metadata": {},
   "source": [
    "## Build Graph"
   ]
  },
  {
   "cell_type": "code",
   "execution_count": 5,
   "metadata": {},
   "outputs": [],
   "source": [
    "model_one = chain.estimators_[0]\n",
    "model_two = chain.estimators_[1]"
   ]
  },
  {
   "cell_type": "code",
   "execution_count": 6,
   "metadata": {},
   "outputs": [
    {
     "data": {
      "text/plain": [
       "<networkx.classes.digraph.DiGraph at 0x7f749c663390>"
      ]
     },
     "execution_count": 6,
     "metadata": {},
     "output_type": "execute_result"
    }
   ],
   "source": [
    "G_one = model_to_graph(model_one, idx=1)\n",
    "add_positions(G_one)\n",
    "\n",
    "G_two = model_to_graph(model_two, idx=2)\n",
    "add_positions(G_two)"
   ]
  },
  {
   "cell_type": "code",
   "execution_count": null,
   "metadata": {
    "collapsed": true
   },
   "outputs": [],
   "source": []
  },
  {
   "cell_type": "code",
   "execution_count": 7,
   "metadata": {
    "scrolled": false
   },
   "outputs": [
    {
     "data": {
      "application/vnd.plotly.v1+json": {
       "config": {
        "linkText": "Export to plot.ly",
        "plotlyServerURL": "https://plot.ly",
        "showLink": false
       },
       "data": [
        {
         "hoverinfo": "none",
         "line": {
          "color": "black",
          "width": 4
         },
         "mode": "lines",
         "type": "scatter",
         "uid": "31fcec24-769e-4367-9638-f9e117e74850",
         "x": [
          0,
          1,
          null,
          0,
          1,
          null,
          0,
          1,
          null,
          1,
          2,
          null,
          1,
          2,
          null
         ],
         "y": [
          0,
          0,
          null,
          1,
          0,
          null,
          2,
          0,
          null,
          0,
          4,
          null,
          0,
          5,
          null
         ]
        },
        {
         "marker": {
          "color": "white",
          "line": {
           "color": "black",
           "width": 4
          },
          "size": 100,
          "symbol": "square"
         },
         "mode": "markers+text",
         "text": [
          "f-0001"
         ],
         "type": "scatter",
         "uid": "d5384363-1674-445b-9fc2-02721b169fac",
         "x": [
          1
         ],
         "y": [
          0
         ]
        },
        {
         "marker": {
          "color": "white",
          "line": {
           "color": "black",
           "width": 4
          },
          "size": 50,
          "symbol": "circle"
         },
         "mode": "markers+text",
         "text": [
          "d-0000",
          "d-0001",
          "d-0002",
          "d-0004",
          "d-0005"
         ],
         "type": "scatter",
         "uid": "a6fb5e4a-8c4f-4dc4-95ee-31aba7b44260",
         "x": [
          0,
          0,
          0,
          2,
          2
         ],
         "y": [
          0,
          1,
          2,
          4,
          5
         ]
        }
       ],
       "layout": {
        "hovermode": "closest",
        "margin": {
         "b": 20,
         "l": 5,
         "r": 5,
         "t": 40
        },
        "showlegend": false,
        "title": {
         "font": {
          "size": 16
         },
         "text": "Model O"
        },
        "xaxis": {
         "showgrid": false,
         "showticklabels": false,
         "zeroline": false
        },
        "yaxis": {
         "showgrid": false,
         "showticklabels": false,
         "zeroline": false
        }
       }
      },
      "text/html": [
       "<div id=\"913b1611-71e7-4360-b4a9-3c4c8389121e\" style=\"height: 525px; width: 100%;\" class=\"plotly-graph-div\"></div><script type=\"text/javascript\">require([\"plotly\"], function(Plotly) { window.PLOTLYENV=window.PLOTLYENV || {};window.PLOTLYENV.BASE_URL=\"https://plot.ly\";\n",
       "if (document.getElementById(\"913b1611-71e7-4360-b4a9-3c4c8389121e\")) {\n",
       "    Plotly.newPlot(\"913b1611-71e7-4360-b4a9-3c4c8389121e\", [{\"hoverinfo\": \"none\", \"line\": {\"color\": \"black\", \"width\": 4}, \"mode\": \"lines\", \"x\": [0, 1, null, 0, 1, null, 0, 1, null, 1, 2, null, 1, 2, null], \"y\": [0.0, 0, null, 1.0, 0, null, 2.0, 0, null, 0, 4.0, null, 0, 5.0, null], \"type\": \"scatter\", \"uid\": \"31fcec24-769e-4367-9638-f9e117e74850\"}, {\"marker\": {\"color\": \"white\", \"line\": {\"color\": \"black\", \"width\": 4}, \"size\": 100, \"symbol\": \"square\"}, \"mode\": \"markers+text\", \"text\": [\"f-0001\"], \"x\": [1], \"y\": [0], \"type\": \"scatter\", \"uid\": \"d5384363-1674-445b-9fc2-02721b169fac\"}, {\"marker\": {\"color\": \"white\", \"line\": {\"color\": \"black\", \"width\": 4}, \"size\": 50, \"symbol\": \"circle\"}, \"mode\": \"markers+text\", \"text\": [\"d-0000\", \"d-0001\", \"d-0002\", \"d-0004\", \"d-0005\"], \"x\": [0, 0, 0, 2, 2], \"y\": [0.0, 1.0, 2.0, 4.0, 5.0], \"type\": \"scatter\", \"uid\": \"a6fb5e4a-8c4f-4dc4-95ee-31aba7b44260\"}], {\"hovermode\": \"closest\", \"margin\": {\"b\": 20, \"l\": 5, \"r\": 5, \"t\": 40}, \"showlegend\": false, \"title\": {\"font\": {\"size\": 16}, \"text\": \"Model O\"}, \"xaxis\": {\"showgrid\": false, \"showticklabels\": false, \"zeroline\": false}, \"yaxis\": {\"showgrid\": false, \"showticklabels\": false, \"zeroline\": false}}, {\"showLink\": false, \"linkText\": \"Export to plot.ly\", \"plotlyServerURL\": \"https://plot.ly\"}); \n",
       "}\n",
       "});</script><script type=\"text/javascript\">window.addEventListener(\"resize\", function(){if (document.getElementById(\"913b1611-71e7-4360-b4a9-3c4c8389121e\")) {window._Plotly.Plots.resize(document.getElementById(\"913b1611-71e7-4360-b4a9-3c4c8389121e\"));};})</script>"
      ],
      "text/vnd.plotly.v1+html": [
       "<div id=\"913b1611-71e7-4360-b4a9-3c4c8389121e\" style=\"height: 525px; width: 100%;\" class=\"plotly-graph-div\"></div><script type=\"text/javascript\">require([\"plotly\"], function(Plotly) { window.PLOTLYENV=window.PLOTLYENV || {};window.PLOTLYENV.BASE_URL=\"https://plot.ly\";\n",
       "if (document.getElementById(\"913b1611-71e7-4360-b4a9-3c4c8389121e\")) {\n",
       "    Plotly.newPlot(\"913b1611-71e7-4360-b4a9-3c4c8389121e\", [{\"hoverinfo\": \"none\", \"line\": {\"color\": \"black\", \"width\": 4}, \"mode\": \"lines\", \"x\": [0, 1, null, 0, 1, null, 0, 1, null, 1, 2, null, 1, 2, null], \"y\": [0.0, 0, null, 1.0, 0, null, 2.0, 0, null, 0, 4.0, null, 0, 5.0, null], \"type\": \"scatter\", \"uid\": \"31fcec24-769e-4367-9638-f9e117e74850\"}, {\"marker\": {\"color\": \"white\", \"line\": {\"color\": \"black\", \"width\": 4}, \"size\": 100, \"symbol\": \"square\"}, \"mode\": \"markers+text\", \"text\": [\"f-0001\"], \"x\": [1], \"y\": [0], \"type\": \"scatter\", \"uid\": \"d5384363-1674-445b-9fc2-02721b169fac\"}, {\"marker\": {\"color\": \"white\", \"line\": {\"color\": \"black\", \"width\": 4}, \"size\": 50, \"symbol\": \"circle\"}, \"mode\": \"markers+text\", \"text\": [\"d-0000\", \"d-0001\", \"d-0002\", \"d-0004\", \"d-0005\"], \"x\": [0, 0, 0, 2, 2], \"y\": [0.0, 1.0, 2.0, 4.0, 5.0], \"type\": \"scatter\", \"uid\": \"a6fb5e4a-8c4f-4dc4-95ee-31aba7b44260\"}], {\"hovermode\": \"closest\", \"margin\": {\"b\": 20, \"l\": 5, \"r\": 5, \"t\": 40}, \"showlegend\": false, \"title\": {\"font\": {\"size\": 16}, \"text\": \"Model O\"}, \"xaxis\": {\"showgrid\": false, \"showticklabels\": false, \"zeroline\": false}, \"yaxis\": {\"showgrid\": false, \"showticklabels\": false, \"zeroline\": false}}, {\"showLink\": false, \"linkText\": \"Export to plot.ly\", \"plotlyServerURL\": \"https://plot.ly\"}); \n",
       "}\n",
       "});</script><script type=\"text/javascript\">window.addEventListener(\"resize\", function(){if (document.getElementById(\"913b1611-71e7-4360-b4a9-3c4c8389121e\")) {window._Plotly.Plots.resize(document.getElementById(\"913b1611-71e7-4360-b4a9-3c4c8389121e\"));};})</script>"
      ]
     },
     "metadata": {},
     "output_type": "display_data"
    }
   ],
   "source": [
    "fig = go.Figure(data=list(model_graph_traces(G_one)),\n",
    "                layout=model_graph_layout(title=\"Model O\"))\n",
    "\n",
    "iplot(fig)"
   ]
  },
  {
   "cell_type": "code",
   "execution_count": 8,
   "metadata": {},
   "outputs": [
    {
     "data": {
      "application/vnd.plotly.v1+json": {
       "config": {
        "linkText": "Export to plot.ly",
        "plotlyServerURL": "https://plot.ly",
        "showLink": false
       },
       "data": [
        {
         "hoverinfo": "none",
         "line": {
          "color": "black",
          "width": 4
         },
         "mode": "lines",
         "type": "scatter",
         "uid": "c7cb9bcf-1b03-4beb-9242-637edf34191e",
         "x": [
          0,
          1,
          null,
          0,
          1,
          null,
          0,
          1,
          null,
          1,
          2,
          null
         ],
         "y": [
          1,
          0,
          null,
          2,
          0,
          null,
          5,
          0,
          null,
          0,
          7,
          null
         ]
        },
        {
         "marker": {
          "color": "white",
          "line": {
           "color": "black",
           "width": 4
          },
          "size": 100,
          "symbol": "square"
         },
         "mode": "markers+text",
         "text": [
          "f-0002"
         ],
         "type": "scatter",
         "uid": "3f1ba57b-109d-424a-ba9e-a71c12ac47cf",
         "x": [
          1
         ],
         "y": [
          0
         ]
        },
        {
         "marker": {
          "color": "white",
          "line": {
           "color": "black",
           "width": 4
          },
          "size": 50,
          "symbol": "circle"
         },
         "mode": "markers+text",
         "text": [
          "d-0001",
          "d-0002",
          "d-0005",
          "d-0007"
         ],
         "type": "scatter",
         "uid": "9eceabd2-d27b-4dfa-a782-0ccaeb42a218",
         "x": [
          0,
          0,
          0,
          2
         ],
         "y": [
          1,
          2,
          5,
          7
         ]
        }
       ],
       "layout": {
        "hovermode": "closest",
        "margin": {
         "b": 20,
         "l": 5,
         "r": 5,
         "t": 40
        },
        "showlegend": false,
        "title": {
         "font": {
          "size": 16
         },
         "text": "Model Two"
        },
        "xaxis": {
         "showgrid": false,
         "showticklabels": false,
         "zeroline": false
        },
        "yaxis": {
         "showgrid": false,
         "showticklabels": false,
         "zeroline": false
        }
       }
      },
      "text/html": [
       "<div id=\"b658b4fa-3e07-4290-bb18-81584b797b16\" style=\"height: 525px; width: 100%;\" class=\"plotly-graph-div\"></div><script type=\"text/javascript\">require([\"plotly\"], function(Plotly) { window.PLOTLYENV=window.PLOTLYENV || {};window.PLOTLYENV.BASE_URL=\"https://plot.ly\";\n",
       "if (document.getElementById(\"b658b4fa-3e07-4290-bb18-81584b797b16\")) {\n",
       "    Plotly.newPlot(\"b658b4fa-3e07-4290-bb18-81584b797b16\", [{\"hoverinfo\": \"none\", \"line\": {\"color\": \"black\", \"width\": 4}, \"mode\": \"lines\", \"x\": [0, 1, null, 0, 1, null, 0, 1, null, 1, 2, null], \"y\": [1.0, 0, null, 2.0, 0, null, 5.0, 0, null, 0, 7.0, null], \"type\": \"scatter\", \"uid\": \"c7cb9bcf-1b03-4beb-9242-637edf34191e\"}, {\"marker\": {\"color\": \"white\", \"line\": {\"color\": \"black\", \"width\": 4}, \"size\": 100, \"symbol\": \"square\"}, \"mode\": \"markers+text\", \"text\": [\"f-0002\"], \"x\": [1], \"y\": [0], \"type\": \"scatter\", \"uid\": \"3f1ba57b-109d-424a-ba9e-a71c12ac47cf\"}, {\"marker\": {\"color\": \"white\", \"line\": {\"color\": \"black\", \"width\": 4}, \"size\": 50, \"symbol\": \"circle\"}, \"mode\": \"markers+text\", \"text\": [\"d-0001\", \"d-0002\", \"d-0005\", \"d-0007\"], \"x\": [0, 0, 0, 2], \"y\": [1.0, 2.0, 5.0, 7.0], \"type\": \"scatter\", \"uid\": \"9eceabd2-d27b-4dfa-a782-0ccaeb42a218\"}], {\"hovermode\": \"closest\", \"margin\": {\"b\": 20, \"l\": 5, \"r\": 5, \"t\": 40}, \"showlegend\": false, \"title\": {\"font\": {\"size\": 16}, \"text\": \"Model Two\"}, \"xaxis\": {\"showgrid\": false, \"showticklabels\": false, \"zeroline\": false}, \"yaxis\": {\"showgrid\": false, \"showticklabels\": false, \"zeroline\": false}}, {\"showLink\": false, \"linkText\": \"Export to plot.ly\", \"plotlyServerURL\": \"https://plot.ly\"}); \n",
       "}\n",
       "});</script><script type=\"text/javascript\">window.addEventListener(\"resize\", function(){if (document.getElementById(\"b658b4fa-3e07-4290-bb18-81584b797b16\")) {window._Plotly.Plots.resize(document.getElementById(\"b658b4fa-3e07-4290-bb18-81584b797b16\"));};})</script>"
      ],
      "text/vnd.plotly.v1+html": [
       "<div id=\"b658b4fa-3e07-4290-bb18-81584b797b16\" style=\"height: 525px; width: 100%;\" class=\"plotly-graph-div\"></div><script type=\"text/javascript\">require([\"plotly\"], function(Plotly) { window.PLOTLYENV=window.PLOTLYENV || {};window.PLOTLYENV.BASE_URL=\"https://plot.ly\";\n",
       "if (document.getElementById(\"b658b4fa-3e07-4290-bb18-81584b797b16\")) {\n",
       "    Plotly.newPlot(\"b658b4fa-3e07-4290-bb18-81584b797b16\", [{\"hoverinfo\": \"none\", \"line\": {\"color\": \"black\", \"width\": 4}, \"mode\": \"lines\", \"x\": [0, 1, null, 0, 1, null, 0, 1, null, 1, 2, null], \"y\": [1.0, 0, null, 2.0, 0, null, 5.0, 0, null, 0, 7.0, null], \"type\": \"scatter\", \"uid\": \"c7cb9bcf-1b03-4beb-9242-637edf34191e\"}, {\"marker\": {\"color\": \"white\", \"line\": {\"color\": \"black\", \"width\": 4}, \"size\": 100, \"symbol\": \"square\"}, \"mode\": \"markers+text\", \"text\": [\"f-0002\"], \"x\": [1], \"y\": [0], \"type\": \"scatter\", \"uid\": \"3f1ba57b-109d-424a-ba9e-a71c12ac47cf\"}, {\"marker\": {\"color\": \"white\", \"line\": {\"color\": \"black\", \"width\": 4}, \"size\": 50, \"symbol\": \"circle\"}, \"mode\": \"markers+text\", \"text\": [\"d-0001\", \"d-0002\", \"d-0005\", \"d-0007\"], \"x\": [0, 0, 0, 2], \"y\": [1.0, 2.0, 5.0, 7.0], \"type\": \"scatter\", \"uid\": \"9eceabd2-d27b-4dfa-a782-0ccaeb42a218\"}], {\"hovermode\": \"closest\", \"margin\": {\"b\": 20, \"l\": 5, \"r\": 5, \"t\": 40}, \"showlegend\": false, \"title\": {\"font\": {\"size\": 16}, \"text\": \"Model Two\"}, \"xaxis\": {\"showgrid\": false, \"showticklabels\": false, \"zeroline\": false}, \"yaxis\": {\"showgrid\": false, \"showticklabels\": false, \"zeroline\": false}}, {\"showLink\": false, \"linkText\": \"Export to plot.ly\", \"plotlyServerURL\": \"https://plot.ly\"}); \n",
       "}\n",
       "});</script><script type=\"text/javascript\">window.addEventListener(\"resize\", function(){if (document.getElementById(\"b658b4fa-3e07-4290-bb18-81584b797b16\")) {window._Plotly.Plots.resize(document.getElementById(\"b658b4fa-3e07-4290-bb18-81584b797b16\"));};})</script>"
      ]
     },
     "metadata": {},
     "output_type": "display_data"
    }
   ],
   "source": [
    "fig = go.Figure(data=list(model_graph_traces(G_two)),\n",
    "                layout=model_graph_layout(title=\"Model Two\"))\n",
    "\n",
    "iplot(fig)"
   ]
  },
  {
   "cell_type": "markdown",
   "metadata": {},
   "source": [
    "## Build graph from chain\n",
    "\n",
    "Now,we try to combine."
   ]
  },
  {
   "cell_type": "code",
   "execution_count": 9,
   "metadata": {},
   "outputs": [
    {
     "data": {
      "text/plain": [
       "NodeView(('d-0000', 'd-0001', 'd-0002', 'd-0004', 'd-0005', 'f-0001'))"
      ]
     },
     "execution_count": 9,
     "metadata": {},
     "output_type": "execute_result"
    }
   ],
   "source": [
    "G_one.nodes()"
   ]
  },
  {
   "cell_type": "code",
   "execution_count": 10,
   "metadata": {
    "collapsed": true
   },
   "outputs": [],
   "source": [
    "for node in G_one.nodes():\n",
    "    G_one.nodes()[node][\"shape\"] = \"circle\""
   ]
  },
  {
   "cell_type": "code",
   "execution_count": 11,
   "metadata": {},
   "outputs": [
    {
     "data": {
      "text/plain": [
       "NodeView(('d-0001', 'd-0002', 'd-0005', 'd-0007', 'f-0002'))"
      ]
     },
     "execution_count": 11,
     "metadata": {},
     "output_type": "execute_result"
    }
   ],
   "source": [
    "G_two.nodes()"
   ]
  },
  {
   "cell_type": "code",
   "execution_count": 12,
   "metadata": {},
   "outputs": [],
   "source": [
    "import networkx as nx\n",
    "G = nx.compose(G_one, G_two)"
   ]
  },
  {
   "cell_type": "code",
   "execution_count": 13,
   "metadata": {},
   "outputs": [
    {
     "data": {
      "text/plain": [
       "NodeView(('d-0000', 'd-0001', 'd-0002', 'd-0004', 'd-0005', 'f-0001', 'd-0007', 'f-0002'))"
      ]
     },
     "execution_count": 13,
     "metadata": {},
     "output_type": "execute_result"
    }
   ],
   "source": [
    "G.nodes()"
   ]
  },
  {
   "cell_type": "code",
   "execution_count": 14,
   "metadata": {},
   "outputs": [
    {
     "data": {
      "application/vnd.plotly.v1+json": {
       "config": {
        "linkText": "Export to plot.ly",
        "plotlyServerURL": "https://plot.ly",
        "showLink": false
       },
       "data": [
        {
         "hoverinfo": "none",
         "line": {
          "color": "black",
          "width": 4
         },
         "mode": "lines",
         "type": "scatter",
         "uid": "0645b2c4-f587-41c6-b91b-656334a130d8",
         "x": [
          0,
          1,
          null,
          0,
          1,
          null,
          0,
          1,
          null,
          0,
          1,
          null,
          0,
          1,
          null,
          0,
          1,
          null,
          1,
          2,
          null,
          1,
          0,
          null,
          1,
          2,
          null
         ],
         "y": [
          0,
          0,
          null,
          1,
          0,
          null,
          1,
          0,
          null,
          2,
          0,
          null,
          2,
          0,
          null,
          5,
          0,
          null,
          0,
          4,
          null,
          0,
          5,
          null,
          0,
          7,
          null
         ]
        },
        {
         "marker": {
          "color": "white",
          "line": {
           "color": "black",
           "width": 4
          },
          "size": 100,
          "symbol": "square"
         },
         "mode": "markers+text",
         "text": [
          "f-0001",
          "f-0002"
         ],
         "type": "scatter",
         "uid": "042d9cfd-1178-477c-a709-2846d9047d6c",
         "x": [
          1,
          1
         ],
         "y": [
          0,
          0
         ]
        },
        {
         "marker": {
          "color": "white",
          "line": {
           "color": "black",
           "width": 4
          },
          "size": 50,
          "symbol": "circle"
         },
         "mode": "markers+text",
         "text": [
          "d-0000",
          "d-0001",
          "d-0002",
          "d-0004",
          "d-0005",
          "d-0007"
         ],
         "type": "scatter",
         "uid": "41935626-246d-4286-8b1a-8688f284bdf4",
         "x": [
          0,
          0,
          0,
          2,
          0,
          2
         ],
         "y": [
          0,
          1,
          2,
          4,
          5,
          7
         ]
        }
       ],
       "layout": {
        "hovermode": "closest",
        "margin": {
         "b": 20,
         "l": 5,
         "r": 5,
         "t": 40
        },
        "showlegend": false,
        "title": {
         "font": {
          "size": 16
         },
         "text": "Composition"
        },
        "xaxis": {
         "showgrid": false,
         "showticklabels": false,
         "zeroline": false
        },
        "yaxis": {
         "showgrid": false,
         "showticklabels": false,
         "zeroline": false
        }
       }
      },
      "text/html": [
       "<div id=\"f75d98eb-8c30-488c-8d94-0bffd2654a46\" style=\"height: 525px; width: 100%;\" class=\"plotly-graph-div\"></div><script type=\"text/javascript\">require([\"plotly\"], function(Plotly) { window.PLOTLYENV=window.PLOTLYENV || {};window.PLOTLYENV.BASE_URL=\"https://plot.ly\";\n",
       "if (document.getElementById(\"f75d98eb-8c30-488c-8d94-0bffd2654a46\")) {\n",
       "    Plotly.newPlot(\"f75d98eb-8c30-488c-8d94-0bffd2654a46\", [{\"hoverinfo\": \"none\", \"line\": {\"color\": \"black\", \"width\": 4}, \"mode\": \"lines\", \"x\": [0, 1, null, 0, 1, null, 0, 1, null, 0, 1, null, 0, 1, null, 0, 1, null, 1, 2, null, 1, 0, null, 1, 2, null], \"y\": [0.0, 0, null, 1.0, 0, null, 1.0, 0, null, 2.0, 0, null, 2.0, 0, null, 5.0, 0, null, 0, 4.0, null, 0, 5.0, null, 0, 7.0, null], \"type\": \"scatter\", \"uid\": \"0645b2c4-f587-41c6-b91b-656334a130d8\"}, {\"marker\": {\"color\": \"white\", \"line\": {\"color\": \"black\", \"width\": 4}, \"size\": 100, \"symbol\": \"square\"}, \"mode\": \"markers+text\", \"text\": [\"f-0001\", \"f-0002\"], \"x\": [1, 1], \"y\": [0, 0], \"type\": \"scatter\", \"uid\": \"042d9cfd-1178-477c-a709-2846d9047d6c\"}, {\"marker\": {\"color\": \"white\", \"line\": {\"color\": \"black\", \"width\": 4}, \"size\": 50, \"symbol\": \"circle\"}, \"mode\": \"markers+text\", \"text\": [\"d-0000\", \"d-0001\", \"d-0002\", \"d-0004\", \"d-0005\", \"d-0007\"], \"x\": [0, 0, 0, 2, 0, 2], \"y\": [0.0, 1.0, 2.0, 4.0, 5.0, 7.0], \"type\": \"scatter\", \"uid\": \"41935626-246d-4286-8b1a-8688f284bdf4\"}], {\"hovermode\": \"closest\", \"margin\": {\"b\": 20, \"l\": 5, \"r\": 5, \"t\": 40}, \"showlegend\": false, \"title\": {\"font\": {\"size\": 16}, \"text\": \"Composition\"}, \"xaxis\": {\"showgrid\": false, \"showticklabels\": false, \"zeroline\": false}, \"yaxis\": {\"showgrid\": false, \"showticklabels\": false, \"zeroline\": false}}, {\"showLink\": false, \"linkText\": \"Export to plot.ly\", \"plotlyServerURL\": \"https://plot.ly\"}); \n",
       "}\n",
       "});</script><script type=\"text/javascript\">window.addEventListener(\"resize\", function(){if (document.getElementById(\"f75d98eb-8c30-488c-8d94-0bffd2654a46\")) {window._Plotly.Plots.resize(document.getElementById(\"f75d98eb-8c30-488c-8d94-0bffd2654a46\"));};})</script>"
      ],
      "text/vnd.plotly.v1+html": [
       "<div id=\"f75d98eb-8c30-488c-8d94-0bffd2654a46\" style=\"height: 525px; width: 100%;\" class=\"plotly-graph-div\"></div><script type=\"text/javascript\">require([\"plotly\"], function(Plotly) { window.PLOTLYENV=window.PLOTLYENV || {};window.PLOTLYENV.BASE_URL=\"https://plot.ly\";\n",
       "if (document.getElementById(\"f75d98eb-8c30-488c-8d94-0bffd2654a46\")) {\n",
       "    Plotly.newPlot(\"f75d98eb-8c30-488c-8d94-0bffd2654a46\", [{\"hoverinfo\": \"none\", \"line\": {\"color\": \"black\", \"width\": 4}, \"mode\": \"lines\", \"x\": [0, 1, null, 0, 1, null, 0, 1, null, 0, 1, null, 0, 1, null, 0, 1, null, 1, 2, null, 1, 0, null, 1, 2, null], \"y\": [0.0, 0, null, 1.0, 0, null, 1.0, 0, null, 2.0, 0, null, 2.0, 0, null, 5.0, 0, null, 0, 4.0, null, 0, 5.0, null, 0, 7.0, null], \"type\": \"scatter\", \"uid\": \"0645b2c4-f587-41c6-b91b-656334a130d8\"}, {\"marker\": {\"color\": \"white\", \"line\": {\"color\": \"black\", \"width\": 4}, \"size\": 100, \"symbol\": \"square\"}, \"mode\": \"markers+text\", \"text\": [\"f-0001\", \"f-0002\"], \"x\": [1, 1], \"y\": [0, 0], \"type\": \"scatter\", \"uid\": \"042d9cfd-1178-477c-a709-2846d9047d6c\"}, {\"marker\": {\"color\": \"white\", \"line\": {\"color\": \"black\", \"width\": 4}, \"size\": 50, \"symbol\": \"circle\"}, \"mode\": \"markers+text\", \"text\": [\"d-0000\", \"d-0001\", \"d-0002\", \"d-0004\", \"d-0005\", \"d-0007\"], \"x\": [0, 0, 0, 2, 0, 2], \"y\": [0.0, 1.0, 2.0, 4.0, 5.0, 7.0], \"type\": \"scatter\", \"uid\": \"41935626-246d-4286-8b1a-8688f284bdf4\"}], {\"hovermode\": \"closest\", \"margin\": {\"b\": 20, \"l\": 5, \"r\": 5, \"t\": 40}, \"showlegend\": false, \"title\": {\"font\": {\"size\": 16}, \"text\": \"Composition\"}, \"xaxis\": {\"showgrid\": false, \"showticklabels\": false, \"zeroline\": false}, \"yaxis\": {\"showgrid\": false, \"showticklabels\": false, \"zeroline\": false}}, {\"showLink\": false, \"linkText\": \"Export to plot.ly\", \"plotlyServerURL\": \"https://plot.ly\"}); \n",
       "}\n",
       "});</script><script type=\"text/javascript\">window.addEventListener(\"resize\", function(){if (document.getElementById(\"f75d98eb-8c30-488c-8d94-0bffd2654a46\")) {window._Plotly.Plots.resize(document.getElementById(\"f75d98eb-8c30-488c-8d94-0bffd2654a46\"));};})</script>"
      ]
     },
     "metadata": {},
     "output_type": "display_data"
    }
   ],
   "source": [
    "fig = go.Figure(data=list(model_graph_traces(G)),\n",
    "                layout=model_graph_layout(title=\"Composition\"))\n",
    "\n",
    "iplot(fig)"
   ]
  },
  {
   "cell_type": "code",
   "execution_count": 51,
   "metadata": {},
   "outputs": [],
   "source": [
    "G_one = model_to_graph(model_one, idx=1)\n",
    "\n",
    "for node in G_one.nodes():\n",
    "    G_one.nodes()[node][\"shape\"] = \"\\\"{}\\\"\".format(\"square\")\n",
    "\n",
    "G_two = model_to_graph(model_two, idx=2)\n",
    "\n",
    "G = nx.compose(G_one, G_two)\n",
    "\n",
    "from networkx.drawing.nx_pydot import write_dot, to_pydot\n",
    "#G = convert_positions_to_dot_format(G)\n",
    "write_dot(G, 'multi.dot')"
   ]
  },
  {
   "cell_type": "code",
   "execution_count": 70,
   "metadata": {},
   "outputs": [],
   "source": [
    "X = to_pydot(G)"
   ]
  },
  {
   "cell_type": "code",
   "execution_count": 71,
   "metadata": {},
   "outputs": [],
   "source": [
    "X.set('rankdir', 'LR')"
   ]
  },
  {
   "cell_type": "code",
   "execution_count": 72,
   "metadata": {},
   "outputs": [
    {
     "data": {
      "text/plain": [
       "'strict digraph  {\\nrankdir=LR;\\n\"d-0000\" [bipartite=data, idx=0, shape=\"square\"];\\n\"d-0001\" [bipartite=data, idx=1, shape=\"square\"];\\n\"d-0002\" [bipartite=data, idx=2, shape=\"square\"];\\n\"d-0004\" [bipartite=data, idx=4, shape=\"square\"];\\n\"d-0005\" [bipartite=data, idx=5, shape=\"square\"];\\n\"f-0001\" [bipartite=func, idx=1, mod=\"RandomForestRegressor(bootstrap=True, criterion=\\'mse\\', max_depth=5,\\\\n           max_features=\\'auto\\', max_leaf_nodes=None,\\\\n           min_impurity_decrease=0.0, min_impurity_split=None,\\\\n           min_samples_leaf=1, min_samples_split=2,\\\\n           min_weight_fraction_leaf=0.0, n_estimators=5, n_jobs=None,\\\\n           oob_score=False, random_state=None, verbose=0, warm_start=False)\", shape=\"square\"];\\n\"d-0007\" [bipartite=data, idx=7];\\n\"f-0002\" [bipartite=func, idx=2, mod=\"RandomForestClassifier(bootstrap=True, class_weight=None, criterion=\\'gini\\',\\\\n            max_depth=5, max_features=\\'auto\\', max_leaf_nodes=None,\\\\n            min_impurity_decrease=0.0, min_impurity_split=None,\\\\n            min_samples_leaf=1, min_samples_split=2,\\\\n            min_weight_fraction_leaf=0.0, n_estimators=5, n_jobs=None,\\\\n            oob_score=False, random_state=None, verbose=0,\\\\n            warm_start=False)\"];\\n\"d-0000\" -> \"f-0001\"  [idx=0];\\n\"d-0001\" -> \"f-0001\"  [idx=1];\\n\"d-0001\" -> \"f-0002\"  [idx=1];\\n\"d-0002\" -> \"f-0001\"  [idx=2];\\n\"d-0002\" -> \"f-0002\"  [idx=2];\\n\"d-0005\" -> \"f-0002\"  [idx=5];\\n\"f-0001\" -> \"d-0004\"  [idx=4];\\n\"f-0001\" -> \"d-0005\"  [idx=5];\\n\"f-0002\" -> \"d-0007\"  [idx=7];\\n}\\n'"
      ]
     },
     "execution_count": 72,
     "metadata": {},
     "output_type": "execute_result"
    }
   ],
   "source": [
    "X.to_string()"
   ]
  },
  {
   "cell_type": "code",
   "execution_count": 46,
   "metadata": {},
   "outputs": [
    {
     "name": "stdout",
     "output_type": "stream",
     "text": [
      "<_io.TextIOWrapper name='multi.dot' mode='r' encoding='UTF-8'>\n"
     ]
    }
   ],
   "source": [
    "with open('multi.dot') as f:\n",
    "    "
   ]
  },
  {
   "cell_type": "code",
   "execution_count": 48,
   "metadata": {},
   "outputs": [],
   "source": [
    "!dot -T png multi.dot > multi.png  # Bash command"
   ]
  },
  {
   "cell_type": "code",
   "execution_count": 40,
   "metadata": {
    "collapsed": true
   },
   "outputs": [],
   "source": [
    "from IPython.display import Image, display\n",
    "from IPython.core.display import HTML "
   ]
  },
  {
   "cell_type": "code",
   "execution_count": 49,
   "metadata": {},
   "outputs": [
    {
     "data": {
      "image/png": "[encoded data removed]",
      "text/plain": [
       "<IPython.core.display.Image object>"
      ]
     },
     "metadata": {
      "image/png": {
       "unconfined": true
      }
     },
     "output_type": "display_data"
    }
   ],
   "source": [
    "display(Image('multi.png', unconfined=True))"
   ]
  },
  {
   "cell_type": "code",
   "execution_count": null,
   "metadata": {
    "collapsed": true
   },
   "outputs": [],
   "source": []
  }
 ],
 "metadata": {
  "kernelspec": {
   "display_name": "Python [conda env:morpheus]",
   "language": "python",
   "name": "conda-env-morpheus-py"
  },
  "language_info": {
   "codemirror_mode": {
    "name": "ipython",
    "version": 3
   },
   "file_extension": ".py",
   "mimetype": "text/x-python",
   "name": "python",
   "nbconvert_exporter": "python",
   "pygments_lexer": "ipython3",
   "version": "3.6.7"
  },
  "toc": {
   "nav_menu": {},
   "number_sections": true,
   "sideBar": true,
   "skip_h1_title": true,
   "toc_cell": false,
   "toc_position": {},
   "toc_section_display": "block",
   "toc_window_display": false
  }
 },
 "nbformat": 4,
 "nbformat_minor": 2
}
