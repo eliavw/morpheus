{
 "cells": [
  {
   "cell_type": "markdown",
   "metadata": {},
   "source": [
    "# Convert Ensemble to Function Automatically."
   ]
  },
  {
   "cell_type": "markdown",
   "metadata": {},
   "source": [
    "## Preliminaries"
   ]
  },
  {
   "cell_type": "markdown",
   "metadata": {},
   "source": [
    "### Imports"
   ]
  },
  {
   "cell_type": "code",
   "execution_count": 1,
   "metadata": {},
   "outputs": [],
   "source": [
    "import os\n",
    "import pandas as pd\n",
    "import sys\n",
    "import networkx as nx\n",
    "\n",
    "from os.path import dirname\n",
    "from networkx.drawing.nx_pydot import to_pydot\n",
    "\n",
    "note_dir = os.getcwd()\n",
    "\n",
    "root_dir = dirname(note_dir)\n",
    "src_dir = os.path.join(root_dir, \"src\")\n",
    "\n",
    "sys.path.append(src_dir)\n",
    "\n",
    "import morpheus\n",
    "from morpheus.core import compose\n",
    "from morpheus.tests import default_chain, default_ensemble, default_dataset\n",
    "from morpheus.graph import (model_to_graph,\n",
    "                            model_graph_traces,\n",
    "                            model_graph_layout, \n",
    "                            convert_positions_to_dot_format,\n",
    "                           add_merge_nodes)"
   ]
  },
  {
   "cell_type": "code",
   "execution_count": 2,
   "metadata": {
    "collapsed": true
   },
   "outputs": [],
   "source": [
    "from functools import partial"
   ]
  },
  {
   "cell_type": "code",
   "execution_count": 3,
   "metadata": {},
   "outputs": [],
   "source": [
    "# In Greek to avoid nameclashes\n",
    "ω = compose.o\n",
    "χ = compose.x"
   ]
  },
  {
   "cell_type": "markdown",
   "metadata": {},
   "source": [
    "### Functions"
   ]
  },
  {
   "cell_type": "code",
   "execution_count": 4,
   "metadata": {
    "collapsed": true
   },
   "outputs": [],
   "source": [
    "def fix_layout(G):\n",
    "    \n",
    "    for n in G.nodes():\n",
    "        node = G.nodes(data=True)[n]\n",
    "        if node['bipartite'] == 'func':\n",
    "            node['shape'] = \"\\\"square\\\"\"\n",
    "            node['width'] = \"2\"\n",
    "        elif node['bipartite'] == 'data':\n",
    "            node['shape'] = \"\\\"circle\\\"\"\n",
    "        else:\n",
    "            pass\n",
    "    \n",
    "    return G"
   ]
  },
  {
   "cell_type": "markdown",
   "metadata": {},
   "source": [
    "### Ensemble"
   ]
  },
  {
   "cell_type": "code",
   "execution_count": 5,
   "metadata": {},
   "outputs": [
    {
     "name": "stdout",
     "output_type": "stream",
     "text": [
      "\n",
      "        Learning model with desc ids:    [0, 1, 2]\n",
      "                            targ ids:    [5]\n",
      "        \n",
      "\n",
      "        Learning model with desc ids:    [0, 1, 3]\n",
      "                            targ ids:    [4, 5]\n",
      "        \n"
     ]
    }
   ],
   "source": [
    "data, _ = default_dataset(random_state=16)\n",
    "e = default_ensemble(random_state=16)"
   ]
  },
  {
   "cell_type": "code",
   "execution_count": 6,
   "metadata": {},
   "outputs": [
    {
     "data": {
      "text/plain": [
       "(800, 8)"
      ]
     },
     "execution_count": 6,
     "metadata": {},
     "output_type": "execute_result"
    }
   ],
   "source": [
    "data.values.shape"
   ]
  },
  {
   "cell_type": "code",
   "execution_count": 7,
   "metadata": {},
   "outputs": [
    {
     "data": {
      "text/plain": [
       "0      2.475924\n",
       "1     -0.793827\n",
       "2     -1.091144\n",
       "3      0.044506\n",
       "4      2.749476\n",
       "5      2.312770\n",
       "6      0.636430\n",
       "7      1.607742\n",
       "8     -0.253403\n",
       "9     -0.174090\n",
       "10    -0.047448\n",
       "11     1.624632\n",
       "12     1.654174\n",
       "13    -0.410486\n",
       "14     2.180963\n",
       "15     2.116698\n",
       "16    -0.040387\n",
       "17     0.941200\n",
       "18    -6.676288\n",
       "19    -1.858783\n",
       "20     0.340550\n",
       "21     2.935955\n",
       "22    -2.531517\n",
       "23     2.152855\n",
       "24    -0.377200\n",
       "25     0.244075\n",
       "26    -1.533570\n",
       "27     1.132412\n",
       "28     0.595852\n",
       "29     1.019695\n",
       "         ...   \n",
       "770   -1.602480\n",
       "771    1.477451\n",
       "772   -0.862601\n",
       "773    0.058659\n",
       "774   -2.430258\n",
       "775    1.953523\n",
       "776   -0.817908\n",
       "777    1.016242\n",
       "778    0.195944\n",
       "779   -1.949121\n",
       "780    1.807277\n",
       "781    1.788280\n",
       "782    0.733655\n",
       "783   -1.406616\n",
       "784   -0.466286\n",
       "785    1.565827\n",
       "786    0.105812\n",
       "787   -1.585288\n",
       "788   -1.389415\n",
       "789    3.653604\n",
       "790    0.471930\n",
       "791   -1.983946\n",
       "792    1.061126\n",
       "793    3.563686\n",
       "794    1.120036\n",
       "795   -1.271852\n",
       "796   -3.097711\n",
       "797   -0.487064\n",
       "798   -1.751788\n",
       "799   -3.007207\n",
       "Name: 0, Length: 800, dtype: float64"
      ]
     },
     "execution_count": 7,
     "metadata": {},
     "output_type": "execute_result"
    }
   ],
   "source": [
    "data[0]"
   ]
  },
  {
   "cell_type": "code",
   "execution_count": 8,
   "metadata": {},
   "outputs": [
    {
     "name": "stdout",
     "output_type": "stream",
     "text": [
      "\n",
      "        # Main\n",
      "        Descriptive attributes:     [0. 1. 2. 3.]\n",
      "        Target attributes:          [4. 5.]\n",
      "\n",
      "        ## On types (mostly nominals)\n",
      "        Target attribute types:                     ['numeric', 'numeric']\n",
      "        N_classes of nominal target attributes:     []\n",
      "        Classes of nominal target attributes:       []\n",
      "\n",
      "        ## Weights\n",
      "        Total weights of target attributes:         [1. 2.]\n",
      "\n",
      "         \n",
      "        ## Estimators\n",
      "        Estimators used:        ['RandomForestRegressor', 'RandomForestRegressor']\n",
      "        N_estimators:           2\n",
      "        \n"
     ]
    }
   ],
   "source": [
    "e.pretty_print()"
   ]
  },
  {
   "cell_type": "markdown",
   "metadata": {},
   "source": [
    "## Conversion"
   ]
  },
  {
   "cell_type": "code",
   "execution_count": 9,
   "metadata": {},
   "outputs": [],
   "source": [
    "model_one = e.estimators_[0]\n",
    "model_two = e.estimators_[1]"
   ]
  },
  {
   "cell_type": "code",
   "execution_count": 10,
   "metadata": {},
   "outputs": [],
   "source": [
    "G_one = model_to_graph(model_one, idx=1)\n",
    "G_two = model_to_graph(model_two, idx=2)"
   ]
  },
  {
   "cell_type": "code",
   "execution_count": 11,
   "metadata": {
    "collapsed": true
   },
   "outputs": [],
   "source": [
    "G = nx.compose(G_one, G_two)"
   ]
  },
  {
   "cell_type": "code",
   "execution_count": 12,
   "metadata": {
    "collapsed": true
   },
   "outputs": [],
   "source": [
    "G = fix_layout(G)"
   ]
  },
  {
   "cell_type": "code",
   "execution_count": 24,
   "metadata": {},
   "outputs": [
    {
     "data": {
      "image/png": "[encoded data removed]",
      "text/plain": [
       "<IPython.core.display.Image object>"
      ]
     },
     "metadata": {
      "image/png": {
       "unconfined": true
      }
     },
     "output_type": "display_data"
    }
   ],
   "source": [
    "X = to_pydot(G)\n",
    "X.set('rankdir', 'BT')\n",
    "X.set('splines', 'ortho')\n",
    "\n",
    "with open(\"tmp/test.dot\", \"w\") as text_file:\n",
    "    print(X.to_string(), file=text_file)\n",
    "    \n",
    "!dot -T png tmp/test.dot > tmp/test.png  # Bash command\n",
    "\n",
    "from IPython.display import Image, display\n",
    "from IPython.core.display import HTML \n",
    "\n",
    "display(Image('tmp/test.png', unconfined=True))"
   ]
  },
  {
   "cell_type": "code",
   "execution_count": 14,
   "metadata": {
    "collapsed": true
   },
   "outputs": [],
   "source": [
    "add_merge_nodes(G)"
   ]
  },
  {
   "cell_type": "code",
   "execution_count": 15,
   "metadata": {},
   "outputs": [
    {
     "data": {
      "image/png": "[encoded data removed]",
      "text/plain": [
       "<IPython.core.display.Image object>"
      ]
     },
     "metadata": {
      "image/png": {
       "unconfined": true
      }
     },
     "output_type": "display_data"
    }
   ],
   "source": [
    "X = to_pydot(G)\n",
    "X.set('rankdir', 'BT')\n",
    "X.set('splines', 'ortho')\n",
    "\n",
    "with open(\"tmp/test.dot\", \"w\") as text_file:\n",
    "    print(X.to_string(), file=text_file)\n",
    "    \n",
    "!dot -T png tmp/test.dot > tmp/test.png  # Bash command\n",
    "\n",
    "from IPython.display import Image, display\n",
    "from IPython.core.display import HTML \n",
    "\n",
    "display(Image('tmp/test.png', unconfined=True))"
   ]
  },
  {
   "cell_type": "code",
   "execution_count": 16,
   "metadata": {
    "collapsed": true
   },
   "outputs": [],
   "source": [
    "import numpy as np\n",
    "\n",
    "def select(idx):\n",
    "    \n",
    "    def select(X):\n",
    "        if len(X.shape) > 1:\n",
    "            return X[:, idx]\n",
    "        elif len(X.shape) == 1:\n",
    "            assert idx == 0\n",
    "            return X\n",
    "    return select"
   ]
  },
  {
   "cell_type": "code",
   "execution_count": 17,
   "metadata": {},
   "outputs": [
    {
     "name": "stdout",
     "output_type": "stream",
     "text": [
      "['d-03', 'd-02', 'd-01', 'd-00', 'f-02', 'd-04', 'f-01', 'M(d-05)', 'd-05']\n",
      "[[5], [4, 5]]\n"
     ]
    }
   ],
   "source": [
    "# Convert the graph to its functions\n",
    "sorted_list = list(nx.topological_sort(G))\n",
    "print(sorted_list)\n",
    "functions = {}\n",
    "for node_name in sorted_list:\n",
    "    node = G.nodes(data=True)[node_name]\n",
    "    #print(node)\n",
    "    if node.get('kind', None) == 'data': \n",
    "        if len(nx.ancestors(G, node_name)) == 0:\n",
    "            functions[node_name] = select(node['idx'])\n",
    "        elif len(nx.descendants(G, node_name)) == 0:\n",
    "            functions[node_name] = 'end'\n",
    "            \n",
    "    elif node.get('kind', None) == 'model':\n",
    "        \n",
    "        previous_nodes = [t[0] for t in G.in_edges(node_name)]\n",
    "        \n",
    "        inputs = [functions[n] for n in previous_nodes]\n",
    "        inputs = ω(np.transpose, χ(*inputs, return_type=np.array))\n",
    "        f = node['function']\n",
    "        functions[node_name] = ω(f, inputs)\n",
    "    \n",
    "    elif node.get('kind', None) == 'merge':\n",
    "        merge_idx = node['idx']\n",
    "        previous_nodes = [t[0] for t in G.in_edges(node_name)]\n",
    "        previous_t_idx = [G.nodes()[n]['tgt'] for n in previous_nodes]\n",
    "        print(previous_t_idx)\n",
    "        inputs = [(functions[n],t) for n, t in zip(previous_nodes, previous_t_idx)]\n",
    "        \n",
    "        inputs = [ω(select(t_idx.index(merge_idx)), f) for f, t_idx in inputs]\n",
    "        inputs = ω(np.transpose, χ(*inputs, return_type=np.array))\n",
    "        \n",
    "        f = partial(np.mean, axis=1)\n",
    "        functions[node_name] = ω(f, inputs)"
   ]
  },
  {
   "cell_type": "code",
   "execution_count": 18,
   "metadata": {},
   "outputs": [
    {
     "data": {
      "text/plain": [
       "{'d-03': <function __main__.select.<locals>.select(X)>,\n",
       " 'd-02': <function __main__.select.<locals>.select(X)>,\n",
       " 'd-01': <function __main__.select.<locals>.select(X)>,\n",
       " 'd-00': <function __main__.select.<locals>.select(X)>,\n",
       " 'f-02': <function morpheus.core.compose.o.<locals>.sequential_composition(*function_arguments)>,\n",
       " 'd-04': 'end',\n",
       " 'f-01': <function morpheus.core.compose.o.<locals>.sequential_composition(*function_arguments)>,\n",
       " 'M(d-05)': <function morpheus.core.compose.o.<locals>.sequential_composition(*function_arguments)>,\n",
       " 'd-05': 'end'}"
      ]
     },
     "execution_count": 18,
     "metadata": {},
     "output_type": "execute_result"
    }
   ],
   "source": [
    "functions"
   ]
  },
  {
   "cell_type": "code",
   "execution_count": 19,
   "metadata": {},
   "outputs": [],
   "source": [
    "res = functions['M(d-05)'](data.values)\n"
   ]
  },
  {
   "cell_type": "code",
   "execution_count": 20,
   "metadata": {},
   "outputs": [
    {
     "data": {
      "text/plain": [
       "(800,)"
      ]
     },
     "execution_count": 20,
     "metadata": {},
     "output_type": "execute_result"
    }
   ],
   "source": [
    "res.shape"
   ]
  },
  {
   "cell_type": "code",
   "execution_count": 21,
   "metadata": {
    "scrolled": false
   },
   "outputs": [
    {
     "data": {
      "text/plain": [
       "array([-4.02821104e-01,  3.23837733e-01,  4.44646642e-01, -6.79776361e-01,\n",
       "       -8.95377786e-01, -7.43039178e-01,  5.79752553e-01, -5.53458944e-02,\n",
       "       -1.20558075e+00,  1.95975597e-02, -3.28635546e-01, -5.73270167e-01,\n",
       "        5.77118595e-01,  1.33489436e-01, -3.79469361e-01,  7.17368924e-01,\n",
       "       -1.04492477e+00,  1.22496106e-01,  3.47654208e+00,  1.65382984e-01,\n",
       "       -1.44754755e-01,  9.13880780e-02,  1.80527143e+00, -2.48553701e-01,\n",
       "        7.64589756e-02, -3.91597567e-01,  3.67448327e-01, -5.30449192e-01,\n",
       "       -2.52597685e-01, -1.43642841e-01,  2.66877405e-01,  1.11951728e+00,\n",
       "       -3.91597567e-01,  9.26167059e-01,  1.94938931e-01, -1.44514108e-01,\n",
       "        1.58947936e+00,  1.55840112e+00, -2.32912322e-01, -2.48818181e-01,\n",
       "       -9.89525176e-01,  5.79312416e-01,  1.46298449e+00,  3.18954110e-01,\n",
       "        4.46795511e-01,  1.38381151e+00, -1.14074064e+00,  8.70852681e-02,\n",
       "       -1.40492826e-01,  7.42552431e-01, -3.24386186e-01, -2.56817182e-03,\n",
       "       -2.79149864e-01, -3.55689725e-03,  4.42540164e-01,  8.46854825e-01,\n",
       "       -2.80584695e-01,  1.09824051e+00,  5.47161091e-01,  4.56946644e-01,\n",
       "        6.32932536e-01, -1.46179480e-01,  2.30321246e-01, -1.01204035e-01,\n",
       "        1.89521497e-01, -4.87721175e-01,  7.64589756e-02,  5.19275980e-01,\n",
       "        5.30177267e-01,  7.67973058e-01, -1.84814225e-01,  1.01617616e+00,\n",
       "        8.14713722e-01,  5.69188113e-01, -1.12579558e+00,  3.01704841e-01,\n",
       "        8.07236767e-01,  2.37771569e-01,  5.70806523e-01, -1.36100407e+00,\n",
       "        5.79752553e-01,  6.46382139e-01,  1.10994455e+00,  1.05233629e+00,\n",
       "        1.13553739e+00, -9.13294555e-01,  6.62739316e-01,  7.74506861e-01,\n",
       "        2.67068247e-01,  3.62192735e-01,  9.86247473e-01, -4.62983881e-02,\n",
       "       -8.76738742e-01, -8.44214549e-02,  9.13880780e-02,  2.90503560e-01,\n",
       "       -7.73348823e-01,  3.00292228e-01,  3.78737152e-01,  5.86221377e-01,\n",
       "       -9.92138101e-01,  8.14713722e-01, -8.08469756e-01, -8.76738742e-01,\n",
       "       -1.15132929e+00,  3.84619141e+00, -5.44831277e-01,  9.46125614e-01,\n",
       "       -6.53149220e-02,  6.25424522e-01, -7.06269047e-01, -1.08664658e-01,\n",
       "        8.14983349e-01, -9.12750464e-01, -3.49437056e-01,  5.04467443e-01,\n",
       "        5.44551599e-01, -1.84814225e-01,  3.11185804e-01, -1.76158639e+00,\n",
       "       -2.21951193e-01,  7.72706480e-01, -7.96591641e-01, -6.49821155e-01,\n",
       "        1.67064650e-01, -4.02189637e-01,  3.52354360e-01,  1.37094244e+00,\n",
       "       -1.23056200e-01,  3.13139343e-01,  1.17227711e-01, -1.29054399e-01,\n",
       "       -1.43686628e-01,  6.77662345e-01, -1.17627127e-01, -1.49636853e-01,\n",
       "       -4.32654560e-01, -6.53149220e-02,  1.05937512e+00,  2.86719613e-01,\n",
       "        5.07888719e-01, -4.21604651e-02,  5.13339909e-05,  4.18957232e-01,\n",
       "        2.57010112e-01, -7.66442256e-01, -3.09335470e-01, -5.62247062e-02,\n",
       "        5.34582571e-01,  3.89551079e-01,  6.37553960e-01, -7.43039178e-01,\n",
       "        2.49288647e-01, -3.21914375e-02,  7.48998927e-01,  1.21358715e-01,\n",
       "        3.82569398e-01, -1.34244392e-01, -3.09088030e-02,  1.11535833e+00,\n",
       "        4.52400534e-01, -9.99686489e-01,  3.88864146e-01, -4.62983881e-02,\n",
       "        1.94938931e-01, -1.23800859e-01, -2.00359792e+00,  5.34582571e-01,\n",
       "       -1.49636853e-01, -3.08993725e-01,  2.94119338e-01,  2.98180909e-01,\n",
       "       -1.46226556e+00, -5.88662628e-01, -2.94542325e-01, -6.61863257e-01,\n",
       "        2.94461739e-01,  8.07517909e-01,  3.31735600e-01,  7.37368773e-01,\n",
       "        9.81093149e-01, -5.39428363e-02,  1.35567192e+00,  9.60830559e-01,\n",
       "       -4.52623854e-02, -1.29054399e-01,  5.77118595e-01,  1.47671024e+00,\n",
       "        2.36005760e-01,  5.69547169e-01,  1.14339924e+00,  6.65005682e-03,\n",
       "        2.50249084e-02,  3.87040925e-02, -8.76738742e-01,  4.35639741e-01,\n",
       "       -3.55689725e-03,  6.59627029e-01, -2.92689575e-01,  2.96881431e-01,\n",
       "       -1.43678442e-01, -3.47370382e-01,  9.90647526e-02, -6.69964292e-01,\n",
       "       -4.08994543e-01,  9.80944086e-01, -9.61579643e-01,  5.30177267e-01,\n",
       "        4.09582884e-01, -6.53149220e-02,  1.22496106e-01, -2.42229964e-01,\n",
       "       -5.40021079e-01, -1.46179480e-01,  6.02245289e-01,  6.09216050e-01,\n",
       "       -3.20702037e-01,  2.33129101e-01, -4.15653947e-01,  5.56817342e-01,\n",
       "        3.78737152e-01,  6.77662345e-01, -5.88662628e-01,  4.18457249e-01,\n",
       "        2.98227449e-01,  3.55125886e-01, -1.21618293e+00,  6.34248751e-01,\n",
       "        3.37562682e-01,  5.51991869e-01, -1.71019326e-01,  1.45071654e-01,\n",
       "        3.93046632e-01,  8.07236767e-01, -3.80910340e-01, -1.30303240e+00,\n",
       "        5.06175774e-01, -5.39243383e-01,  1.95407093e-01,  3.87040925e-02,\n",
       "       -7.85817576e-01, -2.65678782e-01, -7.43039178e-01,  7.48557875e-01,\n",
       "       -2.50353840e-02,  2.99446347e-01, -6.26880235e-02,  4.21197227e-01,\n",
       "        2.90503560e-01,  3.87040925e-02, -1.01507895e+00, -1.08731412e-01,\n",
       "       -2.72798547e-01,  7.83678945e-01, -1.19085371e-01,  7.32252144e-01,\n",
       "        7.32252144e-01, -6.81004480e-01, -1.49359559e-02, -6.11313750e-01,\n",
       "        6.23898906e-01,  1.29594696e+00,  1.55632834e-02, -3.97432258e-01,\n",
       "        3.92662614e-01, -4.12148744e-01,  9.58016571e-01,  2.47602176e-01,\n",
       "        2.27920876e-01, -6.53149220e-02,  6.19420474e-01, -2.06097982e+00,\n",
       "        2.24808606e-01, -3.36303480e-01,  3.87040925e-02,  5.90422337e-01,\n",
       "        6.59286017e-02,  2.50249084e-02,  3.52732844e-01,  2.83233189e-01,\n",
       "        3.36468002e-02,  1.35889208e+00, -5.94188669e-01, -4.52623854e-02,\n",
       "        8.25634927e-02,  4.42540164e-01,  1.08058584e+00, -2.06701079e+00,\n",
       "        2.27808251e-01, -2.72798547e-01,  2.50820766e-01, -1.49359559e-02,\n",
       "       -4.98372513e-01,  8.77619526e-01, -4.48198136e-01, -7.66442256e-01,\n",
       "        3.18954110e-01, -4.16260313e-01,  1.55706738e-01, -2.10652034e-01,\n",
       "        9.45379973e-02, -2.50353840e-02, -1.34012564e+00,  1.28551520e-01,\n",
       "       -9.99686489e-01,  1.59578974e+00, -1.02625353e+00, -2.85580617e-01,\n",
       "       -1.60772886e+00, -2.65678782e-01, -1.02625353e+00, -2.71393715e-01,\n",
       "       -1.86795676e-01,  1.23813171e+00,  6.02245289e-01, -1.02625353e+00,\n",
       "        2.86027656e-01,  7.81705077e-01, -2.04974711e-01, -2.50353840e-02,\n",
       "        1.22496106e-01, -7.34025498e-01,  3.11798056e-01,  3.63462865e-01,\n",
       "       -1.02625353e+00, -6.01344722e-01,  9.05382915e-01,  1.13895867e+00,\n",
       "       -1.01204035e-01,  1.33938817e-01,  3.75367418e-01,  5.35267796e-03,\n",
       "       -2.79149864e-01,  2.50820766e-01,  2.29629844e-01,  3.87040925e-02,\n",
       "        2.43098129e-01, -2.79149864e-01,  3.89489822e-01,  3.53316774e-01,\n",
       "       -9.10992303e-01, -4.74201084e-01,  1.08816922e-01, -2.94958715e-01,\n",
       "        7.65678150e-01, -1.92971315e-01, -2.79149864e-01, -2.79149864e-01,\n",
       "       -5.07384545e-01,  3.42062956e-01,  3.48720909e-01,  4.92996027e-01,\n",
       "       -7.23621281e-01, -7.92417069e-01, -1.02932364e-01, -5.12020108e-01,\n",
       "       -1.23593287e+00,  8.32643078e-01, -2.85191531e-01,  7.31229486e-01,\n",
       "        3.89551079e-01,  1.16121420e+00, -9.24119107e-01, -1.08999301e+00,\n",
       "       -2.50353840e-02,  1.46109928e+00,  7.95919967e-01,  3.63170382e-01,\n",
       "       -6.11313750e-01,  2.33718275e-02, -1.04016084e+00,  5.28402023e-01,\n",
       "       -1.16370796e+00, -5.53458944e-02, -6.17442701e-01, -7.05269353e-02,\n",
       "        4.62566098e-01,  5.98508816e-01,  6.76004347e-01,  6.93912765e-01,\n",
       "        6.29161367e-01,  4.94607073e-01,  2.00714318e-01,  1.99332997e-03,\n",
       "        4.25446874e-01,  3.54481080e-01, -9.24119107e-01,  1.47004479e+00,\n",
       "        4.30864987e-01, -1.40346823e+00, -6.53149220e-02,  1.45071654e-01,\n",
       "        1.87509056e-01,  1.47795899e+00,  9.61078416e-03,  3.11798056e-01,\n",
       "        8.37200299e-01, -8.95400549e-01,  7.31096858e-01, -7.19578374e-01,\n",
       "       -9.24119107e-01, -1.84814225e-01, -1.00498366e+00, -4.82545702e-01,\n",
       "        9.43736512e-01, -6.99130726e-01, -6.01344722e-01,  1.84270842e-01,\n",
       "       -1.61687567e+00, -1.14425629e-01,  7.87744319e-01, -7.91246181e-01,\n",
       "       -8.32129440e-01,  8.70852681e-02,  1.35595443e+00,  3.85999454e-01,\n",
       "        9.86247473e-01,  3.47654208e+00,  4.74630960e-01, -2.20367172e-01,\n",
       "        3.66976781e-01, -2.66017936e-01,  7.32976359e-02,  1.29110087e-01,\n",
       "        9.30818526e-01, -9.86956307e-02,  6.93912765e-01,  5.00761783e-02,\n",
       "        8.40460748e-01, -3.33199971e-01,  3.27275215e-01,  3.42062956e-01,\n",
       "        7.91601197e-01,  2.98227449e-01, -2.66932357e+00,  1.48325994e+00,\n",
       "        1.20874225e-01,  1.27656085e-01,  3.90686093e-01,  3.44049247e-01,\n",
       "        1.21901217e+00,  3.82693587e-01,  4.11520809e-01, -1.11054619e+00,\n",
       "       -4.88010088e-01,  2.62957767e-01, -2.97894020e-02, -2.33554257e-01,\n",
       "       -2.05481549e-01,  7.89451567e-02, -1.38120378e-01, -5.99322693e-01,\n",
       "        7.44130970e-01,  8.25696877e-01, -3.65053030e-02,  1.21182724e+00,\n",
       "       -1.84814225e-01, -6.76804690e-01,  5.42234549e-01,  3.01249865e-01,\n",
       "        3.87040925e-02, -2.70645005e-03, -1.00498366e+00, -9.95014637e-01,\n",
       "        2.16761673e-02, -3.08993725e-01,  5.26756722e-01, -9.99686489e-01,\n",
       "       -5.41468667e-01,  2.27638420e-01,  5.67488844e-01, -7.59853158e-01,\n",
       "        3.63587054e-01, -5.20480165e-01,  1.20921152e+00, -6.52150464e-02,\n",
       "        1.40295371e+00,  9.86648763e-01, -4.45150360e-01,  1.53146103e-01,\n",
       "        4.11201590e-01, -2.59444290e-01,  3.04628628e-01,  8.78885274e-01,\n",
       "       -4.50636737e-01, -2.10652034e-01,  2.46978339e-01, -8.36277667e-01,\n",
       "        4.45609688e-01, -4.21604651e-02,  2.20679875e-01,  4.12996349e-01,\n",
       "       -7.29150772e-03,  9.37176522e-01,  4.54957265e-02, -6.09435828e-01,\n",
       "        1.22496106e-01, -5.03469929e-01, -7.43039178e-01,  5.94285595e-01,\n",
       "        4.44327423e-01, -6.53149220e-02,  3.41034362e+00,  3.14438234e-01,\n",
       "        1.70033634e+00, -6.79776361e-01, -1.05208300e+00, -1.07427035e+00,\n",
       "        1.21901217e+00, -5.35707009e-02,  7.32976359e-02,  3.84084242e-01,\n",
       "        1.26135504e+00,  1.05367060e+00,  2.77642398e-01, -3.05485195e-01,\n",
       "        3.47654208e+00, -4.92524000e-01,  3.11798056e-01, -5.53458944e-02,\n",
       "       -4.21604651e-02, -1.26688139e+00,  4.19048480e-01,  6.09942014e-01,\n",
       "       -1.48413000e+00,  1.07137201e+00,  1.24834480e+00, -2.94045253e-01,\n",
       "       -2.78950527e-01,  3.63462865e-01, -4.90816190e-01,  4.31535752e-01,\n",
       "        1.07488990e+00,  3.06850459e-01,  2.28996931e-01, -1.02932364e-01,\n",
       "       -2.21642805e-01, -1.46179480e-01,  7.03827927e-01,  1.28723803e+00,\n",
       "        3.93046632e-01,  1.16419045e+00,  1.13439288e-01,  1.95407093e-01,\n",
       "        7.65725368e-01, -8.76738742e-01,  3.87040925e-02,  3.34373841e-02,\n",
       "        1.95407093e-01, -1.43678442e-01, -5.94188669e-01,  2.05758638e-01,\n",
       "       -3.45910719e-01, -2.79149864e-01, -6.49345139e-02, -7.13519302e-02,\n",
       "        3.14438234e-01, -3.05352880e-01,  7.72494664e-01,  5.32249122e-01,\n",
       "       -2.90115672e-03,  4.80429265e-01, -2.88348306e-01,  9.04394519e-02,\n",
       "       -2.10652034e-01,  3.50860261e-01,  6.75364175e-01, -2.19983638e-01,\n",
       "       -8.44214549e-02,  1.41824856e+00,  1.02216433e-01,  9.83160720e-01,\n",
       "        7.13728589e-01,  1.95407093e-01, -9.12674653e-01, -1.89969479e-02,\n",
       "       -1.08581409e+00, -1.19919720e+00, -7.46376001e-01, -9.13497522e-02,\n",
       "        8.42345959e-01,  6.12976534e-01,  2.31642086e-01,  6.02245289e-01,\n",
       "       -5.25924314e-01,  4.63687041e-01,  2.98227449e-01,  2.67068247e-01,\n",
       "        7.44190256e-01, -1.46815627e-01, -2.20367172e-01,  4.63753175e-01,\n",
       "        7.81489741e-01, -1.19085371e-01,  3.01829029e-01, -6.32891051e-02,\n",
       "       -5.39428363e-02, -1.34435259e-01, -1.86700406e-01,  5.87087623e-01,\n",
       "       -1.50291425e-01, -1.22637257e+00,  4.45085329e-01,  2.88759511e-01,\n",
       "       -1.74545950e-01, -1.06074947e+00,  7.54137803e-01, -1.29054399e-01,\n",
       "       -3.36112120e-01,  1.09793715e+00,  2.40273039e-01, -1.43678442e-01,\n",
       "        6.51671080e-01, -7.81910788e-01, -1.07334487e+00,  4.42540164e-01,\n",
       "        7.38976608e-01, -6.62619206e-01, -7.96591641e-01,  1.01239626e+00,\n",
       "        4.51670233e-01, -6.53149220e-02, -1.53779116e-01, -1.63624814e-01,\n",
       "        2.92014043e-01,  5.22494176e-02, -3.24386186e-01,  5.28402023e-01,\n",
       "       -4.90024353e-01, -1.48339844e+00, -5.33547544e-01,  1.13439288e-01,\n",
       "        6.39119687e-02,  3.60910568e-01,  1.05233629e+00,  4.13309911e-02,\n",
       "       -1.58287892e-01, -8.29358240e-01,  3.24982232e-01,  4.62566098e-01,\n",
       "        2.02920606e-01,  1.58219367e+00, -3.44179122e-01,  7.93027600e-02,\n",
       "       -9.41820097e-02, -4.21604651e-02,  1.10885247e-01,  9.33269371e-01,\n",
       "       -2.06599109e-01,  2.05029082e-02, -1.20881137e+00, -3.27128156e-01,\n",
       "        1.91314366e-01, -9.24119107e-01, -1.36210452e-01,  8.88501928e-01,\n",
       "       -9.14147556e-01, -2.23937150e+00,  9.61078416e-03,  1.47467737e-01,\n",
       "        3.69561034e-03, -9.24119107e-01,  6.65405500e-02, -1.07334487e+00,\n",
       "        7.87744319e-01, -7.89941062e-02,  1.33077704e+00,  1.07393566e+00,\n",
       "        4.41656665e-01,  8.77619526e-01, -6.53149220e-02, -3.44028007e-01,\n",
       "        2.18284667e-01,  7.81094735e-01,  2.36005760e-01, -4.90991646e-01,\n",
       "       -1.84814225e-01, -5.73270167e-01,  7.34161942e-01,  3.39943783e+00,\n",
       "        1.79947384e-01, -5.41468667e-01, -1.36210452e-01, -6.32891051e-02,\n",
       "       -1.84814225e-01,  1.23619405e-01, -9.24119107e-01, -1.18962625e+00,\n",
       "        8.75288399e-01, -9.24119107e-01,  7.89451567e-02,  8.25634927e-02,\n",
       "        1.17182290e+00, -1.07334487e+00,  3.11798056e-01,  7.23140962e-01,\n",
       "       -2.08363776e-01,  4.76265561e-01,  1.33364628e+00,  1.95407093e-01,\n",
       "        5.17323908e-01,  6.62429361e-01, -1.84814225e-01, -8.58985894e-01,\n",
       "        8.98092231e-01,  3.78737152e-01,  6.55839693e-01,  1.18067248e+00,\n",
       "        3.64425911e-01,  3.72516436e-01, -1.11721338e+00,  3.42062956e-01,\n",
       "       -1.84814225e-01, -1.43896742e-02, -1.84814225e-01, -1.29054399e-01,\n",
       "        3.87040925e-02, -1.84814225e-01,  9.39882995e-01, -9.05357704e-01,\n",
       "       -2.20367172e-01, -1.43642841e-01,  5.18145293e-01, -4.68843616e-01,\n",
       "        6.02771150e-01, -5.54354428e-02, -2.97920533e-01, -5.20480165e-01,\n",
       "       -4.78077939e-01, -8.13787027e-01,  3.57136746e-01, -2.50353840e-02,\n",
       "       -1.01022211e-01, -8.59866444e-02,  7.70500637e-01,  6.76004347e-01,\n",
       "        2.27638420e-01,  5.24065834e-03,  3.23473248e-01, -1.36210452e-01,\n",
       "        3.11185804e-01, -1.92971315e-01, -1.96814708e-01,  7.05275914e-01,\n",
       "       -1.34545080e-01,  7.23140962e-01,  3.50860261e-01, -3.08993725e-01,\n",
       "       -2.90115672e-03, -1.27028582e-01,  1.03855171e+00,  9.39278866e-01,\n",
       "        3.16370936e-01,  8.25634927e-02,  5.12193133e-01,  1.08665101e-03,\n",
       "        6.97788478e-01,  3.46142636e-01,  3.68437845e-01, -2.20367172e-01,\n",
       "        5.26030907e-01,  3.27667022e-01, -3.75261636e-02,  5.79312416e-01,\n",
       "       -2.65917765e-01, -1.84814225e-01, -5.73270167e-01, -1.13771849e+00,\n",
       "       -6.75441152e-01,  5.09201988e-01,  5.21299711e-01,  1.00832216e-01,\n",
       "        3.73437937e-01, -5.21039143e-01,  7.87179376e-01, -2.48553701e-01,\n",
       "        7.22494498e-02,  4.19048480e-01, -1.08664658e-01,  1.01658538e+00,\n",
       "       -2.56461194e-01,  1.89521497e-01, -1.05856671e+00,  1.38108883e+00,\n",
       "       -5.95447280e-02,  2.50249084e-02,  3.87040925e-02,  5.21299711e-01,\n",
       "        3.93939114e-01,  8.88655716e-02, -1.36210452e-01,  6.91176622e-01,\n",
       "        2.67068247e-01,  1.05663609e+00,  7.77370322e-01,  4.05339974e-01,\n",
       "        1.57292471e+00, -1.43896742e-02,  4.94607073e-01,  6.09216050e-01])"
      ]
     },
     "execution_count": 21,
     "metadata": {},
     "output_type": "execute_result"
    }
   ],
   "source": [
    "res"
   ]
  },
  {
   "cell_type": "code",
   "execution_count": 22,
   "metadata": {},
   "outputs": [
    {
     "data": {
      "text/plain": [
       "array([-8.29261737e-01,  1.45784653e-01,  3.21386018e-01, -3.60061840e-02,\n",
       "       -1.14993968e+00, -8.04560732e-01, -4.90974611e-01, -1.60681288e-02,\n",
       "       -1.54579915e+00, -7.42192497e-02, -7.93102809e-01, -6.77081779e-01,\n",
       "        3.52843834e-01,  4.33921070e-01, -6.05349322e-01, -1.63485137e-01,\n",
       "       -1.02767601e-01,  1.31577842e-01,  5.47560073e+00,  5.76231796e-02,\n",
       "       -7.93102809e-01,  2.77399816e-01,  1.28095235e+00, -1.63485137e-01,\n",
       "       -2.55675043e-01, -1.77797244e-01,  4.77671295e-01, -3.60061840e-02,\n",
       "       -7.93102809e-01, -6.77081779e-01, -1.08015803e-01,  8.61062610e-01,\n",
       "       -1.77797244e-01,  3.59599084e-01,  7.23500128e-01, -1.94404555e-01,\n",
       "        3.59599084e-01,  7.87211745e-01, -1.94330809e+00, -6.77081779e-01,\n",
       "        2.55134352e-01, -4.22350362e-01,  4.14676136e-01, -1.63485137e-01,\n",
       "       -1.65374855e-01,  1.92273152e+00, -1.79034811e+00, -9.89722526e-02,\n",
       "       -7.07866701e-01, -1.65374855e-01, -5.21759533e-01,  1.01975586e+00,\n",
       "       -6.77081779e-01,  8.75098656e-02,  6.11937540e-01, -3.60061840e-02,\n",
       "       -1.46517212e+00,  1.89816491e+00,  5.98007955e-02,  2.93098541e-02,\n",
       "       -3.60061840e-02, -1.97735299e-01,  2.32056955e-01,  3.67164273e-01,\n",
       "       -4.22350362e-01, -3.60061840e-02, -2.55675043e-01,  4.77671295e-01,\n",
       "        7.87211745e-01,  7.57411588e-01, -3.60061840e-02,  8.08749001e-01,\n",
       "       -3.60061840e-02,  2.93484733e-01, -1.74064632e-02,  1.97869969e-01,\n",
       "       -3.60061840e-02, -7.07866701e-01, -8.19902645e-02, -6.77081779e-01,\n",
       "       -4.90974611e-01, -1.74466500e-01,  7.27154069e-01,  6.11937540e-01,\n",
       "        4.16863467e-01, -3.07523869e-02,  1.01875323e-01,  8.66013385e-01,\n",
       "       -3.60061840e-02,  3.59599084e-01, -3.60061840e-02, -3.65739565e-01,\n",
       "        1.97869969e-01, -7.42192497e-02,  2.77399816e-01,  5.08950713e-01,\n",
       "       -1.43547082e-01, -3.60061840e-02,  5.28888768e-01, -3.52615156e-01,\n",
       "       -1.47511567e+00, -3.60061840e-02, -9.20581762e-01,  1.97869969e-01,\n",
       "       -1.38037761e+00,  5.47560073e+00, -1.74049397e-01,  3.93786071e-01,\n",
       "       -3.60061840e-02,  2.69052730e-01, -6.77081779e-01, -1.22705657e-01,\n",
       "        9.59640663e-01, -4.22350362e-01, -6.77081779e-01,  3.67164273e-01,\n",
       "       -1.60681288e-02, -3.60061840e-02,  3.93786071e-01, -2.19544851e+00,\n",
       "       -3.71696073e-01,  8.44424134e-01, -6.77081779e-01, -1.07824941e+00,\n",
       "        9.32265051e-01, -8.23887730e-01,  6.16552122e-01,  1.15711942e+00,\n",
       "        8.75098656e-02, -4.22350362e-01,  1.35450991e-03, -1.63485137e-01,\n",
       "       -3.71696073e-01, -1.77797244e-01, -3.07095063e-01, -7.07866701e-01,\n",
       "       -7.93102809e-01, -3.60061840e-02,  5.93692325e-01,  2.97636233e-02,\n",
       "        7.42634650e-01, -1.97735299e-01, -3.71696073e-01, -3.60061840e-02,\n",
       "        4.90023598e-01, -1.06342596e+00,  2.21449517e-02, -2.48281129e-01,\n",
       "       -3.60061840e-02,  9.61018196e-02, -3.60061840e-02, -8.04560732e-01,\n",
       "        9.19140703e-01, -1.77797244e-01, -1.83982259e-01,  1.44322652e-01,\n",
       "        3.59599084e-01, -6.77081779e-01, -1.33658415e-01,  1.08587828e+00,\n",
       "        8.34779160e-01, -7.93102809e-01, -3.61849339e-01, -3.65739565e-01,\n",
       "        7.23500128e-01, -2.62088172e-02, -1.46900768e+00, -3.60061840e-02,\n",
       "       -7.07866701e-01, -4.90974611e-01, -8.20873583e-02, -1.33658415e-01,\n",
       "       -3.07095063e-01, -7.07866701e-01, -7.07866701e-01, -2.98834313e-01,\n",
       "       -4.77870369e-01,  1.20949611e+00, -1.91074033e-01, -1.75742172e-01,\n",
       "        1.40130563e+00, -1.79942081e-01, -1.08015803e-01, -3.60061840e-02,\n",
       "        4.09888934e-03, -1.63485137e-01,  3.52843834e-01,  1.34060832e-01,\n",
       "        2.77399816e-01, -3.60061840e-02, -1.08015803e-01, -1.11528321e-01,\n",
       "       -3.60061840e-02, -3.60061840e-02,  1.97869969e-01,  2.93098541e-02,\n",
       "        8.75098656e-02,  1.24923215e+00,  9.45289310e-01, -1.63485137e-01,\n",
       "       -1.65374855e-01,  1.73125606e-01, -2.55675043e-01, -1.33658415e-01,\n",
       "       -3.07095063e-01,  9.61018196e-02, -1.54579915e+00,  7.87211745e-01,\n",
       "       -1.76373850e-02, -3.60061840e-02,  1.31577842e-01, -7.68811336e-01,\n",
       "        3.93786071e-01, -1.97735299e-01,  3.59599084e-01,  9.45289310e-01,\n",
       "       -3.60061840e-02,  3.52843834e-01, -3.61849339e-01, -9.17902100e-01,\n",
       "        5.28888768e-01, -1.77797244e-01, -7.07866701e-01,  7.23500128e-01,\n",
       "        3.23312109e-01, -3.07523869e-02, -7.93102809e-01,  5.93692325e-01,\n",
       "        3.76809246e-01,  5.60308137e-01, -4.77870369e-01,  1.70005201e-02,\n",
       "        1.44322652e-01, -3.60061840e-02, -3.96040761e-01, -1.07824941e+00,\n",
       "        7.39208759e-01, -7.93102809e-01,  2.77399816e-01, -3.60061840e-02,\n",
       "       -6.73552521e-01, -1.97735299e-01, -8.04560732e-01, -3.60061840e-02,\n",
       "       -1.63485137e-01,  5.93692325e-01, -3.07523869e-02, -5.34862994e-01,\n",
       "        5.08950713e-01, -3.60061840e-02, -8.23887730e-01,  7.67679915e-01,\n",
       "        5.98007955e-02, -7.99185426e-02, -1.43547082e-01,  7.23500128e-01,\n",
       "        7.23500128e-01, -1.48034754e+00, -1.01928320e-01, -1.97735299e-01,\n",
       "        1.17777590e+00,  1.36829062e+00, -1.63485137e-01, -1.08015803e-01,\n",
       "       -1.60681288e-02, -6.77081779e-01,  3.59599084e-01, -1.76373850e-02,\n",
       "       -8.20873583e-02, -3.60061840e-02,  1.16881904e+00, -2.17085851e+00,\n",
       "        5.93692325e-01, -7.71001737e-01, -3.60061840e-02, -3.07523869e-02,\n",
       "        5.98007955e-02, -3.60061840e-02, -1.08015803e-01,  1.35450991e-03,\n",
       "        4.00915866e-01,  3.73803708e-01, -1.63485137e-01,  4.09888934e-03,\n",
       "       -1.08015803e-01,  6.11937540e-01,  1.16881904e+00, -1.06342596e+00,\n",
       "       -2.85387658e-01,  5.98007955e-02,  9.61018196e-02, -1.01928320e-01,\n",
       "        1.01975586e+00, -9.89722526e-02, -7.07866701e-01, -1.06342596e+00,\n",
       "       -1.63485137e-01, -6.05349322e-01,  1.20949611e+00, -7.93102809e-01,\n",
       "        7.87211745e-01, -1.63485137e-01, -1.87027252e+00, -1.77797244e-01,\n",
       "       -7.93102809e-01,  3.21386018e-01, -3.60061840e-02, -7.93102809e-01,\n",
       "       -1.26435658e+00, -1.97735299e-01, -3.60061840e-02, -4.15774590e-01,\n",
       "       -3.99690875e-02,  1.63429379e+00,  3.59599084e-01, -3.60061840e-02,\n",
       "        4.58640942e-01,  5.28888768e-01, -4.90974611e-01, -1.63485137e-01,\n",
       "        1.31577842e-01, -8.04560732e-01, -1.77797244e-01,  3.21386018e-01,\n",
       "       -3.60061840e-02, -1.77797244e-01, -1.97735299e-01,  1.43302584e+00,\n",
       "        3.67164273e-01,  8.66013385e-01,  2.27384822e-01, -3.61849339e-01,\n",
       "       -6.77081779e-01,  9.61018196e-02, -3.54221803e-01, -3.60061840e-02,\n",
       "        3.72781889e-01, -6.77081779e-01,  5.05836856e-01,  1.00564077e-02,\n",
       "       -1.77797244e-01, -6.18453565e-01,  1.31577842e-01, -1.96159777e-01,\n",
       "        8.34779160e-01, -6.77081779e-01, -6.77081779e-01, -6.77081779e-01,\n",
       "       -1.02767601e-01, -4.90974611e-01,  3.23312109e-01,  3.33166955e-01,\n",
       "       -4.22350362e-01,  3.72781889e-01, -1.33658415e-01, -9.29416557e-01,\n",
       "       -1.79034811e+00,  9.82285817e-01, -6.42223871e-01, -3.60061840e-02,\n",
       "        9.61018196e-02,  2.25391372e-01, -3.60061840e-02, -1.63485137e-01,\n",
       "       -1.63485137e-01,  1.15711942e+00, -3.99690875e-02,  2.97636233e-02,\n",
       "       -1.97735299e-01, -3.61849339e-01, -1.22705657e-01,  3.73803708e-01,\n",
       "       -1.14383168e+00, -1.60681288e-02, -1.06342596e+00, -2.54468240e-01,\n",
       "        1.01975586e+00,  1.54043195e-01,  2.07170320e-01,  9.82285817e-01,\n",
       "        6.16552122e-01,  1.44322652e-01, -4.68636186e-01, -6.79013678e-01,\n",
       "       -1.97735299e-01,  4.35819371e-01, -3.60061840e-02,  1.08587828e+00,\n",
       "        1.78729635e-01, -8.23887730e-01, -3.60061840e-02,  1.70005201e-02,\n",
       "        1.01875323e-01,  6.11937540e-01,  3.52843834e-01, -1.77797244e-01,\n",
       "        5.98007955e-02,  6.27879553e-01,  2.77399816e-01, -3.60061840e-02,\n",
       "       -3.60061840e-02, -3.60061840e-02, -1.97735299e-01,  5.98007955e-02,\n",
       "        7.42634650e-01, -9.74021916e-02, -1.77797244e-01, -1.05456104e-02,\n",
       "       -1.87027252e+00,  3.69112268e-02,  5.93692325e-01, -9.20581762e-01,\n",
       "        1.31577842e-01, -9.89722526e-02,  1.18685095e+00, -4.22350362e-01,\n",
       "       -3.60061840e-02,  5.47560073e+00,  6.76119131e-01, -5.21759533e-01,\n",
       "        4.53859125e-01, -4.89328292e-01, -8.19902645e-02,  3.52843834e-01,\n",
       "        1.01674556e+00, -1.02767601e-01,  9.82285817e-01, -1.79942081e-01,\n",
       "       -3.60061840e-02, -4.77870369e-01,  6.49350061e-01, -4.90974611e-01,\n",
       "        3.59599084e-01,  3.23312109e-01, -2.19544851e+00,  8.34779160e-01,\n",
       "       -2.55675043e-01, -2.48281129e-01, -3.60061840e-02,  3.23312109e-01,\n",
       "        9.45289310e-01, -3.60061840e-02,  2.55134352e-01, -2.69744919e-01,\n",
       "       -8.04560732e-01,  4.53859125e-01, -6.77081779e-01, -3.40095674e-01,\n",
       "       -8.23887730e-01, -1.63485137e-01,  1.44322652e-01, -5.35155122e-01,\n",
       "       -1.43547082e-01, -3.60061840e-02, -9.17902100e-01,  1.18355377e+00,\n",
       "       -3.60061840e-02,  1.59167333e-01,  9.59640663e-01,  4.77671295e-01,\n",
       "       -3.60061840e-02, -7.93102809e-01, -1.97735299e-01, -1.77797244e-01,\n",
       "       -5.21759533e-01, -4.90974611e-01,  1.47407685e+00, -7.93102809e-01,\n",
       "       -5.21759533e-01,  3.41862471e-01,  9.32558856e-01, -1.96159777e-01,\n",
       "       -7.42192497e-02, -1.60681288e-02,  3.21386018e-01, -7.93102809e-01,\n",
       "        3.59599084e-01,  4.16863467e-01, -7.93102809e-01,  4.00915866e-01,\n",
       "        4.16863467e-01, -1.07976924e+00, -7.93102809e-01, -1.08015803e-01,\n",
       "       -3.40095674e-01, -7.93102809e-01, -3.71696073e-01, -3.71696073e-01,\n",
       "        3.23312109e-01, -1.97735299e-01, -8.19902645e-02,  5.52849910e-01,\n",
       "       -2.87725804e-01,  1.17777590e+00, -7.53900041e-01, -8.23887730e-01,\n",
       "        1.31577842e-01,  5.05836856e-01, -8.04560732e-01,  7.64566590e-01,\n",
       "        4.83115134e-01, -3.60061840e-02,  5.47560073e+00,  7.23500128e-01,\n",
       "        9.54364358e-01, -3.60061840e-02, -9.20581762e-01, -1.87027252e+00,\n",
       "        9.45289310e-01,  5.98007955e-02, -8.19902645e-02,  1.31577842e-01,\n",
       "        1.78729635e-01,  1.41076406e+00, -3.71696073e-01, -6.77081779e-01,\n",
       "        5.47560073e+00, -1.36413529e+00, -1.77797244e-01, -1.60681288e-02,\n",
       "       -1.97735299e-01, -1.87027252e+00, -6.05388994e-01,  9.35532619e-01,\n",
       "       -7.71001737e-01,  9.19140703e-01,  1.01875323e-01, -2.54468240e-01,\n",
       "       -6.42223871e-01,  3.21386018e-01, -7.93102809e-01,  5.98007955e-02,\n",
       "        5.98007955e-02, -1.43547082e-01,  3.59599084e-01, -1.33658415e-01,\n",
       "       -7.93102809e-01, -1.97735299e-01,  4.77671295e-01,  1.54043195e-01,\n",
       "        1.44322652e-01,  7.23500128e-01, -9.74021916e-02,  2.77399816e-01,\n",
       "       -3.99690875e-02,  1.97869969e-01, -3.60061840e-02,  4.00915866e-01,\n",
       "        2.77399816e-01, -1.65374855e-01, -1.63485137e-01, -3.71696073e-01,\n",
       "       -7.93102809e-01, -6.77081779e-01, -3.61849339e-01, -5.26202841e-01,\n",
       "        7.23500128e-01, -7.93102809e-01,  3.21386018e-01,  3.67921105e-01,\n",
       "        1.21210526e-01, -6.37364455e-01,  3.21386018e-01, -3.71696073e-01,\n",
       "       -7.93102809e-01,  1.31577842e-01,  5.05836856e-01,  1.21210526e-01,\n",
       "       -7.42192497e-02,  9.82285817e-01, -7.99185426e-02,  7.23500128e-01,\n",
       "        5.98007955e-02,  2.77399816e-01, -1.14383168e+00, -1.08015803e-01,\n",
       "       -9.20581762e-01, -1.38037761e+00, -8.29261737e-01,  1.45784653e-01,\n",
       "        1.00169158e+00, -4.90974611e-01, -5.29068460e-01,  3.59599084e-01,\n",
       "       -1.83982259e-01, -1.77797244e-01,  3.23312109e-01, -3.60061840e-02,\n",
       "        4.53859125e-01,  7.18079021e-01, -5.21759533e-01,  3.59599084e-01,\n",
       "       -3.60061840e-02, -1.43547082e-01, -1.97735299e-01, -3.60061840e-02,\n",
       "       -1.79942081e-01, -1.01928320e-01, -7.93102809e-01,  3.72781889e-01,\n",
       "       -8.23887730e-01, -1.26435658e+00,  2.07170320e-01, -1.63485137e-01,\n",
       "       -2.54468240e-01, -1.14993968e+00,  2.93098541e-02, -1.63485137e-01,\n",
       "       -6.77081779e-01,  1.92273152e+00, -3.40095674e-01, -1.65374855e-01,\n",
       "        7.97388508e-02, -3.60061840e-02, -1.46517212e+00,  6.11937540e-01,\n",
       "        3.72781889e-01, -3.40095674e-01, -6.77081779e-01,  7.97388508e-02,\n",
       "        2.69052730e-01, -3.60061840e-02,  5.60308137e-01,  3.59599084e-01,\n",
       "       -9.89722526e-02,  5.98007955e-02, -5.21759533e-01,  3.73803708e-01,\n",
       "       -7.93102809e-01, -8.40599514e-01, -2.61137368e-01, -9.74021916e-02,\n",
       "       -2.55675043e-01,  1.05779657e+00,  6.11937540e-01, -3.07523869e-02,\n",
       "       -1.45116338e-01, -4.05552410e-01, -4.68636186e-01,  1.01975586e+00,\n",
       "       -3.60061840e-02,  7.18079021e-01, -7.07866701e-01, -3.60061840e-02,\n",
       "       -1.94330809e+00, -1.97735299e-01, -7.07866701e-01,  3.73803708e-01,\n",
       "       -7.07866701e-01,  1.31577842e-01, -4.34574016e-01,  4.35819371e-01,\n",
       "        1.54043195e-01, -3.60061840e-02, -1.77797244e-01,  1.01975586e+00,\n",
       "       -1.07824941e+00, -2.10228903e+00,  3.52843834e-01, -3.61849339e-01,\n",
       "       -3.71696073e-01, -3.60061840e-02, -3.61849339e-01, -1.46517212e+00,\n",
       "        5.93692325e-01, -3.60061840e-02,  1.16881904e+00,  1.87472853e+00,\n",
       "        3.67164273e-01, -9.89722526e-02, -3.60061840e-02, -8.23887730e-01,\n",
       "        3.66547425e-01,  1.89816491e+00,  2.77399816e-01, -1.53625075e-01,\n",
       "       -3.60061840e-02, -6.77081779e-01, -1.63485137e-01,  5.32139222e+00,\n",
       "        2.46480398e-01, -5.21759533e-01, -1.77797244e-01, -3.60061840e-02,\n",
       "       -3.60061840e-02,  3.41862471e-01, -3.60061840e-02, -6.77081779e-01,\n",
       "        7.90983742e-01, -3.60061840e-02, -1.63485137e-01, -1.08015803e-01,\n",
       "        7.87211745e-01, -1.46517212e+00, -1.77797244e-01, -3.60061840e-02,\n",
       "       -7.07866701e-01, -8.19902645e-02,  3.23312109e-01,  2.77399816e-01,\n",
       "        2.77399816e-01,  1.41076406e+00, -3.60061840e-02, -1.14993968e+00,\n",
       "        2.77399816e-01,  5.28888768e-01,  1.18685095e+00,  3.52843834e-01,\n",
       "        3.23312109e-01, -1.08015803e-01, -8.23887730e-01, -4.90974611e-01,\n",
       "       -3.60061840e-02, -5.26202841e-01, -3.60061840e-02, -1.63485137e-01,\n",
       "       -3.60061840e-02, -3.60061840e-02,  1.19676565e+00,  1.59167333e-01,\n",
       "       -5.21759533e-01, -6.77081779e-01, -7.11855014e-01, -6.77081779e-01,\n",
       "       -3.60061840e-02,  7.87211745e-01, -1.91074033e-01, -1.60681288e-02,\n",
       "       -6.77081779e-01, -3.60061840e-02,  4.41130704e-01, -1.63485137e-01,\n",
       "        1.31577842e-01, -2.85387658e-01,  8.44424134e-01,  2.07170320e-01,\n",
       "        3.41862471e-01, -1.02933052e-01,  3.73803708e-01, -1.77797244e-01,\n",
       "        3.93786071e-01, -6.77081779e-01,  1.35450991e-03,  1.16881904e+00,\n",
       "       -1.74466500e-01, -3.60061840e-02,  1.31577842e-01, -4.90974611e-01,\n",
       "        1.21210526e-01, -1.63485137e-01,  9.32265051e-01,  7.33719358e-01,\n",
       "        3.59599084e-01, -1.08015803e-01,  9.54364358e-01, -1.33658415e-01,\n",
       "       -5.32503263e-01,  5.78870904e-01, -1.08015803e-01, -5.21759533e-01,\n",
       "        2.07170320e-01, -6.18453565e-01, -2.55675043e-01, -4.22350362e-01,\n",
       "       -3.61849339e-01, -3.60061840e-02, -6.77081779e-01, -6.36173916e-01,\n",
       "       -3.65739565e-01,  2.77399816e-01,  3.59599084e-01, -3.11177304e-01,\n",
       "        2.03200272e-01, -7.07866701e-01,  1.16881904e+00, -1.63485137e-01,\n",
       "        7.42634650e-01, -6.05388994e-01, -1.22705657e-01,  3.76809246e-01,\n",
       "       -4.22350362e-01, -4.22350362e-01, -4.77870369e-01, -1.08015803e-01,\n",
       "       -6.42223871e-01, -3.60061840e-02, -3.60061840e-02,  3.59599084e-01,\n",
       "       -1.08015803e-01, -1.63934145e+00, -1.77797244e-01,  8.44424134e-01,\n",
       "       -3.60061840e-02,  2.77399816e-01,  8.75098656e-02,  2.49799284e-01,\n",
       "        9.82285817e-01, -5.26202841e-01,  1.44322652e-01,  9.45289310e-01])"
      ]
     },
     "execution_count": 22,
     "metadata": {},
     "output_type": "execute_result"
    }
   ],
   "source": [
    "functions['f-01'](data.values)"
   ]
  },
  {
   "cell_type": "code",
   "execution_count": 23,
   "metadata": {},
   "outputs": [
    {
     "data": {
      "text/plain": [
       "array([[2.04486341, 0.02361953],\n",
       "       [0.7479414 , 0.50189081],\n",
       "       [0.19160987, 0.56790727],\n",
       "       ...,\n",
       "       [1.17966412, 0.49742349],\n",
       "       [0.35587888, 0.84489149],\n",
       "       [0.09189773, 0.27314279]])"
      ]
     },
     "execution_count": 23,
     "metadata": {},
     "output_type": "execute_result"
    }
   ],
   "source": [
    "functions['f-02'](data.values)"
   ]
  }
 ],
 "metadata": {
  "kernelspec": {
   "display_name": "Py(morpheus)",
   "language": "python",
   "name": "morpheus"
  },
  "language_info": {
   "codemirror_mode": {
    "name": "ipython",
    "version": 3
   },
   "file_extension": ".py",
   "mimetype": "text/x-python",
   "name": "python",
   "nbconvert_exporter": "python",
   "pygments_lexer": "ipython3",
   "version": "3.6.7"
  },
  "toc": {
   "nav_menu": {},
   "number_sections": true,
   "sideBar": true,
   "skip_h1_title": true,
   "toc_cell": false,
   "toc_position": {},
   "toc_section_display": "block",
   "toc_window_display": false
  }
 },
 "nbformat": 4,
 "nbformat_minor": 2
}
