{
 "cells": [
  {
   "cell_type": "markdown",
   "metadata": {},
   "source": [
    "# Convert Chain to Function Automatically."
   ]
  },
  {
   "cell_type": "markdown",
   "metadata": {},
   "source": [
    "## Preliminaries"
   ]
  },
  {
   "cell_type": "markdown",
   "metadata": {},
   "source": [
    "### Imports"
   ]
  },
  {
   "cell_type": "code",
   "execution_count": 1,
   "metadata": {},
   "outputs": [],
   "source": [
    "import os\n",
    "import pandas as pd\n",
    "import sys\n",
    "import networkx as nx\n",
    "\n",
    "from os.path import dirname\n",
    "from networkx.drawing.nx_pydot import to_pydot\n",
    "\n",
    "note_dir = os.getcwd()\n",
    "\n",
    "root_dir = dirname(note_dir)\n",
    "src_dir = os.path.join(root_dir, \"src\")\n",
    "\n",
    "sys.path.append(src_dir)\n",
    "\n",
    "import morpheus\n",
    "from morpheus.composition import compose\n",
    "from morpheus.tests import default_chain, default_ensemble, default_dataset\n",
    "from morpheus.graph import (model_to_graph,\n",
    "                            model_graph_traces,\n",
    "                            model_graph_layout, \n",
    "                            convert_positions_to_dot_format,\n",
    "                           add_merge_nodes)"
   ]
  },
  {
   "cell_type": "code",
   "execution_count": 2,
   "metadata": {
    "collapsed": true
   },
   "outputs": [],
   "source": [
    "from functools import partial"
   ]
  },
  {
   "cell_type": "code",
   "execution_count": 3,
   "metadata": {
    "collapsed": true
   },
   "outputs": [],
   "source": [
    "# In Greek to avoid nameclashes\n",
    "ω = compose.o\n",
    "χ = compose.x"
   ]
  },
  {
   "cell_type": "markdown",
   "metadata": {},
   "source": [
    "### Functions"
   ]
  },
  {
   "cell_type": "code",
   "execution_count": 4,
   "metadata": {
    "collapsed": true
   },
   "outputs": [],
   "source": [
    "def fix_layout(G):\n",
    "    \n",
    "    for n in G.nodes():\n",
    "        node = G.nodes(data=True)[n]\n",
    "        if node['bipartite'] == 'func':\n",
    "            node['shape'] = \"\\\"square\\\"\"\n",
    "            node['width'] = \"2\"\n",
    "        elif node['bipartite'] == 'data':\n",
    "            node['shape'] = \"\\\"circle\\\"\"\n",
    "        else:\n",
    "            pass\n",
    "    \n",
    "    return G"
   ]
  },
  {
   "cell_type": "markdown",
   "metadata": {},
   "source": [
    "### Ensemble"
   ]
  },
  {
   "cell_type": "code",
   "execution_count": 5,
   "metadata": {},
   "outputs": [
    {
     "name": "stdout",
     "output_type": "stream",
     "text": [
      "\n",
      "        Learning model with desc ids:    [0, 1, 2]\n",
      "                            targ ids:    [4, 5]\n",
      "        \n",
      "\n",
      "        Learning model with desc ids:    [1, 2, 5]\n",
      "                            targ ids:    [7]\n",
      "        \n",
      "\n",
      "            Trying to add a model to end of the chain.\n",
      "            \n",
      "            Current chain targ_ids:     [4. 5.]\n",
      "            New estimator desc_ids:     [1, 2, 5]\n",
      "            \n",
      "\n",
      "\n",
      "            Connecting attributes:  [5.]\n",
      "            \n",
      "\n"
     ]
    }
   ],
   "source": [
    "data, _ = default_dataset(random_state=16)\n",
    "c = default_chain(random_state=16)"
   ]
  },
  {
   "cell_type": "code",
   "execution_count": 6,
   "metadata": {},
   "outputs": [
    {
     "data": {
      "text/plain": [
       "(800, 8)"
      ]
     },
     "execution_count": 6,
     "metadata": {},
     "output_type": "execute_result"
    }
   ],
   "source": [
    "data.values.shape"
   ]
  },
  {
   "cell_type": "code",
   "execution_count": 7,
   "metadata": {},
   "outputs": [
    {
     "name": "stdout",
     "output_type": "stream",
     "text": [
      "\n",
      "        # Main\n",
      "        Descriptive attributes:     [0. 1. 2.]\n",
      "        Target attributes:          [4. 7.]\n",
      "\n",
      "        ## On types (mostly nominals)\n",
      "        Target attribute types:                     ['numeric', 'nominal']\n",
      "        N_classes of nominal target attributes:     [2]\n",
      "        Classes of nominal target attributes:       [array([0., 1.])]\n",
      "\n",
      "        ## Weights\n",
      "        Total weights of target attributes:         [1. 1.]\n",
      "\n",
      "         \n",
      "        ## Estimators\n",
      "        Estimators used:        ['RandomForestRegressor', 'RandomForestClassifier']\n",
      "        N_estimators:           2\n",
      "        \n"
     ]
    }
   ],
   "source": [
    "c.pretty_print()"
   ]
  },
  {
   "cell_type": "markdown",
   "metadata": {},
   "source": [
    "## Conversion"
   ]
  },
  {
   "cell_type": "code",
   "execution_count": 8,
   "metadata": {
    "collapsed": true
   },
   "outputs": [],
   "source": [
    "model_one = c.estimators_[0]\n",
    "model_two = c.estimators_[1]"
   ]
  },
  {
   "cell_type": "code",
   "execution_count": 9,
   "metadata": {
    "collapsed": true
   },
   "outputs": [],
   "source": [
    "G_one = model_to_graph(model_one, idx=1)\n",
    "G_two = model_to_graph(model_two, idx=2)"
   ]
  },
  {
   "cell_type": "code",
   "execution_count": 10,
   "metadata": {
    "collapsed": true
   },
   "outputs": [],
   "source": [
    "G = nx.compose(G_one, G_two)"
   ]
  },
  {
   "cell_type": "code",
   "execution_count": 11,
   "metadata": {
    "collapsed": true
   },
   "outputs": [],
   "source": [
    "G = fix_layout(G)"
   ]
  },
  {
   "cell_type": "code",
   "execution_count": 12,
   "metadata": {},
   "outputs": [
    {
     "data": {
      "image/png": "[encoded data removed]",
      "text/plain": [
       "<IPython.core.display.Image object>"
      ]
     },
     "metadata": {
      "image/png": {
       "unconfined": true
      }
     },
     "output_type": "display_data"
    }
   ],
   "source": [
    "X = to_pydot(G)\n",
    "X.set('rankdir', 'BT')\n",
    "X.set('splines', 'ortho')\n",
    "\n",
    "with open(\"test.dot\", \"w\") as text_file:\n",
    "    print(X.to_string(), file=text_file)\n",
    "    \n",
    "!dot -T png test.dot > test.png  # Bash command\n",
    "\n",
    "from IPython.display import Image, display\n",
    "from IPython.core.display import HTML \n",
    "\n",
    "display(Image('test.png', unconfined=True))"
   ]
  },
  {
   "cell_type": "code",
   "execution_count": 13,
   "metadata": {
    "collapsed": true
   },
   "outputs": [],
   "source": [
    "add_merge_nodes(G)"
   ]
  },
  {
   "cell_type": "code",
   "execution_count": 14,
   "metadata": {},
   "outputs": [
    {
     "data": {
      "image/png": "[encoded data removed]",
      "text/plain": [
       "<IPython.core.display.Image object>"
      ]
     },
     "metadata": {
      "image/png": {
       "unconfined": true
      }
     },
     "output_type": "display_data"
    }
   ],
   "source": [
    "X = to_pydot(G)\n",
    "X.set('rankdir', 'BT')\n",
    "X.set('splines', 'ortho')\n",
    "\n",
    "with open(\"test.dot\", \"w\") as text_file:\n",
    "    print(X.to_string(), file=text_file)\n",
    "    \n",
    "!dot -T png test.dot > test.png  # Bash command\n",
    "\n",
    "from IPython.display import Image, display\n",
    "from IPython.core.display import HTML \n",
    "\n",
    "display(Image('test.png', unconfined=True))"
   ]
  },
  {
   "cell_type": "code",
   "execution_count": 15,
   "metadata": {
    "collapsed": true
   },
   "outputs": [],
   "source": [
    "import numpy as np\n",
    "\n",
    "def select(idx):\n",
    "    \n",
    "    def select(X):\n",
    "        if len(X.shape) > 1:\n",
    "            return X[:, idx]\n",
    "        elif len(X.shape) == 1:\n",
    "            assert idx == 0\n",
    "            return X\n",
    "    return select"
   ]
  },
  {
   "cell_type": "code",
   "execution_count": 16,
   "metadata": {
    "collapsed": true
   },
   "outputs": [],
   "source": [
    "def convert_graph_to_functions(G):\n",
    "    # Convert the graph to its functions\n",
    "    sorted_list = list(nx.topological_sort(G))\n",
    "    print(sorted_list)\n",
    "    functions = {}\n",
    "    for node_name in sorted_list:\n",
    "        node = G.nodes(data=True)[node_name]\n",
    "        print(node_name)\n",
    "        if node.get('kind', None) == 'data': \n",
    "            if len(nx.ancestors(G, node_name)) == 0:\n",
    "                functions[node_name] = select(node['idx'])\n",
    "            else:\n",
    "\n",
    "                # This is pretty much identical to what happens in the merge node\n",
    "                previous_node = [t[0] for t in G.in_edges(node_name)][0] # I know it is just one\n",
    "                previous_t_idx = G.nodes()[previous_node]['tgt'] \n",
    "\n",
    "                relevant_idx = previous_t_idx.index(node['idx'])\n",
    "\n",
    "                functions[node_name] = ω(select(relevant_idx), functions[previous_node])\n",
    "\n",
    "\n",
    "        elif node.get('kind', None) == 'model':\n",
    "\n",
    "            previous_nodes = [t[0] for t in G.in_edges(node_name)]\n",
    "\n",
    "            print(functions.keys())\n",
    "            inputs = [functions[n] for n in previous_nodes]\n",
    "            inputs = ω(np.transpose, χ(*inputs, return_type=np.array))\n",
    "            f = node['function']\n",
    "            functions[node_name] = ω(f, inputs)\n",
    "\n",
    "        elif node.get('kind', None) == 'merge':\n",
    "            merge_idx = node['idx']\n",
    "            previous_nodes = [t[0] for t in G.in_edges(node_name)]\n",
    "            previous_t_idx = [G.nodes()[n]['tgt'] for n in previous_nodes]\n",
    "            print(previous_t_idx)\n",
    "            inputs = [(functions[n],t) for n, t in zip(previous_nodes, previous_t_idx)]\n",
    "\n",
    "            inputs = [ω(select(t_idx.index(merge_idx)), f) for f, t_idx in inputs]\n",
    "            inputs = ω(np.transpose, χ(*inputs, return_type=np.array))\n",
    "\n",
    "            f = partial(np.mean, axis=1)\n",
    "            functions[node_name] = ω(f, inputs)\n",
    "    return functions"
   ]
  },
  {
   "cell_type": "code",
   "execution_count": 17,
   "metadata": {},
   "outputs": [
    {
     "name": "stdout",
     "output_type": "stream",
     "text": [
      "['d-02', 'd-01', 'd-00', 'f-01', 'd-05', 'f-02', 'd-07', 'd-04']\n",
      "d-02\n",
      "d-01\n",
      "d-00\n",
      "f-01\n",
      "dict_keys(['d-02', 'd-01', 'd-00'])\n",
      "d-05\n",
      "f-02\n",
      "dict_keys(['d-02', 'd-01', 'd-00', 'f-01', 'd-05'])\n",
      "d-07\n",
      "d-04\n"
     ]
    },
    {
     "data": {
      "text/plain": [
       "{'d-02': <function __main__.select.<locals>.select(X)>,\n",
       " 'd-01': <function __main__.select.<locals>.select(X)>,\n",
       " 'd-00': <function __main__.select.<locals>.select(X)>,\n",
       " 'f-01': <function morpheus.composition.compose.o.<locals>.sequential_composition(*function_arguments)>,\n",
       " 'd-05': <function morpheus.composition.compose.o.<locals>.sequential_composition(*function_arguments)>,\n",
       " 'f-02': <function morpheus.composition.compose.o.<locals>.sequential_composition(*function_arguments)>,\n",
       " 'd-07': <function morpheus.composition.compose.o.<locals>.sequential_composition(*function_arguments)>,\n",
       " 'd-04': <function morpheus.composition.compose.o.<locals>.sequential_composition(*function_arguments)>}"
      ]
     },
     "execution_count": 17,
     "metadata": {},
     "output_type": "execute_result"
    }
   ],
   "source": [
    "functions =  convert_graph_to_functions(G)\n",
    "functions"
   ]
  },
  {
   "cell_type": "code",
   "execution_count": 18,
   "metadata": {
    "collapsed": true
   },
   "outputs": [],
   "source": [
    "a = functions['d-07'](data.values)\n",
    "b = functions['f-02'](data.values)"
   ]
  },
  {
   "cell_type": "code",
   "execution_count": 19,
   "metadata": {},
   "outputs": [
    {
     "data": {
      "text/plain": [
       "array([0., 0., 0., 0., 0., 0., 0., 0., 0., 0., 0., 0., 0., 0., 0., 0., 0.,\n",
       "       0., 0., 0., 0., 0., 0., 0., 0., 0., 0., 0., 0., 0., 0., 0., 0., 0.,\n",
       "       0., 0., 0., 0., 0., 0., 0., 0., 0., 0., 0., 0., 0., 0., 0., 0., 0.,\n",
       "       0., 0., 0., 0., 0., 0., 0., 0., 0., 0., 0., 0., 0., 0., 0., 0., 0.,\n",
       "       0., 0., 0., 0., 0., 0., 0., 0., 0., 0., 0., 0., 0., 0., 0., 0., 0.,\n",
       "       0., 0., 0., 0., 0., 0., 0., 0., 0., 0., 0., 0., 0., 0., 0., 0., 0.,\n",
       "       0., 0., 0., 0., 0., 0., 0., 0., 0., 0., 0., 0., 0., 0., 0., 0., 0.,\n",
       "       0., 0., 0., 0., 0., 0., 0., 0., 0., 0., 0., 0., 0., 0., 0., 0., 0.,\n",
       "       0., 0., 0., 0., 0., 0., 0., 0., 0., 0., 0., 0., 0., 0., 0., 0., 0.,\n",
       "       0., 0., 0., 0., 0., 0., 0., 0., 0., 0., 0., 0., 0., 0., 0., 0., 0.,\n",
       "       0., 0., 0., 0., 0., 0., 0., 0., 0., 0., 0., 0., 0., 0., 0., 0., 0.,\n",
       "       0., 0., 0., 0., 0., 0., 0., 0., 0., 0., 0., 0., 0., 0., 0., 0., 0.,\n",
       "       0., 0., 0., 0., 0., 0., 0., 0., 0., 0., 0., 0., 0., 0., 0., 0., 0.,\n",
       "       0., 0., 0., 0., 0., 0., 0., 0., 0., 0., 0., 0., 0., 0., 0., 0., 0.,\n",
       "       0., 0., 0., 0., 0., 0., 0., 0., 0., 0., 0., 0., 0., 0., 0., 0., 0.,\n",
       "       0., 0., 0., 0., 0., 0., 0., 0., 0., 0., 0., 0., 0., 0., 0., 0., 0.,\n",
       "       0., 0., 0., 0., 0., 0., 0., 0., 0., 0., 0., 0., 0., 0., 0., 0., 0.,\n",
       "       0., 0., 0., 0., 0., 0., 0., 0., 0., 0., 0., 0., 0., 0., 0., 0., 0.,\n",
       "       0., 0., 0., 0., 0., 0., 0., 0., 0., 0., 0., 0., 0., 0., 0., 0., 0.,\n",
       "       0., 0., 0., 0., 0., 0., 0., 0., 0., 0., 0., 0., 0., 0., 0., 0., 0.,\n",
       "       0., 0., 0., 0., 0., 0., 0., 0., 0., 0., 0., 0., 0., 0., 0., 0., 0.,\n",
       "       0., 0., 0., 0., 0., 0., 0., 0., 0., 0., 0., 0., 0., 0., 0., 0., 0.,\n",
       "       0., 0., 0., 0., 0., 0., 0., 0., 0., 0., 0., 0., 0., 0., 0., 0., 0.,\n",
       "       0., 0., 0., 0., 0., 0., 0., 0., 0., 0., 0., 0., 0., 0., 0., 0., 0.,\n",
       "       0., 0., 0., 0., 0., 0., 0., 0., 0., 0., 0., 0., 0., 0., 0., 0., 0.,\n",
       "       0., 0., 0., 0., 0., 0., 0., 0., 0., 0., 0., 0., 0., 0., 0., 0., 0.,\n",
       "       0., 0., 0., 0., 0., 0., 0., 0., 0., 0., 0., 0., 0., 0., 0., 0., 0.,\n",
       "       0., 0., 0., 0., 0., 0., 0., 0., 0., 0., 0., 0., 0., 0., 0., 0., 0.,\n",
       "       0., 0., 0., 0., 0., 0., 0., 0., 0., 0., 0., 0., 0., 0., 0., 0., 0.,\n",
       "       0., 0., 0., 0., 0., 0., 0., 0., 0., 0., 0., 0., 0., 0., 0., 0., 0.,\n",
       "       0., 0., 0., 0., 0., 0., 0., 0., 0., 0., 0., 0., 0., 0., 0., 0., 0.,\n",
       "       0., 0., 0., 0., 0., 0., 0., 0., 0., 0., 0., 0., 0., 0., 0., 0., 0.,\n",
       "       0., 0., 0., 0., 0., 0., 0., 0., 0., 0., 0., 0., 0., 0., 0., 0., 0.,\n",
       "       0., 0., 0., 0., 0., 0., 0., 0., 0., 0., 0., 0., 0., 0., 0., 0., 0.,\n",
       "       0., 0., 0., 0., 0., 0., 0., 0., 0., 0., 0., 0., 0., 0., 0., 0., 0.,\n",
       "       0., 0., 0., 0., 0., 0., 0., 0., 0., 0., 0., 0., 0., 0., 0., 0., 0.,\n",
       "       0., 0., 0., 0., 0., 0., 0., 0., 0., 0., 0., 0., 0., 0., 0., 0., 0.,\n",
       "       0., 0., 0., 0., 0., 0., 0., 0., 0., 0., 0., 0., 0., 0., 0., 0., 0.,\n",
       "       0., 0., 0., 0., 0., 0., 0., 0., 0., 0., 0., 0., 0., 0., 0., 0., 0.,\n",
       "       0., 0., 0., 0., 0., 0., 0., 0., 0., 0., 0., 0., 0., 0., 0., 0., 0.,\n",
       "       0., 0., 0., 0., 0., 0., 0., 0., 0., 0., 0., 0., 0., 0., 0., 0., 0.,\n",
       "       0., 0., 0., 0., 0., 0., 0., 0., 0., 0., 0., 0., 0., 0., 0., 0., 0.,\n",
       "       0., 0., 0., 0., 0., 0., 0., 0., 0., 0., 0., 0., 0., 0., 0., 0., 0.,\n",
       "       0., 0., 0., 0., 0., 0., 0., 0., 0., 0., 0., 0., 0., 0., 0., 0., 0.,\n",
       "       0., 0., 0., 0., 0., 0., 0., 0., 0., 0., 0., 0., 0., 0., 0., 0., 0.,\n",
       "       0., 0., 0., 0., 0., 0., 0., 0., 0., 0., 0., 0., 0., 0., 0., 0., 0.,\n",
       "       0., 0., 0., 0., 0., 0., 0., 0., 0., 0., 0., 0., 0., 0., 0., 0., 0.,\n",
       "       0.])"
      ]
     },
     "execution_count": 19,
     "metadata": {},
     "output_type": "execute_result"
    }
   ],
   "source": [
    "a-b # all zeroes, lgtm"
   ]
  },
  {
   "cell_type": "markdown",
   "metadata": {},
   "source": [
    "## Crazy chain"
   ]
  },
  {
   "cell_type": "code",
   "execution_count": 20,
   "metadata": {
    "collapsed": true
   },
   "outputs": [],
   "source": [
    "G_three = model_to_graph(model_two, idx=3)"
   ]
  },
  {
   "cell_type": "code",
   "execution_count": 21,
   "metadata": {
    "collapsed": true
   },
   "outputs": [],
   "source": [
    "G_adv = nx.compose(G, G_three)\n",
    "G_adv = fix_layout(G_adv)\n",
    "add_merge_nodes(G_adv)"
   ]
  },
  {
   "cell_type": "code",
   "execution_count": 22,
   "metadata": {},
   "outputs": [
    {
     "data": {
      "image/png": "[encoded data removed]",
      "text/plain": [
       "<IPython.core.display.Image object>"
      ]
     },
     "metadata": {
      "image/png": {
       "unconfined": true
      }
     },
     "output_type": "display_data"
    }
   ],
   "source": [
    "X = to_pydot(G_adv)\n",
    "X.set('rankdir', 'BT')\n",
    "X.set('splines', 'ortho')\n",
    "\n",
    "with open(\"test.dot\", \"w\") as text_file:\n",
    "    print(X.to_string(), file=text_file)\n",
    "    \n",
    "!dot -T png test.dot > test.png  # Bash command\n",
    "\n",
    "from IPython.display import Image, display\n",
    "from IPython.core.display import HTML \n",
    "\n",
    "display(Image('test.png', unconfined=True))"
   ]
  },
  {
   "cell_type": "code",
   "execution_count": 23,
   "metadata": {},
   "outputs": [
    {
     "name": "stdout",
     "output_type": "stream",
     "text": [
      "['d-02', 'd-01', 'd-00', 'f-01', 'd-05', 'f-03', 'f-02', 'M(d-07)', 'd-07', 'd-04']\n",
      "d-02\n",
      "d-01\n",
      "d-00\n",
      "f-01\n",
      "dict_keys(['d-02', 'd-01', 'd-00'])\n",
      "d-05\n",
      "f-03\n",
      "dict_keys(['d-02', 'd-01', 'd-00', 'f-01', 'd-05'])\n",
      "f-02\n",
      "dict_keys(['d-02', 'd-01', 'd-00', 'f-01', 'd-05', 'f-03'])\n",
      "M(d-07)\n",
      "[[7], [7]]\n",
      "d-07\n",
      "d-04\n"
     ]
    },
    {
     "data": {
      "text/plain": [
       "{'d-02': <function __main__.select.<locals>.select(X)>,\n",
       " 'd-01': <function __main__.select.<locals>.select(X)>,\n",
       " 'd-00': <function __main__.select.<locals>.select(X)>,\n",
       " 'f-01': <function morpheus.composition.compose.o.<locals>.sequential_composition(*function_arguments)>,\n",
       " 'd-05': <function morpheus.composition.compose.o.<locals>.sequential_composition(*function_arguments)>,\n",
       " 'f-03': <function morpheus.composition.compose.o.<locals>.sequential_composition(*function_arguments)>,\n",
       " 'f-02': <function morpheus.composition.compose.o.<locals>.sequential_composition(*function_arguments)>,\n",
       " 'M(d-07)': <function morpheus.composition.compose.o.<locals>.sequential_composition(*function_arguments)>,\n",
       " 'd-07': <function morpheus.composition.compose.o.<locals>.sequential_composition(*function_arguments)>,\n",
       " 'd-04': <function morpheus.composition.compose.o.<locals>.sequential_composition(*function_arguments)>}"
      ]
     },
     "execution_count": 23,
     "metadata": {},
     "output_type": "execute_result"
    }
   ],
   "source": [
    "f_adv = convert_graph_to_functions(G_adv)\n",
    "f_adv"
   ]
  },
  {
   "cell_type": "code",
   "execution_count": 28,
   "metadata": {},
   "outputs": [
    {
     "data": {
      "text/plain": [
       "array([-1.50945153, -0.94141726, -1.07336243, -1.50945153, -1.42220159,\n",
       "       -2.55355904, -1.48396813, -1.2143633 , -1.87749991, -1.3467215 ])"
      ]
     },
     "execution_count": 28,
     "metadata": {},
     "output_type": "execute_result"
    }
   ],
   "source": [
    "f_adv['d-04'](data.values)[:10]"
   ]
  },
  {
   "cell_type": "code",
   "execution_count": 26,
   "metadata": {},
   "outputs": [
    {
     "data": {
      "text/html": [
       "<div>\n",
       "<style scoped>\n",
       "    .dataframe tbody tr th:only-of-type {\n",
       "        vertical-align: middle;\n",
       "    }\n",
       "\n",
       "    .dataframe tbody tr th {\n",
       "        vertical-align: top;\n",
       "    }\n",
       "\n",
       "    .dataframe thead th {\n",
       "        text-align: right;\n",
       "    }\n",
       "</style>\n",
       "<table border=\"1\" class=\"dataframe\">\n",
       "  <thead>\n",
       "    <tr style=\"text-align: right;\">\n",
       "      <th></th>\n",
       "      <th>0</th>\n",
       "      <th>1</th>\n",
       "      <th>2</th>\n",
       "      <th>3</th>\n",
       "      <th>4</th>\n",
       "      <th>5</th>\n",
       "      <th>6</th>\n",
       "      <th>y</th>\n",
       "    </tr>\n",
       "  </thead>\n",
       "  <tbody>\n",
       "    <tr>\n",
       "      <th>0</th>\n",
       "      <td>-0.499073</td>\n",
       "      <td>0.355756</td>\n",
       "      <td>-2.067821</td>\n",
       "      <td>1.190195</td>\n",
       "      <td>-1.500605</td>\n",
       "      <td>2.365067</td>\n",
       "      <td>1.144163</td>\n",
       "      <td>0</td>\n",
       "    </tr>\n",
       "    <tr>\n",
       "      <th>1</th>\n",
       "      <td>1.925204</td>\n",
       "      <td>-1.323785</td>\n",
       "      <td>-0.079357</td>\n",
       "      <td>2.555430</td>\n",
       "      <td>-0.889406</td>\n",
       "      <td>-0.995612</td>\n",
       "      <td>1.765216</td>\n",
       "      <td>1</td>\n",
       "    </tr>\n",
       "    <tr>\n",
       "      <th>2</th>\n",
       "      <td>-1.666397</td>\n",
       "      <td>-0.589412</td>\n",
       "      <td>-0.781130</td>\n",
       "      <td>2.252310</td>\n",
       "      <td>1.075427</td>\n",
       "      <td>0.411382</td>\n",
       "      <td>-0.259435</td>\n",
       "      <td>1</td>\n",
       "    </tr>\n",
       "    <tr>\n",
       "      <th>3</th>\n",
       "      <td>-0.146030</td>\n",
       "      <td>0.014408</td>\n",
       "      <td>-1.753408</td>\n",
       "      <td>1.292067</td>\n",
       "      <td>-0.961351</td>\n",
       "      <td>-2.085965</td>\n",
       "      <td>1.843809</td>\n",
       "      <td>0</td>\n",
       "    </tr>\n",
       "    <tr>\n",
       "      <th>4</th>\n",
       "      <td>1.195750</td>\n",
       "      <td>-1.378685</td>\n",
       "      <td>-2.366139</td>\n",
       "      <td>0.293899</td>\n",
       "      <td>0.158766</td>\n",
       "      <td>2.957540</td>\n",
       "      <td>-0.098090</td>\n",
       "      <td>1</td>\n",
       "    </tr>\n",
       "  </tbody>\n",
       "</table>\n",
       "</div>"
      ],
      "text/plain": [
       "          0         1         2         3         4         5         6  y\n",
       "0 -0.499073  0.355756 -2.067821  1.190195 -1.500605  2.365067  1.144163  0\n",
       "1  1.925204 -1.323785 -0.079357  2.555430 -0.889406 -0.995612  1.765216  1\n",
       "2 -1.666397 -0.589412 -0.781130  2.252310  1.075427  0.411382 -0.259435  1\n",
       "3 -0.146030  0.014408 -1.753408  1.292067 -0.961351 -2.085965  1.843809  0\n",
       "4  1.195750 -1.378685 -2.366139  0.293899  0.158766  2.957540 -0.098090  1"
      ]
     },
     "execution_count": 26,
     "metadata": {},
     "output_type": "execute_result"
    }
   ],
   "source": [
    "data.head()"
   ]
  },
  {
   "cell_type": "code",
   "execution_count": 31,
   "metadata": {},
   "outputs": [
    {
     "data": {
      "text/plain": [
       "array([ 0., -1., -1.,  0., -1.,  0.,  1., -1., -1.,  0.,  0.,  1.,  1.,\n",
       "       -1.,  0.,  0.,  0., -1.,  0., -1.,  0.,  0.,  1.,  0.,  1.,  0.,\n",
       "       -1.,  1.,  0.,  0.,  0.,  0., -1.,  1.,  0.,  0.,  0.,  0., -1.,\n",
       "       -1.,  0.,  0.,  0.,  0., -1., -1.,  0., -1., -1.,  0.,  0.,  0.,\n",
       "        0.,  0.,  0., -1.,  0.,  0.,  0.,  1.,  1.,  0., -1., -1.,  0.,\n",
       "        1.,  0.,  0.,  0.,  0.,  0.,  0.,  0., -1.,  0., -1.,  1., -1.,\n",
       "        0.,  0., -1.,  0., -1.,  1.,  0.,  0.,  0., -1.,  0., -1., -1.,\n",
       "        0.,  0.,  1., -1., -1.,  0.,  0., -1.,  0.,  0.,  0., -1.,  0.,\n",
       "        1.,  0.,  0.,  0.,  0.,  0., -1.,  0.,  0.,  0.,  0., -1.,  0.,\n",
       "        1., -1., -1., -1., -1.,  0.,  0.,  0.,  0.,  0.,  0.,  0.,  0.,\n",
       "        0.,  1.,  0.,  1.,  1., -1., -1., -1.,  0., -1., -1.,  0.,  0.,\n",
       "        1., -1.,  1.,  0.,  0.,  0.,  0.,  0., -1.,  1.,  0., -1.,  1.,\n",
       "        0.,  0.,  0., -1.,  1., -1.,  1., -1., -1.,  0.,  0.,  1.,  0.,\n",
       "       -1.,  1., -1.,  0.,  0., -1.,  0., -1., -1., -1., -1.,  0.,  0.,\n",
       "       -1.,  1.,  0.,  0.,  0.,  0., -1., -1.,  0., -1., -1.,  0., -1.,\n",
       "        0.,  0.,  0., -1.,  1., -1.,  0.,  0.,  0.,  0.,  0., -1.,  0.,\n",
       "        1., -1.,  1.,  0.,  0.,  0.,  0., -1.,  0.,  0.,  0., -1.,  1.,\n",
       "        0., -1., -1.,  1.,  1.,  0.,  0.,  0., -1.,  0.,  0., -1.,  0.,\n",
       "        0.,  1.,  1., -1.,  0.,  0.,  0.,  0.,  0.,  0.,  0.,  0.,  0.,\n",
       "        0.,  1., -1.,  0.,  0.,  1.,  0.,  0., -1.,  0.,  0.,  1., -1.,\n",
       "        0.,  0.,  0., -1.,  1.,  0., -1.,  0.,  0., -1.,  0.,  0.,  0.,\n",
       "        0.,  1.,  1.,  0.,  0.,  0., -1.,  1.,  0.,  0.,  0.,  0.,  0.,\n",
       "        0.,  0., -1.,  0.,  1.,  0.,  0.,  0.,  1.,  0., -1., -1.,  1.,\n",
       "       -1., -1., -1.,  0., -1., -1., -1.,  0., -1.,  0., -1., -1.,  0.,\n",
       "        0., -1.,  1.,  1., -1.,  0., -1.,  0.,  0.,  0.,  0.,  0., -1.,\n",
       "        0., -1.,  0.,  0.,  0.,  0.,  0., -1.,  0.,  0., -1.,  1., -1.,\n",
       "        0., -1.,  0.,  0.,  0.,  0.,  1., -1., -1.,  1., -1.,  0.,  0.,\n",
       "        0.,  1.,  0.,  0., -1., -1.,  1., -1.,  0.,  0.,  0.,  1., -1.,\n",
       "       -1.,  0.,  0.,  0.,  0.,  0.,  0.,  0.,  0., -1.,  0.,  1., -1.,\n",
       "        1.,  0., -1.,  0., -1., -1.,  0.,  0.,  0.,  0.,  0.,  0.,  0.,\n",
       "       -1.,  0.,  0.,  0.,  0.,  0.,  0., -1.,  0.,  0.,  0., -1.,  0.,\n",
       "        0.,  0.,  0., -1., -1.,  0.,  0., -1.,  0.,  0., -1.,  0.,  0.,\n",
       "        0.,  0.,  0., -1.,  0.,  0.,  1.,  0., -1.,  0.,  0.,  1.,  1.,\n",
       "        0.,  0.,  0., -1.,  0., -1., -1.,  0.,  0.,  0.,  1., -1.,  0.,\n",
       "        0.,  0.,  0., -1., -1., -1.,  0.,  0.,  1.,  0.,  0.,  0.,  1.,\n",
       "        0.,  0.,  0.,  0., -1.,  0.,  0.,  1., -1.,  0.,  0.,  0., -1.,\n",
       "       -1., -1.,  0.,  0.,  0.,  1.,  0.,  1., -1., -1.,  0., -1.,  1.,\n",
       "        0.,  0., -1.,  0.,  0., -1.,  0.,  0.,  0.,  0.,  0.,  0., -1.,\n",
       "        0.,  0., -1., -1.,  0.,  0.,  1.,  0.,  0.,  0.,  0.,  0.,  1.,\n",
       "       -1.,  0.,  0., -1.,  0.,  0., -1., -1.,  1.,  1., -1.,  1.,  0.,\n",
       "        0.,  0., -1.,  0., -1., -1.,  0.,  0.,  0.,  0.,  0., -1.,  0.,\n",
       "        0.,  0., -1.,  0., -1.,  0., -1.,  0.,  0.,  0., -1., -1.,  0.,\n",
       "        0.,  0.,  1.,  0.,  0., -1.,  0., -1., -1., -1.,  0.,  0.,  0.,\n",
       "        1.,  0.,  0., -1.,  0.,  0., -1., -1.,  0., -1., -1.,  0.,  0.,\n",
       "        0., -1., -1., -1., -1., -1.,  0.,  0.,  0.,  0.,  0., -1.,  0.,\n",
       "        0., -1.,  0., -1., -1., -1., -1., -1.,  0.,  0.,  0., -1., -1.,\n",
       "        0.,  0.,  0.,  0.,  1.,  0., -1., -1.,  0., -1.,  0.,  0.,  1.,\n",
       "        0.,  1.,  0.,  0.,  0.,  0.,  0., -1., -1.,  0.,  0., -1.,  1.,\n",
       "       -1.,  1., -1., -1., -1.,  0., -1.,  0.,  0.,  0.,  0.,  0.,  0.,\n",
       "        0., -1.,  0., -1., -1., -1.,  0.,  0.,  0., -1.,  1.,  0.,  0.,\n",
       "        0.,  0.,  0.,  0.,  0.,  0.,  0.,  0.,  1.,  1.,  0.,  1.,  0.,\n",
       "        1.,  1., -1., -1.,  0.,  1.,  0.,  0.,  0., -1., -1., -1., -1.,\n",
       "        0., -1.,  0.,  0.,  0.,  0.,  0.,  0.,  0.,  0.,  0., -1.,  0.,\n",
       "        1.,  1., -1.,  0.,  0.,  1.,  1.,  0.,  0., -1., -1.,  0.,  0.,\n",
       "       -1., -1.,  0.,  0.,  0.,  0., -1.,  0.,  0., -1.,  0., -1.,  0.,\n",
       "        1.,  0.,  0.,  0.,  0., -1.,  0.,  1.,  0.,  0., -1.,  0.,  0.,\n",
       "       -1., -1., -1.,  0., -1., -1.,  0., -1.,  0., -1.,  0.,  0.,  0.,\n",
       "        0., -1.,  0., -1., -1., -1.,  0., -1.,  0., -1., -1., -1.,  0.,\n",
       "        0., -1.,  0.,  0.,  0.,  0.,  0.,  0.,  0., -1., -1.,  0., -1.,\n",
       "       -1.,  0.,  0.,  0.,  1.,  0.,  0., -1.,  0.,  1.,  1.,  0.,  0.,\n",
       "       -1., -1., -1.,  0., -1., -1., -1.,  0.,  0., -1.,  0., -1., -1.,\n",
       "       -1.,  0., -1., -1.,  0.,  0.,  0.])"
      ]
     },
     "execution_count": 31,
     "metadata": {},
     "output_type": "execute_result"
    }
   ],
   "source": [
    "f_adv['d-07'](data.values) - data.values[:, 7]"
   ]
  }
 ],
 "metadata": {
  "kernelspec": {
   "display_name": "Python [conda env:morpheus]",
   "language": "python",
   "name": "conda-env-morpheus-py"
  },
  "language_info": {
   "codemirror_mode": {
    "name": "ipython",
    "version": 3
   },
   "file_extension": ".py",
   "mimetype": "text/x-python",
   "name": "python",
   "nbconvert_exporter": "python",
   "pygments_lexer": "ipython3",
   "version": "3.6.7"
  },
  "toc": {
   "nav_menu": {},
   "number_sections": true,
   "sideBar": true,
   "skip_h1_title": true,
   "toc_cell": false,
   "toc_position": {},
   "toc_section_display": "block",
   "toc_window_display": false
  }
 },
 "nbformat": 4,
 "nbformat_minor": 2
}
