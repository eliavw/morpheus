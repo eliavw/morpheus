{
 "cells": [
  {
   "cell_type": "markdown",
   "metadata": {},
   "source": [
    "# Prediction Algorithms"
   ]
  },
  {
   "cell_type": "markdown",
   "metadata": {},
   "source": [
    "## Preliminaries"
   ]
  },
  {
   "cell_type": "code",
   "execution_count": 1,
   "metadata": {
    "collapsed": true
   },
   "outputs": [],
   "source": [
    "import os\n",
    "import sys\n",
    "import networkx as nx\n",
    "import numpy as np\n",
    "\n",
    "from functools import reduce\n",
    "from os.path import dirname\n",
    "from networkx.drawing.nx_pydot import to_pydot\n",
    "\n",
    "note_dir = os.getcwd()\n",
    "\n",
    "root_dir = dirname(note_dir)\n",
    "src_dir = os.path.join(root_dir, \"src\")\n",
    "\n",
    "sys.path.append(src_dir)\n",
    "\n",
    "import copy\n",
    "\n",
    "import morpheus\n",
    "from morpheus.utils.encoding import code_to_query\n",
    "from morpheus.algo.selection import base_selection_algorithm\n",
    "from morpheus.tests import (default_chain,\n",
    "                            default_ensemble,\n",
    "                            default_dataset,\n",
    "                            default_m_list_for_mercs,\n",
    "                            random_m_list_for_mercs)\n",
    "\n",
    "from morpheus.graph import (model_to_graph,\n",
    "                            model_graph_traces,\n",
    "                            model_graph_layout, \n",
    "                            convert_positions_to_dot_format,\n",
    "                            add_imputation_nodes,\n",
    "                            add_merge_nodes)\n"
   ]
  },
  {
   "cell_type": "code",
   "execution_count": 2,
   "metadata": {
    "collapsed": true
   },
   "outputs": [],
   "source": [
    "def fix_layout(G):\n",
    "    \n",
    "    for n in G.nodes():\n",
    "        node = G.nodes(data=True)[n]\n",
    "        if node['bipartite'] == 'func':\n",
    "            node['shape'] = \"\\\"square\\\"\"\n",
    "            node['width'] = \"1\"\n",
    "        elif node['bipartite'] == 'data':\n",
    "            node['shape'] = \"\\\"circle\\\"\"\n",
    "        else:\n",
    "            pass\n",
    "    \n",
    "    return G"
   ]
  },
  {
   "cell_type": "markdown",
   "metadata": {},
   "source": [
    "## Collect Basic Building Blocks"
   ]
  },
  {
   "cell_type": "code",
   "execution_count": 3,
   "metadata": {
    "code_folding": [
     6
    ]
   },
   "outputs": [
    {
     "name": "stdout",
     "output_type": "stream",
     "text": [
      "\n",
      "        Learning model with desc ids:    [0, 1, 2, 3, 4, 5, 7]\n",
      "                            targ ids:    [6]\n",
      "        \n",
      "\n",
      "        Learning model with desc ids:    [0, 1, 2, 3, 4, 5, 6]\n",
      "                            targ ids:    [7]\n",
      "        \n",
      "\n",
      "        Learning model with desc ids:    [0, 2, 3, 4, 5, 6, 7]\n",
      "                            targ ids:    [1]\n",
      "        \n",
      "\n",
      "        Learning model with desc ids:    [1, 2, 3, 4, 5, 6, 7]\n",
      "                            targ ids:    [0]\n",
      "        \n",
      "\n",
      "        Learning model with desc ids:    [0, 1, 2, 3, 5, 6, 7]\n",
      "                            targ ids:    [4]\n",
      "        \n",
      "\n",
      "        Learning model with desc ids:    [0, 1, 3, 4, 5, 6, 7]\n",
      "                            targ ids:    [2]\n",
      "        \n",
      "\n",
      "        Learning model with desc ids:    [0, 1, 2, 3, 4, 6, 7]\n",
      "                            targ ids:    [5]\n",
      "        \n",
      "\n",
      "        Learning model with desc ids:    [0, 1, 2, 4, 5, 6, 7]\n",
      "                            targ ids:    [3]\n",
      "        \n"
     ]
    }
   ],
   "source": [
    "data, _ = default_dataset()\n",
    "data = data.values\n",
    "m_list = default_m_list_for_mercs(data)\n",
    "\n",
    "Gs = [model_to_graph(m, idx) for idx, m in enumerate(m_list)]\n",
    "Gs = [fix_layout(g) for g in Gs]\n",
    "G = reduce(nx.compose, Gs)"
   ]
  },
  {
   "cell_type": "markdown",
   "metadata": {},
   "source": [
    "## MI"
   ]
  },
  {
   "cell_type": "code",
   "execution_count": 4,
   "metadata": {
    "collapsed": true
   },
   "outputs": [],
   "source": [
    "def mi_algorithm(g_list, q_code):\n",
    "    \n",
    "    q_desc, q_targ, q_miss = code_to_query(q_code)\n",
    "    \n",
    "    def criterion(g):\n",
    "        outputs = set([g.nodes()[node]['idx'] for node, out_degree in g.out_degree()\n",
    "                       if out_degree == 0\n",
    "                       if g.nodes()[node]['kind']=='data'])\n",
    "        \n",
    "        \n",
    "        return len(set(q_targ).intersection(outputs)) > 0\n",
    "    \n",
    "    g_relevant = [g for g in g_list if criterion(g)]\n",
    "    g_relevant = [copy.deepcopy(g) for g in g_relevant]\n",
    "    \n",
    "    \n",
    "    g_relevant = [add_imputation_nodes(g, q_desc) for g in g_relevant]\n",
    "    \n",
    "    \n",
    "    result = reduce(nx.compose, g_relevant)\n",
    "    \n",
    "    return result"
   ]
  },
  {
   "cell_type": "code",
   "execution_count": 5,
   "metadata": {
    "collapsed": true
   },
   "outputs": [],
   "source": [
    "g_list = Gs\n",
    "q_code = np.array([0,0,0,0,0,-1,1,1])\n",
    "g_res = mi_algorithm(g_list, q_code)"
   ]
  },
  {
   "cell_type": "code",
   "execution_count": 6,
   "metadata": {
    "scrolled": false
   },
   "outputs": [
    {
     "data": {
      "image/png": "[encoded data removed]",
      "text/plain": [
       "<IPython.core.display.Image object>"
      ]
     },
     "metadata": {
      "image/png": {
       "unconfined": true
      }
     },
     "output_type": "display_data"
    }
   ],
   "source": [
    "# Plot\n",
    "X = to_pydot(g_res)\n",
    "X.set('rankdir', 'BT')\n",
    "#X.set('splines', 'ortho')\n",
    "\n",
    "with open(\"tmp/mi.dot\", \"w\") as text_file:\n",
    "    print(X.to_string(), file=text_file)\n",
    "\n",
    "!dot -T png ./tmp/mi.dot > ./tmp/mi.png  # Bash command\n",
    "\n",
    "from IPython.display import Image, display\n",
    "from IPython.core.display import HTML \n",
    "\n",
    "display(Image('tmp/mi.png', unconfined=True))"
   ]
  },
  {
   "cell_type": "markdown",
   "metadata": {},
   "source": [
    "## MA-algorithm"
   ]
  },
  {
   "cell_type": "code",
   "execution_count": 7,
   "metadata": {
    "collapsed": true
   },
   "outputs": [],
   "source": [
    "def ma_algorithm(g_list, q_code, init_threshold=1.0, stepsize=0.1):\n",
    "    \n",
    "    q_desc, q_targ, q_miss = code_to_query(q_code)\n",
    "    \n",
    "    def criterion(g):\n",
    "        inputs = set([g.nodes()[node]['idx']\n",
    "                      for node, in_degree in g.in_degree()\n",
    "                      if in_degree == 0\n",
    "                      if g.nodes()[node]['kind']=='data'])\n",
    "        \n",
    "        outputs = set([g.nodes()[node]['idx']\n",
    "                       for node, out_degree in g.out_degree()\n",
    "                       if out_degree == 0\n",
    "                       if g.nodes()[node]['kind']=='data'])\n",
    "        \n",
    "        yes_no = len(set(q_targ).intersection(outputs)) > 0\n",
    "        \n",
    "        quantifier = len(set(q_desc).intersection(inputs))/len(inputs)\n",
    "        \n",
    "        result = int(yes_no) * quantifier\n",
    "        \n",
    "        msg = \"\"\"\n",
    "        yes_no:       {}\n",
    "        quantifier:   {}\n",
    "        result:       {}\n",
    "        \"\"\".format(yes_no, quantifier, result)\n",
    "        print(msg)\n",
    "        \n",
    "        return result\n",
    "    \n",
    "    \n",
    "    thresholds = np.clip(np.arange(init_threshold, -stepsize, -stepsize), 0, 1)\n",
    "    \n",
    "    for thr in thresholds:\n",
    "        g_relevant = [g for g in g_list if criterion(g) > thr]\n",
    "        if len(g_relevant) > 0:\n",
    "            print('we have found a model at threshold: {}'.format(thr))\n",
    "            break\n",
    "    \n",
    "    g_relevant = [copy.deepcopy(g) for g in g_relevant]\n",
    "    g_relevant = [add_imputation_nodes(g, q_desc) for g in g_relevant]\n",
    "    result = reduce(nx.compose, g_relevant)\n",
    "    \n",
    "    add_merge_nodes(result)\n",
    "    \n",
    "    return result"
   ]
  },
  {
   "cell_type": "code",
   "execution_count": 8,
   "metadata": {
    "scrolled": false
   },
   "outputs": [
    {
     "name": "stdout",
     "output_type": "stream",
     "text": [
      "\n",
      "        Learning model with desc ids:    [0, 1, 3, 4]\n",
      "                            targ ids:    [7]\n",
      "        \n",
      "\n",
      "        Learning model with desc ids:    [0, 1, 2, 3, 4, 5, 7]\n",
      "                            targ ids:    [6]\n",
      "        \n",
      "\n",
      "        Learning model with desc ids:    [2, 3, 4, 6]\n",
      "                            targ ids:    [5]\n",
      "        \n",
      "\n",
      "        Learning model with desc ids:    [2, 3, 4, 5, 6, 7]\n",
      "                            targ ids:    [1]\n",
      "        \n",
      "\n",
      "        Learning model with desc ids:    [1, 2, 3, 5, 6, 7]\n",
      "                            targ ids:    [4]\n",
      "        \n",
      "\n",
      "        Learning model with desc ids:    [4, 5, 7]\n",
      "                            targ ids:    [0]\n",
      "        \n",
      "\n",
      "        Learning model with desc ids:    [0, 1, 3, 4, 5]\n",
      "                            targ ids:    [2]\n",
      "        \n",
      "\n",
      "        Learning model with desc ids:    [0, 1, 2, 4, 5, 7]\n",
      "                            targ ids:    [3]\n",
      "        \n",
      "\n",
      "        Learning model with desc ids:    [1, 3, 4]\n",
      "                            targ ids:    [6]\n",
      "        \n",
      "\n",
      "        Learning model with desc ids:    [1, 3, 4, 5, 6, 7]\n",
      "                            targ ids:    [0]\n",
      "        \n",
      "\n",
      "        Learning model with desc ids:    [0, 1, 5, 6, 7]\n",
      "                            targ ids:    [3]\n",
      "        \n",
      "\n",
      "        Learning model with desc ids:    [1, 2, 5, 6]\n",
      "                            targ ids:    [7]\n",
      "        \n",
      "\n",
      "        Learning model with desc ids:    [0, 1, 2, 3, 4, 6]\n",
      "                            targ ids:    [5]\n",
      "        \n",
      "\n",
      "        Learning model with desc ids:    [0, 2, 4, 5, 7]\n",
      "                            targ ids:    [1]\n",
      "        \n",
      "\n",
      "        Learning model with desc ids:    [0, 1, 2, 3, 5, 7]\n",
      "                            targ ids:    [4]\n",
      "        \n",
      "\n",
      "        Learning model with desc ids:    [0, 1, 3, 4, 5, 7]\n",
      "                            targ ids:    [2]\n",
      "        \n"
     ]
    }
   ],
   "source": [
    "m_list = random_m_list_for_mercs(data)\n",
    "m_list += random_m_list_for_mercs(data)\n",
    "\n",
    "Gs = [model_to_graph(m, idx) for idx, m in enumerate(m_list)]\n",
    "Gs = [fix_layout(g) for g in Gs]"
   ]
  },
  {
   "cell_type": "code",
   "execution_count": 9,
   "metadata": {
    "scrolled": true
   },
   "outputs": [
    {
     "name": "stdout",
     "output_type": "stream",
     "text": [
      "\n",
      "        yes_no:       False\n",
      "        quantifier:   0.75\n",
      "        result:       0.0\n",
      "        \n",
      "\n",
      "        yes_no:       True\n",
      "        quantifier:   0.7142857142857143\n",
      "        result:       0.7142857142857143\n",
      "        \n",
      "\n",
      "        yes_no:       False\n",
      "        quantifier:   0.75\n",
      "        result:       0.0\n",
      "        \n",
      "\n",
      "        yes_no:       False\n",
      "        quantifier:   0.6666666666666666\n",
      "        result:       0.0\n",
      "        \n",
      "\n",
      "        yes_no:       False\n",
      "        quantifier:   0.6666666666666666\n",
      "        result:       0.0\n",
      "        \n",
      "\n",
      "        yes_no:       False\n",
      "        quantifier:   0.6666666666666666\n",
      "        result:       0.0\n",
      "        \n",
      "\n",
      "        yes_no:       False\n",
      "        quantifier:   0.6\n",
      "        result:       0.0\n",
      "        \n",
      "\n",
      "        yes_no:       False\n",
      "        quantifier:   0.6666666666666666\n",
      "        result:       0.0\n",
      "        \n",
      "\n",
      "        yes_no:       True\n",
      "        quantifier:   1.0\n",
      "        result:       1.0\n",
      "        \n",
      "\n",
      "        yes_no:       False\n",
      "        quantifier:   0.6666666666666666\n",
      "        result:       0.0\n",
      "        \n",
      "\n",
      "        yes_no:       False\n",
      "        quantifier:   0.4\n",
      "        result:       0.0\n",
      "        \n",
      "\n",
      "        yes_no:       False\n",
      "        quantifier:   0.5\n",
      "        result:       0.0\n",
      "        \n",
      "\n",
      "        yes_no:       False\n",
      "        quantifier:   0.6666666666666666\n",
      "        result:       0.0\n",
      "        \n",
      "\n",
      "        yes_no:       False\n",
      "        quantifier:   0.6\n",
      "        result:       0.0\n",
      "        \n",
      "\n",
      "        yes_no:       False\n",
      "        quantifier:   0.6666666666666666\n",
      "        result:       0.0\n",
      "        \n",
      "\n",
      "        yes_no:       False\n",
      "        quantifier:   0.6666666666666666\n",
      "        result:       0.0\n",
      "        \n",
      "\n",
      "        yes_no:       False\n",
      "        quantifier:   0.75\n",
      "        result:       0.0\n",
      "        \n",
      "\n",
      "        yes_no:       True\n",
      "        quantifier:   0.7142857142857143\n",
      "        result:       0.7142857142857143\n",
      "        \n",
      "\n",
      "        yes_no:       False\n",
      "        quantifier:   0.75\n",
      "        result:       0.0\n",
      "        \n",
      "\n",
      "        yes_no:       False\n",
      "        quantifier:   0.6666666666666666\n",
      "        result:       0.0\n",
      "        \n",
      "\n",
      "        yes_no:       False\n",
      "        quantifier:   0.6666666666666666\n",
      "        result:       0.0\n",
      "        \n",
      "\n",
      "        yes_no:       False\n",
      "        quantifier:   0.6666666666666666\n",
      "        result:       0.0\n",
      "        \n",
      "\n",
      "        yes_no:       False\n",
      "        quantifier:   0.6\n",
      "        result:       0.0\n",
      "        \n",
      "\n",
      "        yes_no:       False\n",
      "        quantifier:   0.6666666666666666\n",
      "        result:       0.0\n",
      "        \n",
      "\n",
      "        yes_no:       True\n",
      "        quantifier:   1.0\n",
      "        result:       1.0\n",
      "        \n",
      "\n",
      "        yes_no:       False\n",
      "        quantifier:   0.6666666666666666\n",
      "        result:       0.0\n",
      "        \n",
      "\n",
      "        yes_no:       False\n",
      "        quantifier:   0.4\n",
      "        result:       0.0\n",
      "        \n",
      "\n",
      "        yes_no:       False\n",
      "        quantifier:   0.5\n",
      "        result:       0.0\n",
      "        \n",
      "\n",
      "        yes_no:       False\n",
      "        quantifier:   0.6666666666666666\n",
      "        result:       0.0\n",
      "        \n",
      "\n",
      "        yes_no:       False\n",
      "        quantifier:   0.6\n",
      "        result:       0.0\n",
      "        \n",
      "\n",
      "        yes_no:       False\n",
      "        quantifier:   0.6666666666666666\n",
      "        result:       0.0\n",
      "        \n",
      "\n",
      "        yes_no:       False\n",
      "        quantifier:   0.6666666666666666\n",
      "        result:       0.0\n",
      "        \n",
      "we have found a model at threshold: 0.9\n"
     ]
    }
   ],
   "source": [
    "q_code = np.array([-1,0,0,0,0,-1,1,0])\n",
    "g_res = ma_algorithm(Gs, q_code, init_threshold = 1)"
   ]
  },
  {
   "cell_type": "code",
   "execution_count": 10,
   "metadata": {},
   "outputs": [
    {
     "data": {
      "image/png": "[encoded data removed]",
      "text/plain": [
       "<IPython.core.display.Image object>"
      ]
     },
     "metadata": {
      "image/png": {
       "unconfined": true
      }
     },
     "output_type": "display_data"
    }
   ],
   "source": [
    "# Plot\n",
    "X = to_pydot(g_res)\n",
    "X.set('rankdir', 'BT')\n",
    "#X.set('splines', 'ortho')\n",
    "\n",
    "with open(\"tmp/test.dot\", \"w\") as text_file:\n",
    "    print(X.to_string(), file=text_file)\n",
    "\n",
    "!dot -T png ./tmp/test.dot > ./tmp/test.png  # Bash command\n",
    "\n",
    "from IPython.display import Image, display\n",
    "from IPython.core.display import HTML \n",
    "\n",
    "display(Image('tmp/test.png', unconfined=True))"
   ]
  },
  {
   "cell_type": "markdown",
   "metadata": {},
   "source": [
    "## MRAI"
   ]
  },
  {
   "cell_type": "code",
   "execution_count": 11,
   "metadata": {
    "collapsed": true
   },
   "outputs": [],
   "source": [
    "def mrai_algorithm(g_list, q_code, init_threshold=1.0, stepsize=0.1):\n",
    "    \n",
    "    q_desc, q_targ, q_miss = code_to_query(q_code)\n",
    "    \n",
    "    def criterion(g):        \n",
    "        outputs = set([g.nodes()[node]['idx']\n",
    "                       for node, out_degree in g.out_degree()\n",
    "                       if out_degree == 0\n",
    "                       if g.nodes()[node]['kind']=='data'])\n",
    "        \n",
    "        yes_no = len(set(q_targ).intersection(outputs)) > 0\n",
    "        \n",
    "        feature_importances_available = [g.nodes()[node]['fi']\n",
    "                                         for node, in_degree in g.in_degree()\n",
    "                                         if in_degree == 0\n",
    "                                         if g.nodes()[node]['kind']=='data'\n",
    "                                         if g.nodes()[node]['idx'] in q_desc]\n",
    "        \n",
    "        quantifier = np.sum(feature_importances_available)\n",
    "        \n",
    "        result = int(yes_no) * quantifier\n",
    "        \n",
    "        msg = \"\"\"\n",
    "        yes_no:       {}\n",
    "        quantifier:   {}\n",
    "        result:       {}\n",
    "        \"\"\".format(yes_no, quantifier, result)\n",
    "        print(msg)\n",
    "        \n",
    "        return result\n",
    "    \n",
    "    \n",
    "    thresholds = np.clip(np.arange(init_threshold, -stepsize, -stepsize), 0, 1)\n",
    "    \n",
    "    for thr in thresholds:\n",
    "        g_relevant = [g for g in g_list if criterion(g) > thr]\n",
    "        if len(g_relevant) > 0:\n",
    "            print('we have found a model at threshold: {}'.format(thr))\n",
    "            break\n",
    "    \n",
    "    g_relevant = [copy.deepcopy(g) for g in g_relevant]\n",
    "    g_relevant = [add_imputation_nodes(g, q_desc) for g in g_relevant]\n",
    "    result = reduce(nx.compose, g_relevant)\n",
    "    \n",
    "    add_merge_nodes(result)\n",
    "    \n",
    "    return result"
   ]
  },
  {
   "cell_type": "code",
   "execution_count": 12,
   "metadata": {
    "scrolled": true
   },
   "outputs": [
    {
     "name": "stdout",
     "output_type": "stream",
     "text": [
      "\n",
      "        yes_no:       False\n",
      "        quantifier:   0.8550067982503414\n",
      "        result:       0.0\n",
      "        \n",
      "\n",
      "        yes_no:       True\n",
      "        quantifier:   0.7798300305533896\n",
      "        result:       0.7798300305533896\n",
      "        \n",
      "\n",
      "        yes_no:       False\n",
      "        quantifier:   0.7478153728453558\n",
      "        result:       0.0\n",
      "        \n",
      "\n",
      "        yes_no:       False\n",
      "        quantifier:   0.8486196308039193\n",
      "        result:       0.0\n",
      "        \n",
      "\n",
      "        yes_no:       False\n",
      "        quantifier:   0.6949150786064824\n",
      "        result:       0.0\n",
      "        \n",
      "\n",
      "        yes_no:       False\n",
      "        quantifier:   0.6871066627549756\n",
      "        result:       0.0\n",
      "        \n",
      "\n",
      "        yes_no:       False\n",
      "        quantifier:   0.5652741769377216\n",
      "        result:       0.0\n",
      "        \n",
      "\n",
      "        yes_no:       False\n",
      "        quantifier:   0.7004817622380914\n",
      "        result:       0.0\n",
      "        \n",
      "\n",
      "        yes_no:       True\n",
      "        quantifier:   0.9999999999999999\n",
      "        result:       0.9999999999999999\n",
      "        \n",
      "\n",
      "        yes_no:       False\n",
      "        quantifier:   0.8369447271026637\n",
      "        result:       0.0\n",
      "        \n",
      "\n",
      "        yes_no:       False\n",
      "        quantifier:   0.38324010466702124\n",
      "        result:       0.0\n",
      "        \n",
      "\n",
      "        yes_no:       False\n",
      "        quantifier:   0.7463951050366089\n",
      "        result:       0.0\n",
      "        \n",
      "\n",
      "        yes_no:       False\n",
      "        quantifier:   0.7736389809374293\n",
      "        result:       0.0\n",
      "        \n",
      "\n",
      "        yes_no:       False\n",
      "        quantifier:   0.6119377807168382\n",
      "        result:       0.0\n",
      "        \n",
      "\n",
      "        yes_no:       False\n",
      "        quantifier:   0.5984250554810608\n",
      "        result:       0.0\n",
      "        \n",
      "\n",
      "        yes_no:       False\n",
      "        quantifier:   0.5901828023588495\n",
      "        result:       0.0\n",
      "        \n",
      "\n",
      "        yes_no:       False\n",
      "        quantifier:   0.8550067982503414\n",
      "        result:       0.0\n",
      "        \n",
      "\n",
      "        yes_no:       True\n",
      "        quantifier:   0.7798300305533896\n",
      "        result:       0.7798300305533896\n",
      "        \n",
      "\n",
      "        yes_no:       False\n",
      "        quantifier:   0.7478153728453558\n",
      "        result:       0.0\n",
      "        \n",
      "\n",
      "        yes_no:       False\n",
      "        quantifier:   0.8486196308039193\n",
      "        result:       0.0\n",
      "        \n",
      "\n",
      "        yes_no:       False\n",
      "        quantifier:   0.6949150786064824\n",
      "        result:       0.0\n",
      "        \n",
      "\n",
      "        yes_no:       False\n",
      "        quantifier:   0.6871066627549756\n",
      "        result:       0.0\n",
      "        \n",
      "\n",
      "        yes_no:       False\n",
      "        quantifier:   0.5652741769377216\n",
      "        result:       0.0\n",
      "        \n",
      "\n",
      "        yes_no:       False\n",
      "        quantifier:   0.7004817622380914\n",
      "        result:       0.0\n",
      "        \n",
      "\n",
      "        yes_no:       True\n",
      "        quantifier:   0.9999999999999999\n",
      "        result:       0.9999999999999999\n",
      "        \n",
      "\n",
      "        yes_no:       False\n",
      "        quantifier:   0.8369447271026637\n",
      "        result:       0.0\n",
      "        \n",
      "\n",
      "        yes_no:       False\n",
      "        quantifier:   0.38324010466702124\n",
      "        result:       0.0\n",
      "        \n",
      "\n",
      "        yes_no:       False\n",
      "        quantifier:   0.7463951050366089\n",
      "        result:       0.0\n",
      "        \n",
      "\n",
      "        yes_no:       False\n",
      "        quantifier:   0.7736389809374293\n",
      "        result:       0.0\n",
      "        \n",
      "\n",
      "        yes_no:       False\n",
      "        quantifier:   0.6119377807168382\n",
      "        result:       0.0\n",
      "        \n",
      "\n",
      "        yes_no:       False\n",
      "        quantifier:   0.5984250554810608\n",
      "        result:       0.0\n",
      "        \n",
      "\n",
      "        yes_no:       False\n",
      "        quantifier:   0.5901828023588495\n",
      "        result:       0.0\n",
      "        \n",
      "we have found a model at threshold: 0.99\n"
     ]
    }
   ],
   "source": [
    "q_code = np.array([-1,0,0,0,0,-1,1,0])\n",
    "g_res = mrai_algorithm(Gs, q_code, init_threshold = 1, stepsize=0.01)"
   ]
  },
  {
   "cell_type": "code",
   "execution_count": 13,
   "metadata": {},
   "outputs": [
    {
     "data": {
      "image/png": "[encoded data removed]",
      "text/plain": [
       "<IPython.core.display.Image object>"
      ]
     },
     "metadata": {
      "image/png": {
       "unconfined": true
      }
     },
     "output_type": "display_data"
    }
   ],
   "source": [
    "for e in g_res.edges():\n",
    "    g_res.edges()[e]['label'] = \"{0:.2f}\".format(g_res.edges()[e].get('fi', 0))\n",
    "\n",
    "# Plot\n",
    "X = to_pydot(g_res)\n",
    "X.set('rankdir', 'BT')\n",
    "#X.set('splines', 'ortho')\n",
    "\n",
    "with open(\"tmp/test.dot\", \"w\") as text_file:\n",
    "    print(X.to_string(), file=text_file)\n",
    "\n",
    "!dot -T png ./tmp/test.dot > ./tmp/test.png  # Bash command\n",
    "\n",
    "from IPython.display import Image, display\n",
    "from IPython.core.display import HTML \n",
    "\n",
    "display(Image('tmp/test.png', unconfined=True))"
   ]
  },
  {
   "cell_type": "code",
   "execution_count": 14,
   "metadata": {},
   "outputs": [
    {
     "data": {
      "text/plain": [
       "{'bipartite': 'data',\n",
       " 'kind': 'data',\n",
       " 'idx': 5,\n",
       " 'tgt': [5],\n",
       " 'fi': 0.3180332246079355,\n",
       " 'shape': '\"circle\"'}"
      ]
     },
     "execution_count": 14,
     "metadata": {},
     "output_type": "execute_result"
    }
   ],
   "source": [
    "g_extra = Gs[15].copy()\n",
    "g_extra.nodes()['d-05']['fi'] = g_extra.nodes()['d-05']['fi'] - 0.2\n",
    "g_extra.nodes()['d-03']['fi'] = g_extra.nodes()['d-03']['fi'] + 0.2\n",
    "\n",
    "Gs[15].nodes()['d-05']"
   ]
  },
  {
   "cell_type": "code",
   "execution_count": 15,
   "metadata": {},
   "outputs": [
    {
     "ename": "AttributeError",
     "evalue": "'dict' object has no attribute 'rename'",
     "output_type": "error",
     "traceback": [
      "\u001b[0;31m---------------------------------------------------------------------------\u001b[0m",
      "\u001b[0;31mAttributeError\u001b[0m                            Traceback (most recent call last)",
      "\u001b[0;32m<ipython-input-15-396554c24c88>\u001b[0m in \u001b[0;36m<module>\u001b[0;34m\u001b[0m\n\u001b[0;32m----> 1\u001b[0;31m \u001b[0mg_extra\u001b[0m\u001b[0;34m.\u001b[0m\u001b[0mnodes\u001b[0m\u001b[0;34m(\u001b[0m\u001b[0;34m)\u001b[0m\u001b[0;34m[\u001b[0m\u001b[0;34m'f-15'\u001b[0m\u001b[0;34m]\u001b[0m\u001b[0;34m.\u001b[0m\u001b[0mrename\u001b[0m\u001b[0;34m(\u001b[0m\u001b[0;34m'x'\u001b[0m\u001b[0;34m)\u001b[0m\u001b[0;34m\u001b[0m\u001b[0;34m\u001b[0m\u001b[0m\n\u001b[0m",
      "\u001b[0;31mAttributeError\u001b[0m: 'dict' object has no attribute 'rename'"
     ]
    }
   ],
   "source": [
    "g_extra.nodes()['f-15'].rename('x')"
   ]
  },
  {
   "cell_type": "code",
   "execution_count": null,
   "metadata": {},
   "outputs": [],
   "source": [
    "g_extra.nodes()['d-05']"
   ]
  },
  {
   "cell_type": "code",
   "execution_count": null,
   "metadata": {
    "collapsed": true
   },
   "outputs": [],
   "source": [
    "Gs.append(g_extra)"
   ]
  },
  {
   "cell_type": "code",
   "execution_count": null,
   "metadata": {
    "collapsed": true
   },
   "outputs": [],
   "source": []
  },
  {
   "cell_type": "code",
   "execution_count": null,
   "metadata": {
    "collapsed": true
   },
   "outputs": [],
   "source": []
  },
  {
   "cell_type": "code",
   "execution_count": null,
   "metadata": {
    "collapsed": true
   },
   "outputs": [],
   "source": []
  },
  {
   "cell_type": "code",
   "execution_count": null,
   "metadata": {
    "collapsed": true
   },
   "outputs": [],
   "source": []
  }
 ],
 "metadata": {
  "kernelspec": {
   "display_name": "Python [conda env:morpheus]",
   "language": "python",
   "name": "conda-env-morpheus-py"
  },
  "language_info": {
   "codemirror_mode": {
    "name": "ipython",
    "version": 3
   },
   "file_extension": ".py",
   "mimetype": "text/x-python",
   "name": "python",
   "nbconvert_exporter": "python",
   "pygments_lexer": "ipython3",
   "version": "3.6.7"
  },
  "toc": {
   "nav_menu": {},
   "number_sections": true,
   "sideBar": true,
   "skip_h1_title": true,
   "toc_cell": false,
   "toc_position": {},
   "toc_section_display": "block",
   "toc_window_display": false
  }
 },
 "nbformat": 4,
 "nbformat_minor": 2
}
