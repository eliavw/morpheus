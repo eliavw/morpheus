{
 "cells": [
  {
   "cell_type": "markdown",
   "metadata": {},
   "source": [
    "# Convert Chain to Function Automatically."
   ]
  },
  {
   "cell_type": "markdown",
   "metadata": {},
   "source": [
    "## Preliminaries"
   ]
  },
  {
   "cell_type": "markdown",
   "metadata": {},
   "source": [
    "### Imports"
   ]
  },
  {
   "cell_type": "code",
   "execution_count": 1,
   "metadata": {
    "collapsed": true
   },
   "outputs": [],
   "source": [
    "import os\n",
    "import pandas as pd\n",
    "import sys\n",
    "import networkx as nx\n",
    "\n",
    "from functools import reduce\n",
    "from os.path import dirname\n",
    "from networkx.drawing.nx_pydot import to_pydot\n",
    "\n",
    "note_dir = os.getcwd()\n",
    "\n",
    "root_dir = dirname(note_dir)\n",
    "src_dir = os.path.join(root_dir, \"src\")\n",
    "\n",
    "sys.path.append(src_dir)\n",
    "\n",
    "import morpheus\n",
    "from morpheus.core import compose\n",
    "from morpheus.tests import default_chain, default_ensemble, default_dataset\n",
    "from morpheus.graph import (model_to_graph,\n",
    "                            model_graph_traces,\n",
    "                            model_graph_layout, \n",
    "                            convert_positions_to_dot_format,\n",
    "                           add_merge_nodes)"
   ]
  },
  {
   "cell_type": "code",
   "execution_count": 2,
   "metadata": {
    "collapsed": true
   },
   "outputs": [],
   "source": [
    "from functools import partial"
   ]
  },
  {
   "cell_type": "code",
   "execution_count": 3,
   "metadata": {
    "collapsed": true
   },
   "outputs": [],
   "source": [
    "# In Greek to avoid nameclashes\n",
    "ω = compose.o\n",
    "χ = compose.x"
   ]
  },
  {
   "cell_type": "markdown",
   "metadata": {},
   "source": [
    "### Functions"
   ]
  },
  {
   "cell_type": "code",
   "execution_count": 4,
   "metadata": {
    "collapsed": true
   },
   "outputs": [],
   "source": [
    "def fix_layout(G):\n",
    "    \n",
    "    for n in G.nodes():\n",
    "        node = G.nodes(data=True)[n]\n",
    "        if node['bipartite'] == 'func':\n",
    "            node['shape'] = \"\\\"square\\\"\"\n",
    "            node['width'] = \"1\"\n",
    "        elif node['bipartite'] == 'data':\n",
    "            node['shape'] = \"\\\"circle\\\"\"\n",
    "        else:\n",
    "            pass\n",
    "    \n",
    "    return G"
   ]
  },
  {
   "cell_type": "code",
   "execution_count": 5,
   "metadata": {
    "collapsed": true
   },
   "outputs": [],
   "source": [
    "import numpy as np\n",
    "\n",
    "def select(idx):\n",
    "    \n",
    "    def select(X):\n",
    "        if len(X.shape) > 1:\n",
    "            return X[:, idx]\n",
    "        elif len(X.shape) == 1:\n",
    "            assert idx == 0\n",
    "            return X\n",
    "    return select"
   ]
  },
  {
   "cell_type": "code",
   "execution_count": 6,
   "metadata": {
    "collapsed": true
   },
   "outputs": [],
   "source": [
    "def convert_graph_to_functions(G):\n",
    "    # Convert the graph to its functions\n",
    "    sorted_list = list(nx.topological_sort(G))\n",
    "    # print(sorted_list)\n",
    "    functions = {}\n",
    "    for node_name in sorted_list:\n",
    "        node = G.nodes(data=True)[node_name]\n",
    "        #print(node_name)\n",
    "        if node.get('kind', None) == 'data': \n",
    "            if len(nx.ancestors(G, node_name)) == 0:\n",
    "                functions[node_name] = select(node['idx'])\n",
    "            else:\n",
    "\n",
    "                # This is pretty much identical to what happens in the merge node\n",
    "                previous_node = [t[0] for t in G.in_edges(node_name)][0] # I know it is just one\n",
    "                previous_t_idx = G.nodes()[previous_node]['tgt'] \n",
    "\n",
    "                relevant_idx = previous_t_idx.index(node['idx'])\n",
    "\n",
    "                functions[node_name] = ω(select(relevant_idx), functions[previous_node])\n",
    "\n",
    "\n",
    "        elif node.get('kind', None) == 'model':\n",
    "\n",
    "            previous_nodes = [t[0] for t in G.in_edges(node_name)]\n",
    "\n",
    "            #print(functions.keys())\n",
    "            inputs = [functions[n] for n in previous_nodes]\n",
    "            inputs = ω(np.transpose, χ(*inputs, return_type=np.array))\n",
    "            f = node['function']\n",
    "            functions[node_name] = ω(f, inputs)\n",
    "\n",
    "        elif node.get('kind', None) == 'merge':\n",
    "            merge_idx = node['idx']\n",
    "            previous_nodes = [t[0] for t in G.in_edges(node_name)]\n",
    "            previous_t_idx = [G.nodes()[n]['tgt'] for n in previous_nodes]\n",
    "            #print(previous_t_idx)\n",
    "            inputs = [(functions[n],t) for n, t in zip(previous_nodes, previous_t_idx)]\n",
    "\n",
    "            inputs = [ω(select(t_idx.index(merge_idx)), f) for f, t_idx in inputs]\n",
    "            inputs = ω(np.transpose, χ(*inputs, return_type=np.array))\n",
    "\n",
    "            f = partial(np.mean, axis=1)\n",
    "            functions[node_name] = ω(f, inputs)\n",
    "    return functions"
   ]
  },
  {
   "cell_type": "code",
   "execution_count": 26,
   "metadata": {
    "collapsed": true
   },
   "outputs": [],
   "source": [
    "def prune(g, tgt_nodes=None):\n",
    "    \n",
    "    if tgt_nodes is None:\n",
    "        tgt_nodes = [n for n, out_degree in g.out_degree()\n",
    "                     if out_degree == 0\n",
    "                     if g.nodes()[n]['kind'] == 'data']\n",
    "        print(tgt_nodes)\n",
    "    else:\n",
    "        assert isinstance(tgt_nodes, list)\n",
    "        \n",
    "    ancestors = [nx.ancestors(g, source=n) for n in tgt_nodes]\n",
    "    ancestors = reduce(set.union, ancestors)\n",
    "    \n",
    "    \n",
    "    \n",
    "    nodes_to_remove = [n for n in g.nodes()\n",
    "                       if n not in ancestors]\n",
    "    for n in nodes_to_remove:\n",
    "        g.remove_node(n)\n",
    "    \n",
    "    return g"
   ]
  },
  {
   "cell_type": "code",
   "execution_count": 8,
   "metadata": {
    "collapsed": true
   },
   "outputs": [],
   "source": [
    "def get_ids(g, kind='desc'):\n",
    "    \n",
    "    if kind in {'s', 'src', 'source', 'd', 'desc', 'descriptive'}:\n",
    "        r = [g.nodes()[n]['idx'] for n, in_degree in g.in_degree\n",
    "             if in_degree == 0\n",
    "             if g.nodes()[n]['kind'] == 'data']\n",
    "        \n",
    "    elif kind in {'t', 'tgt', 'targ', 'target'}:\n",
    "        r = [g.nodes()[n]['idx'] for n, in_degree in g.out_degree\n",
    "             if out_degree == 0\n",
    "             if g.nodes()[n]['kind'] == 'data']\n",
    "    else:\n",
    "        msg = \"\"\"\n",
    "        Did not recognize kind:   {}\n",
    "        \"\"\".format(kind)\n",
    "        raise ValueError(msg)\n",
    "    \n",
    "    return set(r)"
   ]
  },
  {
   "cell_type": "markdown",
   "metadata": {},
   "source": [
    "### Ensemble"
   ]
  },
  {
   "cell_type": "code",
   "execution_count": 9,
   "metadata": {},
   "outputs": [
    {
     "name": "stdout",
     "output_type": "stream",
     "text": [
      "\n",
      "        Learning model with desc ids:    [0, 1, 2]\n",
      "                            targ ids:    [4, 5]\n",
      "        \n",
      "\n",
      "        Learning model with desc ids:    [1, 2, 5]\n",
      "                            targ ids:    [7]\n",
      "        \n",
      "\n",
      "            Trying to add a model to end of the chain.\n",
      "            \n",
      "            Current chain targ_ids:     [4. 5.]\n",
      "            New estimator desc_ids:     [1, 2, 5]\n",
      "            \n",
      "\n",
      "\n",
      "            Connecting attributes:  [5.]\n",
      "            \n",
      "\n"
     ]
    }
   ],
   "source": [
    "data, _ = default_dataset(random_state=16)\n",
    "c = default_chain(random_state=16)"
   ]
  },
  {
   "cell_type": "code",
   "execution_count": 10,
   "metadata": {},
   "outputs": [
    {
     "data": {
      "text/plain": [
       "(800, 8)"
      ]
     },
     "execution_count": 10,
     "metadata": {},
     "output_type": "execute_result"
    }
   ],
   "source": [
    "data.values.shape"
   ]
  },
  {
   "cell_type": "code",
   "execution_count": 11,
   "metadata": {},
   "outputs": [
    {
     "name": "stdout",
     "output_type": "stream",
     "text": [
      "\n",
      "        # Main\n",
      "        Descriptive attributes:     [0. 1. 2.]\n",
      "        Target attributes:          [4. 7.]\n",
      "\n",
      "        ## On types (mostly nominals)\n",
      "        Target attribute types:                     ['numeric', 'nominal']\n",
      "        N_classes of nominal target attributes:     [2]\n",
      "        Classes of nominal target attributes:       [array([0., 1.])]\n",
      "\n",
      "        ## Weights\n",
      "        Total weights of target attributes:         [1. 1.]\n",
      "\n",
      "         \n",
      "        ## Estimators\n",
      "        Estimators used:        ['RandomForestRegressor', 'RandomForestClassifier']\n",
      "        N_estimators:           2\n",
      "        \n"
     ]
    }
   ],
   "source": [
    "c.pretty_print()"
   ]
  },
  {
   "cell_type": "markdown",
   "metadata": {},
   "source": [
    "## Build basic chain"
   ]
  },
  {
   "cell_type": "code",
   "execution_count": 12,
   "metadata": {
    "collapsed": true
   },
   "outputs": [],
   "source": [
    "G_one = model_to_graph(c.estimators_[0], idx=1)\n",
    "G_two = model_to_graph(c.estimators_[1], idx=2)\n",
    "\n",
    "G = nx.compose(G_one, G_two)\n",
    "G = fix_layout(G)"
   ]
  },
  {
   "cell_type": "code",
   "execution_count": 13,
   "metadata": {},
   "outputs": [
    {
     "data": {
      "image/png": "[encoded data removed]",
      "text/plain": [
       "<IPython.core.display.Image object>"
      ]
     },
     "metadata": {
      "image/png": {
       "unconfined": true
      }
     },
     "output_type": "display_data"
    }
   ],
   "source": [
    "# plot\n",
    "X = to_pydot(G)\n",
    "X.set('rankdir', 'BT')\n",
    "X.set('splines', 'ortho')\n",
    "\n",
    "with open(\"tmp/test.dot\", \"w\") as text_file:\n",
    "    print(X.to_string(), file=text_file)\n",
    "    \n",
    "!dot -T png tmp/test.dot > tmp/test.png  # Bash command\n",
    "\n",
    "from IPython.display import Image, display\n",
    "from IPython.core.display import HTML \n",
    "\n",
    "display(Image('tmp/test.png', unconfined=True))"
   ]
  },
  {
   "cell_type": "code",
   "execution_count": 14,
   "metadata": {},
   "outputs": [
    {
     "data": {
      "text/plain": [
       "{'d-02': <function __main__.select.<locals>.select(X)>,\n",
       " 'd-01': <function __main__.select.<locals>.select(X)>,\n",
       " 'd-00': <function __main__.select.<locals>.select(X)>,\n",
       " 'f-01': <function morpheus.core.compose.o.<locals>.sequential_composition(*function_arguments)>,\n",
       " 'd-05': <function morpheus.core.compose.o.<locals>.sequential_composition(*function_arguments)>,\n",
       " 'f-02': <function morpheus.core.compose.o.<locals>.sequential_composition(*function_arguments)>,\n",
       " 'd-07': <function morpheus.core.compose.o.<locals>.sequential_composition(*function_arguments)>,\n",
       " 'd-04': <function morpheus.core.compose.o.<locals>.sequential_composition(*function_arguments)>}"
      ]
     },
     "execution_count": 14,
     "metadata": {},
     "output_type": "execute_result"
    }
   ],
   "source": [
    "functions =  convert_graph_to_functions(G)\n",
    "functions"
   ]
  },
  {
   "cell_type": "code",
   "execution_count": 15,
   "metadata": {
    "collapsed": true
   },
   "outputs": [],
   "source": [
    "a = functions['d-07'](data.values)\n",
    "b = functions['f-02'](data.values)"
   ]
  },
  {
   "cell_type": "code",
   "execution_count": 16,
   "metadata": {},
   "outputs": [
    {
     "data": {
      "text/plain": [
       "(array([0.]), array([800]))"
      ]
     },
     "execution_count": 16,
     "metadata": {},
     "output_type": "execute_result"
    }
   ],
   "source": [
    "np.unique(a-b, return_counts=True) # all zeroes, lgtm"
   ]
  },
  {
   "cell_type": "markdown",
   "metadata": {},
   "source": [
    "## Chain with useless crap"
   ]
  },
  {
   "cell_type": "code",
   "execution_count": 17,
   "metadata": {
    "collapsed": true
   },
   "outputs": [],
   "source": [
    "from morpheus.tests import default_m_list_for_mercs"
   ]
  },
  {
   "cell_type": "code",
   "execution_count": 18,
   "metadata": {},
   "outputs": [
    {
     "name": "stdout",
     "output_type": "stream",
     "text": [
      "\n",
      "        Learning model with desc ids:    [0, 1, 2, 3, 4, 5, 7]\n",
      "                            targ ids:    [6]\n",
      "        \n",
      "Unknown label type: 'continuous'\n",
      "\n",
      "        Learning model with desc ids:    [1, 2, 3, 4, 5, 6, 7]\n",
      "                            targ ids:    [0]\n",
      "        \n",
      "\n",
      "        Learning model with desc ids:    [0, 1, 3, 4, 5, 6, 7]\n",
      "                            targ ids:    [2]\n",
      "        \n",
      "\n",
      "        Learning model with desc ids:    [0, 1, 2, 3, 4, 6, 7]\n",
      "                            targ ids:    [5]\n",
      "        \n",
      "\n",
      "        Learning model with desc ids:    [0, 1, 2, 3, 5, 6, 7]\n",
      "                            targ ids:    [4]\n",
      "        \n",
      "\n",
      "        Learning model with desc ids:    [0, 1, 2, 4, 5, 6, 7]\n",
      "                            targ ids:    [3]\n",
      "        \n",
      "\n",
      "        Learning model with desc ids:    [0, 2, 3, 4, 5, 6, 7]\n",
      "                            targ ids:    [1]\n",
      "        \n",
      "\n",
      "        Learning model with desc ids:    [0, 1, 2, 3, 4, 5, 6]\n",
      "                            targ ids:    [7]\n",
      "        \n"
     ]
    }
   ],
   "source": [
    "m_list = default_m_list_for_mercs(data.values)"
   ]
  },
  {
   "cell_type": "code",
   "execution_count": 19,
   "metadata": {},
   "outputs": [
    {
     "name": "stdout",
     "output_type": "stream",
     "text": [
      "[0, 1, 2] [6]\n"
     ]
    }
   ],
   "source": [
    "m_id = 0\n",
    "\n",
    "\n",
    "m_list[0].desc_ids = [0,1,2]\n",
    "m_list[0].targ_ids = [6]\n",
    "\n",
    "print(m_list[0].desc_ids, m_list[0].targ_ids)"
   ]
  },
  {
   "cell_type": "code",
   "execution_count": 20,
   "metadata": {},
   "outputs": [],
   "source": [
    "g_stupid = model_to_graph(m_list[0], idx=3)\n",
    "G = nx.compose(G, g_stupid)\n",
    "G = fix_layout(G)"
   ]
  },
  {
   "cell_type": "code",
   "execution_count": 21,
   "metadata": {},
   "outputs": [
    {
     "data": {
      "image/png": "[encoded data removed]",
      "text/plain": [
       "<IPython.core.display.Image object>"
      ]
     },
     "metadata": {
      "image/png": {
       "unconfined": true
      }
     },
     "output_type": "display_data"
    }
   ],
   "source": [
    "# plot\n",
    "X = to_pydot(G)\n",
    "X.set('rankdir', 'BT')\n",
    "X.set('splines', 'ortho')\n",
    "\n",
    "with open(\"tmp/test.dot\", \"w\") as text_file:\n",
    "    print(X.to_string(), file=text_file)\n",
    "    \n",
    "!dot -T png tmp/test.dot > tmp/test.png  # Bash command\n",
    "\n",
    "from IPython.display import Image, display\n",
    "from IPython.core.display import HTML \n",
    "\n",
    "display(Image('tmp/test.png', unconfined=True))"
   ]
  },
  {
   "cell_type": "markdown",
   "metadata": {},
   "source": [
    "So now, what we want is to delete the unused models."
   ]
  },
  {
   "cell_type": "code",
   "execution_count": 27,
   "metadata": {},
   "outputs": [
    {
     "name": "stdout",
     "output_type": "stream",
     "text": [
      "[]\n"
     ]
    },
    {
     "ename": "TypeError",
     "evalue": "reduce() of empty sequence with no initial value",
     "output_type": "error",
     "traceback": [
      "\u001b[0;31m---------------------------------------------------------------------------\u001b[0m",
      "\u001b[0;31mTypeError\u001b[0m                                 Traceback (most recent call last)",
      "\u001b[0;32m<ipython-input-27-d6c411b0d020>\u001b[0m in \u001b[0;36m<module>\u001b[0;34m\u001b[0m\n\u001b[0;32m----> 1\u001b[0;31m \u001b[0mG\u001b[0m \u001b[0;34m=\u001b[0m \u001b[0mprune\u001b[0m\u001b[0;34m(\u001b[0m\u001b[0mG\u001b[0m\u001b[0;34m)\u001b[0m\u001b[0;34m\u001b[0m\u001b[0;34m\u001b[0m\u001b[0m\n\u001b[0m",
      "\u001b[0;32m<ipython-input-26-a964df0cb46e>\u001b[0m in \u001b[0;36mprune\u001b[0;34m(g, tgt_nodes)\u001b[0m\n\u001b[1;32m     10\u001b[0m \u001b[0;34m\u001b[0m\u001b[0m\n\u001b[1;32m     11\u001b[0m     \u001b[0mancestors\u001b[0m \u001b[0;34m=\u001b[0m \u001b[0;34m[\u001b[0m\u001b[0mnx\u001b[0m\u001b[0;34m.\u001b[0m\u001b[0mancestors\u001b[0m\u001b[0;34m(\u001b[0m\u001b[0mg\u001b[0m\u001b[0;34m,\u001b[0m \u001b[0msource\u001b[0m\u001b[0;34m=\u001b[0m\u001b[0mn\u001b[0m\u001b[0;34m)\u001b[0m \u001b[0;32mfor\u001b[0m \u001b[0mn\u001b[0m \u001b[0;32min\u001b[0m \u001b[0mtgt_nodes\u001b[0m\u001b[0;34m]\u001b[0m\u001b[0;34m\u001b[0m\u001b[0;34m\u001b[0m\u001b[0m\n\u001b[0;32m---> 12\u001b[0;31m     \u001b[0mancestors\u001b[0m \u001b[0;34m=\u001b[0m \u001b[0mreduce\u001b[0m\u001b[0;34m(\u001b[0m\u001b[0mset\u001b[0m\u001b[0;34m.\u001b[0m\u001b[0munion\u001b[0m\u001b[0;34m,\u001b[0m \u001b[0mancestors\u001b[0m\u001b[0;34m)\u001b[0m\u001b[0;34m\u001b[0m\u001b[0;34m\u001b[0m\u001b[0m\n\u001b[0m\u001b[1;32m     13\u001b[0m \u001b[0;34m\u001b[0m\u001b[0m\n\u001b[1;32m     14\u001b[0m \u001b[0;34m\u001b[0m\u001b[0m\n",
      "\u001b[0;31mTypeError\u001b[0m: reduce() of empty sequence with no initial value"
     ]
    }
   ],
   "source": [
    "G = prune(G)"
   ]
  },
  {
   "cell_type": "code",
   "execution_count": 23,
   "metadata": {},
   "outputs": [
    {
     "data": {
      "image/png": "[encoded data removed]",
      "text/plain": [
       "<IPython.core.display.Image object>"
      ]
     },
     "metadata": {
      "image/png": {
       "unconfined": true
      }
     },
     "output_type": "display_data"
    }
   ],
   "source": [
    "# plot\n",
    "X = to_pydot(G)\n",
    "X.set('rankdir', 'BT')\n",
    "X.set('splines', 'ortho')\n",
    "\n",
    "with open(\"tmp/test.dot\", \"w\") as text_file:\n",
    "    print(X.to_string(), file=text_file)\n",
    "    \n",
    "!dot -T png tmp/test.dot > tmp/test.png  # Bash command\n",
    "\n",
    "from IPython.display import Image, display\n",
    "from IPython.core.display import HTML \n",
    "\n",
    "display(Image('tmp/test.png', unconfined=True))"
   ]
  },
  {
   "cell_type": "markdown",
   "metadata": {},
   "source": [
    "## Crazy chain"
   ]
  },
  {
   "cell_type": "code",
   "execution_count": 24,
   "metadata": {},
   "outputs": [
    {
     "ename": "NameError",
     "evalue": "name 'model_two' is not defined",
     "output_type": "error",
     "traceback": [
      "\u001b[0;31m---------------------------------------------------------------------------\u001b[0m",
      "\u001b[0;31mNameError\u001b[0m                                 Traceback (most recent call last)",
      "\u001b[0;32m<ipython-input-24-a66048bb166b>\u001b[0m in \u001b[0;36m<module>\u001b[0;34m\u001b[0m\n\u001b[0;32m----> 1\u001b[0;31m \u001b[0mG_three\u001b[0m \u001b[0;34m=\u001b[0m \u001b[0mmodel_to_graph\u001b[0m\u001b[0;34m(\u001b[0m\u001b[0mmodel_two\u001b[0m\u001b[0;34m,\u001b[0m \u001b[0midx\u001b[0m\u001b[0;34m=\u001b[0m\u001b[0;36m3\u001b[0m\u001b[0;34m)\u001b[0m\u001b[0;34m\u001b[0m\u001b[0;34m\u001b[0m\u001b[0m\n\u001b[0m",
      "\u001b[0;31mNameError\u001b[0m: name 'model_two' is not defined"
     ]
    }
   ],
   "source": [
    "G_three = model_to_graph(model_two, idx=3)"
   ]
  },
  {
   "cell_type": "code",
   "execution_count": null,
   "metadata": {
    "collapsed": true
   },
   "outputs": [],
   "source": [
    "G_adv = nx.compose(G, G_three)\n",
    "G_adv = fix_layout(G_adv)\n",
    "add_merge_nodes(G_adv)"
   ]
  },
  {
   "cell_type": "code",
   "execution_count": null,
   "metadata": {},
   "outputs": [],
   "source": [
    "X = to_pydot(G_adv)\n",
    "X.set('rankdir', 'BT')\n",
    "X.set('splines', 'ortho')\n",
    "\n",
    "with open(\"test.dot\", \"w\") as text_file:\n",
    "    print(X.to_string(), file=text_file)\n",
    "    \n",
    "!dot -T png test.dot > test.png  # Bash command\n",
    "\n",
    "from IPython.display import Image, display\n",
    "from IPython.core.display import HTML \n",
    "\n",
    "display(Image('test.png', unconfined=True))"
   ]
  },
  {
   "cell_type": "code",
   "execution_count": null,
   "metadata": {},
   "outputs": [],
   "source": [
    "f_adv = convert_graph_to_functions(G_adv)\n",
    "f_adv"
   ]
  },
  {
   "cell_type": "code",
   "execution_count": null,
   "metadata": {},
   "outputs": [],
   "source": [
    "f_adv['d-04'](data.values)"
   ]
  },
  {
   "cell_type": "code",
   "execution_count": null,
   "metadata": {},
   "outputs": [],
   "source": [
    "data"
   ]
  }
 ],
 "metadata": {
  "kernelspec": {
   "display_name": "Python [conda env:morpheus]",
   "language": "python",
   "name": "conda-env-morpheus-py"
  },
  "language_info": {
   "codemirror_mode": {
    "name": "ipython",
    "version": 3
   },
   "file_extension": ".py",
   "mimetype": "text/x-python",
   "name": "python",
   "nbconvert_exporter": "python",
   "pygments_lexer": "ipython3",
   "version": "3.6.7"
  },
  "toc": {
   "nav_menu": {},
   "number_sections": true,
   "sideBar": true,
   "skip_h1_title": true,
   "toc_cell": false,
   "toc_position": {
    "height": "887px",
    "left": "0px",
    "right": "1708px",
    "top": "107px",
    "width": "212px"
   },
   "toc_section_display": "block",
   "toc_window_display": true
  }
 },
 "nbformat": 4,
 "nbformat_minor": 2
}
