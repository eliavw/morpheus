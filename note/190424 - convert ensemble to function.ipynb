{
 "cells": [
  {
   "cell_type": "markdown",
   "metadata": {},
   "source": [
    "# Convert Ensemble to Function Automatically."
   ]
  },
  {
   "cell_type": "markdown",
   "metadata": {},
   "source": [
    "## Preliminaries"
   ]
  },
  {
   "cell_type": "markdown",
   "metadata": {},
   "source": [
    "### Imports"
   ]
  },
  {
   "cell_type": "code",
   "execution_count": 1,
   "metadata": {},
   "outputs": [],
   "source": [
    "import os\n",
    "import pandas as pd\n",
    "import sys\n",
    "import networkx as nx\n",
    "\n",
    "from os.path import dirname\n",
    "from networkx.drawing.nx_pydot import to_pydot\n",
    "\n",
    "note_dir = os.getcwd()\n",
    "\n",
    "root_dir = dirname(note_dir)\n",
    "src_dir = os.path.join(root_dir, \"src\")\n",
    "\n",
    "sys.path.append(src_dir)\n",
    "\n",
    "import morpheus\n",
    "from morpheus.core import compose\n",
    "from morpheus.tests import default_chain, default_ensemble, default_dataset\n",
    "from morpheus.graph import (model_to_graph,\n",
    "                            model_graph_traces,\n",
    "                            model_graph_layout, \n",
    "                            convert_positions_to_dot_format,\n",
    "                           add_merge_nodes)"
   ]
  },
  {
   "cell_type": "code",
   "execution_count": 2,
   "metadata": {
    "collapsed": true
   },
   "outputs": [],
   "source": [
    "from functools import partial"
   ]
  },
  {
   "cell_type": "code",
   "execution_count": 3,
   "metadata": {},
   "outputs": [],
   "source": [
    "# In Greek to avoid nameclashes\n",
    "ω = compose.o\n",
    "χ = compose.x"
   ]
  },
  {
   "cell_type": "markdown",
   "metadata": {},
   "source": [
    "### Functions"
   ]
  },
  {
   "cell_type": "code",
   "execution_count": 4,
   "metadata": {
    "collapsed": true
   },
   "outputs": [],
   "source": [
    "def fix_layout(G):\n",
    "    \n",
    "    for n in G.nodes():\n",
    "        node = G.nodes(data=True)[n]\n",
    "        if node['bipartite'] == 'func':\n",
    "            node['shape'] = \"\\\"square\\\"\"\n",
    "            node['width'] = \"2\"\n",
    "        elif node['bipartite'] == 'data':\n",
    "            node['shape'] = \"\\\"circle\\\"\"\n",
    "        else:\n",
    "            pass\n",
    "    \n",
    "    return G"
   ]
  },
  {
   "cell_type": "markdown",
   "metadata": {},
   "source": [
    "### Ensemble"
   ]
  },
  {
   "cell_type": "code",
   "execution_count": 5,
   "metadata": {},
   "outputs": [
    {
     "name": "stdout",
     "output_type": "stream",
     "text": [
      "\n",
      "        Learning model with desc ids:    [0, 1, 2]\n",
      "                            targ ids:    [5]\n",
      "        \n",
      "\n",
      "        Learning model with desc ids:    [0, 1, 3]\n",
      "                            targ ids:    [4, 5]\n",
      "        \n"
     ]
    }
   ],
   "source": [
    "data, _ = default_dataset(random_state=16)\n",
    "e = default_ensemble(random_state=16)"
   ]
  },
  {
   "cell_type": "code",
   "execution_count": 6,
   "metadata": {},
   "outputs": [
    {
     "data": {
      "text/plain": [
       "(800, 8)"
      ]
     },
     "execution_count": 6,
     "metadata": {},
     "output_type": "execute_result"
    }
   ],
   "source": [
    "data.values.shape"
   ]
  },
  {
   "cell_type": "code",
   "execution_count": 7,
   "metadata": {},
   "outputs": [
    {
     "data": {
      "text/plain": [
       "0     -1.801472\n",
       "1      3.351491\n",
       "2     -0.530436\n",
       "3      0.200015\n",
       "4      1.567603\n",
       "5     -0.537100\n",
       "6      1.703616\n",
       "7     -1.989907\n",
       "8      2.529724\n",
       "9     -4.339198\n",
       "10    -1.622942\n",
       "11    -2.163636\n",
       "12    -3.559023\n",
       "13    -2.819993\n",
       "14    -0.075448\n",
       "15    -0.759716\n",
       "16    -1.212780\n",
       "17    -0.641635\n",
       "18    -0.148629\n",
       "19    -2.738697\n",
       "20     1.111651\n",
       "21    -1.515754\n",
       "22    -1.683190\n",
       "23    -0.098119\n",
       "24    -3.424989\n",
       "25     0.296468\n",
       "26    -3.821517\n",
       "27    -1.411153\n",
       "28    -0.083779\n",
       "29    -2.658860\n",
       "         ...   \n",
       "770    0.782764\n",
       "771    0.666557\n",
       "772   -3.200410\n",
       "773   -3.325568\n",
       "774   -1.586084\n",
       "775   -0.962362\n",
       "776    1.380212\n",
       "777   -0.693417\n",
       "778    0.656995\n",
       "779   -1.703296\n",
       "780   -4.609208\n",
       "781   -0.749221\n",
       "782    1.814082\n",
       "783   -4.889654\n",
       "784   -2.968182\n",
       "785   -1.446919\n",
       "786    0.679935\n",
       "787   -0.876681\n",
       "788    2.133597\n",
       "789   -0.496812\n",
       "790    1.303194\n",
       "791    0.093866\n",
       "792   -3.061835\n",
       "793    2.524427\n",
       "794    0.593079\n",
       "795    0.217192\n",
       "796    0.825435\n",
       "797   -1.855964\n",
       "798   -2.098206\n",
       "799    1.173136\n",
       "Name: 0, Length: 800, dtype: float64"
      ]
     },
     "execution_count": 7,
     "metadata": {},
     "output_type": "execute_result"
    }
   ],
   "source": [
    "data[0]"
   ]
  },
  {
   "cell_type": "code",
   "execution_count": 8,
   "metadata": {},
   "outputs": [
    {
     "name": "stdout",
     "output_type": "stream",
     "text": [
      "\n",
      "        # Main\n",
      "        Descriptive attributes:     [0. 1. 2. 3.]\n",
      "        Target attributes:          [4. 5.]\n",
      "\n",
      "        ## On types (mostly nominals)\n",
      "        Target attribute types:                     ['numeric', 'numeric']\n",
      "        N_classes of nominal target attributes:     []\n",
      "        Classes of nominal target attributes:       []\n",
      "\n",
      "        ## Weights\n",
      "        Total weights of target attributes:         [1. 2.]\n",
      "\n",
      "         \n",
      "        ## Estimators\n",
      "        Estimators used:        ['RandomForestRegressor', 'RandomForestRegressor']\n",
      "        N_estimators:           2\n",
      "        \n"
     ]
    }
   ],
   "source": [
    "e.pretty_print()"
   ]
  },
  {
   "cell_type": "markdown",
   "metadata": {},
   "source": [
    "## Conversion"
   ]
  },
  {
   "cell_type": "code",
   "execution_count": 9,
   "metadata": {},
   "outputs": [],
   "source": [
    "model_one = e.estimators_[0]\n",
    "model_two = e.estimators_[1]"
   ]
  },
  {
   "cell_type": "code",
   "execution_count": 10,
   "metadata": {},
   "outputs": [],
   "source": [
    "G_one = model_to_graph(model_one, idx=1)\n",
    "G_two = model_to_graph(model_two, idx=2)"
   ]
  },
  {
   "cell_type": "code",
   "execution_count": 11,
   "metadata": {
    "collapsed": true
   },
   "outputs": [],
   "source": [
    "G = nx.compose(G_one, G_two)"
   ]
  },
  {
   "cell_type": "code",
   "execution_count": 12,
   "metadata": {
    "collapsed": true
   },
   "outputs": [],
   "source": [
    "G = fix_layout(G)"
   ]
  },
  {
   "cell_type": "code",
   "execution_count": 13,
   "metadata": {},
   "outputs": [
    {
     "data": {
      "image/png": "[encoded data removed]",
      "text/plain": [
       "<IPython.core.display.Image object>"
      ]
     },
     "metadata": {
      "image/png": {
       "unconfined": true
      }
     },
     "output_type": "display_data"
    }
   ],
   "source": [
    "X = to_pydot(G)\n",
    "X.set('rankdir', 'BT')\n",
    "X.set('splines', 'ortho')\n",
    "\n",
    "with open(\"test.dot\", \"w\") as text_file:\n",
    "    print(X.to_string(), file=text_file)\n",
    "    \n",
    "!dot -T png test.dot > test.png  # Bash command\n",
    "\n",
    "from IPython.display import Image, display\n",
    "from IPython.core.display import HTML \n",
    "\n",
    "display(Image('test.png', unconfined=True))"
   ]
  },
  {
   "cell_type": "code",
   "execution_count": 14,
   "metadata": {
    "collapsed": true
   },
   "outputs": [],
   "source": [
    "add_merge_nodes(G)"
   ]
  },
  {
   "cell_type": "code",
   "execution_count": 15,
   "metadata": {},
   "outputs": [
    {
     "data": {
      "image/png": "[encoded data removed]",
      "text/plain": [
       "<IPython.core.display.Image object>"
      ]
     },
     "metadata": {
      "image/png": {
       "unconfined": true
      }
     },
     "output_type": "display_data"
    }
   ],
   "source": [
    "X = to_pydot(G)\n",
    "X.set('rankdir', 'BT')\n",
    "X.set('splines', 'ortho')\n",
    "\n",
    "with open(\"test.dot\", \"w\") as text_file:\n",
    "    print(X.to_string(), file=text_file)\n",
    "    \n",
    "!dot -T png test.dot > test.png  # Bash command\n",
    "\n",
    "from IPython.display import Image, display\n",
    "from IPython.core.display import HTML \n",
    "\n",
    "display(Image('test.png', unconfined=True))"
   ]
  },
  {
   "cell_type": "code",
   "execution_count": 16,
   "metadata": {
    "collapsed": true
   },
   "outputs": [],
   "source": [
    "import numpy as np\n",
    "\n",
    "def select(idx):\n",
    "    \n",
    "    def select(X):\n",
    "        if len(X.shape) > 1:\n",
    "            return X[:, idx]\n",
    "        elif len(X.shape) == 1:\n",
    "            assert idx == 0\n",
    "            return X\n",
    "    return select"
   ]
  },
  {
   "cell_type": "code",
   "execution_count": 17,
   "metadata": {},
   "outputs": [
    {
     "name": "stdout",
     "output_type": "stream",
     "text": [
      "['d-03', 'd-02', 'd-01', 'd-00', 'f-02', 'd-04', 'f-01', 'M(d-05)', 'd-05']\n",
      "[[5], [4, 5]]\n"
     ]
    }
   ],
   "source": [
    "# Convert the graph to its functions\n",
    "sorted_list = list(nx.topological_sort(G))\n",
    "print(sorted_list)\n",
    "functions = {}\n",
    "for node_name in sorted_list:\n",
    "    node = G.nodes(data=True)[node_name]\n",
    "    #print(node)\n",
    "    if node.get('kind', None) == 'data': \n",
    "        if len(nx.ancestors(G, node_name)) == 0:\n",
    "            functions[node_name] = select(node['idx'])\n",
    "        elif len(nx.descendants(G, node_name)) == 0:\n",
    "            functions[node_name] = 'end'\n",
    "            \n",
    "    elif node.get('kind', None) == 'model':\n",
    "        \n",
    "        previous_nodes = [t[0] for t in G.in_edges(node_name)]\n",
    "        \n",
    "        inputs = [functions[n] for n in previous_nodes]\n",
    "        inputs = ω(np.transpose, χ(*inputs, return_type=np.array))\n",
    "        f = node['function']\n",
    "        functions[node_name] = ω(f, inputs)\n",
    "    \n",
    "    elif node.get('kind', None) == 'merge':\n",
    "        merge_idx = node['idx']\n",
    "        previous_nodes = [t[0] for t in G.in_edges(node_name)]\n",
    "        previous_t_idx = [G.nodes()[n]['tgt'] for n in previous_nodes]\n",
    "        print(previous_t_idx)\n",
    "        inputs = [(functions[n],t) for n, t in zip(previous_nodes, previous_t_idx)]\n",
    "        \n",
    "        inputs = [ω(select(t_idx.index(merge_idx)), f) for f, t_idx in inputs]\n",
    "        inputs = ω(np.transpose, χ(*inputs, return_type=np.array))\n",
    "        \n",
    "        f = partial(np.mean, axis=1)\n",
    "        functions[node_name] = ω(f, inputs)"
   ]
  },
  {
   "cell_type": "code",
   "execution_count": 18,
   "metadata": {},
   "outputs": [
    {
     "data": {
      "text/plain": [
       "{'d-03': <function __main__.select.<locals>.select(X)>,\n",
       " 'd-02': <function __main__.select.<locals>.select(X)>,\n",
       " 'd-01': <function __main__.select.<locals>.select(X)>,\n",
       " 'd-00': <function __main__.select.<locals>.select(X)>,\n",
       " 'f-02': <function morpheus.core.compose.o.<locals>.sequential_composition(*function_arguments)>,\n",
       " 'd-04': 'end',\n",
       " 'f-01': <function morpheus.core.compose.o.<locals>.sequential_composition(*function_arguments)>,\n",
       " 'M(d-05)': <function morpheus.core.compose.o.<locals>.sequential_composition(*function_arguments)>,\n",
       " 'd-05': 'end'}"
      ]
     },
     "execution_count": 18,
     "metadata": {},
     "output_type": "execute_result"
    }
   ],
   "source": [
    "functions"
   ]
  },
  {
   "cell_type": "code",
   "execution_count": 22,
   "metadata": {},
   "outputs": [],
   "source": [
    "res = functions['M(d-05)'](data.values)\n"
   ]
  },
  {
   "cell_type": "code",
   "execution_count": 25,
   "metadata": {},
   "outputs": [
    {
     "data": {
      "text/plain": [
       "(800,)"
      ]
     },
     "execution_count": 25,
     "metadata": {},
     "output_type": "execute_result"
    }
   ],
   "source": [
    "res.shape"
   ]
  },
  {
   "cell_type": "code",
   "execution_count": 26,
   "metadata": {
    "scrolled": false
   },
   "outputs": [
    {
     "data": {
      "text/plain": [
       "array([ 3.75393730e-01,  7.01912049e-01,  1.91488824e-01,  5.63511324e-01,\n",
       "        5.32511972e-01,  8.00357704e-01,  6.78442833e-01, -5.59073165e-01,\n",
       "        3.21785614e-02, -2.00142688e+00, -2.48780375e-01, -1.61227130e+00,\n",
       "       -6.87784048e-01, -2.46574371e+00,  1.19858437e+00,  4.46355773e-01,\n",
       "       -3.23632741e-01,  1.00045521e+00,  1.51353190e-01, -6.97042443e-01,\n",
       "        4.61196627e-01,  5.42070156e-01, -7.86737283e-03,  8.80941310e-01,\n",
       "        9.49113714e-01,  8.29259764e-01, -3.75475954e+00, -7.95716316e-01,\n",
       "        1.47222844e+00, -1.67154628e+00,  6.49417903e-01,  1.35692871e-01,\n",
       "       -3.93460249e+00, -2.13993537e+00,  6.02537303e-01,  6.54414190e-01,\n",
       "       -1.61353074e-02,  5.19315121e-03,  3.18779721e-01, -1.80243558e+00,\n",
       "        1.29589546e+00, -1.19309932e+00,  4.38561340e-01,  1.89022776e+00,\n",
       "       -5.03100874e-01, -1.15754600e-01,  1.12100319e-01,  8.14863379e-01,\n",
       "        3.94503674e-01,  7.49774601e-01,  1.14012666e-01,  2.77075293e-01,\n",
       "        4.82668794e-01,  1.42713694e-01,  1.03385307e+00, -3.78655160e-01,\n",
       "       -2.25638085e-01,  1.26173038e+00, -1.98678881e+00,  5.02987331e-01,\n",
       "        1.58035260e+00,  1.02535980e+00, -3.07977656e-02,  9.23809624e-01,\n",
       "        1.30669374e+00,  1.37083383e+00,  4.28811222e-01,  4.49477117e-01,\n",
       "       -9.95948831e-02,  8.43305502e-02, -3.78655160e-01,  1.56722182e+00,\n",
       "       -1.99621163e+00, -1.63470686e+00,  1.21908840e+00, -2.51196699e-01,\n",
       "        1.53533360e-01,  6.96691039e-01, -1.42125555e+00,  1.30697046e+00,\n",
       "        5.82138187e-01,  5.09305941e-01, -6.79467431e-01,  3.94503674e-01,\n",
       "        4.41326913e-01,  1.67811188e+00, -1.64588197e+00,  1.77998027e-01,\n",
       "        2.35243866e-01, -3.16214786e+00,  5.95226068e-01,  7.68015722e-01,\n",
       "       -2.55501661e+00, -1.11511687e+00, -8.95277631e-02, -2.17563799e-01,\n",
       "        1.49560145e+00,  5.05627006e-01,  5.84339708e-01,  1.61319523e-01,\n",
       "       -1.76285973e+00,  6.10827995e-01,  5.91277649e-01,  9.42180298e-01,\n",
       "       -1.27713783e+00, -8.66255974e-02, -1.69039118e+00, -1.60466199e+00,\n",
       "        1.10320781e+00, -4.91022958e-01, -1.15572848e+00, -9.78184509e-01,\n",
       "       -2.09183477e-01, -1.57942190e-01,  2.60995170e+00, -5.53817466e-02,\n",
       "        1.74077129e+00, -7.17367724e-01, -1.39856514e+00,  7.93652958e-01,\n",
       "        1.45793806e+00,  5.57331287e-01, -1.25648534e+00,  5.32511972e-01,\n",
       "       -5.45546908e-01, -1.65276630e+00,  5.11846078e-01, -8.58279609e-01,\n",
       "       -7.25350939e-01, -7.47697691e-01, -6.35505926e-01, -9.41704864e-01,\n",
       "       -3.12110718e-01,  1.26006703e+00, -2.26241497e-01, -1.76201097e+00,\n",
       "        2.08620499e-01,  7.36245961e-01, -6.81412641e-01, -1.51441646e+00,\n",
       "        4.65680579e-02,  8.30185577e-01,  4.22878253e-01, -2.41579658e-01,\n",
       "        6.30760498e-01, -1.56809471e+00,  8.60404251e-01, -1.60466199e+00,\n",
       "        3.82475789e-01,  7.03485051e-01,  4.09226502e-02,  1.28256572e+00,\n",
       "       -1.39856514e+00, -2.96965453e-01, -4.46762886e-01, -5.38169421e-01,\n",
       "        6.29441865e-01, -2.09042838e+00, -1.45676805e+00,  5.91753237e-01,\n",
       "        3.18255225e-01,  6.46704130e-02,  6.00871096e-01, -3.76299686e+00,\n",
       "        4.31235422e-01,  3.30412610e+00, -1.77592766e-01,  3.09460698e-01,\n",
       "        6.61054416e-01,  4.97693248e-02,  5.11846078e-01,  1.08586305e+00,\n",
       "       -2.74541468e+00,  6.11193659e-01,  5.84632232e-01,  5.57331287e-01,\n",
       "       -1.85525787e+00,  3.37044715e-01,  7.73053083e-02,  1.17184507e+00,\n",
       "       -2.28883449e+00,  2.52841656e-01, -8.49641209e-01, -1.26076915e+00,\n",
       "       -1.45491027e+00, -1.98934695e+00, -2.05951791e-01,  1.05155853e+00,\n",
       "        1.68516808e-01, -1.99823184e+00,  1.34637081e+00,  3.08753128e-01,\n",
       "        1.07008174e+00, -3.23632741e-01,  7.81571698e-01, -2.76405585e-02,\n",
       "       -9.12726101e-01, -1.03555966e-01, -1.55537134e+00, -3.33093558e+00,\n",
       "        4.99402721e-01,  5.24074614e-01,  1.23207587e+00,  1.14905458e+00,\n",
       "        1.22252757e+00, -5.93938157e-01, -8.15654374e-01, -2.11567652e+00,\n",
       "        1.53772348e+00,  1.15761204e+00, -1.62862263e-01,  4.61376887e-01,\n",
       "       -3.78655160e-01, -5.92904351e-02,  1.26574153e-01,  1.39410778e+00,\n",
       "       -3.27579048e-01,  9.12645256e-01, -1.22734413e-01,  5.32511972e-01,\n",
       "        1.03237045e+00, -2.76817416e+00,  2.73981524e-02, -4.71256442e-01,\n",
       "        1.42748082e+00,  8.98052667e-01,  1.05346807e+00, -1.99424921e+00,\n",
       "        1.40322290e+00,  2.63744474e+00,  1.26405177e+00,  1.75741545e-01,\n",
       "       -1.71598865e+00,  1.62943457e-01,  2.77075293e-01,  8.78488387e-01,\n",
       "       -1.30583869e+00, -1.42698089e+00, -2.28883449e+00,  7.91559122e-01,\n",
       "        1.57017229e-01, -1.00728862e+00, -1.71598865e+00,  2.85869821e-01,\n",
       "       -7.63584180e-01,  2.24379378e-01,  5.95788351e-01, -7.18861701e-02,\n",
       "        1.71166359e+00,  6.55973444e-02,  7.36182101e-01,  5.24945882e-01,\n",
       "       -2.55501661e+00, -7.35294534e-01, -1.87207537e+00, -2.26846490e+00,\n",
       "        7.29602250e-01,  4.59981875e-01, -4.77348465e-01,  1.03592238e+00,\n",
       "        1.61106507e+00,  1.36562827e+00,  1.91868371e-01, -7.82570026e-01,\n",
       "        9.05559638e-01,  1.26779631e+00, -1.15450255e+00, -5.43696438e-02,\n",
       "       -7.82570026e-01,  9.96446165e-01, -2.09042838e+00, -1.39856514e+00,\n",
       "       -1.65276630e+00,  1.00325851e+00,  1.08537832e+00,  7.59601065e-01,\n",
       "       -7.87763825e-01, -6.47593383e-01,  9.75192565e-01,  1.14695606e+00,\n",
       "        1.30669374e+00, -1.08255955e+00,  7.03539370e-02,  1.40804155e+00,\n",
       "       -2.21102597e+00,  1.14905458e+00, -1.04863252e+00, -2.55488319e+00,\n",
       "        3.73569301e-01,  1.64923931e-01,  1.13615969e-01, -1.01634623e+00,\n",
       "       -1.65573810e+00,  6.48979158e-02,  1.99345469e-02,  8.27756636e-01,\n",
       "       -2.18811295e-01, -2.28941968e+00,  1.57327133e+00,  5.58873861e-01,\n",
       "       -1.60558264e+00,  1.47647296e+00,  5.95262127e-01,  1.03106374e+00,\n",
       "       -1.59981820e+00, -1.72010860e+00, -2.64119409e-01,  7.24667389e-01,\n",
       "       -2.46672393e-01,  4.95433419e-01, -1.63484210e+00,  7.73053083e-02,\n",
       "        1.84486117e+00,  7.40723474e-01, -1.77579292e+00,  1.04771326e+00,\n",
       "       -6.99410475e-01,  1.14469601e+00,  1.61294798e-01, -4.67483390e-01,\n",
       "        9.16708804e-01,  7.15823658e-01,  6.96666805e-01, -1.19863944e+00,\n",
       "        5.87630362e-01, -6.22799846e-01, -1.51441646e+00,  1.13626958e+00,\n",
       "        5.69062388e-01,  1.75161303e-01,  5.13947987e-01,  8.73665396e-01,\n",
       "       -2.19744709e-01, -4.46547688e-01,  1.04918309e+00,  5.79512468e-01,\n",
       "       -2.09042838e+00,  6.77906392e-01,  8.31117348e-01, -6.00615622e-01,\n",
       "        1.59849473e+00, -2.34796081e-01, -1.10073983e+00,  6.72072729e-01,\n",
       "        6.55420283e-01, -4.56616123e-01, -1.11844508e+00, -1.39856514e+00,\n",
       "        1.58172401e+00, -2.99974275e-01, -4.45646056e-01,  7.88162523e-01,\n",
       "        1.26006703e+00,  1.00112030e+00,  1.28920198e+00, -1.18730918e-01,\n",
       "        1.50080172e+00,  1.22583714e+00,  1.02452964e+00,  4.04449328e-01,\n",
       "       -1.76195933e+00, -3.32500453e-02, -1.01576103e+00,  6.83695535e-01,\n",
       "        5.52208500e-01,  7.29621158e-01,  1.85538760e-01,  8.05142756e-01,\n",
       "       -1.04261218e+00, -3.20046431e+00,  4.66215950e-01,  5.63511324e-01,\n",
       "        1.17626093e+00,  8.03859557e-01,  6.63585722e-01,  1.12120000e+00,\n",
       "       -1.07644794e+00,  1.46371790e+00,  3.58292058e-01,  7.65283688e-01,\n",
       "       -1.71598865e+00,  1.03385307e+00,  1.58217324e+00, -1.80243558e+00,\n",
       "        9.67496351e-02, -3.36182818e+00,  1.90379842e+00,  6.53055064e-02,\n",
       "        3.34774388e-01, -1.28771166e+00,  1.07264825e+00,  7.96100096e-01,\n",
       "       -1.08428326e+00,  1.58217324e+00,  1.05787110e+00,  3.92495553e-01,\n",
       "        1.34501210e-01, -2.14323447e+00,  4.56545813e-01,  7.47714402e-01,\n",
       "        6.08417502e-01,  1.79720388e-01,  5.32511972e-01, -7.47697691e-01,\n",
       "       -5.92672118e-01, -7.37945042e-01,  5.63678966e-01,  1.17520683e+00,\n",
       "       -1.17869771e+00, -1.99621163e+00, -6.40903866e-01,  5.63511324e-01,\n",
       "       -2.01276319e+00, -3.75534474e+00,  1.05293205e-01,  1.01203523e+00,\n",
       "        5.40065510e-01, -1.71598865e+00, -2.66726490e-01, -1.01993539e-01,\n",
       "       -1.00514005e+00, -5.38169421e-01, -2.11567652e+00,  9.21755858e-01,\n",
       "       -1.42684381e+00,  1.74077129e+00,  6.89513508e-01,  4.52963637e-01,\n",
       "       -2.11021984e+00,  1.27228169e+00, -1.27717419e-01,  7.21168357e-01,\n",
       "        6.91986227e-01, -1.27713783e+00,  2.60804307e-01,  1.48068809e-01,\n",
       "        1.35705308e-01,  7.21875233e-01, -1.16561196e+00, -3.66743078e-01,\n",
       "       -3.76388629e-01, -1.62658397e+00, -1.32928613e+00,  8.58100503e-01,\n",
       "        1.54961439e+00,  5.70290005e-01,  5.24945882e-01, -2.28367089e-01,\n",
       "        7.27589605e-01,  2.93309661e-01,  1.01138651e+00,  2.79071136e+00,\n",
       "       -4.16501195e-01, -7.51149437e-01, -3.35254593e+00, -1.60466199e+00,\n",
       "       -8.12228754e-01, -4.99473677e-02,  6.82178192e-01,  8.47138134e-02,\n",
       "       -7.67007882e-01,  2.46726619e-01,  8.40875622e-01, -5.53817466e-02,\n",
       "        4.49477117e-01,  2.33809341e+00,  7.06344601e-01, -1.61353074e-02,\n",
       "        4.69237513e-02,  6.69048887e-01,  3.76052812e-01,  1.39663501e+00,\n",
       "        5.62770231e-01,  2.61457833e-01,  3.34945101e-01,  1.12589836e+00,\n",
       "        5.14976772e-01,  1.10317155e+00, -3.35254593e+00,  1.19719814e+00,\n",
       "       -4.01347057e-01, -7.74640160e-01,  1.24226601e+00, -7.23126980e-02,\n",
       "       -1.39931860e-01,  2.88835365e-01,  1.22775129e+00,  1.03106374e+00,\n",
       "       -3.42096352e-01,  3.46117846e-01,  3.22572559e-03,  1.28256572e+00,\n",
       "       -1.27713783e+00,  4.13898308e-01,  1.89304213e+00,  8.60498618e-01,\n",
       "        5.10465153e-01,  1.04290578e+00, -1.22170580e+00, -8.87170536e-01,\n",
       "        1.27864562e-02, -3.46467375e-01, -1.52412354e-01,  5.23853331e-01,\n",
       "        2.08620499e-01,  3.72048723e-01,  1.19766601e+00, -6.22799846e-01,\n",
       "       -2.25638085e-01, -1.27715579e+00,  8.48626761e-01, -1.01634623e+00,\n",
       "        6.17190884e-01,  8.14863379e-01,  2.50339878e-01, -5.23408362e-01,\n",
       "        7.88162523e-01,  3.90692948e-01,  2.31264274e+00, -3.34807045e-01,\n",
       "        4.40818475e-01,  3.63439989e-01,  7.89636180e-01,  5.19315121e-03,\n",
       "        8.91542736e-01, -7.23480720e-01,  7.27954027e-01, -1.76285973e+00,\n",
       "        8.30379425e-01,  6.86419635e-01,  2.60804307e-01,  1.20763580e+00,\n",
       "        3.85738420e-01,  8.73243942e-01, -2.03397506e+00, -1.38711795e+00,\n",
       "       -1.70176042e+00, -1.99869876e+00, -2.20623400e+00,  7.27954027e-01,\n",
       "        5.10892731e-01,  7.20083042e-01,  1.52816704e+00,  1.25614977e+00,\n",
       "        1.09036287e+00,  8.05853204e-01,  1.32127584e+00, -5.23408362e-01,\n",
       "        6.35069275e-01,  8.22993388e-01,  2.69943862e+00,  9.05559638e-01,\n",
       "        8.84525059e-01,  4.94724881e-01, -1.75312377e+00,  6.78442833e-01,\n",
       "       -7.96539119e-01,  2.05443389e-01, -2.79562343e+00,  4.91023090e-01,\n",
       "       -1.60466199e+00,  1.48794020e+00,  2.00916577e+00,  1.50422208e+00,\n",
       "       -3.78655160e-01,  8.63478097e-01,  7.66649443e-01,  3.35722776e-01,\n",
       "       -2.21102597e+00, -2.11021984e+00, -2.04407751e-01, -1.56542786e+00,\n",
       "        1.17867357e-01,  1.02412301e+00, -3.71116641e+00, -3.16214786e+00,\n",
       "        1.90682756e-01, -2.03397506e+00, -2.58023490e-01,  1.99345469e-02,\n",
       "       -1.04261218e+00,  5.11846078e-01,  5.01628785e-02,  4.95089778e-01,\n",
       "       -2.07258857e+00, -1.10566614e+00,  9.48477738e-01,  1.05189908e+00,\n",
       "        1.00325851e+00, -1.69006373e+00,  6.40512920e-01,  5.79861087e-01,\n",
       "        8.00683860e-01,  1.88518397e-01, -1.71598865e+00,  8.91502243e-01,\n",
       "        8.62590269e-01, -1.23582803e+00,  1.06645004e+00, -1.64588197e+00,\n",
       "        8.64932206e-01, -1.09229329e+00,  1.01157246e+00,  1.56067176e-01,\n",
       "        4.44728990e-01, -2.12083226e+00,  1.12459981e-01,  4.38964563e-01,\n",
       "        1.00325851e+00,  5.63511324e-01, -1.45676805e+00,  1.20817923e+00,\n",
       "        6.86733525e-01,  3.30412610e+00, -2.08707004e+00,  5.68058066e-01,\n",
       "       -2.29601056e+00, -1.18730918e-01,  8.05507780e-01, -9.53071351e-01,\n",
       "       -7.37945042e-01,  2.39960156e-01, -1.52872295e+00,  9.28903860e-01,\n",
       "        1.80142154e-01,  1.14469601e+00,  6.74865266e-01, -2.58023490e-01,\n",
       "        3.22222495e-01, -1.24714699e+00,  8.38079509e-01, -2.09042838e+00,\n",
       "        1.03592238e+00,  1.10832228e+00,  3.98562522e-01,  3.64245869e-01,\n",
       "       -2.60311495e+00,  9.35142437e-01, -3.55095204e+00, -3.12035939e+00,\n",
       "        7.50404705e-01, -8.42903801e-01,  1.15020901e+00, -5.20476207e-01,\n",
       "        1.18921695e+00, -1.13317899e+00,  1.16033818e+00,  5.19315121e-03,\n",
       "        5.63678966e-01,  3.98562522e-01,  1.25614977e+00,  5.79201640e-01,\n",
       "       -1.53679064e-01, -1.01993539e-01, -3.39404939e-01,  1.58217324e+00,\n",
       "        6.78442833e-01, -3.98428373e-01, -5.78340514e-01,  2.69943862e+00,\n",
       "       -1.56459651e+00,  1.18921695e+00,  7.65283688e-01,  8.08211754e-01,\n",
       "       -7.57262948e-01,  9.14554210e-01, -9.74672498e-02,  5.96425499e-01,\n",
       "       -7.27486056e-01,  6.08417502e-01, -6.22799846e-01, -1.71598865e+00,\n",
       "       -7.83031512e-01,  8.63144984e-01,  3.22877941e-01,  9.08660328e-01,\n",
       "        4.56371726e-01, -8.81089564e-01, -1.75664956e+00, -4.59244555e-01,\n",
       "        8.71741039e-01,  9.70017897e-01,  5.19315121e-03,  1.47334984e-01,\n",
       "       -3.75475954e+00,  1.46371790e+00,  5.69361834e-01,  3.58292058e-01,\n",
       "       -8.39663191e-01,  1.30045582e+00, -2.38056466e-01,  1.26309767e+00,\n",
       "       -4.88187387e-01,  1.09975570e+00,  9.64935153e-01,  9.26032236e-01,\n",
       "        1.32804180e-01, -4.37111275e-01, -1.42684381e+00,  4.19142771e-01,\n",
       "       -2.82787797e-02,  9.59066796e-01,  2.30369839e-01,  2.94251259e-02,\n",
       "        9.78871240e-01, -2.09042838e+00, -1.27717419e-01, -5.23408362e-01,\n",
       "        1.02421251e+00,  7.29602250e-01, -2.46672393e-01,  1.60300859e+00,\n",
       "        8.91964238e-03, -2.49238535e-01,  1.51896591e+00,  1.12100319e-01,\n",
       "        1.25294814e+00, -2.07251563e-01,  3.54159691e-01,  7.53668810e-01,\n",
       "        2.05376509e-01,  9.16054009e-01,  2.41748616e+00,  3.97522983e-01,\n",
       "        5.46729942e-01, -1.63656581e+00,  1.06645004e+00,  2.05376509e-01,\n",
       "        4.85666046e-01,  7.20742727e-01, -1.82834348e-01, -5.45546908e-01,\n",
       "       -2.54204232e-01,  5.14111585e-01,  5.81871409e-01,  8.27758680e-01,\n",
       "        1.09036287e+00,  8.80941310e-01,  2.15484398e+00,  7.76982198e-01,\n",
       "       -1.39856514e+00,  3.06635867e-01,  1.11532380e+00,  5.21598357e-01,\n",
       "       -6.81412641e-01,  1.37267623e+00,  1.13626958e+00,  3.92401242e-01,\n",
       "        1.30045108e+00, -1.94421281e-01,  9.17444989e-01,  9.12556997e-01,\n",
       "        5.65999233e-01,  6.61414637e-01, -5.32348896e-01,  7.75913055e-01,\n",
       "       -1.48396688e+00, -2.83507020e+00,  6.03231202e-01,  1.03592238e+00,\n",
       "       -3.23632741e-01,  4.80289077e-01,  7.58890507e-01,  1.40497926e+00,\n",
       "        4.16800716e-01, -9.78183888e-01, -9.06623595e-02,  2.93455303e-01,\n",
       "       -2.03705523e+00,  7.02517767e-02,  4.22729630e-01,  2.77075293e-01,\n",
       "        1.10342672e+00, -1.53772923e+00,  8.14863379e-01,  5.11330294e-01,\n",
       "        6.01858664e-01,  1.22367418e-01,  1.05620556e+00, -2.08882956e-01,\n",
       "       -2.77641148e+00,  1.42270884e+00,  1.64457742e+00, -7.54371643e-02,\n",
       "       -1.95042360e-01,  2.09693424e-01,  3.58292058e-01,  1.39765307e+00,\n",
       "        4.42272427e-01,  1.10433203e+00,  6.78442833e-01,  1.00665944e+00,\n",
       "       -1.47561451e-01,  2.94346970e-01,  1.14695606e+00,  1.22577526e+00,\n",
       "        1.11618404e+00, -9.41704864e-01,  8.63478097e-01,  6.09513568e-01])"
      ]
     },
     "execution_count": 26,
     "metadata": {},
     "output_type": "execute_result"
    }
   ],
   "source": [
    "res"
   ]
  },
  {
   "cell_type": "code",
   "execution_count": null,
   "metadata": {},
   "outputs": [],
   "source": [
    "functions['f-01'](data.values)"
   ]
  },
  {
   "cell_type": "code",
   "execution_count": null,
   "metadata": {},
   "outputs": [],
   "source": [
    "functions['f-02'](data.values)"
   ]
  }
 ],
 "metadata": {
  "kernelspec": {
   "display_name": "Python [conda env:morpheus]",
   "language": "python",
   "name": "conda-env-morpheus-py"
  },
  "language_info": {
   "codemirror_mode": {
    "name": "ipython",
    "version": 3
   },
   "file_extension": ".py",
   "mimetype": "text/x-python",
   "name": "python",
   "nbconvert_exporter": "python",
   "pygments_lexer": "ipython3",
   "version": "3.6.7"
  },
  "toc": {
   "nav_menu": {},
   "number_sections": true,
   "sideBar": true,
   "skip_h1_title": true,
   "toc_cell": false,
   "toc_position": {},
   "toc_section_display": "block",
   "toc_window_display": false
  }
 },
 "nbformat": 4,
 "nbformat_minor": 2
}
